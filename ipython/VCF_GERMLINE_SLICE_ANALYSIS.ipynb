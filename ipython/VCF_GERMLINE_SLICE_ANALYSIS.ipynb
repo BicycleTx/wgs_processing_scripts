{
 "cells": [
  {
   "cell_type": "markdown",
   "metadata": {},
   "source": [
    "### CONFIGURATION"
   ]
  },
  {
   "cell_type": "code",
   "execution_count": 1,
   "metadata": {
    "collapsed": false
   },
   "outputs": [],
   "source": [
    "import os\n",
    "import pandas as pd\n",
    "pd.set_option('display.max_columns', 500)\n",
    "pd.set_option('display.width', 200)\n",
    "import numpy as np\n",
    "import copy\n",
    "import sys\n",
    "import matplotlib.pyplot as plt\n",
    "import random as rand\n",
    "%matplotlib inline"
   ]
  },
  {
   "cell_type": "code",
   "execution_count": 2,
   "metadata": {
    "collapsed": false
   },
   "outputs": [],
   "source": [
    "# Hartwig imports\n",
    "sys.path.append(\"/Users/peterpriestley/hmf/repos/scripts/analysisscripts\") \n",
    "import analyseVCF as aVCF\n",
    "import venn as vn\n",
    "import chromosomeDefinition as cd"
   ]
  },
  {
   "cell_type": "code",
   "execution_count": 7,
   "metadata": {
    "collapsed": true
   },
   "outputs": [],
   "source": [
    "#VCF\n",
    "#VCF_PATH = \"/Users/peterpriestley/hmf/analyses/ensembleRuleTesting/\"\n",
    "PATH = \"/Users/peterpriestley/hmf/analyses/v1.12samples/CPCT02010556/\"\n",
    "# BED\n",
    "BED_PATH = \"/Users/peterpriestley/hmf/analyses/giabTruthsets/\"\n",
    "BED_FILE_NAME = \"NA12878_GIAB_highconf_IllFB-IllGATKHC-CG-Ion-Solid_ALLCHROM_v3.2.2_highconf.bed\"\n",
    "#BED_PATH = \"/Users/peterpriestley/hmf/analyses/slices/\"\n",
    "#BED_FILE_NAME = \"cosmicCancerCensus.bed\" \n",
    "#BED_FILE_NAME = \"CPCT_Slicing.bed\"\n",
    "USE_BED = True\n",
    "LOAD_FULL_FILE = True\n",
    "\n",
    "\n",
    "# TEMP NA12878 VCF CONFIG\n",
    "#VCF_SAMPLE = \"12878\"\n",
    "#VCF_PATH = \"/Users/peterpriestley/hmf/analyses/NA12878vsNA12878/Oct28germline/\"\n",
    "#VCF_FILE_NAME = \"GIAB12878vGIAB12878-new3.filtered_variants.vcf\"\n",
    "\n",
    "# HEALTH CHECKS\n",
    "HEALTH_CSV_PATH=\"/Users/peterpriestley/hmf/analyses/healthCheckAnalysis/\"\n",
    "HEALTH_CSV_FILENAME=\"healthCheckFile.csv\""
   ]
  },
  {
   "cell_type": "code",
   "execution_count": 4,
   "metadata": {
    "collapsed": true
   },
   "outputs": [],
   "source": [
    "def findFiles(path,suffix):\n",
    "    files=[]\n",
    "    for x in os.listdir(path):\n",
    "        if x[-len(suffix):] == suffix:\n",
    "            files.append(x)\n",
    "    return files"
   ]
  },
  {
   "cell_type": "code",
   "execution_count": 5,
   "metadata": {
    "collapsed": true
   },
   "outputs": [],
   "source": [
    "def patientIDFromFilename(filename):\n",
    "    patientIDStart = filename.find(\"CPCT02\")\n",
    "    if patientIDStart < 0:\n",
    "        patientIDStart = filename.find(\"DRUP0\")\n",
    "    return filename[patientIDStart:patientIDStart+12]"
   ]
  },
  {
   "cell_type": "code",
   "execution_count": 6,
   "metadata": {
    "collapsed": true
   },
   "outputs": [],
   "source": [
    "def loadVCF(path,filename,sampleNames,patientID):\n",
    "    df = pd.DataFrame()\n",
    "    if USE_BED:\n",
    "        bed = aVCF.loadBEDFile(BED_PATH,BED_FILE_NAME)\n",
    "        return pd.concat([df,aVCF.loadVariantsFromVCF(path,filename,sampleNames,patientID,True,True,bed,LOAD_FULL_FILE)])\n",
    "    else:\n",
    "        return pd.concat([df,aVCF.loadVariantsFromVCF(path,filename,sampleNames,patientID,True)])"
   ]
  },
  {
   "cell_type": "markdown",
   "metadata": {},
   "source": [
    "<h3> LOAD VCF"
   ]
  },
  {
   "cell_type": "code",
   "execution_count": 8,
   "metadata": {
    "collapsed": false
   },
   "outputs": [
    {
     "name": "stdout",
     "output_type": "stream",
     "text": [
      "reading vcf file: 170514_HMFregCPCT_FR11442477_FR13256252_CPCT02010556.annotatedSLICED.vcf\n",
      "reading VCF File line: 1\n",
      "reading VCF File line: 200001\n",
      "Number variants loaded: 347206\n"
     ]
    }
   ],
   "source": [
    "germlineVCFFilename = findFiles(PATH,\"SLICED.vcf\")[0]\n",
    "patientID = patientIDFromFilename(germlineVCFFilename)\n",
    "df = loadVCF(PATH,germlineVCFFilename,{patientID+'R':'normal',patientID+'T':'tumor'},patientID)"
   ]
  },
  {
   "cell_type": "markdown",
   "metadata": {},
   "source": [
    "<h3> Truth Check (NA12878 only)"
   ]
  },
  {
   "cell_type": "code",
   "execution_count": null,
   "metadata": {
    "collapsed": false
   },
   "outputs": [],
   "source": [
    "## TRUTH SET\n",
    "#SAMPLE_NAMES_TRUTH = {'INTEGRATION':'70-30truth'}\n",
    "#VCF_PATH_TRUTH = \"/Users/peterpriestley/hmf/analyses/giabTruthsets/\"\n",
    "#VCF_FILE_NAME_TRUTH = \"NA12878_GIAB_highconf_IllFB-IllGATKHC-CG-Ion-Solid_ALLCHROM_v3.2.2_highconf.vcf\"\n",
    "#bed = aVCF.loadBEDFile(BED_PATH,BED_FILE_NAME)\n",
    "#dfTruth = aVCF.loadVariantsFromVCF(VCF_PATH_TRUTH,VCF_FILE_NAME_TRUTH,SAMPLE_NAMES_TRUTH,\"Mix-in Truth Set\",True,True,bed,True)"
   ]
  },
  {
   "cell_type": "code",
   "execution_count": null,
   "metadata": {
    "collapsed": true
   },
   "outputs": [],
   "source": [
    "#dfTruth.rename(columns={'70-30truthallele':'truth_allele','70-30truthindelDiff':'truth_indelDiff'}, inplace=True)\n",
    "#dfTruth = dfTruth[['chrom','pos','variantType','ref','truth_allele','truth_indelDiff','bedRegion']]\n",
    "#dfTruth = dfTruth.set_index(['chrom','pos'])"
   ]
  },
  {
   "cell_type": "code",
   "execution_count": null,
   "metadata": {
    "collapsed": true
   },
   "outputs": [],
   "source": [
    "#def calculateTruth(df,dfTruth):\n",
    "#    df = pd.merge(df,dfTruth,how='left', left_index=True,right_index=True,suffixes=('', '_Truth'))\n",
    "#    df['hasTP'] = False\n",
    "#    df['hasFP'] = False\n",
    "#    for columnName in list(df):\n",
    "#        if columnName.endswith('allele') and not columnName.startswith('truth'):\n",
    "#            df['hasTP'] = (df['hasTP']) | ((df[columnName[:-6]+'indelDiff'] == df['truth_indelDiff']) \\\n",
    "#                    & (~pd.isnull(df['truth_indelDiff']) & (df['variantType'] == 'INDEL'))) |((df[columnName] == df['truth_allele']) \\\n",
    "#                    & (df['variantType'] == 'SNP'))\n",
    "#            df['hasFP'] = (df['hasFP']) | ((df[columnName[:-6]+'indelDiff'] != df['truth_indelDiff']) \\\n",
    "#                    & (df['variantType'] == 'INDEL') & (df[columnName[:-6]+'indelDiff'] != '')& (~pd.isnull(df['truth_allele']))) |((df[columnName] != df['truth_allele']) \\\n",
    "#                    & (df['variantType'] == 'SNP') & (df[columnName] != '')& (~pd.isnull(df['truth_allele'])))\n",
    "#    df['Truth'] = (df['hasTP']) &  (df['hasFP'] == False)\n",
    "#    return df"
   ]
  },
  {
   "cell_type": "code",
   "execution_count": null,
   "metadata": {
    "collapsed": false
   },
   "outputs": [],
   "source": [
    "#df = df.set_index(['chrom','pos'])\n",
    "#df = calculateTruth(df,dfTruth)"
   ]
  },
  {
   "cell_type": "code",
   "execution_count": null,
   "metadata": {
    "collapsed": false
   },
   "outputs": [],
   "source": [
    "#dftemp = df.reset_index()\n",
    "#pd.pivot_table(dftemp[(dftemp.variantType=='INDEL')|(dftemp.variantType=='SNP')], values='pos', index=['bedRegion'], columns=['variantType','Truth'], aggfunc='count')"
   ]
  },
  {
   "cell_type": "markdown",
   "metadata": {},
   "source": [
    "### LOH variants"
   ]
  },
  {
   "cell_type": "code",
   "execution_count": null,
   "metadata": {
    "collapsed": false
   },
   "outputs": [],
   "source": [
    "pd.pivot_table(df[(df.normalSGT<>\"\")&(df.normalSGT<>df.tumorSGT)],\\\n",
    "               values='pos', index=['chromPos','patientName','annGene','normalSGT','tumorSGT'], columns=['consensus'], aggfunc='count',margins=True).fillna(\"\")"
   ]
  },
  {
   "cell_type": "markdown",
   "metadata": {},
   "source": [
    "### HIGH and MODERATE impact NON-missense"
   ]
  },
  {
   "cell_type": "code",
   "execution_count": null,
   "metadata": {
    "collapsed": false
   },
   "outputs": [],
   "source": [
    "pd.pivot_table(df[((df['annWorstImpact']=='MODERATE')|(df['annWorstImpact']=='HIGH'))&(~df.annAllEffects.str.contains(\"missense\"))&(df.normalSGT==\"\")],\\\n",
    "               values='pos', index=['chromPos','patientName','annGene','annWorstEffect','annWorstImpact','ref','normalallele'], columns=['consensus'], aggfunc='count',margins=True).fillna(\"\")"
   ]
  },
  {
   "cell_type": "markdown",
   "metadata": {},
   "source": [
    "### Missense"
   ]
  },
  {
   "cell_type": "code",
   "execution_count": null,
   "metadata": {
    "collapsed": false
   },
   "outputs": [],
   "source": [
    "pd.pivot_table(df[(df.annAllEffects.str.contains(\"missense\"))&(df.normalSGT==\"\")],\\\n",
    "               values='pos', index=['chromPos','patientName','annGene','normalSGT','tumorSGT'], columns=['consensus'], aggfunc='count',margins=True).fillna(\"\")"
   ]
  },
  {
   "cell_type": "markdown",
   "metadata": {},
   "source": [
    "### SUMMARY OF TYPE"
   ]
  },
  {
   "cell_type": "code",
   "execution_count": null,
   "metadata": {
    "collapsed": false
   },
   "outputs": [],
   "source": [
    "pd.pivot_table(df[(df['normalSGT']==\"0/1\")&((df['tumorSGT']==\"1/1\")|(df['tumorSGT']==\"0/1\")|(df['tumorSGT']==\"\"))], values='pos', index=['chrom'], columns=['tumorSGT'], aggfunc='count').fillna(\"\")"
   ]
  },
  {
   "cell_type": "markdown",
   "metadata": {},
   "source": [
    "<h3> Allelic Depth"
   ]
  },
  {
   "cell_type": "code",
   "execution_count": null,
   "metadata": {
    "collapsed": false
   },
   "outputs": [],
   "source": [
    "max(dftemp.normalAF)"
   ]
  },
  {
   "cell_type": "code",
   "execution_count": null,
   "metadata": {
    "collapsed": false
   },
   "outputs": [],
   "source": [
    "#Alllele Freq By chromosome\n",
    "dftemp = df[(df['normalSGT']==\"0/1\")]\n",
    "for columnName in list(dftemp):\n",
    "        if columnName.endswith('AF'):\n",
    "            ser = dftemp[columnName]\n",
    "            ser = ser.sort_values()\n",
    "            cum_dist = np.linspace(0.,1.,len(ser))\n",
    "            ser_cdf = pd.Series(cum_dist, index=ser,name=columnName+\": c=\"+str(ser.count())+\" m=\"+str(round(ser.median(),2)))\n",
    "            ser_cdf.plot(drawstyle='steps',legend=True,title=\" Allelic Frequency\",figsize=[18,10])"
   ]
  },
  {
   "cell_type": "code",
   "execution_count": null,
   "metadata": {
    "collapsed": false
   },
   "outputs": [],
   "source": [
    "#Alllele Freq By chromosome\n",
    "dftemp = df[(df['normalSGT']==\"0/1\")]\n",
    "chromosomes = dftemp.chrom.unique()\n",
    "for columnName in list(dftemp):\n",
    "    for chromosome in chromosomes:\n",
    "        if columnName.endswith('tumorAF'):\n",
    "            ser = dftemp[(dftemp.chrom == chromosome)][columnName]\n",
    "            ser = ser.sort_values()\n",
    "            cum_dist = np.linspace(0.,1.,len(ser))\n",
    "            ser_cdf = pd.Series(cum_dist, index=ser,name=chromosome+\": c=\"+str(ser.count())+\" m=\"+str(round(ser.median(),2)))\n",
    "            ser_cdf.plot(drawstyle='steps',legend=True,title=\" Allelic Frequency by \",figsize=[18,10])"
   ]
  },
  {
   "cell_type": "markdown",
   "metadata": {
    "collapsed": true
   },
   "source": [
    "### Heterozygous asymmetry"
   ]
  },
  {
   "cell_type": "code",
   "execution_count": 10,
   "metadata": {
    "collapsed": false
   },
   "outputs": [],
   "source": [
    "df['bucketNormalAF']=((df['normalAF'])*50+(rand.random()-0.5)/10000)\n",
    "df['bucketNormalAF']= df.normalAF.apply(lambda x: 50*x+(rand.random()-0.5)/10000)\n",
    "df['bucketNormalAF']=df.bucketNormalAF.astype('int')"
   ]
  },
  {
   "cell_type": "code",
   "execution_count": 12,
   "metadata": {
    "collapsed": false
   },
   "outputs": [
    {
     "name": "stdout",
     "output_type": "stream",
     "text": [
      " Total =  200021\n",
      "AF>0.5 =  92671\n",
      "AF<0.5 =  92173\n",
      "ref->het FP estimate =  -498\n",
      "ref->het FP rate =  -0.0025\n"
     ]
    }
   ],
   "source": [
    "variantType = \"SNP\"\n",
    "total = len(df[(df['variantType']==variantType)&(df['normalSGT']==\"0/1\")&(df.bedRegion<>\"\")])\n",
    "lower = len(df[(df['variantType']==variantType)&(df['normalSGT']==\"0/1\")&(df['normalAF']<0.5)&(df.bedRegion<>\"\")])\n",
    "higher = len(df[(df['variantType']==variantType)&(df['normalSGT']==\"0/1\")&(df['normalAF']>0.5)&(df.bedRegion<>\"\")])\n",
    "print \"Total = \",total\n",
    "print \"AF>0.5 = \",higher\n",
    "print \"AF<0.5 = \",lower\n",
    "print \"ref->het FP estimate = \", lower-higher\n",
    "print \"ref->het FP rate = \", round(float(lower - higher) / total,4)"
   ]
  },
  {
   "cell_type": "code",
   "execution_count": 13,
   "metadata": {
    "collapsed": true
   },
   "outputs": [],
   "source": [
    "df['correctedNormalAF']=df.normalAF.apply(lambda x: x+(rand.random()-0.5)/1000000)"
   ]
  },
  {
   "cell_type": "code",
   "execution_count": 17,
   "metadata": {
    "collapsed": false
   },
   "outputs": [
    {
     "data": {
      "image/png": "[encoded data removed]",
      "text/plain": [
       "<matplotlib.figure.Figure at 0x10d7d2590>"
      ]
     },
     "metadata": {},
     "output_type": "display_data"
    }
   ],
   "source": [
    "variantType = 'SNP'\n",
    "plt.figure(figsize=[18,4])\n",
    "plt.hist([df[(df['variantType']<>variantType)&(df['normalSGT']==\"0/1\")]['correctedNormalAF'].values,df[(df['variantType']<>variantType)&(df['normalSGT']==\"0/1\")]['correctedNormalAF'].values],\n",
    "    cumulative=False, normed=True, bins=50,range=(0.0,1.0),histtype='bar',stacked = False,rwidth=0.8,label=['HC','LC'])\n",
    "plt.title('Normalised PDF '+variantType+' by AF')\n",
    "plt.legend()\n",
    "plt.show()"
   ]
  },
  {
   "cell_type": "code",
   "execution_count": null,
   "metadata": {
    "collapsed": true
   },
   "outputs": [],
   "source": []
  }
 ],
 "metadata": {
  "kernelspec": {
   "display_name": "Python 2",
   "language": "python",
   "name": "python2"
  },
  "language_info": {
   "codemirror_mode": {
    "name": "ipython",
    "version": 2
   },
   "file_extension": ".py",
   "mimetype": "text/x-python",
   "name": "python",
   "nbconvert_exporter": "python",
   "pygments_lexer": "ipython2",
   "version": "2.7.10"
  }
 },
 "nbformat": 4,
 "nbformat_minor": 0
}
