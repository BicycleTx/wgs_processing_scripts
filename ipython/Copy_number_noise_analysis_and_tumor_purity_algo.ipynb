{
 "cells": [
  {
   "cell_type": "code",
   "execution_count": null,
   "metadata": {
    "collapsed": false
   },
   "outputs": [],
   "source": [
    "import math\n",
    "import os\n",
    "import pandas as pd\n",
    "import numpy as np\n",
    "import copy\n",
    "import sys\n",
    "import matplotlib.pyplot as plt\n",
    "%matplotlib inline\n",
    "pd.set_option('display.max_rows', 50)\n",
    "pd.set_option('display.max_columns', 50)\n",
    "sys.path.append(\"/Users/peterpriestley/hmf/repos/scripts/analysisscripts\") \n",
    "import chromosomeDefinition as cd\n",
    "import analyseVCF as aVCF\n",
    "from scipy.stats import norm\n",
    "from sklearn.neighbors import KernelDensity\n",
    "%pprint"
   ]
  },
  {
   "cell_type": "code",
   "execution_count": null,
   "metadata": {
    "collapsed": true
   },
   "outputs": [],
   "source": [
    "CNV_COLUMNS = ['chrom','posStart','posEnd','copyNum','gainOrLoss','BAF','score','germlineOrSomatic','oneOrZero']"
   ]
  },
  {
   "cell_type": "code",
   "execution_count": null,
   "metadata": {
    "collapsed": false
   },
   "outputs": [],
   "source": [
    "# LOAD BED\n",
    "BED_PATH = \"/Users/peterpriestley/hmf/analyses/slices/\"\n",
    "BED_FILE_NAME = \"cosmicCurated.bed\" \n",
    "BED_FILE_NAME = \"cosmicCancerCensus.bed\"\n",
    "BED_PATH = \"/Users/peterpriestley/hmf/analyses/giabTruthsets/\"\n",
    "BED_FILE_NAME = \"NA12878_GIAB_highconf_IllFB-IllGATKHC-CG-Ion-Solid_ALLCHROM_v3.2.2_highconf.bed\"\n",
    "#BED_FILE_NAME = \"CPCT_Slicing.bed\"\n",
    "USE_BED = True\n",
    "LOAD_FULL_FILE = True"
   ]
  },
  {
   "cell_type": "markdown",
   "metadata": {
    "collapsed": false
   },
   "source": [
    "### FUNCTIONS"
   ]
  },
  {
   "cell_type": "code",
   "execution_count": null,
   "metadata": {
    "collapsed": true
   },
   "outputs": [],
   "source": [
    "def findFiles(path,suffix):\n",
    "    files=[]\n",
    "    for x in os.listdir(path):\n",
    "        if x[-len(suffix):] == suffix:\n",
    "            files.append(x)\n",
    "    return files"
   ]
  },
  {
   "cell_type": "code",
   "execution_count": null,
   "metadata": {
    "collapsed": false
   },
   "outputs": [],
   "source": [
    "def loadCNVforPatient(cnvFile,patientName):\n",
    "    dfCNV = pd.read_table(cnvFile, names = CNV_COLUMNS )\n",
    "    #print dfCNV\n",
    "    #add regions with default copy number\n",
    "    last = dfCNV.iloc[0]\n",
    "    for i in range(1, dfCNV.shape[0]-1):\n",
    "        #print last.chrom,last.posStart,last.posEnd\n",
    "        if last['posEnd']<>dfCNV.iloc[i]['posStart']:\n",
    "            if last['chrom']==dfCNV.iloc[i]['chrom']:\n",
    "                dfCNV.loc[len(dfCNV)] = [last['chrom'],last['posEnd'], dfCNV.iloc[i]['posStart']-1,2,'none','-','-','-','-']\n",
    "            else:\n",
    "                dfCNV.loc[len(dfCNV)] = [last['chrom'],last['posEnd'], cd.chromosomeLength[last['chrom']],2,'none','-','-','-','-']\n",
    "                if dfCNV.iloc[i]['posStart']<>0:\n",
    "                    dfCNV.loc[len(dfCNV)] = [dfCNV.iloc[i]['chrom'],0, dfCNV.iloc[i]['posStart'],2,'none','-','-','-','-']\n",
    "        last = dfCNV.iloc[i]\n",
    "    #fix first record\n",
    "    if dfCNV.iloc[0]['posStart']<>0:\n",
    "        dfCNV.loc[len(dfCNV)] = ['1',0, dfCNV.iloc[0]['posStart'],2,'none','-','-','-','-']\n",
    "    #Additional Fields\n",
    "    dfCNV['chromPos']= dfCNV['chrom'].apply(lambda x: cd.intChrom(x)) + dfCNV['posStart'] / dfCNV['chrom'].apply(lambda x: cd.chromosomeLength[str(x)])\n",
    "    dfCNV['chrom'] = dfCNV['chrom'].apply(lambda x: cd.intChrom(x))\n",
    "    dfCNV['cappedCopyNum'] = dfCNV['copyNum'].clip(upper=5)\n",
    "    dfCNV = dfCNV.sort_values([\"chrom\",\"posStart\",\"posEnd\"]).reset_index()\n",
    "    dfCNV['regionLength'] = (dfCNV['posEnd']-dfCNV['posStart'])\n",
    "    dfCNV['patientName']=patientName\n",
    "    return dfCNV"
   ]
  },
  {
   "cell_type": "code",
   "execution_count": null,
   "metadata": {
    "collapsed": false
   },
   "outputs": [],
   "source": [
    "def calculateSomaticCNV(dfTumorCNV):\n",
    "    lastSomaticCopyNum = 2\n",
    "    dfTumorCNV['copyNumSomatic']= dfTumorCNV['copyNum']\n",
    "    for i in range(1, dfTumorCNV.shape[0]-1):\n",
    "        if dfTumorCNV.iloc[i].germlineOrSomatic==\"germline\":\n",
    "                dfTumorCNV.ix[i,'copyNumSomatic'] = lastSomaticCopyNum\n",
    "        elif dfTumorCNV.iloc[i].germlineOrSomatic==\"somatic\"  or dfTumorCNV.iloc[i].germlineOrSomatic==\"-\":  \n",
    "            lastSomaticCopyNum = dfTumorCNV.ix[i,'copyNumSomatic']\n",
    "    return dfTumorCNV"
   ]
  },
  {
   "cell_type": "code",
   "execution_count": null,
   "metadata": {
    "collapsed": false
   },
   "outputs": [],
   "source": [
    "def calculateCleanCNV(dfTumorCNV):\n",
    "    lastSomaticCopyNum = 2\n",
    "    dfTumorCNV['copyNumClean']= dfTumorCNV['copyNum']\n",
    "    for i in range(1, dfTumorCNV.shape[0]-1):\n",
    "        if (dfTumorCNV.iloc[i].normalRatio < 0.7 and dfTumorCNV.iloc[i].gainOrLoss=='loss' and dfTumorCNV.iloc[i].tumorRatio/dfTumorCNV.iloc[i].normalRatio>0.1) or \\\n",
    "            (dfTumorCNV.iloc[i].normalRatio>1.4 and dfTumorCNV.iloc[i].gainOrLoss=='gain' and dfTumorCNV.iloc[i].tumorRatio/dfTumorCNV.iloc[i].normalRatio<1.4) or \\\n",
    "            dfTumorCNV.iloc[i].germlineOrSomatic==\"germline\":\n",
    "                dfTumorCNV.ix[i,'copyNumClean'] = lastSomaticCopyNum\n",
    "        elif dfTumorCNV.iloc[i].germlineOrSomatic==\"somatic\" or dfTumorCNV.iloc[i].germlineOrSomatic==\"-\":  \n",
    "            lastSomaticCopyNum = dfTumorCNV.ix[i,'copyNumClean']\n",
    "    return dfTumorCNV"
   ]
  },
  {
   "cell_type": "code",
   "execution_count": null,
   "metadata": {
    "collapsed": false
   },
   "outputs": [],
   "source": [
    "def cleanNONBAFregionsCNV(dfTumorCNV):\n",
    "    ### LOGIC\n",
    "    # If regionLength < x \n",
    "    # AND BAF = \"-\" \n",
    "    # AND previous and next adjacent regions have the same cleaned copy number \n",
    "    # AND the copyNum <> previous Copy NUM and \n",
    "    # AND copyNUM BETWEEN previousCopyNUM +/- 51%\n",
    "    # THEN REMOVE REGION AND MAKE ALL 3 REGIONS ONE REGION.\n",
    "    lastCleanCopyNum = 2\n",
    "    lastChrom = 1\n",
    "    dfTumorCNV['copyNumCleanNonBAFRemoved']= dfTumorCNV['copyNumClean']\n",
    "    for i in range(1, dfTumorCNV.shape[0]-1):\n",
    "        if lastChrom <> dfTumorCNV.iloc[i].chrom:\n",
    "            lastCleanCopyNum = 2\n",
    "            lastChrom = dfTumorCNV.ix[i,'chrom']\n",
    "        elif ((dfTumorCNV.iloc[i].BAF == \"-\" or dfTumorCNV.iloc[i].nonZeroCount < 20) and \\\n",
    "            dfTumorCNV.iloc[i].copyNumClean<lastCleanCopyNum*1.35 and dfTumorCNV.iloc[i].copyNumClean > lastCleanCopyNum*0.65) \\\n",
    "            or (dfTumorCNV.iloc[i].nonZeroCount < 10 and dfTumorCNV.iloc[i].copyNumClean<lastCleanCopyNum*1.51 and \\\n",
    "            dfTumorCNV.iloc[i].copyNumClean > lastCleanCopyNum*0.49) \\\n",
    "            or (dfTumorCNV.iloc[i].nonZeroCount < 100 and \\\n",
    "            (dfTumorCNV.iloc[i].ratioOfRatio*2<lastCleanCopyNum*1.25 and dfTumorCNV.iloc[i].ratioOfRatio*2> lastCleanCopyNum*0.8)) \\\n",
    "            or abs(lastCleanCopyNum-dfTumorCNV.iloc[i].ratioOfRatio*2) < abs(dfTumorCNV.iloc[i].copyNumClean-dfTumorCNV.iloc[i].ratioOfRatio*2):\n",
    "#            or (dfTumorCNV.iloc[i].ratioOfRatio*2 <lastCleanCopyNum and lastCleanCopyNum < dfTumorCNV.iloc[i].copyNumClean) \\\n",
    "#            or (dfTumorCNV.iloc[i].ratioOfRatio*2 >lastCleanCopyNum and lastCleanCopyNum > dfTumorCNV.iloc[i].copyNumClean) ):\n",
    "                dfTumorCNV.ix[i,'copyNumCleanNonBAFRemoved'] = lastCleanCopyNum\n",
    "        elif dfTumorCNV.iloc[i].germlineOrSomatic==\"somatic\" or dfTumorCNV.iloc[i].germlineOrSomatic==\"-\": \n",
    "            lastCleanCopyNum = dfTumorCNV.ix[i,'copyNumCleanNonBAFRemoved']\n",
    "            lastChrom = dfTumorCNV.ix[i,'chrom']\n",
    "    return dfTumorCNV"
   ]
  },
  {
   "cell_type": "code",
   "execution_count": null,
   "metadata": {
    "collapsed": false
   },
   "outputs": [],
   "source": [
    "def positionChart(dfCNV,filename,fieldName,minChrom=1,maxChrom=23,maxValue=10):\n",
    "    plt.figure(figsize=[18,3])\n",
    "    plt.title(filename+\" \"+fieldName)\n",
    "    ax = plt.gca()\n",
    "    ax.plot(dfCNV['chromPos'], dfCNV[fieldName],drawstyle=\"steps-post\")\n",
    "    ax.axis([minChrom, maxChrom, 0, maxValue])"
   ]
  },
  {
   "cell_type": "code",
   "execution_count": null,
   "metadata": {
    "collapsed": true
   },
   "outputs": [],
   "source": [
    "def pdfChart(log_dens,maxYValue=8):\n",
    "    fig, ax = plt.subplots()\n",
    "    ax.plot(X_plot[:, 0], np.exp(log_dens), '-',\n",
    "            label=\"kernel = '{0}'\".format('gaussian'))\n",
    "    ax.legend(loc='upper right')\n",
    "    fig.set_figwidth(10)\n",
    "    fig.set_figheight(3)\n",
    "    ax.set_ylim(-0.02, maxYValue)\n",
    "    ax.grid(b=True, which='both', color='0.65',linestyle='-')\n",
    "    plt.show()"
   ]
  },
  {
   "cell_type": "code",
   "execution_count": null,
   "metadata": {
    "collapsed": false
   },
   "outputs": [],
   "source": [
    "def cnvLabel(copyNumber):\n",
    "    if copyNumber < 2:\n",
    "        return 'loss'\n",
    "    elif copyNumber > 2:\n",
    "        return 'amplification'\n",
    "    else:\n",
    "        return'normal'"
   ]
  },
  {
   "cell_type": "code",
   "execution_count": null,
   "metadata": {
    "collapsed": true
   },
   "outputs": [],
   "source": [
    "def nonZeroCountBetween(chrom,minPos,maxPos):\n",
    "    temp = dfTumorRatio[(dfTumorRatio.Chromosome==chrom)&(dfTumorRatio.Start>minPos)&\\\n",
    "                       (dfTumorRatio.Start<maxPos)&(dfTumorRatio.Ratio_x<>-1)]\n",
    "    return temp['Start'].count(),temp['Ratio_x'].mean(),temp['Ratio_y'].mean(),temp['MedianRatio_x'].mean(),temp['MedianRatio_y'].mean()"
   ]
  },
  {
   "cell_type": "code",
   "execution_count": null,
   "metadata": {
    "collapsed": true
   },
   "outputs": [],
   "source": [
    "def fitBAFPeak(mBAF):\n",
    "    return min(mBAFPeaks, key=lambda x:abs(x-mBAF))\n",
    "\n",
    "def fitCNVPeak(ratio):\n",
    "    return min(cnvPeaks, key=lambda x:abs(x-ratio))"
   ]
  },
  {
   "cell_type": "code",
   "execution_count": null,
   "metadata": {
    "collapsed": false
   },
   "outputs": [],
   "source": [
    "def runGeneCNVAnalysis(dfCNV,bed,patientName):\n",
    "    geneList =[]\n",
    "    for bedrow in bed:\n",
    "        bedChromPosStart = cd.intChrom(bedrow[0]) + float(bedrow[1])/cd.chromosomeLength[bedrow[0]]\n",
    "        bedChromPosEnd = cd.intChrom(bedrow[0]) + float(bedrow[1])/cd.chromosomeLength[bedrow[0]]\n",
    "        prevCNV = max(dfCNV[(dfCNV['chromPos'] < bedChromPosStart)].index.tolist())\n",
    "        if dfCNV[(dfCNV['chromPos'] > bedChromPosEnd) ].index.tolist():\n",
    "            nextCNV = min(dfCNV[(dfCNV['chromPos'] > bedChromPosEnd) ].index.tolist())\n",
    "            minCopyNum = min(([dfCNV.iloc[x]['myCopyNum']]) for x in range (prevCNV,nextCNV)) \n",
    "        else:\n",
    "            minCopyNum = [-1]\n",
    "        geneList.append([patientName,bedrow[3],bedrow[0],bedrow[1],bedrow[2],minCopyNum[0],cnvLabel(minCopyNum[0])])\n",
    "    return geneList"
   ]
  },
  {
   "cell_type": "code",
   "execution_count": null,
   "metadata": {
    "collapsed": true
   },
   "outputs": [],
   "source": [
    "def patientIDFromFilename(filename):\n",
    "    patientIDStart = filename.find(\"CPCT0\")\n",
    "    return filename[patientIDStart:patientIDStart+12]"
   ]
  },
  {
   "cell_type": "code",
   "execution_count": null,
   "metadata": {
    "collapsed": true
   },
   "outputs": [],
   "source": [
    "def loadBAFData(bafFile):\n",
    "    df = pd.read_table(bafFile)\n",
    "    return df"
   ]
  },
  {
   "cell_type": "code",
   "execution_count": null,
   "metadata": {
    "collapsed": true
   },
   "outputs": [],
   "source": [
    "def loadVCF(path,filename,sampleNames,patientID):\n",
    "    df = pd.DataFrame()\n",
    "    if USE_BED:\n",
    "        bed = aVCF.loadBEDFile(BED_PATH,BED_FILE_NAME)\n",
    "        return pd.concat([df,aVCF.loadVariantsFromVCF(path,filename,sampleNames,patientID,True,True,bed,LOAD_FULL_FILE)])\n",
    "    else:\n",
    "        return pd.concat([df,aVCF.loadVariantsFromVCF(path,filename,sampleNames,patientID,True)])"
   ]
  },
  {
   "cell_type": "code",
   "execution_count": null,
   "metadata": {
    "collapsed": true
   },
   "outputs": [],
   "source": [
    "def calculateMBAFBetween(chrom,minPos,maxPos):\n",
    "    dftemp = dfBAF[(dfBAF.Chromosome==chrom)&(dfBAF.Position>minPos)&(dfBAF.Position<maxPos)]\n",
    "    return dftemp['mBAF'].median(),dftemp['mBAF'].count()"
   ]
  },
  {
   "cell_type": "code",
   "execution_count": null,
   "metadata": {
    "collapsed": true
   },
   "outputs": [],
   "source": [
    "def createBAF(dfGermline):\n",
    "    dfBAF = dfGermline[(dfGermline['variantType']==\"SNP\")&(dfGermline['normalSGT']==\"0/1\")&(dfGermline['normalAF']>0.4) \\\n",
    "                   &(dfGermline['normalAF']<0.65)&(dfGermline['normalDP']>30)&\\\n",
    "                   (dfGermline['normalDP']<40)][['chrom','pos','tumorAF']]\n",
    "    dfBAF.columns = ['Chromosome', 'Position','BAF']\n",
    "    dfBAF['Position'] = pd.to_numeric(dfBAF['Position'])\n",
    "    dfBAF['mBAF']= 0.5+abs(dfBAF['BAF']-0.5)\n",
    "    dfBAF['chromPos']= dfBAF['Chromosome'].apply(lambda x: cd.intChrom(x)) + dfBAF['Position'] / dfBAF['Chromosome'].apply(lambda x: cd.chromosomeLength[str(x)])\n",
    "    dfBAF['Chromosome']= dfBAF['Chromosome'].apply(lambda x: cd.intChrom(x))\n",
    "    return dfBAF"
   ]
  },
  {
   "cell_type": "code",
   "execution_count": null,
   "metadata": {
    "collapsed": true
   },
   "outputs": [],
   "source": [
    "def loadPON(aPath,aPONFile):\n",
    "    myPON = []\n",
    "    with open(aPath + aPONFile, 'r') as f:\n",
    "        for line in f:\n",
    "            line = line.strip('\\n')\n",
    "            splitLine = line.split('\\t')\n",
    "            myPON.append(splitLine)\n",
    "    dfPON = pd.DataFrame(myPON)\n",
    "    dfPON.columns = ['chrom','pos','ref','alt','PONCount']\n",
    "    return dfPON"
   ]
  },
  {
   "cell_type": "code",
   "execution_count": null,
   "metadata": {
    "collapsed": true
   },
   "outputs": [],
   "source": [
    "def AFByPosPlot(pos,AF,startChartPos,endChartPos):\n",
    "    plt.figure(figsize=[18,3])\n",
    "    plt.scatter(pos, AF)\n",
    "    plt.grid(b=True, which='both', color='0.65',linestyle='-')\n",
    "    plt.axis([startChartPos, endChartPos,0, 1.0])\n",
    "    plt.show()"
   ]
  },
  {
   "cell_type": "code",
   "execution_count": null,
   "metadata": {
    "collapsed": true
   },
   "outputs": [],
   "source": [
    "def findPeaks(log_dens,X_range):\n",
    "    peaks = []\n",
    "    troughs = []\n",
    "    dens=np.exp(log_dens)\n",
    "    diff = [dens[x] - dens[x-1] for x in range(1,len(dens))]\n",
    "    for i in range (len(diff)-1):\n",
    "        if diff[i+1] < 0 and diff[i] > 0:\n",
    "            peaks.append(float(i+1)/len(dens)*X_range)\n",
    "        if diff[i+1] > 0 and diff[i] < 0:\n",
    "            troughs.append(float(i+1)/len(dens)*X_range)\n",
    "    return peaks#, troughs"
   ]
  },
  {
   "cell_type": "markdown",
   "metadata": {},
   "source": [
    "### LOAD PON"
   ]
  },
  {
   "cell_type": "code",
   "execution_count": null,
   "metadata": {
    "collapsed": true
   },
   "outputs": [],
   "source": [
    "# Only needs to be run once\n",
    "dfPON = loadPON(\"/Users/peterpriestley/hmf/analyses/PON/779filePON/\",\"PON.tsv\")"
   ]
  },
  {
   "cell_type": "markdown",
   "metadata": {},
   "source": [
    "### ANALYSIS"
   ]
  },
  {
   "cell_type": "code",
   "execution_count": null,
   "metadata": {
    "collapsed": false
   },
   "outputs": [],
   "source": [
    "PATH=\"/Users/peterpriestley/hmf/analyses/v1.12samples/CPCT02050140/\"\n",
    "tumorCNVFileName=findFiles(PATH,\"gz_CNVs\")[0]\n",
    "normalCNVFileName=findFiles(PATH,\"normal_CNVs\")[0]\n",
    "tumorRatioFileName=findFiles(PATH,\"gz_ratio.txt\")[0]\n",
    "normalRatioFileName=findFiles(PATH,\"gz_normal_ratio.txt\")[0]\n",
    "somaticVCFFilename = findFiles(PATH,\"melted.vcf\")[0]\n",
    "germlineVCFFilename = findFiles(PATH,\"SLICED.vcf\")[0]\n",
    "patientID = patientIDFromFilename(germlineVCFFilename)\n",
    "print \"germline =\",germlineVCFFilename\n",
    "print \"patient =\",patientID\n",
    "print \"CNV =\",tumorCNVFileName"
   ]
  },
  {
   "cell_type": "code",
   "execution_count": null,
   "metadata": {
    "collapsed": false
   },
   "outputs": [],
   "source": [
    "dfGermline = loadVCF(PATH,germlineVCFFilename,{patientID+'R':'normal',patientID+'T':'tumor'},patientID)\n",
    "dfSomatic = loadVCF(PATH,somaticVCFFilename,{patientID+'T':'melted'},patientID)"
   ]
  },
  {
   "cell_type": "code",
   "execution_count": null,
   "metadata": {
    "collapsed": false
   },
   "outputs": [],
   "source": [
    "# APPLY PON to SOMATICs\n",
    "dfSomatic['alt'] = dfSomatic['meltedallele']\n",
    "dfSomatic = pd.merge(dfSomatic,dfPON,how='left', on=['chrom','pos','ref','alt'])\n",
    "dfSomatic['PONCount'].fillna(0, inplace=True)\n",
    "dfSomatic['inPON'] = pd.to_numeric(dfSomatic.PONCount,errors=coerce)>4"
   ]
  },
  {
   "cell_type": "code",
   "execution_count": null,
   "metadata": {
    "collapsed": false
   },
   "outputs": [],
   "source": [
    "dfBAF = createBAF(dfGermline)"
   ]
  },
  {
   "cell_type": "code",
   "execution_count": null,
   "metadata": {
    "collapsed": false,
    "scrolled": false
   },
   "outputs": [],
   "source": [
    "patientName=normalCNVFileName[:12]\n",
    "dfTumorCNV = loadCNVforPatient(PATH+tumorCNVFileName,patientName)\n",
    "dfNormalCNV = loadCNVforPatient(PATH+normalCNVFileName,patientName)\n",
    "positionChart(dfTumorCNV,tumorCNVFileName,\"copyNum\")\n",
    "positionChart(dfNormalCNV,tumorCNVFileName,\"copyNum\")\n"
   ]
  },
  {
   "cell_type": "code",
   "execution_count": null,
   "metadata": {
    "collapsed": false
   },
   "outputs": [],
   "source": [
    "dfTumorCNV['mBAF'], dfTumorCNV['mBAFCount'] = \\\n",
    "    np.vectorize(calculateMBAFBetween)(dfTumorCNV['chrom'], dfTumorCNV['posStart'],dfTumorCNV['posEnd'])"
   ]
  },
  {
   "cell_type": "markdown",
   "metadata": {},
   "source": [
    "### Ratio calculations"
   ]
  },
  {
   "cell_type": "code",
   "execution_count": null,
   "metadata": {
    "collapsed": false
   },
   "outputs": [],
   "source": [
    "dfTumorRatio = pd.read_table(PATH + tumorRatioFileName, header=0)#names = ['chrom','window',\"ratio\",\"segmentRatio\",\"copyNum\",\"mbaf\",\"baf\",\"GT\",\"uncertainty\"] )\n",
    "dfNormalRatio = pd.read_table(PATH + normalRatioFileName, header=0)# names = ['chrom','window',\"ratio\",\"segmentRatio\",\"copyNum\",\"mbaf\",\"baf\",\"GT\",\"uncertainty\"] )\n",
    "dfTumorRatio.set_index(['Chromosome','Start'],inplace=True)\n",
    "dfNormalRatio.set_index(['Chromosome','Start'],inplace=True)\n",
    "dfTumorRatio = pd.merge(dfTumorRatio,dfNormalRatio,how='inner', left_index=True,right_index=True)\n",
    "#dfTumorRatio = dfTumorRatio[(dfTumorRatio.Ratio_y > 0)]\n",
    "dfTumorRatio['ratio']= pd.to_numeric(dfTumorRatio['Ratio_x'],errors=coerce) /pd.to_numeric(dfTumorRatio['Ratio_y'],errors=coerce)\n",
    "dfTumorRatio = dfTumorRatio.reset_index()\n",
    "dfTumorRatio['chromPos'] = dfTumorRatio['Chromosome'].apply(lambda x: cd.intChrom(str(x))) + \\\n",
    "    dfTumorRatio['Start']/dfTumorRatio['Chromosome'].map(lambda x: cd.chromosomeLength[str(x)])\n",
    "dfTumorRatio['Chromosome'] = dfTumorRatio['Chromosome'].apply(lambda x: cd.intChrom(str(x)))"
   ]
  },
  {
   "cell_type": "code",
   "execution_count": null,
   "metadata": {
    "collapsed": false
   },
   "outputs": [],
   "source": [
    "dfTumorCNV['nonZeroCount'],dfTumorCNV['tumorRatio'],dfTumorCNV['normalRatio'] \\\n",
    "    ,dfTumorCNV['tumorMedianRatio'],dfTumorCNV['normalMedianRatio'] = \\\n",
    "    np.vectorize(nonZeroCountBetween)(dfTumorCNV['chrom'], dfTumorCNV['posStart'],dfTumorCNV['posEnd'])\n",
    "dfTumorCNV['ratioOfRatio']=dfTumorCNV.tumorRatio/dfTumorCNV.normalRatio"
   ]
  },
  {
   "cell_type": "code",
   "execution_count": null,
   "metadata": {
    "collapsed": false
   },
   "outputs": [],
   "source": [
    "positionChart(dfTumorCNV,\"ratioOfRatio\",\"ratioOfRatio\",3,4,4)\n",
    "positionChart(dfTumorCNV,\"tumor Ratio\",\"tumorRatio\",3,4,6)"
   ]
  },
  {
   "cell_type": "markdown",
   "metadata": {},
   "source": [
    "### CLEANING ANALYSIS"
   ]
  },
  {
   "cell_type": "code",
   "execution_count": null,
   "metadata": {
    "collapsed": false
   },
   "outputs": [],
   "source": [
    "dfTumorCNV = calculateSomaticCNV(dfTumorCNV)\n",
    "dfTumorCNV = calculateCleanCNV(dfTumorCNV)\n",
    "dfTumorCNV = cleanNONBAFregionsCNV(dfTumorCNV)\n",
    "positionChart(dfTumorCNV,tumorCNVFileName,\"copyNum\",1,25,15)\n",
    "positionChart(dfTumorCNV,tumorCNVFileName,\"copyNumSomatic\",1,25,15)\n",
    "positionChart(dfTumorCNV,tumorCNVFileName,\"copyNumClean\",1,25,15)\n",
    "positionChart(dfTumorCNV,tumorCNVFileName,\"copyNumCleanNonBAFRemoved\",1,25,15)"
   ]
  },
  {
   "cell_type": "markdown",
   "metadata": {},
   "source": [
    "### PEAK FINDING"
   ]
  },
  {
   "cell_type": "code",
   "execution_count": null,
   "metadata": {
    "collapsed": false
   },
   "outputs": [],
   "source": [
    "#X = dfTumorCNV[dfTumorCNV.nonZeroCount>10].ratioOfRatio.sort_values()[:, np.newaxis]\n",
    "X_range = 5\n",
    "X_plot = np.linspace(0,X_range,1000)[:, np.newaxis]\n",
    "kde = KernelDensity(kernel='gaussian', bandwidth=0.02).fit(dfTumorCNV[(dfTumorCNV.nonZeroCount>10)].ratioOfRatio.sort_values()[:, np.newaxis])\n",
    "log_dens = kde.score_samples(X_plot)\n",
    "pdfChart(log_dens,6)\n",
    "cnvPeaks = findPeaks(log_dens,X_range)\n",
    "cnvPeaks"
   ]
  },
  {
   "cell_type": "code",
   "execution_count": null,
   "metadata": {
    "collapsed": false
   },
   "outputs": [],
   "source": [
    "X_range = 1\n",
    "X_plot = np.linspace(0,X_range,1000)[:, np.newaxis]\n",
    "kde = KernelDensity(kernel='gaussian', bandwidth=0.005).fit(dfTumorCNV[dfTumorCNV.mBAFCount>10].mBAF.sort_values()[:, np.newaxis])\n",
    "log_dens = kde.score_samples(X_plot)\n",
    "pdfChart(log_dens,10)\n",
    "mBAFPeaks = findPeaks(log_dens,X_range)\n",
    "mBAFPeaks"
   ]
  },
  {
   "cell_type": "code",
   "execution_count": null,
   "metadata": {
    "collapsed": false
   },
   "outputs": [],
   "source": [
    "dfTumorCNV['fittedBAFPeak'] = np.vectorize(fitBAFPeak)(dfTumorCNV['mBAF'])\n",
    "dfTumorCNV['fittedCNVPeak'] = np.vectorize(fitCNVPeak)(dfTumorCNV['ratioOfRatio'])\n",
    "pd.pivot_table(dfTumorCNV, values='mBAFCount', index=['fittedBAFPeak'], columns=['fittedCNVPeak'], aggfunc='sum',margins=True).fillna(\"\")"
   ]
  },
  {
   "cell_type": "markdown",
   "metadata": {},
   "source": [
    "### GENE CNV ANALYSIS"
   ]
  },
  {
   "cell_type": "code",
   "execution_count": null,
   "metadata": {
    "collapsed": true
   },
   "outputs": [],
   "source": [
    "# BEST ESTIMATE OF COPY NUMBER!\n",
    "purity = 0.82\n",
    "CNVNormalisationFactor = 0.99\n",
    "dfTumorCNV[\"myCopyNum\"] = np.round((dfTumorCNV.fittedCNVPeak-CNVNormalisationFactor)/CNVNormalisationFactor/purity*2+2,0)"
   ]
  },
  {
   "cell_type": "code",
   "execution_count": null,
   "metadata": {
    "collapsed": false
   },
   "outputs": [],
   "source": [
    "# LOAD CNV BED\n",
    "CNV_BED_PATH = \"/Users/peterpriestley/hmf/analyses/slices/\"\n",
    "CNV_BED_FILE_NAME = \"HMF_slicing.bed\"\n",
    "CNVBed = aVCF.loadBEDFile(CNV_BED_PATH,CNV_BED_FILE_NAME)\n",
    "GENECNV_COLUMNS = ['patientName','gene','chrom','posStart','posEnd','minCopyNum','cnvLabel']"
   ]
  },
  {
   "cell_type": "code",
   "execution_count": null,
   "metadata": {
    "collapsed": false
   },
   "outputs": [],
   "source": [
    "dfGeneCNV = pd.DataFrame(runGeneCNVAnalysis(dfTumorCNV,CNVBed,patientID),columns= GENECNV_COLUMNS)"
   ]
  },
  {
   "cell_type": "code",
   "execution_count": null,
   "metadata": {
    "collapsed": false,
    "scrolled": false
   },
   "outputs": [],
   "source": [
    "(dfGeneCNV[dfGeneCNV.minCopyNum<2])"
   ]
  },
  {
   "cell_type": "markdown",
   "metadata": {},
   "source": [
    "### SCRATCH - TUMOR PURITY"
   ]
  },
  {
   "cell_type": "code",
   "execution_count": null,
   "metadata": {
    "collapsed": false
   },
   "outputs": [],
   "source": [
    "c, fractionMin, fractionMax = 1,0,22\n",
    "dfSom = dfBAF[(dfBAF.chromPos>c+fractionMin)&(dfBAF.chromPos<c+fractionMax)]\n",
    "AFByPosPlot(dfSom.chromPos, dfSom.BAF,c+fractionMin, c+fractionMax)\n",
    "# CNV according to freeC\n",
    "plt.figure(figsize=[5,2])\n",
    "plt.hist(dfTumorCNV['copyNum'].values,cumulative=False, normed=True, bins=20,range=(0,10),weights=dfTumorCNV['regionLength'].values)\n",
    "plt.show()\n",
    "# should only use regions with mbaf > x\n",
    "dftemp = dfTumorCNV[(dfTumorCNV.mBAF>=0.0)&(dfTumorCNV.mBAF<=1.0)&(dfTumorCNV.mBAFCount>20)&(dfTumorCNV.chromPos<=c+fractionMax)&(dfTumorCNV.chromPos>=c+fractionMin)]\n",
    "plt.figure(figsize=[18,2])\n",
    "for CNV in range(0,6):\n",
    "    plt.hist(dftemp[(dftemp.copyNum==CNV)]['mBAF'].values,cumulative=False, normed=False, bins=50,range=(0.5,1.0),weights=dftemp[(dftemp.copyNum==CNV)]['mBAFCount'].values,stacked = True,rwidth=0.8,label='CNV ='+str(CNV))\n",
    "    plt.legend()\n",
    "plt.show()"
   ]
  },
  {
   "cell_type": "code",
   "execution_count": null,
   "metadata": {
    "collapsed": false
   },
   "outputs": [],
   "source": [
    "pd.pivot_table(dfTumorCNV[dfTumorCNV.chrom==c], values='mBAFCount', index=['fittedBAFPeak'], columns=['fittedCNVPeak'], aggfunc='sum',margins=True).fillna(\"\")"
   ]
  },
  {
   "cell_type": "code",
   "execution_count": null,
   "metadata": {
    "collapsed": false
   },
   "outputs": [],
   "source": [
    "#&(dfSomatic['inPON']==False\n",
    "c,fractionMin,fractionMax = 12,0,1\n",
    "dfSom = dfSomatic[(dfSomatic['variantType']==\"SNP\")&(dfSomatic['consensus']==True)&(dfSomatic['inPON']==False)&(dfSomatic.chromFrac>c+fractionMin)&(dfSomatic.chromFrac<c+fractionMax)]\n",
    "AFByPosPlot(dfSom.chromFrac, dfSom.meltedAF,c+fractionMin, c+fractionMax)"
   ]
  },
  {
   "cell_type": "code",
   "execution_count": null,
   "metadata": {
    "collapsed": false
   },
   "outputs": [],
   "source": [
    "X = dfSom.meltedAF.sort_values()[:, np.newaxis]\n",
    "X_plot = np.linspace(0,1,100)[:, np.newaxis]\n",
    "kde = KernelDensity(kernel='gaussian', bandwidth=0.015).fit(X)\n",
    "log_dens = kde.score_samples(X_plot)\n",
    "pdfChart(log_dens)\n",
    "findPeaks(log_dens,1)"
   ]
  },
  {
   "cell_type": "markdown",
   "metadata": {},
   "source": [
    "### Fitting"
   ]
  },
  {
   "cell_type": "code",
   "execution_count": null,
   "metadata": {
    "collapsed": false
   },
   "outputs": [],
   "source": [
    "def fitCNVPurity(tumorCNV,CNVRatioWeightFactor,minPurity,maxPurity,\n",
    "                 stepsPurity,minCNVNormFactor,maxCNVNormFactor,stepsCNVNormFactor):\n",
    "    fitResults = []\n",
    "    for purity in np.linspace(minPurity,maxPurity,stepsPurity):\n",
    "        for CNVNormalisationFactor in np.linspace(minCNVNormFactor,maxCNVNormFactor,stepsCNVNormFactor):\n",
    "            modelDeviation = 0\n",
    "            for i in range(0, len(tumorCNV)):\n",
    "                if tumorCNV[i][1] > 0 and  tumorCNV[i][2] >= 0 : #\n",
    "                    # Should also correct for mBAF < 0.5\n",
    "                    minDeviation,bestFittedBAF,fittedPloidy = 1e9,0,0   #reset variables\n",
    "                    for ploidy in range(1,10):\n",
    "                        modelCNVratio = CNVNormalisationFactor + (ploidy-2)*purity*CNVNormalisationFactor/2\n",
    "                        CNVDeviation = ploidy/2.0*CNVRatioWeightFactor*abs(modelCNVratio-tumorCNV[i][3])  #OR TUMOR RATIO???\n",
    "                        for BAF in range(int(math.ceil(ploidy/2.0)),ploidy+1):\n",
    "                            modelBAF = (1+purity*(BAF-1))/(2+purity*(ploidy-2))\n",
    "                            if minDeviation > (abs(modelBAF-tumorCNV[i][0]) + CNVDeviation):\n",
    "                                minDeviation = (abs(modelBAF-tumorCNV[i][0]) + CNVDeviation)\n",
    "                                bestFittedBAF = modelBAF\n",
    "                                fittedPloidy = ploidy\n",
    "                    modelDeviation = modelDeviation + tumorCNV[i][1]*minDeviation\n",
    "            #print purity,CNVNormalisationFactor, modelDeviation\n",
    "            fitResults.append([purity,CNVNormalisationFactor, modelDeviation])\n",
    "    dfFitOutput = pd.DataFrame(sorted(fitResults, key=lambda x: x[2]))\n",
    "    dfFitOutput.columns = [\"purity\",\"NormFactor\",'score']\n",
    "    return dfFitOutput"
   ]
  },
  {
   "cell_type": "code",
   "execution_count": null,
   "metadata": {
    "collapsed": false
   },
   "outputs": [],
   "source": [
    "fitCNVPurity(dfTumorCNV[['mBAF','mBAFCount','tumorRatio','ratioOfRatio']].values.tolist(),0.2,0.2,1.0,21,0.5,1.2,15)"
   ]
  },
  {
   "cell_type": "code",
   "execution_count": null,
   "metadata": {
    "collapsed": false,
    "scrolled": false
   },
   "outputs": [],
   "source": [
    "CNVRatioWeightFactor = 0.2\n",
    "fitResults = []\n",
    "for purity in np.linspace(0.2,0.9,8):\n",
    "    for CNVNormalisationFactor in np.linspace(0.65,1.05,9):\n",
    "        modelDeviation = 0\n",
    "        for i in range(1, dfTumorCNV.shape[0]-1):\n",
    "            if dfTumorCNV.iloc[i].mBAFCount > 0 and  dfTumorCNV.iloc[i].tumorRatio >= 0 : #\n",
    "                # Should also correct for mBAF < 0.5\n",
    "                minDeviation,bestFittedBAF,fittedPloidy = 1e9,0,0   #reset variables\n",
    "                for ploidy in range(1,10):\n",
    "                    modelCNVratio = CNVNormalisationFactor + (ploidy-2)*purity*CNVNormalisationFactor/2\n",
    "                    CNVDeviation = ploidy/2.0*CNVRatioWeightFactor*abs(modelCNVratio-dfTumorCNV.iloc[i].ratioOfRatio)  #OR TUMOR RATIO???\n",
    "                    for BAF in range(int(math.ceil(ploidy/2.0)),ploidy+1):\n",
    "                        if BAF/ploidy == 0.5:\n",
    "                            modelBAF = 0.533\n",
    "                        else:\n",
    "                            modelBAF = (1+purity*(BAF-1))/(2+purity*(ploidy-2))\n",
    "                        if minDeviation > (abs(modelBAF-dfTumorCNV.iloc[i].mBAF) + CNVDeviation):\n",
    "                            minDeviation = (abs(modelBAF-dfTumorCNV.iloc[i].mBAF) + CNVDeviation)\n",
    "                            bestFittedBAF = modelBAF\n",
    "                            fittedPloidy = ploidy\n",
    "                #print bestFittedBAF,fittedPloidy,dfTumorCNV.iloc[i].mBAF,dfTumorCNV.iloc[i].mBAFCount,minDeviation\n",
    "                modelDeviation = modelDeviation + dfTumorCNV.iloc[i].mBAFCount*minDeviation\n",
    "        print purity,CNVNormalisationFactor, modelDeviation\n",
    "        fitResults.append([purity,CNVNormalisationFactor, modelDeviation])\n",
    "dfFitOutput = pd.DataFrame(sorted(fitResults, key=lambda x: x[2]))\n",
    "dfFitOutput.columns = [\"purity\",\"NormFactor\",'score']\n",
    "dfFitOutput"
   ]
  },
  {
   "cell_type": "code",
   "execution_count": null,
   "metadata": {
    "collapsed": false
   },
   "outputs": [],
   "source": [
    "dfTumorCNV.head()"
   ]
  },
  {
   "cell_type": "code",
   "execution_count": null,
   "metadata": {
    "collapsed": false,
    "scrolled": false
   },
   "outputs": [],
   "source": [
    "dfSomatic[(dfSomatic['variantType']==\"SNP\")&(dfSomatic['consensus']==True)&(dfSomatic['inPON']==False)&(dfSomatic.annGene<>'')&((dfSomatic.annWorstImpact=='MODERATE'))]"
   ]
  },
  {
   "cell_type": "code",
   "execution_count": null,
   "metadata": {
    "collapsed": false
   },
   "outputs": [],
   "source": [
    "pd.pivot_table(dfSomatic[dfSomatic.consensus == True], values='pos', index=['patientName','variantType','vennSegment'], columns=['inPON'], aggfunc='count',margins=False).fillna(\"\")"
   ]
  },
  {
   "cell_type": "code",
   "execution_count": null,
   "metadata": {
    "collapsed": false,
    "scrolled": true
   },
   "outputs": [],
   "source": [
    "pd.pivot_table(dfSomatic[dfSomatic.consensus == True], values='pos', index=['patientName','variantType','vennSegment'], columns=['inPON'], aggfunc='count',margins=False).fillna(\"\")"
   ]
  },
  {
   "cell_type": "code",
   "execution_count": null,
   "metadata": {
    "collapsed": true
   },
   "outputs": [],
   "source": []
  }
 ],
 "metadata": {
  "kernelspec": {
   "display_name": "Python 2",
   "language": "python",
   "name": "python2"
  },
  "language_info": {
   "codemirror_mode": {
    "name": "ipython",
    "version": 2
   },
   "file_extension": ".py",
   "mimetype": "text/x-python",
   "name": "python",
   "nbconvert_exporter": "python",
   "pygments_lexer": "ipython2",
   "version": "2.7.10"
  }
 },
 "nbformat": 4,
 "nbformat_minor": 0
}
