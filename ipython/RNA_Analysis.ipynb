{
 "cells": [
  {
   "cell_type": "code",
   "execution_count": null,
   "metadata": {
    "collapsed": false
   },
   "outputs": [],
   "source": [
    "import os\n",
    "import pandas as pd\n",
    "import numpy as np\n",
    "import copy\n",
    "import sys\n",
    "import matplotlib.pyplot as plt\n",
    "%matplotlib inline\n",
    "pd.set_option('display.max_rows', 50)\n",
    "pd.set_option('display.max_columns', 50)\n",
    "sys.path.append(\"/Users/peterpriestley/hmf/repos/scripts/analysisscripts\") \n",
    "import chromosomeDefinition as cd\n",
    "import analyseVCF as aVCF\n",
    "from scipy.stats import norm\n",
    "from sklearn.neighbors import KernelDensity"
   ]
  },
  {
   "cell_type": "code",
   "execution_count": null,
   "metadata": {
    "collapsed": true
   },
   "outputs": [],
   "source": [
    "CNV_COLUMNS = ['chrom','posStart','posEnd','copyNum','gainOrLoss','BAF','score','germlineOrSomatic','oneOrZero']"
   ]
  },
  {
   "cell_type": "code",
   "execution_count": null,
   "metadata": {
    "collapsed": false
   },
   "outputs": [],
   "source": [
    "# LOAD BED\n",
    "BED_PATH = \"/Users/peterpriestley/hmf/analyses/giabTruthsets/\"\n",
    "BED_FILE_NAME = \"NA12878_GIAB_highconf_IllFB-IllGATKHC-CG-Ion-Solid_ALLCHROM_v3.2.2_highconf.bed\"\n",
    "BED_PATH = \"/Users/peterpriestley/hmf/analyses/slices/\"\n",
    "BED_FILE_NAME = \"exons_UCSC_autosomes.bed\"\n",
    "#BED_FILE_NAME = \"CPCT_Slicing.bed\"\n",
    "USE_BED = True\n",
    "LOAD_FULL_FILE = False"
   ]
  },
  {
   "cell_type": "code",
   "execution_count": null,
   "metadata": {
    "collapsed": true
   },
   "outputs": [],
   "source": [
    "bed = aVCF.loadBEDFile(BED_PATH,BED_FILE_NAME)"
   ]
  },
  {
   "cell_type": "markdown",
   "metadata": {},
   "source": [
    "### FUNCTIONS"
   ]
  },
  {
   "cell_type": "code",
   "execution_count": null,
   "metadata": {
    "collapsed": false
   },
   "outputs": [],
   "source": [
    "def findFiles(path,suffix):\n",
    "    files=[]\n",
    "    for x in os.listdir(path):\n",
    "        if x[-len(suffix):] == suffix:\n",
    "            files.append(x)\n",
    "    return files"
   ]
  },
  {
   "cell_type": "code",
   "execution_count": null,
   "metadata": {
    "collapsed": false
   },
   "outputs": [],
   "source": [
    "def loadCNVforPatient(cnvFile,patientName):\n",
    "    dfCNV = pd.read_table(cnvFile, names = CNV_COLUMNS )\n",
    "    #add regions with default copy number\n",
    "    last = dfCNV.iloc[0]\n",
    "    for i in range(1, dfCNV.shape[0]-1):\n",
    "        if last['posEnd']<>dfCNV.iloc[i]['posStart']:\n",
    "            if last['chrom']==dfCNV.iloc[i]['chrom']:\n",
    "                dfCNV.loc[len(dfCNV)] = [last['chrom'],last['posEnd'], dfCNV.iloc[i]['posStart']-1,2,'none','','',0,0]\n",
    "            else:\n",
    "                dfCNV.loc[len(dfCNV)] = [last['chrom'],last['posEnd'], cd.chromosomeLength[last['chrom']],2,'none','','',0,0]\n",
    "                if dfCNV.iloc[i]['posStart']<>0:\n",
    "                    dfCNV.loc[len(dfCNV)] = [dfCNV.iloc[i]['chrom'],0, dfCNV.iloc[i]['posStart'],2,'none','','',0,0]\n",
    "        last = dfCNV.iloc[i]\n",
    "    #fix first record\n",
    "    if dfCNV.iloc[0]['posStart']<>0:\n",
    "        dfCNV.loc[len(dfCNV)] = ['1',0, dfCNV.iloc[0]['posStart'],2,'none','','',0,0]\n",
    "    #Additional Fields\n",
    "    dfCNV['chromPos']= dfCNV['chrom'].apply(lambda x: cd.intChrom(x)) + dfCNV['posStart'] / dfCNV['chrom'].apply(lambda x: cd.chromosomeLength[str(x)])\n",
    "    dfCNV['chrom'] = dfCNV['chrom'].apply(lambda x: cd.intChrom(x))\n",
    "    dfCNV['cappedCopyNum'] = dfCNV['copyNum'].clip(upper=5)\n",
    "    dfCNV = dfCNV.sort_values([\"chrom\",\"posStart\",\"posEnd\"]).reset_index()\n",
    "    dfCNV['regionLength'] = (dfCNV['posEnd']-dfCNV['posStart'])\n",
    "    dfCNV['patientName']=patientName\n",
    "    return dfCNV"
   ]
  },
  {
   "cell_type": "code",
   "execution_count": null,
   "metadata": {
    "collapsed": true
   },
   "outputs": [],
   "source": [
    "def calculateMBAFBetween(chrom,minPos,maxPos):\n",
    "    dftemp = dfBAF[(dfBAF.Chromosome==chrom)&(dfBAF.Position>minPos)&(dfBAF.Position<maxPos)]\n",
    "    return dftemp['mBAF'].median(),dftemp['mBAF'].count()"
   ]
  },
  {
   "cell_type": "code",
   "execution_count": null,
   "metadata": {
    "collapsed": true
   },
   "outputs": [],
   "source": [
    "def loadBAFData(bafFile):\n",
    "    df = pd.read_table(bafFile)\n",
    "    return df"
   ]
  },
  {
   "cell_type": "code",
   "execution_count": null,
   "metadata": {
    "collapsed": false
   },
   "outputs": [],
   "source": [
    "def cnvChart(dfCNV,filename,minChrom=1,maxChrom=23):\n",
    "    plt.figure(figsize=[18,3])\n",
    "    plt.title(filename)\n",
    "    ax = plt.gca()\n",
    "    ax.plot(dfCNV['chromPos'], dfCNV['copyNum'],drawstyle=\"steps-post\")\n",
    "    ax.axis([minChrom, maxChrom, 0, 6])\n",
    "       "
   ]
  },
  {
   "cell_type": "code",
   "execution_count": null,
   "metadata": {
    "collapsed": false
   },
   "outputs": [],
   "source": [
    "def cnvLabel(copyNumber):\n",
    "    if copyNumber < 2:\n",
    "        return 'loss'\n",
    "    elif copyNumber > 2:\n",
    "        return 'amplification'\n",
    "    else:\n",
    "        return'normal'"
   ]
  },
  {
   "cell_type": "code",
   "execution_count": null,
   "metadata": {
    "collapsed": false
   },
   "outputs": [],
   "source": [
    "def createBAF(dfGermline):\n",
    "    dfBAF = dfGermline[(dfGermline['variantType']==\"SNP\")&(dfGermline['normalSGT']==\"0/1\")&(dfGermline['normalAF']>0.4) \\\n",
    "                   &(dfGermline['normalAF']<0.65)&(dfGermline['normalDP']>30)&\\\n",
    "                   (dfGermline['normalDP']<100)][['chrom','pos','tumorAF']]\n",
    "    dfBAF.columns = ['Chromosome', 'Position','BAF']\n",
    "    dfBAF['Position'] = pd.to_numeric(dfBAF['Position'])\n",
    "    dfBAF['mBAF']= 0.5+abs(dfBAF['BAF']-0.5)\n",
    "    dfBAF['chromPos']= dfBAF['Chromosome'].apply(lambda x: cd.intChrom(x)) + dfBAF['Position'] / dfBAF['Chromosome'].apply(lambda x: cd.chromosomeLength[str(x)])\n",
    "    dfBAF['Chromosome']= dfBAF['Chromosome'].apply(lambda x: cd.intChrom(x))\n",
    "    return dfBAF"
   ]
  },
  {
   "cell_type": "code",
   "execution_count": null,
   "metadata": {
    "collapsed": true
   },
   "outputs": [],
   "source": [
    "def patientIDFromFilename(filename,findKey):\n",
    "    patientIDStart = filename.find(findKey)   #\n",
    "    return filename[patientIDStart:patientIDStart+12]\n",
    "    #return \"GIAB12878\""
   ]
  },
  {
   "cell_type": "code",
   "execution_count": null,
   "metadata": {
    "collapsed": false
   },
   "outputs": [],
   "source": [
    "def germlineVCFSampleNames(filename,patientID):\n",
    "    return {patientID+'R':'normal',patientID+'T':'tumor'}"
   ]
  },
  {
   "cell_type": "code",
   "execution_count": null,
   "metadata": {
    "collapsed": false
   },
   "outputs": [],
   "source": [
    "def loadVCF(path,filename,sampleNames,patientID,bedPath,bedFileName):\n",
    "    df = pd.DataFrame()\n",
    "    if USE_BED:\n",
    "        bed = aVCF.loadBEDFile(bedPath,bedFileName)\n",
    "        return pd.concat([df,aVCF.loadVariantsFromVCF(path,filename,sampleNames,patientID,True,True,bed,LOAD_FULL_FILE)])\n",
    "    else:\n",
    "        return pd.concat([df,aVCF.loadVariantsFromVCF(path,filename,sampleNames,patientID,True)])"
   ]
  },
  {
   "cell_type": "code",
   "execution_count": null,
   "metadata": {
    "collapsed": true
   },
   "outputs": [],
   "source": [
    "def AFByPosPlot(pos,AF,startChartPos,endChartPos,maxY=1.0,height=5):\n",
    "    plt.figure(figsize=[18,height])\n",
    "    plt.scatter(pos, AF)\n",
    "    plt.grid(b=True, which='both', color='0.65',linestyle='-')\n",
    "    plt.axis([startChartPos, endChartPos,0, maxY])\n",
    "    plt.show()"
   ]
  },
  {
   "cell_type": "code",
   "execution_count": null,
   "metadata": {
    "collapsed": true
   },
   "outputs": [],
   "source": [
    "def loadPON(aPath,aPONFile):\n",
    "    myPON = []\n",
    "    with open(aPath + aPONFile, 'r') as f:\n",
    "        for line in f:\n",
    "            line = line.strip('\\n')\n",
    "            splitLine = line.split('\\t')\n",
    "            myPON.append(splitLine)\n",
    "    dfPON = pd.DataFrame(myPON)\n",
    "    dfPON.columns = ['chrom','pos','ref','alt','PONCount']\n",
    "    return dfPON"
   ]
  },
  {
   "cell_type": "code",
   "execution_count": null,
   "metadata": {
    "collapsed": true
   },
   "outputs": [],
   "source": [
    "def findPeaks(log_dens):\n",
    "    peaks = []\n",
    "    troughs = []\n",
    "    dens=np.exp(log_dens)\n",
    "    diff = [dens[x] - dens[x-1] for x in range(1,len(dens))]\n",
    "    for i in range (len(diff)-1):\n",
    "        if diff[i+1] < 0 and diff[i] > 0:\n",
    "            peaks.append(float(i+1)/len(dens))\n",
    "        if diff[i+1] > 0 and diff[i] < 0:\n",
    "            troughs.append(float(i+1)/len(dens))\n",
    "    return peaks, troughs"
   ]
  },
  {
   "cell_type": "code",
   "execution_count": null,
   "metadata": {
    "collapsed": true
   },
   "outputs": [],
   "source": [
    "def pdfChart(log_dens,maxYValue=8):\n",
    "    fig, ax = plt.subplots()\n",
    "    ax.plot(X_plot[:, 0], np.exp(log_dens), '-',label=\"kernel = '{0}'\".format('gaussian'))\n",
    "    ax.legend(loc='upper right')\n",
    "    fig.set_figwidth(10)\n",
    "    fig.set_figheight(5)\n",
    "    ax.set_xlim(0, 1)\n",
    "    ax.set_ylim(-0.02, maxYValue)\n",
    "    ax.grid(b=True, which='both', color='0.65',linestyle='-')\n",
    "    plt.show()"
   ]
  },
  {
   "cell_type": "code",
   "execution_count": null,
   "metadata": {
    "collapsed": true
   },
   "outputs": [],
   "source": [
    "def calculateSomaticCNV(dfTumorCNV):\n",
    "    lastSomaticCopyNum = 2\n",
    "    dfTumorCNV['copyNumSomatic']= dfTumorCNV['copyNum']\n",
    "    for i in range(1, dfTumorCNV.shape[0]-1):\n",
    "        if dfTumorCNV.iloc[i].germlineOrSomatic==\"germline\":\n",
    "                dfTumorCNV.ix[i,'copyNumSomatic'] = lastSomaticCopyNum\n",
    "        elif dfTumorCNV.iloc[i].germlineOrSomatic==\"somatic\"  or dfTumorCNV.iloc[i].germlineOrSomatic==\"-\":  \n",
    "            lastSomaticCopyNum = dfTumorCNV.ix[i,'copyNumSomatic']\n",
    "    return dfTumorCNV"
   ]
  },
  {
   "cell_type": "markdown",
   "metadata": {},
   "source": [
    "### LOAD PON"
   ]
  },
  {
   "cell_type": "code",
   "execution_count": null,
   "metadata": {
    "collapsed": false
   },
   "outputs": [],
   "source": [
    "# Only needs to be run once\n",
    "#dfPON2 = loadPON(\"/Users/peterpriestley/hmf/analyses/PON/779filePON/\",\"PON.tsv\")"
   ]
  },
  {
   "cell_type": "code",
   "execution_count": null,
   "metadata": {
    "collapsed": false
   },
   "outputs": [],
   "source": [
    "#def loadPONvcf(PONFile):\n",
    "#    numHeaderRows = 0\n",
    "#    with open(PONFile) as fp:\n",
    "#        while fp.readline()[0]=='#':\n",
    "#            numHeaderRows = numHeaderRows+1\n",
    "#    dfPON = pd.read_table(PONFile,skiprows =numHeaderRows-1, dtype={'#CHROM':'str','POS':'str'})  #names = CNV_COLUMNS\n",
    "#    dfPON['PON_COUNT'] = dfPON['INFO'].apply(lambda x: x.split('=')[1])\n",
    "#    dfPON.rename(columns={'#CHROM': 'chrom', 'POS': 'pos','REF':'ref','ALT':'alt'}, inplace=True)\n",
    "#    return dfPON\n",
    "#\n",
    "#dfPON = loadPONvcf(\"/Users/peterpriestley/hmf/analyses/PON/PON.vcf\")"
   ]
  },
  {
   "cell_type": "markdown",
   "metadata": {},
   "source": [
    "### FIND ALL FILES"
   ]
  },
  {
   "cell_type": "code",
   "execution_count": null,
   "metadata": {
    "collapsed": true
   },
   "outputs": [],
   "source": [
    "PATH = \"/Users/peterpriestley/hmf/analyses/RNA/\""
   ]
  },
  {
   "cell_type": "code",
   "execution_count": null,
   "metadata": {
    "collapsed": false
   },
   "outputs": [],
   "source": [
    "#germlineVCFFilename = findFiles(PATH,\"SLICED.vcf\")[0]\n",
    "rnaVCFFilename = findFiles(PATH,\"0011_AHTYKLBGX2.filtered_variants_snpEff_snpSift.vcf\")[0]\n",
    "somaticVCFFilename = findFiles(PATH,\"_germline_exon_filtered.vcf\")[5]\n",
    "patientID = patientIDFromFilename(somaticVCFFilename,\"CPCT0\")\n",
    "#cnvFilename = findFiles(PATH,\"gz_CNVs\")[0]\n",
    "print \"rna =\",rnaVCFFilename\n",
    "print \"somatic =\",somaticVCFFilename\n",
    "print \"patient =\",patientID\n",
    "#print \"CNV =\",cnvFilename"
   ]
  },
  {
   "cell_type": "markdown",
   "metadata": {},
   "source": [
    "### LOAD VCFS"
   ]
  },
  {
   "cell_type": "code",
   "execution_count": null,
   "metadata": {
    "collapsed": false
   },
   "outputs": [],
   "source": [
    "dfRNA = loadVCF(PATH,rnaVCFFilename,{patientID+'T':'RNA'},patientID,BED_PATH,BED_FILE_NAME)\n",
    "dfRNA = dfRNA[dfRNA.variantType  <> 'Missing Genotype']"
   ]
  },
  {
   "cell_type": "code",
   "execution_count": null,
   "metadata": {
    "collapsed": false
   },
   "outputs": [],
   "source": [
    "#LOAD VCFS\n",
    "dfSomatic = loadVCF(PATH,somaticVCFFilename,{patientID+'T':'melted'},patientID,BED_PATH,BED_FILE_NAME)"
   ]
  },
  {
   "cell_type": "code",
   "execution_count": null,
   "metadata": {
    "collapsed": false
   },
   "outputs": [],
   "source": [
    "# APPLY PON to SOMATICs\n",
    "#dfSomatic['alt'] = dfSomatic['meltedallele']\n",
    "#dfSomatic = pd.merge(dfSomatic,dfPON,how='left', on=['chrom','pos','ref','alt'])\n",
    "#dfSomatic['PON_COUNT'].fillna(0, inplace=True)\n",
    "#dfSomatic['inPON'] = pd.to_numeric(dfSomatic.PON_COUNT,errors=coerce)>4"
   ]
  },
  {
   "cell_type": "markdown",
   "metadata": {},
   "source": [
    "### RNA ANALYSIS"
   ]
  },
  {
   "cell_type": "code",
   "execution_count": null,
   "metadata": {
    "collapsed": false
   },
   "outputs": [],
   "source": [
    "dfSomatic = pd.merge(dfSomatic,dfRNA[['chrom','pos','ref','RNAallele','RNADP','RNAAF']],how='left', on=['chrom','pos','ref'])"
   ]
  },
  {
   "cell_type": "code",
   "execution_count": null,
   "metadata": {
    "collapsed": false
   },
   "outputs": [],
   "source": [
    "dfSomatic['RNADP'].fillna(-1.0, inplace=True)\n",
    "dfSomatic['inRNA'] = ~pd.isnull(dfSomatic.RNAAF)\n",
    "dfSomatic['sameAllele'] = (dfSomatic.RNAallele == dfSomatic.meltedallele)"
   ]
  },
  {
   "cell_type": "code",
   "execution_count": null,
   "metadata": {
    "collapsed": false
   },
   "outputs": [],
   "source": [
    "pd.pivot_table(dfSomatic[dfSomatic.RNADP > 2], values='pos', index=['variantType'], columns=['inRNA'], aggfunc='count',margins=False).fillna(\"\")"
   ]
  },
  {
   "cell_type": "code",
   "execution_count": null,
   "metadata": {
    "collapsed": false
   },
   "outputs": [],
   "source": [
    "pd.pivot_table(dfRNA[dfRNA.RNADP > 5], values='pos', index=['variantType'], columns=['filter'], aggfunc='count',margins=False).fillna(\"\")"
   ]
  },
  {
   "cell_type": "code",
   "execution_count": null,
   "metadata": {
    "collapsed": false
   },
   "outputs": [],
   "source": [
    "\n",
    "plt.figure(figsize=[18,4])\n",
    "\n",
    "plt.hist(dfRNA[(dfRNA.RNADP >0)&(dfRNA.RNADP < 100)&(dfRNA.variantType == 'SNP')&(dfRNA.chromFrac<23)][\"RNADP\"].values,bins=100)\n",
    "plt.legend()\n",
    "plt.show()"
   ]
  },
  {
   "cell_type": "code",
   "execution_count": null,
   "metadata": {
    "collapsed": false
   },
   "outputs": [],
   "source": [
    "ser = dfSomatic[(dfSomatic.variantType == 'SNP')&(dfSomatic.chromFrac<23)][\"meltedDP\"].sort_values()\n",
    "cum_dist = np.linspace(0.,1.,len(ser))\n",
    "ser_cdf = pd.Series(cum_dist, index=ser,name=\"melted DP\")\n",
    "ser_cdf.plot(drawstyle='steps',legend=True,title=\"CDF of melted DP (Exome only)\",figsize=[13,3],xlim=[50,150],ylim=[0.0,1.0])"
   ]
  },
  {
   "cell_type": "code",
   "execution_count": null,
   "metadata": {
    "collapsed": false
   },
   "outputs": [],
   "source": [
    "pd.to_numeric(dfRNA['RNADP'], errors='coerce').mean()"
   ]
  },
  {
   "cell_type": "code",
   "execution_count": null,
   "metadata": {
    "collapsed": false
   },
   "outputs": [],
   "source": [
    "ser = dfRNA[(dfRNA.RNADP >0)&(dfRNA.variantType == 'SNP')&(dfRNA.chromFrac<23)][\"RNADP\"].sort_values()\n",
    "cum_dist = np.linspace(0.,1.,len(ser))\n",
    "ser_cdf = pd.Series(cum_dist, index=ser,name=\"RNA DP, count=\"+str(len(ser)))\n",
    "ser_cdf.plot(drawstyle='steps',legend=True,title=\"CDF of RNA DP (Exome only)\",figsize=[13,3],xlim=[0.0,100],ylim=[0.0,1.0])"
   ]
  },
  {
   "cell_type": "markdown",
   "metadata": {},
   "source": [
    "### TUMOR PURITY"
   ]
  },
  {
   "cell_type": "code",
   "execution_count": null,
   "metadata": {
    "collapsed": false
   },
   "outputs": [],
   "source": [
    "c, fractionMin, fractionMax = 1,0,22\n",
    "dfSom = dfBAF[(dfBAF.chromPos>c+fractionMin)&(dfBAF.chromPos<c+fractionMax)]\n",
    "plt.figure(figsize=[18,5])\n",
    "plt.scatter(dfSom.chromPos, dfSom.BAF)\n",
    "plt.grid(b=True, which='both', color='0.65',linestyle='-')\n",
    "plt.axis([c+fractionMin, c+fractionMax,0, 1.0])\n",
    "plt.show()\n",
    "# CNV according to freeC\n",
    "plt.figure(figsize=[5,2])\n",
    "plt.hist(dfCNV['copyNum'].values,cumulative=False, normed=True, bins=20,range=(0,10),weights=dfCNV['regionLength'].values)\n",
    "plt.show()\n",
    "# should only use regions with mbaf > x\n",
    "dftemp = dfCNV[(dfCNV.mBAF>=0.0)&(dfCNV.mBAF<=1.0)&(dfCNV.mBAFCount>20)&(dfCNV.chromPos<=c+fractionMax)&(dfCNV.chromPos>=c+fractionMin)]\n",
    "plt.figure(figsize=[18,5])\n",
    "for CNV in range(0,6):\n",
    "    plt.hist(dftemp[(dftemp.copyNum==CNV)]['mBAF'].values,cumulative=False, normed=False, bins=50,range=(0.5,1.0),weights=dftemp[(dftemp.copyNum==CNV)]['mBAFCount'].values,stacked = True,rwidth=0.8,label='CNV ='+str(CNV))\n",
    "    plt.legend()\n",
    "plt.show()"
   ]
  },
  {
   "cell_type": "code",
   "execution_count": null,
   "metadata": {
    "collapsed": false
   },
   "outputs": [],
   "source": [
    "dfCNV[(dfCNV.chrom==15)&(dfCNV.mBAFCount>=100)&(dfCNV.copyNum>=1)&(dfCNV.mBAF>=0.50)&(dfCNV.mBAF<=10.63)]"
   ]
  },
  {
   "cell_type": "markdown",
   "metadata": {},
   "source": [
    "### SOMATIC AF"
   ]
  },
  {
   "cell_type": "code",
   "execution_count": null,
   "metadata": {
    "collapsed": false,
    "scrolled": false
   },
   "outputs": [],
   "source": [
    "#dfSomatic[(dfSomatic.inPON==False)&(dfSomatic.consensus==True)&(dfSomatic.bedRegion<>\"A\")&((dfSomatic.annWorstImpact=='MODERATE')|(dfSomatic.annWorstImpact=='HIGH'))]"
   ]
  },
  {
   "cell_type": "code",
   "execution_count": null,
   "metadata": {
    "collapsed": false
   },
   "outputs": [],
   "source": [
    "pd.pivot_table(dfSomatic[(dfSomatic.variantType == 'SNP')&(dfSomatic.consensus == True)&(dfSomatic.inPON == False)], values='pos', index=['ref'], columns=['meltedallele'], aggfunc='count',margins=True).fillna(\"\")"
   ]
  },
  {
   "cell_type": "code",
   "execution_count": null,
   "metadata": {
    "collapsed": false
   },
   "outputs": [],
   "source": [
    "c,fractionMin,fractionMax = 1,0,22\n",
    "dfSom = dfSomatic[(dfSomatic['variantType']==\"SNP\")&(dfSomatic['inDBSNP']==True)&(dfSomatic['consensus']==True)&(dfSomatic.chromFrac>c+fractionMin)&(dfSomatic.chromFrac<c+fractionMax)]\n",
    "AFByPosPlot(dfSom.chromFrac, dfSom.meltedAF,c+fractionMin, c+fractionMax,1)"
   ]
  },
  {
   "cell_type": "code",
   "execution_count": null,
   "metadata": {
    "collapsed": false
   },
   "outputs": [],
   "source": [
    "c,fractionMin,fractionMax = 1,0,22\n",
    "dfSom = dfSomatic[(dfSomatic['variantType']==\"SNP\")&(dfSomatic['inDBSNP']==False)&(dfSomatic['consensus']==True)&(dfSomatic.chromFrac>c+fractionMin)&(dfSomatic.chromFrac<c+fractionMax)]\n",
    "AFByPosPlot(dfSom.chromFrac, dfSom.meltedAF,c+fractionMin, c+fractionMax,1)"
   ]
  },
  {
   "cell_type": "code",
   "execution_count": null,
   "metadata": {
    "collapsed": false
   },
   "outputs": [],
   "source": [
    "for inDBSNP in dfSomatic.inDBSNP.unique():\n",
    "    ser = dfSomatic[(dfSomatic.inDBSNP == inDBSNP)&(dfSomatic.chromFrac<23)&(dfSomatic.consensus==True)][\"meltedAF\"].sort_values()\n",
    "    cum_dist = np.linspace(0.,1.,len(ser))\n",
    "    ser_cdf = pd.Series(cum_dist, index=ser,name=inDBSNP)\n",
    "    ser_cdf.plot(drawstyle='steps',legend=True,title=\"AF by inDBSNP\",figsize=[13,3],xlim=[0.0,0.5],ylim=[0.0,1.0])"
   ]
  },
  {
   "cell_type": "code",
   "execution_count": null,
   "metadata": {
    "collapsed": false
   },
   "outputs": [],
   "source": [
    "AFByPosPlot(dfSom.meltedDP, dfSom.meltedAF,0, 300,1.0,3)"
   ]
  },
  {
   "cell_type": "code",
   "execution_count": null,
   "metadata": {
    "collapsed": false,
    "scrolled": false
   },
   "outputs": [],
   "source": [
    "c,fractionMin,fractionMax = 1,0,22\n",
    "dfTemp = dfBAF[(dfBAF.chromPos>c+fractionMin)&(dfBAF.chromPos<c+fractionMax)]\n",
    "AFByPosPlot(dfTemp.chromPos, dfTemp.BAF,c+fractionMin, c+fractionMax)\n",
    "dfSom = dfSomatic[(dfSomatic['variantType']==\"SNP\")&(dfSomatic['inPON']==False)&(dfSomatic['inDBSNP']==False)&(dfSomatic['consensus']==True)&(dfSomatic.chromFrac>c+fractionMin)&(dfSomatic.chromFrac<c+fractionMax)]\n",
    "AFByPosPlot(dfSom.chromFrac, dfSom.meltedAF,c+fractionMin, c+fractionMax,1)\n",
    "\n",
    "#CDF\n",
    "ser = dfSom.meltedAF.sort_values()\n",
    "cum_dist = np.linspace(0.,1.,len(ser))\n",
    "ser_cdf = pd.Series(cum_dist, index=ser,name=\": c=\"+str(ser.count())+\" m=\"+str(round(ser.median(),2)))\n",
    "ser_cdf.plot(drawstyle='steps',legend=True,title=\" Allelic Frequency by \",figsize=[15,6],xlim=[0.0,0.7])\n",
    "\n",
    "#mbaf\n",
    "dfCNV[(dfCNV.chromPos>c+fractionMin)&(dfCNV.chromPos<c+fractionMax)&(dfCNV.mBAFCount>500)][['chrom','posStart','copyNum','chromPos','regionLength','mBAF','mBAFCount']]\n",
    "\n",
    "###PEAK\n",
    "X = dfSom.meltedAF.sort_values()[:, np.newaxis]\n",
    "X_plot = np.linspace(0,1,100)[:, np.newaxis]\n",
    "kde = KernelDensity(kernel='gaussian', bandwidth=0.02).fit(X)\n",
    "log_dens = kde.score_samples(X_plot)\n",
    "#pdfChart(log_dens)\n",
    "findPeaks(log_dens)"
   ]
  },
  {
   "cell_type": "markdown",
   "metadata": {
    "collapsed": true
   },
   "source": [
    "### SV ANALYSIS"
   ]
  },
  {
   "cell_type": "code",
   "execution_count": null,
   "metadata": {
    "collapsed": true
   },
   "outputs": [],
   "source": [
    "patientID=\"CPCT02070138\""
   ]
  },
  {
   "cell_type": "code",
   "execution_count": null,
   "metadata": {
    "collapsed": false
   },
   "outputs": [],
   "source": [
    "svVCFFilename = findFiles(PATH,\"somaticSV.vcf\")[0]\n",
    "print \"SV =\",svVCFFilename\n",
    "print \"patient =\",patientID"
   ]
  },
  {
   "cell_type": "code",
   "execution_count": null,
   "metadata": {
    "collapsed": true
   },
   "outputs": [],
   "source": [
    "SV_BED_PATH = \"/Users/peterpriestley/hmf/analyses/slices/\"\n",
    "SV_BED_FILE_NAME = \"cosmicCancerCensus.bed\"\n",
    "#BED_FILE_NAME = \"exon6.bed\""
   ]
  },
  {
   "cell_type": "code",
   "execution_count": null,
   "metadata": {
    "collapsed": false
   },
   "outputs": [],
   "source": [
    "dfSV = loadVCF(PATH,svVCFFilename,{patientID+'T':'tumor'},patientID,SV_BED_PATH,SV_BED_FILE_NAME)"
   ]
  },
  {
   "cell_type": "code",
   "execution_count": null,
   "metadata": {
    "collapsed": false
   },
   "outputs": [],
   "source": [
    "pd.pivot_table(dfSV[(dfSV.variantSubType<>\"IGN\")&(dfSV.tumorAF>=0.001)], values='id', index=['variantSubType'], columns=['variantType'], aggfunc='count').fillna(\"\")"
   ]
  },
  {
   "cell_type": "code",
   "execution_count": null,
   "metadata": {
    "collapsed": true
   },
   "outputs": [],
   "source": [
    "def findMatchingBNDChromPos(df):\n",
    "    # can \n",
    "    df['BNDMatchPos'] = \"\"\n",
    "    for i in range(0,df.shape[0]):\n",
    "        if df.iloc[i]['variantSubType'] == \"BND\":\n",
    "            tmp = df.iloc[i]['tumorallele'].find(\"]\")\n",
    "            if tmp < 0:\n",
    "                tmp = df.iloc[i]['tumorallele'].find(\"[\")\n",
    "            if tmp >=0:\n",
    "                df.iloc[i,df.columns.get_loc('BNDMatchPos')] = df.iloc[i]['tumorallele'][tmp+1:df.iloc[i]['tumorallele'].find(\"]\",tmp+1)]           \n",
    "    return df"
   ]
  },
  {
   "cell_type": "code",
   "execution_count": null,
   "metadata": {
    "collapsed": true
   },
   "outputs": [],
   "source": [
    "dfSV = findMatchingBNDChromPos(dfSV)"
   ]
  },
  {
   "cell_type": "code",
   "execution_count": null,
   "metadata": {
    "collapsed": false,
    "scrolled": false
   },
   "outputs": [],
   "source": [
    "dfSV[(dfSV.bedRegion<>'A')&(dfSV.tumorAF<=0.01)&(dfSV.variantSubType==\"DEL\")][['chrom','pos','chromFrac','variantSubType','bedRegion','BNDMatchPos','tumorAF','tumorDP','tumorSGT','tumorSVLenMin','tumorSVLenMax','tumorSVStartMin','tumorSVStartMax']]"
   ]
  },
  {
   "cell_type": "code",
   "execution_count": null,
   "metadata": {
    "collapsed": false
   },
   "outputs": [],
   "source": [
    "for variantSubType in dfSV.variantSubType.unique():\n",
    "    ser = dfSV[(dfSV.variantSubType == variantSubType)&(dfSV.chromFrac<23)][\"tumorAF\"].sort_values()\n",
    "    cum_dist = np.linspace(0.,1.,len(ser))\n",
    "    ser_cdf = pd.Series(cum_dist, index=ser,name=variantSubType)\n",
    "    ser_cdf.plot(drawstyle='steps',legend=True,title=\"AF\",figsize=[13,3],xlim=[0.0,0.8],ylim=[0.0,1.0])"
   ]
  },
  {
   "cell_type": "code",
   "execution_count": null,
   "metadata": {
    "collapsed": true
   },
   "outputs": [],
   "source": []
  },
  {
   "cell_type": "markdown",
   "metadata": {},
   "source": [
    "### SCRATCH"
   ]
  },
  {
   "cell_type": "code",
   "execution_count": null,
   "metadata": {
    "collapsed": false
   },
   "outputs": [],
   "source": [
    "import random as rand\n",
    "def randomiseAF(AF):\n",
    "    return AF +(rand.random()-0.5)/100000\n",
    "dfGermline['modAF']= dfGermline['normalAF'].apply(lambda x: randomiseAF(x))"
   ]
  },
  {
   "cell_type": "code",
   "execution_count": null,
   "metadata": {
    "collapsed": false
   },
   "outputs": [],
   "source": [
    "plt.figure(figsize=[18,4])\n",
    "plt.hist(dfGermline[(dfGermline.chrom <> 'A')&(dfGermline.normalSGT=='0/1')]['modAF'].values,\n",
    "    cumulative=False, normed=False, bins=50,range=(0.0,1.0),histtype='bar',stacked = False,rwidth=0.8,label=['True','False'])\n",
    "plt.title('AF of reference sample HC heterozygous calls ')\n",
    "plt.show()"
   ]
  },
  {
   "cell_type": "markdown",
   "metadata": {
    "collapsed": false
   },
   "source": [
    "### RNA"
   ]
  },
  {
   "cell_type": "code",
   "execution_count": null,
   "metadata": {
    "collapsed": false
   },
   "outputs": [],
   "source": [
    "rnaVCFFilename = findFiles(PATH,\"snpSift.vcf\")[0]"
   ]
  },
  {
   "cell_type": "code",
   "execution_count": null,
   "metadata": {
    "collapsed": false
   },
   "outputs": [],
   "source": [
    "dfRNA = loadVCF(PATH,rnaVCFFilename,{'FR13253675':'tumor'},patientID,BED_PATH,BED_FILE_NAME)"
   ]
  },
  {
   "cell_type": "code",
   "execution_count": null,
   "metadata": {
    "collapsed": false
   },
   "outputs": [],
   "source": [
    "dfRNA = dfRNA[dfRNA.variantType<>\"Missing Genotype\"]\n",
    "dfRNA['alt']=dfRNA['tumorallele']\n",
    "dfRNA['rnaGT']=dfRNA['tumorSGT']"
   ]
  },
  {
   "cell_type": "code",
   "execution_count": null,
   "metadata": {
    "collapsed": false
   },
   "outputs": [],
   "source": [
    "dfRNA[['chrom','pos','ref','alt','rnaGT']].head()"
   ]
  },
  {
   "cell_type": "code",
   "execution_count": null,
   "metadata": {
    "collapsed": false
   },
   "outputs": [],
   "source": [
    "dfSomatic = pd.merge(dfSomatic,dfRNA[['chrom','pos','ref','alt','rnaGT']],how='left', on=['chrom','pos','ref','alt'])\n",
    "dfSomatic['rnaGT'].fillna('', inplace=True)\n",
    "dfSomatic['inRNA'] = dfSomatic.rnaGT<>''"
   ]
  },
  {
   "cell_type": "code",
   "execution_count": null,
   "metadata": {
    "collapsed": false
   },
   "outputs": [],
   "source": [
    "del dfSomatic['rnaGT_x']\n",
    "del dfSomatic['rnaGT_y']\n",
    "del dfSomatic['inRNA']"
   ]
  },
  {
   "cell_type": "code",
   "execution_count": null,
   "metadata": {
    "collapsed": false
   },
   "outputs": [],
   "source": [
    "pd.pivot_table(dfSomatic[dfSomatic.consensus==True], values='pos', index=['annWorstEffect'], columns=['variantType','inRNA'], aggfunc='count',margins=False).fillna(\"\")"
   ]
  },
  {
   "cell_type": "code",
   "execution_count": null,
   "metadata": {
    "collapsed": false
   },
   "outputs": [],
   "source": [
    "pd.pivot_table(dfSomatic[dfSomatic.consensus==True], values='pos', index=['annWorstEffect'], columns=['inPON','variantType','inRNA'], aggfunc='count',margins=False).fillna(\"\")"
   ]
  },
  {
   "cell_type": "code",
   "execution_count": null,
   "metadata": {
    "collapsed": false
   },
   "outputs": [],
   "source": [
    "len(dfRNA[(dfRNA.annWorstEffect=='missense_variant')&(dfRNA.tumorSGT=='0/1')])"
   ]
  },
  {
   "cell_type": "code",
   "execution_count": null,
   "metadata": {
    "collapsed": false,
    "scrolled": false
   },
   "outputs": [],
   "source": [
    "dfSomatic[((dfSomatic.annWorstImpact == \"MODERATE\")|(dfSomatic.annWorstImpact == \"HIGH\"))&(dfSomatic.consensus==True)][['chrom','pos','meltedAF','inRNA','inPON','inDBSNP','inCOSMIC','id','variantType','annGene','annWorstImpact','annWorstEffect']]"
   ]
  },
  {
   "cell_type": "code",
   "execution_count": null,
   "metadata": {
    "collapsed": false
   },
   "outputs": [],
   "source": []
  },
  {
   "cell_type": "code",
   "execution_count": null,
   "metadata": {
    "collapsed": false
   },
   "outputs": [],
   "source": [
    "plt.figure(figsize=[18,4])\n",
    "plt.hist(dfRNA[dfRNA.annWorstEffect =='missense_variant']['tumorDP'].values,\n",
    "    cumulative=False, normed=False, bins=51,range=(0,50),histtype='bar',stacked = False,rwidth=0.8,label=['True','False'])\n",
    "plt.title('RNA Depth PDF - missense variants')\n",
    "plt.show()"
   ]
  },
  {
   "cell_type": "code",
   "execution_count": null,
   "metadata": {
    "collapsed": true
   },
   "outputs": [],
   "source": []
  }
 ],
 "metadata": {
  "kernelspec": {
   "display_name": "Python 2",
   "language": "python",
   "name": "python2"
  },
  "language_info": {
   "codemirror_mode": {
    "name": "ipython",
    "version": 2
   },
   "file_extension": ".py",
   "mimetype": "text/x-python",
   "name": "python",
   "nbconvert_exporter": "python",
   "pygments_lexer": "ipython2",
   "version": "2.7.10"
  }
 },
 "nbformat": 4,
 "nbformat_minor": 0
}
