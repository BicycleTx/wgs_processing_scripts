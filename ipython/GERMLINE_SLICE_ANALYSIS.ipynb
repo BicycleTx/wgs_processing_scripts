{
 "cells": [
  {
   "cell_type": "markdown",
   "metadata": {},
   "source": [
    "### CONFIGURATION"
   ]
  },
  {
   "cell_type": "code",
   "execution_count": 1,
   "metadata": {
    "collapsed": true
   },
   "outputs": [],
   "source": [
    "import os\n",
    "import pandas as pd\n",
    "pd.set_option('display.max_columns', 500)\n",
    "pd.set_option('display.width', 200)\n",
    "import numpy as np\n",
    "import copy\n",
    "import sys\n",
    "import matplotlib.pyplot as plt\n",
    "%matplotlib inline"
   ]
  },
  {
   "cell_type": "code",
   "execution_count": 2,
   "metadata": {
    "collapsed": false
   },
   "outputs": [],
   "source": [
    "# Hartwig imports\n",
    "sys.path.append(\"/Users/peterpriestley/hmf/repos/scripts/analysisscripts\") \n",
    "import analyseVCF as aVCF\n",
    "import venn as vn"
   ]
  },
  {
   "cell_type": "code",
   "execution_count": 3,
   "metadata": {
    "collapsed": true
   },
   "outputs": [],
   "source": [
    "#VCF\n",
    "VCF_PATH = \"/Users/peterpriestley/hmf/analyses/ensembleRuleTesting/\"\n",
    "\n",
    "# BED\n",
    "#BED_PATH = \"/Users/peterpriestley/hmf/analyses/giabTruthsets/\"\n",
    "#BED_FILE_NAME = \"NA12878_GIAB_highconf_IllFB-IllGATKHC-CG-Ion-Solid_ALLCHROM_v3.2.2_highconf.bed\"\n",
    "BED_PATH = \"/Users/peterpriestley/hmf/analyses/slices/\"\n",
    "#BED_FILE_NAME = \"cosmicCancerCensus.bed\" \n",
    "BED_FILE_NAME = \"CPCT_Slicing.bed\"\n",
    "USE_BED = True\n",
    "\n",
    "# HEALTH CHECKS\n",
    "HEALTH_CSV_PATH=\"/Users/peterpriestley/hmf/analyses/healthCheckAnalysis/\"\n",
    "HEALTH_CSV_FILENAME=\"healthCheckFile.csv\""
   ]
  },
  {
   "cell_type": "code",
   "execution_count": 4,
   "metadata": {
    "collapsed": false
   },
   "outputs": [
    {
     "name": "stdout",
     "output_type": "stream",
     "text": [
      "['160903_HMFregCPCT_FR10302737_FR10304566_CPCT02070012.filtered_variants_snpEff_snpSift_Cosmicv76_GoNLv5_sliced.vcf', '160903_HMFregCPCT_FR10302740_FR10304570_CPCT02050049.filtered_variants_snpEff_snpSift_Cosmicv76_GoNLv5_sliced.vcf', '160905_HMFregCPCT_FR10301943_FR12251966_CPCT02160001.filtered_variants_snpEff_snpSift_Cosmicv76_GoNLv5_sliced.vcf', '160905_HMFregCPCT_FR10302743_FR10304571_CPCT02050050.filtered_variants_snpEff_snpSift_Cosmicv76_GoNLv5_sliced.vcf', '160905_HMFregCPCT_FR12244549_FR12251919_CPCT02160002.filtered_variants_snpEff_snpSift_Cosmicv76_GoNLv5_sliced.vcf', '160905_HMFregCPCT_FR12244559_FR12251744_CPCT02160003.filtered_variants_snpEff_snpSift_Cosmicv76_GoNLv5_sliced.vcf', '160905_HMFregCPCT_FR12251688_FR10304573_CPCT02020348.filtered_variants_snpEff_snpSift_Cosmicv76_GoNLv5_sliced.vcf', '160905_HMFregCPCT_FR12254135_FR10304574_CPCT02020350.filtered_variants_snpEff_snpSift_Cosmicv76_GoNLv5_sliced.vcf', '160905_HMFregCPCT_FR12254668_FR12251934_CPCT02160004.filtered_variants_snpEff_snpSift_Cosmicv76_GoNLv5_sliced.vcf', '160906_HMFregCPCT_FR10302726_FR10304569_CPCT02050048.filtered_variants_snpEff_snpSift_Cosmicv76_GoNLv5_sliced.vcf', '160906_HMFregCPCT_FR12254247_FR12251653_CPCT02140013.filtered_variants_snpEff_snpSift_Cosmicv76_GoNLv5_sliced.vcf', '160907_HMFregCPCT_FR10301830_FR12254137_CPCT02010325.filtered_variants_snpEff_snpSift_Cosmicv76_GoNLv5_sliced.vcf', '160912_HMFregCPCT_FR03631928_FR12251853_CPCT02060014.filtered_variants_snpEff_snpSift_Cosmicv76_GoNLv5_sliced.vcf', '160912_HMFregCPCT_FR03631934_FR12251918_CPCT02060015.filtered_variants_snpEff_snpSift_Cosmicv76_GoNLv5_sliced.vcf', '160912_HMFregCPCT_FR10302565_FR12251890_CPCT02060018.filtered_variants_snpEff_snpSift_Cosmicv76_GoNLv5_sliced.vcf', '160912_HMFregCPCT_FR10302729_FR12251900_CPCT02010393.filtered_variants_snpEff_snpSift_Cosmicv76_GoNLv5_sliced.vcf', '160912_HMFregCPCT_FR10302734_FR12251682_CPCT02010394.filtered_variants_snpEff_snpSift_Cosmicv76_GoNLv5_sliced.vcf', '160912_HMFregCPCT_FR10302735_FR12254182_CPCT02010396.filtered_variants_snpEff_snpSift_Cosmicv76_GoNLv5_sliced.vcf', '160912_HMFregCPCT_FR10302736_FR12254270_CPCT02010390.filtered_variants_snpEff_snpSift_Cosmicv76_GoNLv5_sliced.vcf', '160912_HMFregCPCT_FR12244669_FR12251782_CPCT02060013.filtered_variants_snpEff_snpSift_Cosmicv76_GoNLv5_sliced.vcf', '160913_HMFregCPCT_FR03631938_FR10304593_CPCT02010375.filtered_variants_snpEff_snpSift_Cosmicv76_GoNLv5_sliced.vcf', '160913_HMFregCPCT_FR10302013_FR12254173_CPCT02020293.filtered_variants_snpEff_snpSift_Cosmicv76_GoNLv5_sliced.vcf', '160913_HMFregCPCT_FR10302559_FR12251995_CPCT02060016.filtered_variants_snpEff_snpSift_Cosmicv76_GoNLv5_sliced.vcf', '160913_HMFregCPCT_FR10302733_FR12251521_CPCT02060022.filtered_variants_snpEff_snpSift_Cosmicv76_GoNLv5_sliced.vcf', '160913_HMFregCPCT_FR10302746_FR12251942_CPCT02140014.filtered_variants_snpEff_snpSift_Cosmicv76_GoNLv5_sliced.vcf', '160913_HMFregCPCT_FR12244671_FR12251958_CPCT02020334.filtered_variants_snpEff_snpSift_Cosmicv76_GoNLv5_sliced.vcf', '160913_HMFregCPCT_FR12251622_FR12251894_CPCT02060019.filtered_variants_snpEff_snpSift_Cosmicv76_GoNLv5_sliced.vcf', '160916_HMFregCPCT_FR10302712_FR12254167_CPCT02030261.filtered_variants_snpEff_snpSift_Cosmicv76_GoNLv5_sliced.vcf', '160916_HMFregCPCT_FR10302739_FR12251877_CPCT02040035.filtered_variants_snpEff_snpSift_Cosmicv76_GoNLv5_sliced.vcf', '160916_HMFregCPCT_FR10302747_FR12251536_CPCT02010398.filtered_variants_snpEff_snpSift_Cosmicv76_GoNLv5_sliced.vcf', '160916_HMFregCPCT_FR10302748_FR12251953_CPCT02020358.filtered_variants_snpEff_snpSift_Cosmicv76_GoNLv5_sliced.vcf', '160916_HMFregCPCT_FR10302749_FR12251983_CPCT02020357.filtered_variants_snpEff_snpSift_Cosmicv76_GoNLv5_sliced.vcf', '160916_HMFregCPCT_FR10302780_FR12254138_CPCT02010397.filtered_variants_snpEff_snpSift_Cosmicv76_GoNLv5_sliced.vcf', '160916_HMFregCPCT_FR10302781_FR12251599_CPCT02110006.filtered_variants_snpEff_snpSift_Cosmicv76_GoNLv5_sliced.vcf', '160916_HMFregCPCT_FR12251560_FR12251906_CPCT02020351.filtered_variants_snpEff_snpSift_Cosmicv76_GoNLv5_sliced.vcf', '160916_HMFregCPCT_FR12251705_FR12251527_CPCT02110007.filtered_variants_snpEff_snpSift_Cosmicv76_GoNLv5_sliced.vcf', '160916_HMFregCPCT_FR12254273_FR12251547_CPCT02160005.filtered_variants_snpEff_snpSift_Cosmicv76_GoNLv5_sliced.vcf', '160922_HMFregCPCT_FR10302720_FR03631828_CPCT02100026.filtered_variants_snpEff_snpSift_Cosmicv76_GoNLv5_sliced.vcf', '160922_HMFregCPCT_FR10302744_FR03631829_CPCT02100027.filtered_variants_snpEff_snpSift_Cosmicv76_GoNLv5_sliced.vcf', '160922_HMFregCPCT_FR10302751_FR12251992_CPCT02140015.filtered_variants_snpEff_snpSift_Cosmicv76_GoNLv5_sliced.vcf', '160922_HMFregCPCT_FR10302779_FR12251970_CPCT02020360.filtered_variants_snpEff_snpSift_Cosmicv76_GoNLv5_sliced.vcf', '160922_HMFregCPCT_FR10302782_FR12251860_CPCT02060023.filtered_variants_snpEff_snpSift_Cosmicv76_GoNLv5_sliced.vcf']\n"
     ]
    }
   ],
   "source": [
    "# SPECIFY SAMPLES\n",
    "VCF_SAMPLES=[]\n",
    "for x in os.listdir(VCF_PATH):\n",
    "    if x[-10:] == \"sliced.vcf\":\n",
    "        VCF_SAMPLES.append(x)\n",
    "print VCF_SAMPLES\n",
    "\n",
    "#VCF_SAMPLES = ['160903_HMFregCPCT_FR10302737_FR10304566_CPCT02070012.filtered_variants_snpEff_snpSift_Cosmicv76_GoNLv5_sliced.vcf']"
   ]
  },
  {
   "cell_type": "markdown",
   "metadata": {},
   "source": [
    "<h3> LOAD VCF"
   ]
  },
  {
   "cell_type": "code",
   "execution_count": 5,
   "metadata": {
    "collapsed": false
   },
   "outputs": [
    {
     "name": "stdout",
     "output_type": "stream",
     "text": [
      "reading BED file\n",
      "Bed File Loaded\n",
      "reading vcf file: 160903_HMFregCPCT_FR10302737_FR10304566_CPCT02070012.filtered_variants_snpEff_snpSift_Cosmicv76_GoNLv5_sliced.vcf\n",
      "Number variants loaded: 67\n",
      "reading BED file\n",
      "Bed File Loaded\n",
      "reading vcf file: 160903_HMFregCPCT_FR10302740_FR10304570_CPCT02050049.filtered_variants_snpEff_snpSift_Cosmicv76_GoNLv5_sliced.vcf\n",
      "Number variants loaded: 65\n",
      "reading BED file\n",
      "Bed File Loaded\n",
      "reading vcf file: 160905_HMFregCPCT_FR10301943_FR12251966_CPCT02160001.filtered_variants_snpEff_snpSift_Cosmicv76_GoNLv5_sliced.vcf\n",
      "Number variants loaded: 73\n",
      "reading BED file\n",
      "Bed File Loaded\n",
      "reading vcf file: 160905_HMFregCPCT_FR10302743_FR10304571_CPCT02050050.filtered_variants_snpEff_snpSift_Cosmicv76_GoNLv5_sliced.vcf\n",
      "Number variants loaded: 57\n",
      "reading BED file\n",
      "Bed File Loaded\n",
      "reading vcf file: 160905_HMFregCPCT_FR12244549_FR12251919_CPCT02160002.filtered_variants_snpEff_snpSift_Cosmicv76_GoNLv5_sliced.vcf\n",
      "Number variants loaded: 72\n",
      "reading BED file\n",
      "Bed File Loaded\n",
      "reading vcf file: 160905_HMFregCPCT_FR12244559_FR12251744_CPCT02160003.filtered_variants_snpEff_snpSift_Cosmicv76_GoNLv5_sliced.vcf\n",
      "Number variants loaded: 71\n",
      "reading BED file\n",
      "Bed File Loaded\n",
      "reading vcf file: 160905_HMFregCPCT_FR12251688_FR10304573_CPCT02020348.filtered_variants_snpEff_snpSift_Cosmicv76_GoNLv5_sliced.vcf\n",
      "Number variants loaded: 63\n",
      "reading BED file\n",
      "Bed File Loaded\n",
      "reading vcf file: 160905_HMFregCPCT_FR12254135_FR10304574_CPCT02020350.filtered_variants_snpEff_snpSift_Cosmicv76_GoNLv5_sliced.vcf\n",
      "Number variants loaded: 69\n",
      "reading BED file\n",
      "Bed File Loaded\n",
      "reading vcf file: 160905_HMFregCPCT_FR12254668_FR12251934_CPCT02160004.filtered_variants_snpEff_snpSift_Cosmicv76_GoNLv5_sliced.vcf\n",
      "Number variants loaded: 66\n",
      "reading BED file\n",
      "Bed File Loaded\n",
      "reading vcf file: 160906_HMFregCPCT_FR10302726_FR10304569_CPCT02050048.filtered_variants_snpEff_snpSift_Cosmicv76_GoNLv5_sliced.vcf\n",
      "Number variants loaded: 62\n",
      "reading BED file\n",
      "Bed File Loaded\n",
      "reading vcf file: 160906_HMFregCPCT_FR12254247_FR12251653_CPCT02140013.filtered_variants_snpEff_snpSift_Cosmicv76_GoNLv5_sliced.vcf\n",
      "Number variants loaded: 65\n",
      "reading BED file\n",
      "Bed File Loaded\n",
      "reading vcf file: 160907_HMFregCPCT_FR10301830_FR12254137_CPCT02010325.filtered_variants_snpEff_snpSift_Cosmicv76_GoNLv5_sliced.vcf\n",
      "Number variants loaded: 54\n",
      "reading BED file\n",
      "Bed File Loaded\n",
      "reading vcf file: 160912_HMFregCPCT_FR03631928_FR12251853_CPCT02060014.filtered_variants_snpEff_snpSift_Cosmicv76_GoNLv5_sliced.vcf\n",
      "Number variants loaded: 61\n",
      "reading BED file\n",
      "Bed File Loaded\n",
      "reading vcf file: 160912_HMFregCPCT_FR03631934_FR12251918_CPCT02060015.filtered_variants_snpEff_snpSift_Cosmicv76_GoNLv5_sliced.vcf\n",
      "Number variants loaded: 59\n",
      "reading BED file\n",
      "Bed File Loaded\n",
      "reading vcf file: 160912_HMFregCPCT_FR10302565_FR12251890_CPCT02060018.filtered_variants_snpEff_snpSift_Cosmicv76_GoNLv5_sliced.vcf\n",
      "Number variants loaded: 73\n",
      "reading BED file\n",
      "Bed File Loaded\n",
      "reading vcf file: 160912_HMFregCPCT_FR10302729_FR12251900_CPCT02010393.filtered_variants_snpEff_snpSift_Cosmicv76_GoNLv5_sliced.vcf\n",
      "Number variants loaded: 70\n",
      "reading BED file\n",
      "Bed File Loaded\n",
      "reading vcf file: 160912_HMFregCPCT_FR10302734_FR12251682_CPCT02010394.filtered_variants_snpEff_snpSift_Cosmicv76_GoNLv5_sliced.vcf\n",
      "Number variants loaded: 66\n",
      "reading BED file\n",
      "Bed File Loaded\n",
      "reading vcf file: 160912_HMFregCPCT_FR10302735_FR12254182_CPCT02010396.filtered_variants_snpEff_snpSift_Cosmicv76_GoNLv5_sliced.vcf\n",
      "Number variants loaded: 59\n",
      "reading BED file\n",
      "Bed File Loaded\n",
      "reading vcf file: 160912_HMFregCPCT_FR10302736_FR12254270_CPCT02010390.filtered_variants_snpEff_snpSift_Cosmicv76_GoNLv5_sliced.vcf\n",
      "Number variants loaded: 52\n",
      "reading BED file\n",
      "Bed File Loaded\n",
      "reading vcf file: 160912_HMFregCPCT_FR12244669_FR12251782_CPCT02060013.filtered_variants_snpEff_snpSift_Cosmicv76_GoNLv5_sliced.vcf\n",
      "Number variants loaded: 56\n",
      "reading BED file\n",
      "Bed File Loaded\n",
      "reading vcf file: 160913_HMFregCPCT_FR03631938_FR10304593_CPCT02010375.filtered_variants_snpEff_snpSift_Cosmicv76_GoNLv5_sliced.vcf\n",
      "Number variants loaded: 59\n",
      "reading BED file\n",
      "Bed File Loaded\n",
      "reading vcf file: 160913_HMFregCPCT_FR10302013_FR12254173_CPCT02020293.filtered_variants_snpEff_snpSift_Cosmicv76_GoNLv5_sliced.vcf\n",
      "Number variants loaded: 72\n",
      "reading BED file\n",
      "Bed File Loaded\n",
      "reading vcf file: 160913_HMFregCPCT_FR10302559_FR12251995_CPCT02060016.filtered_variants_snpEff_snpSift_Cosmicv76_GoNLv5_sliced.vcf\n",
      "Number variants loaded: 73\n",
      "reading BED file\n",
      "Bed File Loaded\n",
      "reading vcf file: 160913_HMFregCPCT_FR10302733_FR12251521_CPCT02060022.filtered_variants_snpEff_snpSift_Cosmicv76_GoNLv5_sliced.vcf\n",
      "Number variants loaded: 65\n",
      "reading BED file\n",
      "Bed File Loaded\n",
      "reading vcf file: 160913_HMFregCPCT_FR10302746_FR12251942_CPCT02140014.filtered_variants_snpEff_snpSift_Cosmicv76_GoNLv5_sliced.vcf\n",
      "Number variants loaded: 71\n",
      "reading BED file\n",
      "Bed File Loaded\n",
      "reading vcf file: 160913_HMFregCPCT_FR12244671_FR12251958_CPCT02020334.filtered_variants_snpEff_snpSift_Cosmicv76_GoNLv5_sliced.vcf\n",
      "Number variants loaded: 63\n",
      "reading BED file\n",
      "Bed File Loaded\n",
      "reading vcf file: 160913_HMFregCPCT_FR12251622_FR12251894_CPCT02060019.filtered_variants_snpEff_snpSift_Cosmicv76_GoNLv5_sliced.vcf\n",
      "Number variants loaded: 81\n",
      "reading BED file\n",
      "Bed File Loaded\n",
      "reading vcf file: 160916_HMFregCPCT_FR10302712_FR12254167_CPCT02030261.filtered_variants_snpEff_snpSift_Cosmicv76_GoNLv5_sliced.vcf\n",
      "Number variants loaded: 68\n",
      "reading BED file\n",
      "Bed File Loaded\n",
      "reading vcf file: 160916_HMFregCPCT_FR10302739_FR12251877_CPCT02040035.filtered_variants_snpEff_snpSift_Cosmicv76_GoNLv5_sliced.vcf\n",
      "Number variants loaded: 66\n",
      "reading BED file\n",
      "Bed File Loaded\n",
      "reading vcf file: 160916_HMFregCPCT_FR10302747_FR12251536_CPCT02010398.filtered_variants_snpEff_snpSift_Cosmicv76_GoNLv5_sliced.vcf\n",
      "Number variants loaded: 66\n",
      "reading BED file\n",
      "Bed File Loaded\n",
      "reading vcf file: 160916_HMFregCPCT_FR10302748_FR12251953_CPCT02020358.filtered_variants_snpEff_snpSift_Cosmicv76_GoNLv5_sliced.vcf\n",
      "Number variants loaded: 72\n",
      "reading BED file\n",
      "Bed File Loaded\n",
      "reading vcf file: 160916_HMFregCPCT_FR10302749_FR12251983_CPCT02020357.filtered_variants_snpEff_snpSift_Cosmicv76_GoNLv5_sliced.vcf\n",
      "Number variants loaded: 60\n",
      "reading BED file\n",
      "Bed File Loaded\n",
      "reading vcf file: 160916_HMFregCPCT_FR10302780_FR12254138_CPCT02010397.filtered_variants_snpEff_snpSift_Cosmicv76_GoNLv5_sliced.vcf\n",
      "Number variants loaded: 75\n",
      "reading BED file\n",
      "Bed File Loaded\n",
      "reading vcf file: 160916_HMFregCPCT_FR10302781_FR12251599_CPCT02110006.filtered_variants_snpEff_snpSift_Cosmicv76_GoNLv5_sliced.vcf\n",
      "Number variants loaded: 65\n",
      "reading BED file\n",
      "Bed File Loaded\n",
      "reading vcf file: 160916_HMFregCPCT_FR12251560_FR12251906_CPCT02020351.filtered_variants_snpEff_snpSift_Cosmicv76_GoNLv5_sliced.vcf\n",
      "Number variants loaded: 62\n",
      "reading BED file\n",
      "Bed File Loaded\n",
      "reading vcf file: 160916_HMFregCPCT_FR12251705_FR12251527_CPCT02110007.filtered_variants_snpEff_snpSift_Cosmicv76_GoNLv5_sliced.vcf\n",
      "Number variants loaded: 57\n",
      "reading BED file\n",
      "Bed File Loaded\n",
      "reading vcf file: 160916_HMFregCPCT_FR12254273_FR12251547_CPCT02160005.filtered_variants_snpEff_snpSift_Cosmicv76_GoNLv5_sliced.vcf\n",
      "Number variants loaded: 56\n",
      "reading BED file\n",
      "Bed File Loaded\n",
      "reading vcf file: 160922_HMFregCPCT_FR10302720_FR03631828_CPCT02100026.filtered_variants_snpEff_snpSift_Cosmicv76_GoNLv5_sliced.vcf\n",
      "Number variants loaded: 65\n",
      "reading BED file\n",
      "Bed File Loaded\n",
      "reading vcf file: 160922_HMFregCPCT_FR10302744_FR03631829_CPCT02100027.filtered_variants_snpEff_snpSift_Cosmicv76_GoNLv5_sliced.vcf\n",
      "Number variants loaded: 67\n",
      "reading BED file\n",
      "Bed File Loaded\n",
      "reading vcf file: 160922_HMFregCPCT_FR10302751_FR12251992_CPCT02140015.filtered_variants_snpEff_snpSift_Cosmicv76_GoNLv5_sliced.vcf\n",
      "Number variants loaded: 65\n",
      "reading BED file\n",
      "Bed File Loaded\n",
      "reading vcf file: 160922_HMFregCPCT_FR10302779_FR12251970_CPCT02020360.filtered_variants_snpEff_snpSift_Cosmicv76_GoNLv5_sliced.vcf\n",
      "Number variants loaded: 68\n",
      "reading BED file\n",
      "Bed File Loaded\n",
      "reading vcf file: 160922_HMFregCPCT_FR10302782_FR12251860_CPCT02060023.filtered_variants_snpEff_snpSift_Cosmicv76_GoNLv5_sliced.vcf\n",
      "Number variants loaded: 71\n"
     ]
    }
   ],
   "source": [
    "#Load all VCF_SAMPLES to DF\n",
    "df = pd.DataFrame({})\n",
    "for VCF_SAMPLE in VCF_SAMPLES:\n",
    "    VCF_FILE_NAME = VCF_SAMPLE\n",
    "    SAMPLE_NAMES = {VCF_SAMPLE[40:52]+'R':'normal',VCF_SAMPLE[40:52]+'T':'tumor'}\n",
    "    if USE_BED:\n",
    "        bed = aVCF.loadBEDFile(BED_PATH,BED_FILE_NAME)\n",
    "        df = pd.concat([df,aVCF.loadVaraintsFromVCF(VCF_PATH,VCF_FILE_NAME,SAMPLE_NAMES,VCF_SAMPLE[40:52],True,True,bed,False)])\n",
    "    else:\n",
    "        df = pd.concat([df,aVCF.loadVaraintsFromVCF(VCF_PATH,VCF_FILE_NAME,SAMPLE_NAMES,VCF_SAMPLE[40:52],True)])"
   ]
  },
  {
   "cell_type": "code",
   "execution_count": null,
   "metadata": {
    "collapsed": false
   },
   "outputs": [],
   "source": [
    "#LOAD HEALTH_CHECKS\n",
    "hc = pd.read_csv(HEALTH_CSV_PATH + HEALTH_CSV_FILENAME)\n",
    "hc = hc[['SAMPLE','TUMOR_PERCENTAGE','TUMOR_TYPE','PIPELINE_VERSION']]\n",
    "hc = hc[hc['SAMPLE'].str[12]==\"T\"]   # only tumor rows\n",
    "hc['SAMPLE']=hc['SAMPLE'].str[:12]\n",
    "hc = hc.set_index(['SAMPLE'])\n",
    "df = pd.merge(df,hc,how='left', left_on='patientName',right_index=True)\n",
    "df.fillna(\"Unknown\", inplace=True)"
   ]
  },
  {
   "cell_type": "markdown",
   "metadata": {},
   "source": [
    "<h3> High Level Stats"
   ]
  },
  {
   "cell_type": "code",
   "execution_count": null,
   "metadata": {
    "collapsed": false
   },
   "outputs": [],
   "source": [
    "pd.pivot_table(df[df.normalSGT!=df.tumorSGT], values='pos', index=['patientName'], columns=['annWorstImpact'], aggfunc='count',margins=True).fillna(\"\")"
   ]
  },
  {
   "cell_type": "code",
   "execution_count": null,
   "metadata": {
    "collapsed": false
   },
   "outputs": [],
   "source": [
    "df[(df.patientName=='CPCT02010396')&(df.normalSGT!=df.tumorSGT)]"
   ]
  },
  {
   "cell_type": "code",
   "execution_count": null,
   "metadata": {
    "collapsed": false
   },
   "outputs": [],
   "source": [
    "df[['variantType','pos']].groupby(['variantType']).agg('count')"
   ]
  },
  {
   "cell_type": "markdown",
   "metadata": {},
   "source": [
    "<h3> Allelic Depth"
   ]
  },
  {
   "cell_type": "code",
   "execution_count": null,
   "metadata": {
    "collapsed": false
   },
   "outputs": [],
   "source": [
    "#Alllele Freq By Caller\n",
    "for columnName in list(df):\n",
    "    if columnName.endswith('allele'):\n",
    "        ser = df[df[columnName] != ''][columnName[:-6] + 'AF']\n",
    "        ser = ser.sort_values()\n",
    "        #ser[len(ser)] = ser.iloc[-1]\n",
    "        cum_dist = np.linspace(0.,1.,len(ser))\n",
    "        ser_cdf = pd.Series(cum_dist, index=ser,name=columnName[:-6]+\": c=\"+str(ser.count())+\" m=\"+str(round(ser.median(),2)))\n",
    "        ser_cdf.plot(drawstyle='steps',legend=True,title=\" Allelic Frequency by Caller\",figsize=[15,6])"
   ]
  },
  {
   "cell_type": "code",
   "execution_count": null,
   "metadata": {
    "collapsed": true
   },
   "outputs": [],
   "source": []
  }
 ],
 "metadata": {
  "kernelspec": {
   "display_name": "Python 2",
   "language": "python",
   "name": "python2"
  },
  "language_info": {
   "codemirror_mode": {
    "name": "ipython",
    "version": 2
   },
   "file_extension": ".py",
   "mimetype": "text/x-python",
   "name": "python",
   "nbconvert_exporter": "python",
   "pygments_lexer": "ipython2",
   "version": "2.7.10"
  }
 },
 "nbformat": 4,
 "nbformat_minor": 0
}
