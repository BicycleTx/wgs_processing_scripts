{
 "cells": [
  {
   "cell_type": "markdown",
   "metadata": {},
   "source": [
    "### CONFIGURATION"
   ]
  },
  {
   "cell_type": "code",
   "execution_count": null,
   "metadata": {
    "collapsed": false
   },
   "outputs": [],
   "source": [
    "import os\n",
    "import pandas as pd\n",
    "pd.set_option('display.max_columns', 500)\n",
    "pd.set_option('display.width', 1000)\n",
    "import numpy as np\n",
    "import copy\n",
    "import sys\n",
    "import matplotlib.pyplot as plt\n",
    "%matplotlib inline"
   ]
  },
  {
   "cell_type": "code",
   "execution_count": null,
   "metadata": {
    "collapsed": false
   },
   "outputs": [],
   "source": [
    "# Hartwig imports\n",
    "sys.path.append(\"/Users/peterpriestley/hmf/repos/scripts/analysisscripts\") \n",
    "import analyseVCF as aVCF\n",
    "import venn as vn"
   ]
  },
  {
   "cell_type": "code",
   "execution_count": null,
   "metadata": {
    "collapsed": true
   },
   "outputs": [],
   "source": [
    "#CHROM SLICING\n",
    "minChromFrac = 0#17.443476\n",
    "maxChromFrac = 26#17.491846\n",
    "\n",
    "#minChromFrac = 17.689695\n",
    "#maxChromFrac = 17.73896"
   ]
  },
  {
   "cell_type": "code",
   "execution_count": null,
   "metadata": {
    "collapsed": false
   },
   "outputs": [],
   "source": [
    "# BED FILE\n",
    "BED_PATH = \"/Users/peterpriestley/hmf/analyses/giabTruthsets/\"\n",
    "BED_FILE_NAME = \"NA12878_GIAB_highconf_IllFB-IllGATKHC-CG-Ion-Solid_ALLCHROM_v3.2.2_highconf.bed\"\n",
    "USE_BED = True\n",
    "LOAD_FULL_FILE = True\n",
    "\n",
    "# COMBINED VCF CONFIG\n",
    "#VCF_SAMPLE = \"12878\"\n",
    "#VCF_PATH = \"/Users/peterpriestley/hmf/analyses/NA12878vsNA12878/Jun17/\"\n",
    "#VCF_PATH = \"/Users/peterpriestley/hmf/analyses/fpfilterAnalysis/\"\n",
    "#VCF_FILE_NAME = VCF_SAMPLE + \"R_\"+ VCF_SAMPLE + \"T_merged_somatics.vcf\"\n",
    "#VCF_FILE_NAME = \"fpNA12878vsNA12878NORMMELT.vcf\"\n",
    "#SAMPLE_NAMES = {VCF_SAMPLE + 'T.mutect':'mutect', \\\n",
    "#                VCF_SAMPLE + 'T.freebayes':'freebayes', \\\n",
    "#                'TUMOR.strelka':'strelka', \\\n",
    "#                'TUMOR.varscan':'varscan'}\n",
    "\n",
    "#STRELKA ONLY\n",
    "PATH = \"/Users/peterpriestley/hmf/analyses/NA12878vsNA12878/Jun17/\"\n",
    "#PATH = \"/Users/peterpriestley/hmf/analyses/NA12878vsNA12878/Mar22/\"\n",
    "\n",
    "#VCF_FILE_NAME =\"somatic.indels.vcf\"\n",
    "#SAMPLE_NAMES = {'TUMOR':'strelka'}\n",
    "# TRUTH SET\n",
    "#SAMPLE_NAMES_TRUTH = {'INTEGRATION':'truth'}\n",
    "#VCF_PATH_TRUTH = \"/Users/peterpriestley/hmf/analyses/giabTruthsets/\"\n",
    "#VCF_FILE_NAME_TRUTH = \"NA12878_GIAB_highconf_IllFB-IllGATKHC-CG-Ion-Solid_ALLCHROM_v3.2.2_highconf.vcf\"\n",
    "\n",
    "#MELT PARAMS\n",
    "#VCF_FILE_NAME = \"GIAB12878R_GIAB12878T_melted.vcf\"\n",
    "#SAMPLE_NAMES = {'GIAB12878T':'melted'}"
   ]
  },
  {
   "cell_type": "markdown",
   "metadata": {},
   "source": [
    "### Functions"
   ]
  },
  {
   "cell_type": "code",
   "execution_count": null,
   "metadata": {
    "collapsed": true
   },
   "outputs": [],
   "source": [
    "def filterByChromFrac(df):\n",
    "    return df[(df.chromFrac > minChromFrac)&(df.chromFrac < maxChromFrac)]"
   ]
  },
  {
   "cell_type": "code",
   "execution_count": null,
   "metadata": {
    "collapsed": false
   },
   "outputs": [],
   "source": [
    "def calculateTruth(df,dfTruth):\n",
    "    df = pd.merge(df,dfTruth,how='left', left_index=True,right_index=True,suffixes=('', '_Truth'))\n",
    "    df['hasTP'] = False\n",
    "    df['hasFP'] = False\n",
    "    for columnName in list(df):\n",
    "        if columnName.endswith('allele'):\n",
    "            df['hasTP'] = (df['hasTP']) | ((df[columnName[:-6]+'indelDiff'] == df['truthindelDiff']) \\\n",
    "                    & (~pd.isnull(df['truthindelDiff']) & (df['variantType'] == 'INDEL'))) |((df[columnName] == df['truthallele']) \\\n",
    "                    & (df['variantType'] == 'SNP'))\n",
    "            df['hasFP'] = (df['hasFP']) | ((df[columnName[:-6]+'indelDiff'] != df['truthindelDiff']) \\\n",
    "                    & (df['variantType'] == 'INDEL') & (df[columnName[:-6]+'indelDiff'] != '')) |((df[columnName] != df['truthallele']) \\\n",
    "                    & (df['variantType'] == 'SNP') & (df[columnName] != ''))\n",
    "    df['Truth'] = (df['hasTP']) &  (df['hasFP'] == False)\n",
    "    return df"
   ]
  },
  {
   "cell_type": "code",
   "execution_count": null,
   "metadata": {
    "collapsed": true
   },
   "outputs": [],
   "source": [
    "def calcuatePrecisionSensivityMatrix(df):\n",
    "    outputdata = []\n",
    "    for columnName in list(df):\n",
    "        if columnName.endswith('allele') & ~columnName.endswith('_allele'):\n",
    "            myCaller = columnName[:-6]\n",
    "            variantTypes = df[(df[myCaller+'allele'] != '')].variantType.unique()\n",
    "            for variantType in variantTypes:\n",
    "                truePositives = len(df[(df[myCaller+'allele'] != '') & (df['Truth'] == True) &(df['variantType'] == variantType)])\n",
    "                positives = len(df[(df[myCaller+'allele'] != '')&(df['variantType'] == variantType)])\n",
    "                truthSet = 0\n",
    "                falseNegatives = truthSet - truePositives\n",
    "                if positives > 0:\n",
    "                    outputdata.append([variantType, myCaller, truthSet,truePositives,positives-truePositives, falseNegatives, \\\n",
    "                                   round(truePositives/float(positives),4),0])\n",
    "    \n",
    "    outputDF = pd.DataFrame(outputdata)\n",
    "    outputDF.columns = (['variantType','caller','truthSet','truePositives','falsePositives','falseNegatives','precision','sensitivity'])\n",
    "    return outputDF.sort_values(['variantType','caller'])"
   ]
  },
  {
   "cell_type": "code",
   "execution_count": null,
   "metadata": {
    "collapsed": false
   },
   "outputs": [],
   "source": [
    "def consensusAlt(a1,a2,a3,a4):\n",
    "    if a1 <> \"\":\n",
    "        return a1\n",
    "    elif a2 <> \"\":\n",
    "        return a2\n",
    "    elif a3 <> \"\":\n",
    "        return a3\n",
    "    else:\n",
    "        return a4"
   ]
  },
  {
   "cell_type": "code",
   "execution_count": null,
   "metadata": {
    "collapsed": true
   },
   "outputs": [],
   "source": [
    "def loadPON(aPath,aPONFile):\n",
    "    myPON = []\n",
    "    with open(aPath + aPONFile, 'r') as f:\n",
    "        for line in f:\n",
    "            line = line.strip('\\n')\n",
    "            splitLine = line.split('\\t')\n",
    "            myPON.append(splitLine)\n",
    "    dfPON = pd.DataFrame(myPON)\n",
    "    dfPON.columns = ['chrom','pos','ref','alt','PONCount']\n",
    "    return dfPON"
   ]
  },
  {
   "cell_type": "code",
   "execution_count": null,
   "metadata": {
    "collapsed": false
   },
   "outputs": [],
   "source": [
    "def loadPONvcf(PONFile):\n",
    "    numHeaderRows = 0\n",
    "    with open(PONFile) as fp:\n",
    "        while fp.readline()[0]=='#':\n",
    "            numHeaderRows = numHeaderRows+1\n",
    "    dfPON = pd.read_table(PONFile,skiprows =numHeaderRows-1, dtype={'#CHROM':'str','POS':'str'})  #names = CNV_COLUMNS\n",
    "    dfPON['PON_COUNT'] = dfPON['INFO'].apply(lambda x: x.split('=')[1])\n",
    "    dfPON.rename(columns={'#CHROM': 'chrom', 'POS': 'pos','REF':'ref','ALT':'alt'}, inplace=True)\n",
    "    return dfPON"
   ]
  },
  {
   "cell_type": "code",
   "execution_count": null,
   "metadata": {
    "collapsed": true
   },
   "outputs": [],
   "source": [
    "def loadVCF(path,filename,sampleNames,patientID,bedPath,bedFileName):\n",
    "    df = pd.DataFrame()\n",
    "    if USE_BED:\n",
    "        bed = aVCF.loadBEDFile(bedPath,bedFileName)\n",
    "        return pd.concat([df,aVCF.loadVariantsFromVCF(path,filename,sampleNames,patientID,True,True,bed,LOAD_FULL_FILE)])\n",
    "    else:\n",
    "        return pd.concat([df,aVCF.loadVariantsFromVCF(path,filename,sampleNames,patientID,True)])"
   ]
  },
  {
   "cell_type": "code",
   "execution_count": null,
   "metadata": {
    "collapsed": true
   },
   "outputs": [],
   "source": [
    "def findFiles(path,suffix):\n",
    "    files=[]\n",
    "    for x in os.listdir(path):\n",
    "        if x[-len(suffix):] == suffix:\n",
    "            files.append(x)\n",
    "    return files"
   ]
  },
  {
   "cell_type": "markdown",
   "metadata": {},
   "source": [
    "<h3> Load VCFs and Prepare DF"
   ]
  },
  {
   "cell_type": "code",
   "execution_count": null,
   "metadata": {
    "collapsed": false
   },
   "outputs": [],
   "source": [
    "somaticVCFFilename = findFiles(PATH,\"melted.vcf\")[0]\n",
    "patientID = \"GIAB12878\""
   ]
  },
  {
   "cell_type": "code",
   "execution_count": null,
   "metadata": {
    "collapsed": false
   },
   "outputs": [],
   "source": [
    "df = loadVCF(PATH,somaticVCFFilename,{'GIAB12878T':'melted'},patientID,BED_PATH,BED_FILE_NAME)"
   ]
  },
  {
   "cell_type": "markdown",
   "metadata": {},
   "source": [
    "### PON"
   ]
  },
  {
   "cell_type": "code",
   "execution_count": null,
   "metadata": {
    "collapsed": true
   },
   "outputs": [],
   "source": [
    "dfPON = loadPONvcf(\"/Users/peterpriestley/hmf/analyses/PON/PON.vcf\")"
   ]
  },
  {
   "cell_type": "code",
   "execution_count": null,
   "metadata": {
    "collapsed": false
   },
   "outputs": [],
   "source": [
    "df= df.reset_index()\n",
    "df['alt'] = df['meltedallele']\n",
    "df = pd.merge(df,dfPON,how='left', on=['chrom','pos','ref','alt'])\n",
    "df['PON_COUNT'].fillna(0, inplace=True)\n",
    "df['inPON'] = pd.to_numeric(df.PON_COUNT,errors=coerce)>4"
   ]
  },
  {
   "cell_type": "markdown",
   "metadata": {},
   "source": [
    "### PRECISION + SENSITIVITY|"
   ]
  },
  {
   "cell_type": "code",
   "execution_count": null,
   "metadata": {
    "collapsed": true
   },
   "outputs": [],
   "source": [
    "df['inPON'] = pd.to_numeric(df.PON_COUNT,errors=coerce)>6"
   ]
  },
  {
   "cell_type": "code",
   "execution_count": null,
   "metadata": {
    "collapsed": false
   },
   "outputs": [],
   "source": [
    "#PRECISION + SENSITIVITY by caller - PROD\n",
    "df['Truth']=False\n",
    "outputDF = calcuatePrecisionSensivityMatrix(df)#[df.dbSNP==True])\n",
    "outputDF"
   ]
  },
  {
   "cell_type": "code",
   "execution_count": null,
   "metadata": {
    "collapsed": false
   },
   "outputs": [],
   "source": [
    "pd.pivot_table(df[df.consensus==True], values='pos', index=['variantType'], columns=['bedRegion','inPON'], aggfunc='count')"
   ]
  },
  {
   "cell_type": "code",
   "execution_count": null,
   "metadata": {
    "collapsed": false
   },
   "outputs": [],
   "source": [
    "pd.pivot_table(df[(df.vennSegment.str.contains('Intersection'))|((df.vennSegment.str.contains('strelka')))&(df.meltedQS>20)&(df.meltedAF>0.1)], values='pos', index=['variantType'], columns=['bedRegion','inPON'], aggfunc='count')"
   ]
  },
  {
   "cell_type": "code",
   "execution_count": null,
   "metadata": {
    "collapsed": false
   },
   "outputs": [],
   "source": [
    "pd.pivot_table(df[(df.vennSegment.str.contains('Intersection'))|((df.vennSegment.str.contains('strelka')))&(df.meltedQS>0)], values='pos', index=['variantType'], columns=['bedRegion','inPON'], aggfunc='count')"
   ]
  },
  {
   "cell_type": "code",
   "execution_count": null,
   "metadata": {
    "collapsed": false
   },
   "outputs": [],
   "source": [
    "pd.pivot_table(df[(df.vennSegment.str.contains('Intersection'))|((df.vennSegment.str.contains('strelka'))&(df.vennSegment.str.contains('mutect')))], values='pos', index=['inDBSNP','variantType'], columns=['bedRegion','inPON'], aggfunc='count')"
   ]
  },
  {
   "cell_type": "code",
   "execution_count": null,
   "metadata": {
    "collapsed": false
   },
   "outputs": [],
   "source": [
    "pd.pivot_table(df, values='pos', index=['variantType','numCallers','vennSegment'], columns=['bedRegion','inPON'], aggfunc='count')"
   ]
  },
  {
   "cell_type": "code",
   "execution_count": null,
   "metadata": {
    "collapsed": false,
    "scrolled": false
   },
   "outputs": [],
   "source": [
    "dftemp = df#.reset_index()\n",
    "pd.pivot_table(dftemp[dftemp.consensus==True], values='pos', index=['variantType'], columns=['inPON'], aggfunc='count')"
   ]
  },
  {
   "cell_type": "markdown",
   "metadata": {},
   "source": [
    "### INDIVIDUAL VARIANTS"
   ]
  },
  {
   "cell_type": "code",
   "execution_count": null,
   "metadata": {
    "collapsed": true
   },
   "outputs": [],
   "source": [
    "pd.set_option('display.max_rows', 500)"
   ]
  },
  {
   "cell_type": "code",
   "execution_count": null,
   "metadata": {
    "collapsed": false,
    "scrolled": false
   },
   "outputs": [],
   "source": [
    "df[((df.vennSegment.str.contains('Intersection'))|((df.vennSegment.str.contains('strelka'))))&(df.variantType=='SNP')&(df.inPON==False)]"
   ]
  },
  {
   "cell_type": "code",
   "execution_count": null,
   "metadata": {
    "collapsed": true
   },
   "outputs": [],
   "source": []
  }
 ],
 "metadata": {
  "kernelspec": {
   "display_name": "Python 2",
   "language": "python",
   "name": "python2"
  },
  "language_info": {
   "codemirror_mode": {
    "name": "ipython",
    "version": 2
   },
   "file_extension": ".py",
   "mimetype": "text/x-python",
   "name": "python",
   "nbconvert_exporter": "python",
   "pygments_lexer": "ipython2",
   "version": "2.7.10"
  }
 },
 "nbformat": 4,
 "nbformat_minor": 0
}
