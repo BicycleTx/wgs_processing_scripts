{
 "cells": [
  {
   "cell_type": "code",
   "execution_count": null,
   "metadata": {
    "collapsed": true
   },
   "outputs": [],
   "source": [
    "import pandas as pd\n",
    "pd.set_option('display.max_columns', 500)\n",
    "pd.set_option('display.max_rows', 100)\n",
    "pd.set_option('display.width', 1000)\n",
    "import numpy as np\n",
    "import matplotlib.pyplot as plt\n",
    "%matplotlib inline"
   ]
  },
  {
   "cell_type": "code",
   "execution_count": null,
   "metadata": {
    "collapsed": true
   },
   "outputs": [],
   "source": [
    "def quickbarchart(serField):\n",
    "    ser = hc[hc['SAMPLE_TYPE'] == \"T\"].groupby(serField).size().sort_values(ascending=False)\n",
    "    ax = ser.plot(kind='bar', title =\"Tumor sample count by \"+serField,figsize=(15,3), fontsize=10)\n",
    "    ax.set_xlabel(serField,fontsize=10)\n",
    "    plt.show()"
   ]
  },
  {
   "cell_type": "code",
   "execution_count": null,
   "metadata": {
    "collapsed": true
   },
   "outputs": [],
   "source": []
  },
  {
   "cell_type": "code",
   "execution_count": null,
   "metadata": {
    "collapsed": false
   },
   "outputs": [],
   "source": [
    "CSV_PATH=\"/Users/peterpriestley/hmf/analyses/healthCheckAnalysis/\"\n",
    "CSV_FILENAME=\"healthCheckFile.csv\"\n",
    "\n",
    "hc = pd.read_csv(CSV_PATH + CSV_FILENAME)\n",
    "# Clean Data + add custom fields\n",
    "hc['SAMPLE_TYPE']=hc['SAMPLE'].str[12]\n",
    "hc.replace(to_replace=\"\", value=\"UNKNOWN\", inplace=True)\n",
    "hc.replace(to_replace=\"ERROR\", value=0, inplace=True)\n",
    "hc.replace(to_replace=\"-\", value=0, inplace=True)\n",
    "hc.replace(to_replace=\"v1.8-50-g2ddb75f\", value=\"v1.9\", inplace=True)\n",
    "hc.fillna(\"Unknown\", inplace=True)\n",
    "if pd.isnull(hc['TUMOR_TYPE'].item):\n",
    "    hc['TUMOR_TYPE'] = \"Unknown\"\n",
    "hc['SOMATIC_SNP_COUNT_4+_CALLER'] = pd.to_numeric(hc['SOMATIC_SNP_COUNT'])*   \\\n",
    "    pd.to_numeric(hc['SOMATIC_SNP_PROPORTION_VARIANTS_4_CALLERS']) \n",
    "hc['SOMATIC_SNP_COUNT_3+_CALLER'] = pd.to_numeric(hc['SOMATIC_SNP_COUNT'])*   \\\n",
    "    pd.to_numeric(hc['SOMATIC_SNP_PROPORTION_VARIANTS_3_CALLERS']) + hc['SOMATIC_SNP_COUNT_4+_CALLER'] \n",
    "hc['SOMATIC_SNP_COUNT_2+_CALLER'] = pd.to_numeric(hc['SOMATIC_SNP_COUNT'])*   \\\n",
    "    pd.to_numeric(hc['SOMATIC_SNP_PROPORTION_VARIANTS_2_CALLERS']) + hc['SOMATIC_SNP_COUNT_3+_CALLER']\n",
    "hc = hc.set_index('SAMPLE')\n",
    "hc['SOMATIC_INDELS_COUNT_3+_CALLER'] = pd.to_numeric(hc['SOMATIC_INDELS_COUNT'])*   \\\n",
    "    pd.to_numeric(hc['SOMATIC_INDELS_PROPORTION_VARIANTS_3_CALLERS']) \n",
    "hc['SOMATIC_INDELS_COUNT_2+_CALLER'] = pd.to_numeric(hc['SOMATIC_INDELS_COUNT'])*   \\\n",
    "    pd.to_numeric(hc['SOMATIC_INDELS_PROPORTION_VARIANTS_2_CALLERS']) + hc['SOMATIC_INDELS_COUNT_3+_CALLER']   \n",
    "\n",
    "hc =hc.apply(lambda x: pd.to_numeric(x, errors='ignore'))"
   ]
  },
  {
   "cell_type": "code",
   "execution_count": null,
   "metadata": {
    "collapsed": false
   },
   "outputs": [],
   "source": [
    "len(hc[hc.HAS_PASSED_TESTS == False])"
   ]
  },
  {
   "cell_type": "markdown",
   "metadata": {},
   "source": [
    "### Version and Tumor Type"
   ]
  },
  {
   "cell_type": "code",
   "execution_count": null,
   "metadata": {
    "collapsed": false
   },
   "outputs": [],
   "source": [
    "quickbarchart('TUMOR_TYPE')\n",
    "quickbarchart('PIPELINE_VERSION')"
   ]
  },
  {
   "cell_type": "markdown",
   "metadata": {},
   "source": [
    "### Total Somatic Counts"
   ]
  },
  {
   "cell_type": "code",
   "execution_count": null,
   "metadata": {
    "collapsed": false,
    "scrolled": false
   },
   "outputs": [],
   "source": [
    "# BY TUMOR TYPE\n",
    "minTypeCount = 5\n",
    "tumorTypes = hc['TUMOR_TYPE'].unique()\n",
    "analysisField = 'SOMATIC_SNP_COUNT_3+_CALLER'\n",
    "versions = ['v1.8','v1.9'] #hc.PIPELINE_VERSION.unique()\n",
    "types = ['T'] # hc[\"SAMPLE_TYPE\"].unique()\n",
    "for tumorType in tumorTypes:\n",
    "    ser = hc[(hc.TUMOR_TYPE == tumorType) & hc.PIPELINE_VERSION.isin(versions) & hc.SAMPLE_TYPE.isin(types)][analysisField]\n",
    "    if len(ser)>minTypeCount:\n",
    "        try:\n",
    "            #ser = pd.to_numeric(ser)\n",
    "            ser = ser.sort_values()\n",
    "            cum_dist = np.linspace(0.,1.,len(ser))\n",
    "            ser_cdf = pd.Series(cum_dist, index=ser,name= str(tumorType)+\": c=\"+str(ser.count())+\" m=\"+str(round(ser.median(),4)))\n",
    "            ser_cdf.plot(drawstyle='steps',legend=True,title=analysisField+\" CDF by tumor type, tumors with at least \"+str(minTypeCount)+ \" samples\",\\\n",
    "                     figsize=[15,6],ylim=[0,1],xlim=[0,1E7],logx = True, fontsize=8)\n",
    "        except:\n",
    "            print \"error in tumor type: \"+ str(tumorType)"
   ]
  },
  {
   "cell_type": "markdown",
   "metadata": {},
   "source": [
    "### Generic CDF"
   ]
  },
  {
   "cell_type": "code",
   "execution_count": null,
   "metadata": {
    "collapsed": false,
    "scrolled": false
   },
   "outputs": [],
   "source": [
    "#SETTINGS\n",
    "figsPerLine = 3\n",
    "fieldFilter = \"SOMATIC\"\n",
    "slicer = \"PIPELINE_VERSION\"\n",
    "slicerFilters =['v1.7','v1.8','v1.9'] #hc[slicer].unique()\n",
    "types = ['T'] # hc[\"SAMPLE_TYPE\"].unique()\n",
    "\n",
    "#CODE\n",
    "analysisFields = list(hc.columns.values)\n",
    "analysisFields = [x for x in analysisFields if fieldFilter in x]\n",
    "numFigures = len(analysisFields)\n",
    "fig, axs = plt.subplots(int(np.ceil(numFigures/figsPerLine)+1),figsPerLine)\n",
    "i = -1\n",
    "prevAnalysisField = \"\"\n",
    "for analysisField in analysisFields:\n",
    "    for slicerFilter in slicerFilters:\n",
    "        for type in types:\n",
    "            ser = hc[(hc[slicer] == slicerFilter) & (hc.SAMPLE_TYPE == type)][analysisField]\n",
    "            try:\n",
    "                ser = ser.sort_values()\n",
    "                cum_dist = np.linspace(0.,1.,len(ser))\n",
    "                ser_cdf = pd.Series(cum_dist, index=ser,name= str(slicerFilter)+\" \"+str(type) +\": c=\"+str(ser.count()))\n",
    "                if prevAnalysisField != analysisField:\n",
    "                    i = i+1\n",
    "                ser_cdf.plot(drawstyle='steps',legend=True,figsize=[18,4*(numFigures+1)/figsPerLine],ylim=[0,1],ax=axs[int(i/figsPerLine),i%figsPerLine],fontsize = 8)                \n",
    "                prevAnalysisField = analysisField\n",
    "            except:\n",
    "                #pass        \n",
    "                print  int(i/figsPerLine),i%figsPerLine,\"error in field, version, type: \"+ str(analysisField) + str(slicerFilter)+\" \"+ str(type)"
   ]
  },
  {
   "cell_type": "markdown",
   "metadata": {},
   "source": [
    "### Scatter Plot"
   ]
  },
  {
   "cell_type": "code",
   "execution_count": null,
   "metadata": {
    "collapsed": false,
    "scrolled": false
   },
   "outputs": [],
   "source": [
    "fldX = 'VARIANTS_GERMLINE_SNP'\n",
    "fieldFilterY = 'KINSHIP'\n",
    "#dfTempFail = hc[(hc['SOMATIC_SNP_COUNT_3+_CALLER']>50000)&(hc.SAMPLE_TYPE==\"T\")& (hc.PIPELINE_VERSION.isin(['v1.7','v1.8','v1.9']))  & (hc.HAS_PASSED_TESTS == False)].apply(lambda x: pd.to_numeric(x, errors='coerce'))\n",
    "#dfTempPass = hc[(hc['SOMATIC_SNP_COUNT_3+_CALLER']>50000)&(hc.SAMPLE_TYPE==\"T\")& (hc.PIPELINE_VERSION.isin(['v1.7','v1.8','v1.9'])) & (hc.HAS_PASSED_TESTS == True)].apply(lambda x: pd.to_numeric(x, errors='coerce'))\n",
    "analysisFields = list(hc.columns.values)\n",
    "analysisFields = [x for x in analysisFields if fieldFilterY in x]\n",
    "for fldY in analysisFields:\n",
    "    ax = hc[hc.PIPELINE_VERSION.isin(['v1.8','v1.9'])].plot(kind='scatter',color='Red', x=fldX, y=fldY,ylim=[0.3,0.5])\n",
    "    #dfTempPass.plot(kind='scatter', x=fldX, y=fldY,ax=ax)\n"
   ]
  },
  {
   "cell_type": "markdown",
   "metadata": {},
   "source": [
    "### SAMPLE ANALYSER"
   ]
  },
  {
   "cell_type": "code",
   "execution_count": null,
   "metadata": {
    "collapsed": false
   },
   "outputs": [],
   "source": [
    "hc = hc[~hc.RUN_NAME.str.contains('160802_HMFregCPCT_FR12254625_FR12244507_CPCT0')]"
   ]
  },
  {
   "cell_type": "code",
   "execution_count": null,
   "metadata": {
    "collapsed": false,
    "scrolled": false
   },
   "outputs": [],
   "source": [
    "analysisSample = 'CPCT02030250T'\n",
    "hcQuantile = hc[hc.SAMPLE_TYPE==\"T\"].rank(axis=0, method='average', numeric_only=True, na_option='keep', ascending=True, pct=True)\n",
    "hcSummary = hc.loc[analysisSample].to_frame().join(hcQuantile.loc[analysisSample].to_frame().rename(columns={analysisSample: 'quantile'}),rsuffix='_q').sort_values('quantile')\n",
    "hcSummary['quantile'] = (100*hcSummary['quantile']).map('{0:.0f}%'.format).replace(to_replace=\"nan%\", value=\"\")\n",
    "hcSummary[hcSummary['quantile'] != '']"
   ]
  },
  {
   "cell_type": "code",
   "execution_count": null,
   "metadata": {
    "collapsed": true
   },
   "outputs": [],
   "source": []
  },
  {
   "cell_type": "code",
   "execution_count": null,
   "metadata": {
    "collapsed": true
   },
   "outputs": [],
   "source": []
  }
 ],
 "metadata": {
  "kernelspec": {
   "display_name": "Python 2",
   "language": "python",
   "name": "python2"
  },
  "language_info": {
   "codemirror_mode": {
    "name": "ipython",
    "version": 2
   },
   "file_extension": ".py",
   "mimetype": "text/x-python",
   "name": "python",
   "nbconvert_exporter": "python",
   "pygments_lexer": "ipython2",
   "version": "2.7.10"
  }
 },
 "nbformat": 4,
 "nbformat_minor": 0
}
