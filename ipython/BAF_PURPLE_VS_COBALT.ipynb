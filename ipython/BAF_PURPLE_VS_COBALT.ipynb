{
 "cells": [
  {
   "cell_type": "code",
   "execution_count": null,
   "metadata": {
    "collapsed": false
   },
   "outputs": [],
   "source": [
    "import pandas as pd\n",
    "import sys\n",
    "sys.path.append(\"/Users/peterpriestley/hmf/repos/scripts/analysisscripts\") \n",
    "import chromosomeDefinition as cd\n",
    "import matplotlib.pyplot as plt\n",
    "%matplotlib inline"
   ]
  },
  {
   "cell_type": "code",
   "execution_count": null,
   "metadata": {
    "collapsed": false
   },
   "outputs": [],
   "source": [
    "PATH=\"/Users/peterpriestley/hmf/analyses/cobalt/\"\n",
    "COBALT_FILENAME = \"CPCT02010554T.amber.baf\"\n",
    "PURPLE_FILENAME = \"CPCT02010554T.purple.baf\""
   ]
  },
  {
   "cell_type": "code",
   "execution_count": null,
   "metadata": {
    "collapsed": true
   },
   "outputs": [],
   "source": [
    "dfPurpleBAF = pd.read_table(PATH + PURPLE_FILENAME)\n",
    "dfPurpleBAF['chromPos']= dfPurpleBAF['Chromosome'].apply(lambda x: cd.intChrom(x)) + dfPurpleBAF['Position'] / dfPurpleBAF['Chromosome'].apply(lambda x: cd.chromosomeLength[str(x)])"
   ]
  },
  {
   "cell_type": "code",
   "execution_count": null,
   "metadata": {
    "collapsed": true
   },
   "outputs": [],
   "source": [
    "dfCobaltBAF = pd.read_table(PATH + COBALT_FILENAME)\n",
    "dfCobaltBAF['chromPos']= dfCobaltBAF['Chromosome'].apply(lambda x: cd.intChrom(x)) + dfCobaltBAF['Position'] / dfCobaltBAF['Chromosome'].apply(lambda x: cd.chromosomeLength[str(x)])"
   ]
  },
  {
   "cell_type": "code",
   "execution_count": null,
   "metadata": {
    "collapsed": false
   },
   "outputs": [],
   "source": [
    "c,fractionMin,fractionMax = 1,0,22\n",
    "dftemp = dfCobaltBAF[(dfCobaltBAF.chromPos>c+fractionMin)&(dfCobaltBAF.chromPos<c+fractionMax)]\n",
    "plt.figure(figsize=[18,5])\n",
    "plt.scatter(dftemp.chromPos, dftemp.BAF)\n",
    "plt.grid(b=True, which='both', color='0.65',linestyle='-')\n",
    "plt.axis([c+fractionMin, c+fractionMax,0, 1])\n",
    "plt.show()\n",
    "\n",
    "dftemp = dfPurpleBAF[(dfPurpleBAF.chromPos>c+fractionMin)&(dfPurpleBAF.chromPos<c+fractionMax)]\n",
    "plt.figure(figsize=[18,5])\n",
    "plt.scatter(dftemp.chromPos, dftemp.BAF)\n",
    "plt.grid(b=True, which='both', color='0.65',linestyle='-')\n",
    "plt.axis([c+fractionMin, c+fractionMax,0, 1])\n",
    "plt.show()"
   ]
  },
  {
   "cell_type": "code",
   "execution_count": null,
   "metadata": {
    "collapsed": false
   },
   "outputs": [],
   "source": [
    "dftemp = dfCobaltBAF[(dfCobaltBAF.chromPos>c+fractionMin)&(dfCobaltBAF.chromPos<c+fractionMax)]\n",
    "dftemp"
   ]
  },
  {
   "cell_type": "code",
   "execution_count": null,
   "metadata": {
    "collapsed": true
   },
   "outputs": [],
   "source": []
  }
 ],
 "metadata": {
  "kernelspec": {
   "display_name": "Python 2",
   "language": "python",
   "name": "python2"
  },
  "language_info": {
   "codemirror_mode": {
    "name": "ipython",
    "version": 2
   },
   "file_extension": ".py",
   "mimetype": "text/x-python",
   "name": "python",
   "nbconvert_exporter": "python",
   "pygments_lexer": "ipython2",
   "version": "2.7.10"
  }
 },
 "nbformat": 4,
 "nbformat_minor": 0
}
