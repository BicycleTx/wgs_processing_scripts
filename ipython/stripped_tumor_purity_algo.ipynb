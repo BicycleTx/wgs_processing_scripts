{
 "cells": [
  {
   "cell_type": "code",
   "execution_count": null,
   "metadata": {
    "collapsed": false
   },
   "outputs": [],
   "source": [
    "import math\n",
    "import os\n",
    "import pandas as pd\n",
    "import numpy as np\n",
    "import copy\n",
    "import sys\n",
    "import matplotlib.pyplot as plt\n",
    "%matplotlib inline\n",
    "pd.set_option('display.max_rows', 50)\n",
    "pd.set_option('display.max_columns', 50)\n",
    "sys.path.append(\"/Users/peterpriestley/hmf/repos/scripts/analysisscripts\") \n",
    "import chromosomeDefinition as cd\n",
    "import analyseVCF as aVCF\n",
    "from scipy.stats import norm\n",
    "from sklearn.neighbors import KernelDensity\n",
    "%pprint"
   ]
  },
  {
   "cell_type": "code",
   "execution_count": null,
   "metadata": {
    "collapsed": true
   },
   "outputs": [],
   "source": [
    "CNV_COLUMNS = ['chrom','posStart','posEnd','copyNum','gainOrLoss','BAF','score','germlineOrSomatic','oneOrZero']"
   ]
  },
  {
   "cell_type": "code",
   "execution_count": null,
   "metadata": {
    "collapsed": false
   },
   "outputs": [],
   "source": [
    "# LOAD BED\n",
    "BED_PATH = \"/Users/peterpriestley/hmf/analyses/slices/\"\n",
    "BED_FILE_NAME = \"cosmicCurated.bed\" \n",
    "BED_FILE_NAME = \"cosmicCancerCensus.bed\"\n",
    "BED_PATH = \"/Users/peterpriestley/hmf/analyses/giabTruthsets/\"\n",
    "BED_FILE_NAME = \"NA12878_GIAB_highconf_IllFB-IllGATKHC-CG-Ion-Solid_ALLCHROM_v3.2.2_highconf.bed\"\n",
    "#BED_FILE_NAME = \"CPCT_Slicing.bed\"\n",
    "USE_BED = True\n",
    "LOAD_FULL_FILE = True"
   ]
  },
  {
   "cell_type": "markdown",
   "metadata": {
    "collapsed": false
   },
   "source": [
    "### FUNCTIONS"
   ]
  },
  {
   "cell_type": "code",
   "execution_count": null,
   "metadata": {
    "collapsed": true
   },
   "outputs": [],
   "source": [
    "def findFiles(path,suffix):\n",
    "    files=[]\n",
    "    for x in os.listdir(path):\n",
    "        if x[-len(suffix):] == suffix:\n",
    "            files.append(x)\n",
    "    return files"
   ]
  },
  {
   "cell_type": "code",
   "execution_count": null,
   "metadata": {
    "collapsed": false
   },
   "outputs": [],
   "source": [
    "def loadCNVforPatient(cnvFile,patientName):\n",
    "    dfCNV = pd.read_table(cnvFile, names = CNV_COLUMNS )\n",
    "    #print dfCNV\n",
    "    #add regions with default copy number\n",
    "    last = dfCNV.iloc[0]\n",
    "    for i in range(1, dfCNV.shape[0]-1):\n",
    "        #print last.chrom,last.posStart,last.posEnd\n",
    "        if last['posEnd']<>dfCNV.iloc[i]['posStart']:\n",
    "            if last['chrom']==dfCNV.iloc[i]['chrom']:\n",
    "                dfCNV.loc[len(dfCNV)] = [last['chrom'],last['posEnd'], dfCNV.iloc[i]['posStart']-1,2,'none','-','-','-','-']\n",
    "            else:\n",
    "                dfCNV.loc[len(dfCNV)] = [last['chrom'],last['posEnd'], cd.chromosomeLength[last['chrom']],2,'none','-','-','-','-']\n",
    "                if dfCNV.iloc[i]['posStart']<>0:\n",
    "                    dfCNV.loc[len(dfCNV)] = [dfCNV.iloc[i]['chrom'],0, dfCNV.iloc[i]['posStart'],2,'none','-','-','-','-']\n",
    "        last = dfCNV.iloc[i]\n",
    "    #fix first record\n",
    "    if dfCNV.iloc[0]['posStart']<>0:\n",
    "        dfCNV.loc[len(dfCNV)] = ['1',0, dfCNV.iloc[0]['posStart'],2,'none','-','-','-','-']\n",
    "    #Additional Fields\n",
    "    dfCNV['chromPos']= dfCNV['chrom'].apply(lambda x: cd.intChrom(x)) + dfCNV['posStart'] / dfCNV['chrom'].apply(lambda x: cd.chromosomeLength[str(x)])\n",
    "    dfCNV['chrom'] = dfCNV['chrom'].apply(lambda x: cd.intChrom(x))\n",
    "    dfCNV['cappedCopyNum'] = dfCNV['copyNum'].clip(upper=5)\n",
    "    dfCNV = dfCNV.sort_values([\"chrom\",\"posStart\",\"posEnd\"]).reset_index()\n",
    "    dfCNV['regionLength'] = (dfCNV['posEnd']-dfCNV['posStart'])\n",
    "    dfCNV['patientName']=patientName\n",
    "    return dfCNV"
   ]
  },
  {
   "cell_type": "code",
   "execution_count": null,
   "metadata": {
    "collapsed": true
   },
   "outputs": [],
   "source": [
    "def nonZeroCountBetween(chrom,minPos,maxPos):\n",
    "    temp = dfTumorRatio[(dfTumorRatio.Chromosome==chrom)&(dfTumorRatio.Start>minPos)&\\\n",
    "                       (dfTumorRatio.Start<maxPos)&(dfTumorRatio.Ratio_x<>-1)]\n",
    "    return temp['Start'].count(),temp['Ratio_x'].mean(),temp['Ratio_y'].mean(),temp['MedianRatio_x'].mean(),temp['MedianRatio_y'].mean()"
   ]
  },
  {
   "cell_type": "code",
   "execution_count": null,
   "metadata": {
    "collapsed": true
   },
   "outputs": [],
   "source": [
    "def fitBAFPeak(mBAF):\n",
    "    return min(mBAFPeaks, key=lambda x:abs(x-mBAF))\n",
    "\n",
    "def fitCNVPeak(ratio):\n",
    "    return min(cnvPeaks, key=lambda x:abs(x-ratio))"
   ]
  },
  {
   "cell_type": "code",
   "execution_count": null,
   "metadata": {
    "collapsed": true
   },
   "outputs": [],
   "source": [
    "def patientIDFromFilename(filename):\n",
    "    patientIDStart = filename.find(\"CPCT02\")\n",
    "    return filename[patientIDStart:patientIDStart+12]"
   ]
  },
  {
   "cell_type": "code",
   "execution_count": null,
   "metadata": {
    "collapsed": true
   },
   "outputs": [],
   "source": [
    "def loadVCF(path,filename,sampleNames,patientID):\n",
    "    df = pd.DataFrame()\n",
    "    if USE_BED:\n",
    "        bed = aVCF.loadBEDFile(BED_PATH,BED_FILE_NAME)\n",
    "        return pd.concat([df,aVCF.loadVariantsFromVCF(path,filename,sampleNames,patientID,True,True,bed,LOAD_FULL_FILE)])\n",
    "    else:\n",
    "        return pd.concat([df,aVCF.loadVariantsFromVCF(path,filename,sampleNames,patientID,True)])"
   ]
  },
  {
   "cell_type": "code",
   "execution_count": null,
   "metadata": {
    "collapsed": true
   },
   "outputs": [],
   "source": [
    "def calculateMBAFBetween(chrom,minPos,maxPos):\n",
    "    dftemp = dfBAF[(dfBAF.Chromosome==chrom)&(dfBAF.Position>minPos)&(dfBAF.Position<maxPos)]\n",
    "    return dftemp['mBAF'].median(),dftemp['mBAF'].count()"
   ]
  },
  {
   "cell_type": "code",
   "execution_count": null,
   "metadata": {
    "collapsed": true
   },
   "outputs": [],
   "source": [
    "def createBAF(dfGermline):\n",
    "    dfBAF = dfGermline[(dfGermline['variantType']==\"SNP\")&(dfGermline['normalSGT']==\"0/1\")&(dfGermline['normalAF']>0.4) \\\n",
    "                   &(dfGermline['normalAF']<0.65)&(dfGermline['normalDP']>30)&\\\n",
    "                   (dfGermline['normalDP']<40)][['chrom','pos','tumorAF']]\n",
    "    dfBAF.columns = ['Chromosome', 'Position','BAF']\n",
    "    dfBAF['Position'] = pd.to_numeric(dfBAF['Position'])\n",
    "    dfBAF['mBAF']= 0.5+abs(dfBAF['BAF']-0.5)\n",
    "    dfBAF['chromPos']= dfBAF['Chromosome'].apply(lambda x: cd.intChrom(x)) + dfBAF['Position'] / dfBAF['Chromosome'].apply(lambda x: cd.chromosomeLength[str(x)])\n",
    "    dfBAF['Chromosome']= dfBAF['Chromosome'].apply(lambda x: cd.intChrom(x))\n",
    "    return dfBAF"
   ]
  },
  {
   "cell_type": "code",
   "execution_count": null,
   "metadata": {
    "collapsed": true
   },
   "outputs": [],
   "source": [
    "def AFByPosPlot(pos,AF,startChartPos,endChartPos):\n",
    "    plt.figure(figsize=[18,3])\n",
    "    plt.scatter(pos, AF)\n",
    "    plt.grid(b=True, which='both', color='0.65',linestyle='-')\n",
    "    plt.axis([startChartPos, endChartPos,0, 1.0])\n",
    "    plt.show()"
   ]
  },
  {
   "cell_type": "code",
   "execution_count": null,
   "metadata": {
    "collapsed": true
   },
   "outputs": [],
   "source": [
    "def findPeaks(log_dens,X_range):\n",
    "    peaks = []\n",
    "    troughs = []\n",
    "    dens=np.exp(log_dens)\n",
    "    diff = [dens[x] - dens[x-1] for x in range(1,len(dens))]\n",
    "    for i in range (len(diff)-1):\n",
    "        if diff[i+1] < 0 and diff[i] > 0:\n",
    "            peaks.append(float(i+1)/len(dens)*X_range)\n",
    "        if diff[i+1] > 0 and diff[i] < 0:\n",
    "            troughs.append(float(i+1)/len(dens)*X_range)\n",
    "    return peaks#, troughs"
   ]
  },
  {
   "cell_type": "code",
   "execution_count": null,
   "metadata": {
    "collapsed": false
   },
   "outputs": [],
   "source": [
    "def fitCNVPurity(tumorCNV,CNVRatioWeightFactor,minPurity,maxPurity,\n",
    "                 stepsPurity,minCNVNormFactor,maxCNVNormFactor,stepsCNVNormFactor,printDetail=False):\n",
    "    fitResults = []\n",
    "    sumWeight = sum([(tumorCNV[x][1]) for x in range(1,len(tumorCNV))])\n",
    "    for purity in np.linspace(minPurity,maxPurity,stepsPurity):\n",
    "        for CNVNormalisationFactor in np.linspace(minCNVNormFactor,maxCNVNormFactor,stepsCNVNormFactor):\n",
    "            modelDeviation, diploidProportion, modelBAFDeviation = 0,0,0\n",
    "            for i in range(0, len(tumorCNV)):\n",
    "                if tumorCNV[i][1] > 0 and  tumorCNV[i][2] >= 0 : #\n",
    "                    # Should also correct for mBAF < 0.5\n",
    "                    minDeviation,bestFittedBAF,fittedPloidy,BAFOnlyDeviation = 1e9,0,0,0  #reset variables\n",
    "                    for ploidy in range(1,10):\n",
    "                        modelCNVratio = CNVNormalisationFactor + (ploidy-2)*purity*CNVNormalisationFactor/2\n",
    "                        CNVDeviation = ploidy /2.0*CNVRatioWeightFactor*abs(modelCNVratio-tumorCNV[i][3]) #OR TUMOR RATIO???\n",
    "                        for BAF in range(int(math.ceil(ploidy/2.0)),ploidy+1):\n",
    "                            if float(BAF)/ploidy >0.49 and float(BAF)/ploidy <0.51:\n",
    "                                modelBAF = 0.533\n",
    "                            else:\n",
    "                                modelBAF = (1+purity*(BAF-1))/(2+purity*(ploidy-2))\n",
    "                            if minDeviation > (abs(modelBAF-tumorCNV[i][0]) + CNVDeviation):\n",
    "                                minDeviation = (abs(modelBAF-tumorCNV[i][0]) + CNVDeviation)\n",
    "                                BAFOnlyDeviation = abs(modelBAF-tumorCNV[i][0])\n",
    "                                bestFittedBAF = modelBAF\n",
    "                                fittedPloidy = ploidy\n",
    "                    modelDeviation = modelDeviation + tumorCNV[i][1]/sumWeight*minDeviation\n",
    "                    modelBAFDeviation = modelBAFDeviation + tumorCNV[i][1]/sumWeight*BAFOnlyDeviation\n",
    "                    if fittedPloidy == 2:\n",
    "                        diploidProportion = diploidProportion + tumorCNV[i][1] / sumWeight\n",
    "                if printDetail and tumorCNV[i][1] >= 500:\n",
    "                    print purity,CNVNormalisationFactor,bestFittedBAF,fittedPloidy,tumorCNV[i][1]*minDeviation,tumorCNV[i][4],tumorCNV[i][5],tumorCNV[i][6]\n",
    "            fitResults.append([purity,CNVNormalisationFactor, modelDeviation,modelBAFDeviation,diploidProportion])\n",
    "    dfFitOutput = pd.DataFrame(sorted(fitResults, key=lambda x: x[2]))\n",
    "    dfFitOutput.columns = [\"purity\",\"NormFactor\",'score','modelBAFDeviation','diploidProportion']\n",
    "    return dfFitOutput"
   ]
  },
  {
   "cell_type": "markdown",
   "metadata": {},
   "source": [
    "### ANALYSIS"
   ]
  },
  {
   "cell_type": "code",
   "execution_count": null,
   "metadata": {
    "collapsed": false
   },
   "outputs": [],
   "source": [
    "PATH=\"/Users/peterpriestley/hmf/analyses/v1.12samples/CPCT02040094/\"\n",
    "tumorCNVFileName=findFiles(PATH,\"gz_CNVs\")[0]\n",
    "normalCNVFileName=findFiles(PATH,\"normal_CNVs\")[0]\n",
    "tumorRatioFileName=findFiles(PATH,\"gz_ratio.txt\")[0]\n",
    "normalRatioFileName=findFiles(PATH,\"gz_normal_ratio.txt\")[0]\n",
    "germlineVCFFilename = findFiles(PATH,\"SLICED.vcf\")[0]\n",
    "patientID = patientIDFromFilename(germlineVCFFilename)\n",
    "print \"germline =\",germlineVCFFilename\n",
    "print \"patient =\",patientID\n",
    "print \"CNV =\",tumorCNVFileName"
   ]
  },
  {
   "cell_type": "code",
   "execution_count": null,
   "metadata": {
    "collapsed": false
   },
   "outputs": [],
   "source": [
    "dfGermline = loadVCF(PATH,germlineVCFFilename,{patientID+'R':'normal',patientID+'T':'tumor'},patientID)"
   ]
  },
  {
   "cell_type": "code",
   "execution_count": null,
   "metadata": {
    "collapsed": false
   },
   "outputs": [],
   "source": [
    "dfBAF = createBAF(dfGermline)"
   ]
  },
  {
   "cell_type": "code",
   "execution_count": null,
   "metadata": {
    "collapsed": false,
    "scrolled": false
   },
   "outputs": [],
   "source": [
    "patientName=normalCNVFileName[:12]\n",
    "dfTumorCNV = loadCNVforPatient(PATH+tumorCNVFileName,patientName)\n",
    "dfNormalCNV = loadCNVforPatient(PATH+normalCNVFileName,patientName)"
   ]
  },
  {
   "cell_type": "code",
   "execution_count": null,
   "metadata": {
    "collapsed": false
   },
   "outputs": [],
   "source": [
    "dfTumorCNV.head(20)"
   ]
  },
  {
   "cell_type": "code",
   "execution_count": null,
   "metadata": {
    "collapsed": false
   },
   "outputs": [],
   "source": [
    "dfTumorCNV['mBAF'], dfTumorCNV['mBAFCount'] = \\\n",
    "    np.vectorize(calculateMBAFBetween)(dfTumorCNV['chrom'], dfTumorCNV['posStart'],dfTumorCNV['posEnd'])"
   ]
  },
  {
   "cell_type": "code",
   "execution_count": null,
   "metadata": {
    "collapsed": false
   },
   "outputs": [],
   "source": [
    "c, fractionMin, fractionMax = 1,0,22\n",
    "dfSom = dfBAF[(dfBAF.chromPos>c+fractionMin)&(dfBAF.chromPos<c+fractionMax)]\n",
    "AFByPosPlot(dfSom.chromPos, dfSom.BAF,c+fractionMin, c+fractionMax)\n",
    "\n",
    "dftemp = dfTumorCNV[(dfTumorCNV.mBAF>=0.0)&(dfTumorCNV.mBAF<=1.0)&(dfTumorCNV.mBAFCount>20)&(dfTumorCNV.chromPos<=c+fractionMax)&(dfTumorCNV.chromPos>=c+fractionMin)]\n",
    "plt.figure(figsize=[18,2])\n",
    "for CNV in range(0,6):\n",
    "    plt.hist(dftemp[(dftemp.copyNum==CNV)]['mBAF'].values,cumulative=False, normed=False, bins=50,range=(0.5,1.0),weights=dftemp[(dftemp.copyNum==CNV)]['mBAFCount'].values,stacked = True,rwidth=0.8,label='CNV ='+str(CNV))\n",
    "    plt.legend()\n",
    "plt.show()"
   ]
  },
  {
   "cell_type": "code",
   "execution_count": null,
   "metadata": {
    "collapsed": false
   },
   "outputs": [],
   "source": [
    "dfTumorCNV[(dfTumorCNV.mBAF>0.74)&(dfTumorCNV.mBAF<0.77)&(dfTumorCNV.mBAFCount>300)]"
   ]
  },
  {
   "cell_type": "markdown",
   "metadata": {},
   "source": [
    "### Ratio calculations"
   ]
  },
  {
   "cell_type": "code",
   "execution_count": null,
   "metadata": {
    "collapsed": false
   },
   "outputs": [],
   "source": [
    "dfTumorRatio = pd.read_table(PATH + tumorRatioFileName, header=0)\n",
    "dfNormalRatio = pd.read_table(PATH + normalRatioFileName, header=0)\n",
    "dfTumorRatio.set_index(['Chromosome','Start'],inplace=True)\n",
    "dfNormalRatio.set_index(['Chromosome','Start'],inplace=True)\n",
    "dfTumorRatio = pd.merge(dfTumorRatio,dfNormalRatio,how='inner', left_index=True,right_index=True)\n",
    "dfTumorRatio['ratio']= pd.to_numeric(dfTumorRatio['Ratio_x'],errors=coerce) /pd.to_numeric(dfTumorRatio['Ratio_y'],errors=coerce)\n",
    "dfTumorRatio = dfTumorRatio.reset_index()\n",
    "dfTumorRatio['chromPos'] = dfTumorRatio['Chromosome'].apply(lambda x: cd.intChrom(str(x))) + \\\n",
    "    dfTumorRatio['Start']/dfTumorRatio['Chromosome'].map(lambda x: cd.chromosomeLength[str(x)])\n",
    "dfTumorRatio['Chromosome'] = dfTumorRatio['Chromosome'].apply(lambda x: cd.intChrom(str(x)))"
   ]
  },
  {
   "cell_type": "code",
   "execution_count": null,
   "metadata": {
    "collapsed": false
   },
   "outputs": [],
   "source": [
    "dfTumorCNV['nonZeroCount'],dfTumorCNV['tumorRatio'],dfTumorCNV['normalRatio'] \\\n",
    "    ,dfTumorCNV['tumorMedianRatio'],dfTumorCNV['normalMedianRatio'] = \\\n",
    "    np.vectorize(nonZeroCountBetween)(dfTumorCNV['chrom'], dfTumorCNV['posStart'],dfTumorCNV['posEnd'])\n",
    "dfTumorCNV['ratioOfRatio']=dfTumorCNV.tumorRatio/dfTumorCNV.normalRatio"
   ]
  },
  {
   "cell_type": "markdown",
   "metadata": {},
   "source": [
    "### PEAK FINDING"
   ]
  },
  {
   "cell_type": "code",
   "execution_count": null,
   "metadata": {
    "collapsed": false
   },
   "outputs": [],
   "source": [
    "#X = dfTumorCNV[dfTumorCNV.nonZeroCount>10].ratioOfRatio.sort_values()[:, np.newaxis]\n",
    "X_range = 5\n",
    "X_plot = np.linspace(0,X_range,1000)[:, np.newaxis]\n",
    "kde = KernelDensity(kernel='gaussian', bandwidth=0.02).fit(dfTumorCNV[(dfTumorCNV.nonZeroCount>10)].tumorRatio.sort_values()[:, np.newaxis])\n",
    "log_dens = kde.score_samples(X_plot)\n",
    "cnvPeaks = findPeaks(log_dens,X_range)\n",
    "X_range = 1\n",
    "X_plot = np.linspace(0,X_range,1000)[:, np.newaxis]\n",
    "kde = KernelDensity(kernel='gaussian', bandwidth=0.005).fit(dfTumorCNV[dfTumorCNV.mBAFCount>10].mBAF.sort_values()[:, np.newaxis])\n",
    "log_dens = kde.score_samples(X_plot)\n",
    "mBAFPeaks = findPeaks(log_dens,X_range)"
   ]
  },
  {
   "cell_type": "code",
   "execution_count": null,
   "metadata": {
    "collapsed": false
   },
   "outputs": [],
   "source": [
    "cnvPeaks"
   ]
  },
  {
   "cell_type": "code",
   "execution_count": null,
   "metadata": {
    "collapsed": false
   },
   "outputs": [],
   "source": [
    "dfTumorCNV['fittedBAFPeak'] = np.vectorize(fitBAFPeak)(dfTumorCNV['mBAF'])\n",
    "dfTumorCNV['fittedCNVPeak'] = np.vectorize(fitCNVPeak)(dfTumorCNV['ratioOfRatio'])\n",
    "pd.pivot_table(dfTumorCNV[dfTumorCNV.chrom<23], values='mBAFCount', index=['fittedBAFPeak'], columns=['fittedCNVPeak'], aggfunc='sum',margins=True).fillna(\"\")"
   ]
  },
  {
   "cell_type": "markdown",
   "metadata": {},
   "source": [
    "### Fitting"
   ]
  },
  {
   "cell_type": "code",
   "execution_count": null,
   "metadata": {
    "collapsed": false
   },
   "outputs": [],
   "source": [
    "CNVFit = fitCNVPurity(dfTumorCNV[dfTumorCNV.chrom<=22]\\\n",
    "            [['mBAF','mBAFCount','tumorRatio','ratioOfRatio','chrom','posStart','regionLength']]\\\n",
    "                      .values.tolist(),0.2,0.12,1.0,23,0.5,1.2,15)\n",
    "CNVFit.head()"
   ]
  },
  {
   "cell_type": "code",
   "execution_count": null,
   "metadata": {
    "collapsed": false
   },
   "outputs": [],
   "source": [
    "CNVFit.head(1)"
   ]
  },
  {
   "cell_type": "code",
   "execution_count": null,
   "metadata": {
    "collapsed": false,
    "scrolled": true
   },
   "outputs": [],
   "source": [
    "#REFINE\n",
    "CNVFit = fitCNVPurity(dfTumorCNV[['mBAF','mBAFCount','tumorRatio','ratioOfRatio',\\\n",
    "                'chrom','posStart','regionLength']].values.tolist(),0.2,CNVFit.iloc[0][0]-0.04,CNVFit.iloc[0][0]+0.04,9,CNVFit.iloc[0][1]-0.05,CNVFit.iloc[0][1]+0.05,11,False)\n",
    "CNVFit.head()"
   ]
  },
  {
   "cell_type": "code",
   "execution_count": null,
   "metadata": {
    "collapsed": false
   },
   "outputs": [],
   "source": [
    "#dfTumorCNV[(dfTumorCNV.ratioOfRatio>1.1)&(dfTumorCNV.mBAFCount>=20)]"
   ]
  },
  {
   "cell_type": "code",
   "execution_count": null,
   "metadata": {
    "collapsed": false
   },
   "outputs": [],
   "source": []
  },
  {
   "cell_type": "code",
   "execution_count": null,
   "metadata": {
    "collapsed": true
   },
   "outputs": [],
   "source": []
  },
  {
   "cell_type": "code",
   "execution_count": null,
   "metadata": {
    "collapsed": true
   },
   "outputs": [],
   "source": []
  },
  {
   "cell_type": "code",
   "execution_count": null,
   "metadata": {
    "collapsed": true
   },
   "outputs": [],
   "source": []
  },
  {
   "cell_type": "code",
   "execution_count": null,
   "metadata": {
    "collapsed": true
   },
   "outputs": [],
   "source": []
  }
 ],
 "metadata": {
  "kernelspec": {
   "display_name": "Python 2",
   "language": "python",
   "name": "python2"
  },
  "language_info": {
   "codemirror_mode": {
    "name": "ipython",
    "version": 2
   },
   "file_extension": ".py",
   "mimetype": "text/x-python",
   "name": "python",
   "nbconvert_exporter": "python",
   "pygments_lexer": "ipython2",
   "version": "2.7.10"
  }
 },
 "nbformat": 4,
 "nbformat_minor": 0
}
