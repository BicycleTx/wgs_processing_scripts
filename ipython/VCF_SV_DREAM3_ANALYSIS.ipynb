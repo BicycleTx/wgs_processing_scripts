{
 "cells": [
  {
   "cell_type": "markdown",
   "metadata": {},
   "source": [
    "### CONFIGURATION"
   ]
  },
  {
   "cell_type": "code",
   "execution_count": null,
   "metadata": {
    "collapsed": false
   },
   "outputs": [],
   "source": [
    "import pandas as pd\n",
    "pd.set_option('display.max_columns', 500)\n",
    "pd.set_option('display.max_rows', 200)\n",
    "pd.set_option('display.width', 1000)\n",
    "import numpy as np\n",
    "import os\n",
    "import copy\n",
    "import sys\n",
    "import matplotlib.pyplot as plt\n",
    "%matplotlib inline"
   ]
  },
  {
   "cell_type": "code",
   "execution_count": null,
   "metadata": {
    "collapsed": false
   },
   "outputs": [],
   "source": [
    "# Hartwig imports\n",
    "sys.path.append(\"/Users/peterpriestley/hmf/repos/scripts/analysisscripts\") \n",
    "import analyseVCF as aVCF\n",
    "import venn as vn"
   ]
  },
  {
   "cell_type": "code",
   "execution_count": null,
   "metadata": {
    "collapsed": false
   },
   "outputs": [],
   "source": [
    "# BED FILE\n",
    "USE_BED = False\n",
    "LOAD_NON_BED_MUTATIONS = False\n",
    "BED_PATH = \"/Users/peterpriestley/hmf/analyses/giabTruthsets/\"\n",
    "BED_FILE_NAME = \"NA12878_GIAB_highconf_IllFB-IllGATKHC-CG-Ion-Solid_ALLCHROM_v3.2.2_highconf.bed\"\n",
    "\n",
    "# TRUTH SET\n",
    "SAMPLE_NAMES_TRUTH = {'SPIKEIN':'truth'}\n",
    "VCF_PATH_TRUTH = \"/Users/peterpriestley/hmf/analyses/dreamChallenge/\"\n",
    "VCF_FILE_NAME_TRUTH = \"synthetic.challenge.set3.tumor.20pctmasked.truth.vcf\"\n",
    "\n",
    "# COMBINED VCF CONFIG\n",
    "#VCF_SAMPLE = \"IS3.snv.indel.sv\"\n",
    "VCF_PATH = \"/Users/peterpriestley/hmf/analyses/dreamChallenge/sv_analysis/\"\n",
    "VCF_FILE_NAME = \"somaticSV.vcf\"\n",
    "#SAMPLE_NAMES = {'G15512.prenormal.sorted': 'normal', 'IS3.snv.indel.sv':'tumor'}\n",
    "SAMPLE_NAMES = {'IS3.snv.indel.sv':'tumor'}"
   ]
  },
  {
   "cell_type": "code",
   "execution_count": null,
   "metadata": {
    "collapsed": false
   },
   "outputs": [],
   "source": [
    "# SPECIFY SAMPLES\n",
    "VCF_SAMPLES=[]\n",
    "for x in os.listdir(VCF_PATH):\n",
    "    #if x[-10:] == \"sliced.vcf\":\n",
    "    #    VCF_SAMPLES.append(x[40:52] + \"R_\" + x[40:52] + \"T_merged_somatics_snpEff_dbSNP_Cosmicv76_melted.vcf\")\n",
    "    if x[-13:] == \"somaticSV.vcf\":\n",
    "        VCF_SAMPLES.append(x)\n",
    "VCF_SAMPLES"
   ]
  },
  {
   "cell_type": "markdown",
   "metadata": {},
   "source": [
    "### Functions"
   ]
  },
  {
   "cell_type": "code",
   "execution_count": null,
   "metadata": {
    "collapsed": false
   },
   "outputs": [],
   "source": [
    "def calculateTruth(sv_caller,sv_type,chrom,startMin,startMax,lenMin,lenMax):\n",
    "    if sv_caller == \"MANTA\" and sv_type == 'INS':   #offset for MANTA INS + Does not give a lenth\n",
    "        startMin = startMin - 0.5 * (lenMax)\n",
    "        return dfTruth[(dfTruth.chrom==chrom)&(dfTruth.truthSVStartMax>=startMin-300)&(dfTruth.truthSVStartMin<=startMax+300)]['id'].count()\n",
    "    elif sv_type == 'BND' or sv_type == 'TRA':\n",
    "        if sv_caller == \"DELLY\":\n",
    "            startMin = startMin - 100\n",
    "        return dfTruth[(dfTruth.chrom==chrom)&(dfTruth.truthSVStartMax>=startMin)&(dfTruth.truthSVStartMin<=startMax)]['id'].count()\n",
    "    elif sv_caller == \"DELLY\" and (sv_type == 'DUP' or sv_type == 'INV'):\n",
    "        lenMax = lenMax + 125\n",
    "        lenMin = lenMin - 150\n",
    "        startMax = startMax + 200\n",
    "        startMin = startMin - 200\n",
    "    elif sv_caller == \"DELLY\" and sv_type == 'DEL':\n",
    "        lenMin = lenMin - 150\n",
    "        startMax = startMax + 200\n",
    "    return dfTruth[(dfTruth.chrom==chrom)&(dfTruth.truthSVStartMax>=startMin-300)& \\\n",
    "            (dfTruth.truthSVStartMin<=startMax+300)&(dfTruth.truthSVLenMax>=lenMin-300)&(dfTruth.truthSVLenMin<=lenMax+300)]['id'].count()\n",
    "def calculateTruthSubVariantType(sv_caller,sv_type,chrom,startMin,startMax,lenMin,lenMax):\n",
    "    if sv_caller == \"MANTA\" and sv_type == 'INS':   #offset for MANTA INS + Does not give a lenth\n",
    "        startMin = startMin - 0.5 * (lenMax)\n",
    "        startMax = startMax\n",
    "    elif sv_caller == \"DELLY\" and sv_type == 'DEL':\n",
    "        startMax = startMax + 200\n",
    "    return dfTruth[(dfTruth.chrom==chrom)&(dfTruth.truthSVStartMax>=startMin)& \\\n",
    "            (dfTruth.truthSVStartMin<=startMax)]['variantSubType'].max() "
   ]
  },
  {
   "cell_type": "code",
   "execution_count": null,
   "metadata": {
    "collapsed": false
   },
   "outputs": [],
   "source": [
    "def calcuatePrecisionSensivityMatrix(df):\n",
    "    outputdata = []\n",
    "    variantSubTypes = df['variantSubType'].unique()\n",
    "    for variantSubType in variantSubTypes:\n",
    "        truePositives = len(df[(df['truth'] == True) &(df['variantSubType'] == variantSubType)])\n",
    "        positives = len(df[(df['variantSubType'] == variantSubType)])\n",
    "        truthSet = len(dfTruth[(dfTruth.variantType ==\"SV\")&(dfTruth.variantSubType ==variantSubType)]) \n",
    "        falseNegatives = truthSet - truePositives\n",
    "        if positives > 0:\n",
    "            outputdata.append([variantSubType, truthSet,truePositives,positives-truePositives, falseNegatives, \\\n",
    "                                   round(truePositives/float(positives),4),round(truePositives/float(max(truthSet,1)),4)])\n",
    "    \n",
    "    outputDF = pd.DataFrame(outputdata)\n",
    "    outputDF.columns = (['variantSubType','truthSet','truePositives','falsePositives','falseNegatives','precision','sensitivity'])\n",
    "    return outputDF.sort_values(['variantSubType'])"
   ]
  },
  {
   "cell_type": "markdown",
   "metadata": {},
   "source": [
    "<h3> Load VCFs and Prepare DF"
   ]
  },
  {
   "cell_type": "code",
   "execution_count": null,
   "metadata": {
    "collapsed": false,
    "scrolled": false
   },
   "outputs": [],
   "source": [
    "## LOAD TRUTH SET VCF\n",
    "if USE_BED:\n",
    "    bed = aVCF.loadBEDFile(BED_PATH,BED_FILE_NAME)\n",
    "    dfTruth = aVCF.loadVariantsFromVCF(VCF_PATH_TRUTH,VCF_FILE_NAME_TRUTH,SAMPLE_NAMES_TRUTH,\"Mix-in Truth Set\",True,True,bed,LOAD_NON_BED_MUTATIONS)\n",
    "else:\n",
    "    dfTruth = aVCF.loadVariantsFromVCF(VCF_PATH_TRUTH,VCF_FILE_NAME_TRUTH,SAMPLE_NAMES_TRUTH,\"Mix-in Truth Set\",True,False)\n",
    "dfTruth = dfTruth[(dfTruth.variantType==\"SV\")&(dfTruth.variantSubType<>\"IGN\")&(dfTruth.variantSubType<>\"MSK\")]"
   ]
  },
  {
   "cell_type": "code",
   "execution_count": null,
   "metadata": {
    "collapsed": false
   },
   "outputs": [],
   "source": [
    "dfTruth[dfTruth.variantType=='SV'][['variantType','variantSubType','ref']].groupby(['variantType','variantSubType']).agg('count')"
   ]
  },
  {
   "cell_type": "code",
   "execution_count": null,
   "metadata": {
    "collapsed": false
   },
   "outputs": [],
   "source": [
    "#Load all VCF_SAMPLES to DF\n",
    "dfProd = pd.DataFrame({})\n",
    "for VCF_SAMPLE in VCF_SAMPLES:\n",
    "    VCF_FILE_NAME = VCF_SAMPLE\n",
    "    if USE_BED:\n",
    "        bed = aVCF.loadBEDFile(BED_PATH,BED_FILE_NAME)\n",
    "        dfProd = pd.concat([dfProd,aVCF.loadVariantsFromVCF(VCF_PATH,VCF_FILE_NAME,SAMPLE_NAMES,VCF_SAMPLE,True,True,bed,LOAD_NON_BED_MUTATIONS)])\n",
    "    else:\n",
    "        dfProd = pd.concat([dfProd,aVCF.loadVariantsFromVCF(VCF_PATH,VCF_FILE_NAME,SAMPLE_NAMES,VCF_SAMPLE,True,False)])\n",
    "dfProd = dfProd[(dfProd.variantType==\"SV\")&(dfProd.variantSubType<>\"IGN\")]"
   ]
  },
  {
   "cell_type": "code",
   "execution_count": null,
   "metadata": {
    "collapsed": false
   },
   "outputs": [],
   "source": [
    "dfProd[['variantType','variantSubType','ref']].groupby(['variantType','variantSubType']).agg('count')"
   ]
  },
  {
   "cell_type": "code",
   "execution_count": null,
   "metadata": {
    "collapsed": false,
    "scrolled": false
   },
   "outputs": [],
   "source": [
    "SV_CALLER = 'MANTA'\n",
    "#SV_CALLER = 'DELLY'\n",
    "dfProd['truth'] = np.vectorize(calculateTruth)(SV_CALLER,dfProd['variantSubType'],dfProd['chrom'], dfProd['tumorSVStartMin'],dfProd['tumorSVStartMax'],dfProd['tumorSVLenMin'],dfProd['tumorSVLenMax'])\n",
    "dfProd['truthVariantSubType'] = np.vectorize(calculateTruthSubVariantType)(SV_CALLER,dfProd['variantSubType'],dfProd['chrom'], dfProd['tumorSVStartMin'],dfProd['tumorSVStartMax'],dfProd['tumorSVLenMin'],dfProd['tumorSVLenMax'])"
   ]
  },
  {
   "cell_type": "markdown",
   "metadata": {},
   "source": [
    "### PRECISION + SENSITIVITY"
   ]
  },
  {
   "cell_type": "code",
   "execution_count": null,
   "metadata": {
    "collapsed": true
   },
   "outputs": [],
   "source": [
    "##### NOTES\n",
    "# don't display duplicate BNDs)\n",
    "# Delly INS???"
   ]
  },
  {
   "cell_type": "code",
   "execution_count": null,
   "metadata": {
    "collapsed": false
   },
   "outputs": [],
   "source": [
    "#PRECISION + SENSITIVITY by caller - PROD\n",
    "outputDF = calcuatePrecisionSensivityMatrix(dfProd)\n",
    "outputDF"
   ]
  },
  {
   "cell_type": "code",
   "execution_count": null,
   "metadata": {
    "collapsed": false
   },
   "outputs": [],
   "source": [
    "pd.pivot_table(dfProd[dfProd.variantType=='SV'], values='id', index=['variantSubType'], columns=['truth','truthVariantSubType'], aggfunc='count').fillna(\"\")"
   ]
  },
  {
   "cell_type": "code",
   "execution_count": null,
   "metadata": {
    "collapsed": false,
    "scrolled": false
   },
   "outputs": [],
   "source": [
    "pd.pivot_table(dfProd[dfProd.variantType=='SV'], values='id', index=['variantSubType'], columns=['truth','truthVariantSubType'], aggfunc='count').fillna(\"\")"
   ]
  },
  {
   "cell_type": "code",
   "execution_count": null,
   "metadata": {
    "collapsed": false
   },
   "outputs": [],
   "source": [
    "dfProd[((dfProd.variantSubType == 'DUP'))].head(50)"
   ]
  },
  {
   "cell_type": "code",
   "execution_count": null,
   "metadata": {
    "collapsed": false
   },
   "outputs": [],
   "source": [
    "dfTruth[(dfTruth.chromFrac>2.65)].head(2)"
   ]
  },
  {
   "cell_type": "markdown",
   "metadata": {},
   "source": [
    "### "
   ]
  },
  {
   "cell_type": "code",
   "execution_count": null,
   "metadata": {
    "collapsed": true
   },
   "outputs": [],
   "source": [
    "def findMatchingBNDChromPos(df):\n",
    "    df['matchingBNDChromPos'] = \"\"\n",
    "    for i in range(0,df.shape[0]):\n",
    "        if df.iloc[i]['variantSubType'] == \"BND\":\n",
    "            tmp = df.iloc[i]['tumorallele'].find(\"]\")\n",
    "            if tmp >= 0:\n",
    "                df.iloc[i,df.columns.get_loc('matchingBNDChromPos')] = df.iloc[i]['tumorallele'][tmp+1:df.iloc[i]['tumorallele'].find(\"]\",tmp+1)]\n",
    "    return df\n",
    "        "
   ]
  },
  {
   "cell_type": "code",
   "execution_count": null,
   "metadata": {
    "collapsed": false
   },
   "outputs": [],
   "source": [
    "dfProd = findMatchingBNDChromPos(dfProd)"
   ]
  },
  {
   "cell_type": "code",
   "execution_count": null,
   "metadata": {
    "collapsed": false
   },
   "outputs": [],
   "source": [
    "len(dfProd[(dfProd.variantSubType=='BND')&(dfProd.matchingBNDChromPos<>'')])"
   ]
  },
  {
   "cell_type": "code",
   "execution_count": null,
   "metadata": {
    "collapsed": false
   },
   "outputs": [],
   "source": [
    "dfProd[dfProd.matchingBNDChromPos=='8:128753374'].truth"
   ]
  },
  {
   "cell_type": "code",
   "execution_count": null,
   "metadata": {
    "collapsed": false
   },
   "outputs": [],
   "source": [
    "dfProd[\"duplicate\"] = AND (dfProd.duplicated(subset=['matchingBNDChromPos'],keep=False))"
   ]
  },
  {
   "cell_type": "code",
   "execution_count": null,
   "metadata": {
    "collapsed": false
   },
   "outputs": [],
   "source": [
    "pd.pivot_table(dfProd[dfProd.variantType=='SV'], values='id', index=['chrom'], columns=['truth','variantSubType'], aggfunc='count').fillna(\"\")"
   ]
  },
  {
   "cell_type": "code",
   "execution_count": null,
   "metadata": {
    "collapsed": false,
    "scrolled": false
   },
   "outputs": [],
   "source": [
    "dfProd[(dfProd.variantSubType<>'BND')&(dfProd.truth==0)]"
   ]
  },
  {
   "cell_type": "code",
   "execution_count": null,
   "metadata": {
    "collapsed": true
   },
   "outputs": [],
   "source": []
  }
 ],
 "metadata": {
  "kernelspec": {
   "display_name": "Python 2",
   "language": "python",
   "name": "python2"
  },
  "language_info": {
   "codemirror_mode": {
    "name": "ipython",
    "version": 2
   },
   "file_extension": ".py",
   "mimetype": "text/x-python",
   "name": "python",
   "nbconvert_exporter": "python",
   "pygments_lexer": "ipython2",
   "version": "2.7.10"
  }
 },
 "nbformat": 4,
 "nbformat_minor": 0
}
