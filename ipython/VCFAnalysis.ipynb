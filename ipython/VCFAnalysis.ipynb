{
 "cells": [
  {
   "cell_type": "markdown",
   "metadata": {},
   "source": [
    "### CONFIGURATION"
   ]
  },
  {
   "cell_type": "code",
   "execution_count": 1,
   "metadata": {
    "collapsed": true
   },
   "outputs": [],
   "source": [
    "import pandas as pd\n",
    "pd.set_option('display.max_columns', 500)\n",
    "pd.set_option('display.width', 1000)\n",
    "import numpy as np\n",
    "import copy\n",
    "import sys\n",
    "import matplotlib.pyplot as plt\n",
    "%matplotlib inline"
   ]
  },
  {
   "cell_type": "code",
   "execution_count": 2,
   "metadata": {
    "collapsed": false
   },
   "outputs": [],
   "source": [
    "# Hartwig imports\n",
    "sys.path.append(\"/Users/peterpriestley/hmf/repos/scripts/analysisscripts\") \n",
    "import analyseVCF as aVCF\n",
    "import venn as vn"
   ]
  },
  {
   "cell_type": "code",
   "execution_count": 3,
   "metadata": {
    "collapsed": true
   },
   "outputs": [],
   "source": [
    "# BED FILE\n",
    "BED_PATH = \"/Users/peterpriestley/hmf/analyses/70-30sample/truthset/\"\n",
    "BED_FILE_NAME = \"union13callableMQonlymerged_addcert_nouncert_excludesimplerep_excludesegdups_excludedecoy_excludeRepSeqSTRs_noCNVs_v2.19_2mindatasets_5minYesNoRatio.bed\"\n",
    "# TRUTH SET\n",
    "SAMPLE_NAMES_TRUTH = {'NA12878':'70-30truth'}\n",
    "VCF_PATH_TRUTH = \"/Users/peterpriestley/hmf/analyses/70-30sample/truthset/\"\n",
    "VCF_FILE_NAME_TRUTH = \"na12878-na24385-somatic-truth.vcf\"\n",
    "# COMBINED VCF CONFIG\n",
    "VCF_SAMPLE = \"CPCT11111111\"\n",
    "VCF_PATH = \"/Users/peterpriestley/hmf/analyses/70-30sample/160524/\"\n",
    "VCF_FILE_NAME = VCF_SAMPLE + \"R_\"+ VCF_SAMPLE + \"T_merged_somatics.vcf\"\n",
    "SAMPLE_NAMES = {VCF_SAMPLE + 'T.mutect':'mutect', \\\n",
    "                VCF_SAMPLE + 'T.freebayes':'freebayes', \\\n",
    "                'TUMOR.strelka':'strelka', \\\n",
    "                'TUMOR.varscan':'varscan'}"
   ]
  },
  {
   "cell_type": "markdown",
   "metadata": {},
   "source": [
    "<h3> Load VCFs and Prepare DF"
   ]
  },
  {
   "cell_type": "code",
   "execution_count": 4,
   "metadata": {
    "collapsed": false
   },
   "outputs": [
    {
     "name": "stdout",
     "output_type": "stream",
     "text": [
      "reading BED file\n",
      "Bed File Loaded\n"
     ]
    }
   ],
   "source": [
    "## LOAD BED\n",
    "bed = aVCF.loadBEDFile(BED_PATH,BED_FILE_NAME)\n",
    "bed.reverse()"
   ]
  },
  {
   "cell_type": "code",
   "execution_count": 5,
   "metadata": {
    "collapsed": false
   },
   "outputs": [
    {
     "name": "stdout",
     "output_type": "stream",
     "text": [
      "reading vcf file: na12878-na24385-somatic-truth.vcf\n",
      "reading VCF File line: 100000\n",
      "reading VCF File line: 200000\n",
      "reading VCF File line: 300000\n",
      "reading VCF File line: 400000\n",
      "reading VCF File line: 500000\n",
      "reading VCF File line: 600000\n",
      "reading VCF File line: 700000\n",
      "reading VCF File line: 800000\n",
      "reading VCF File line: 900000\n",
      "reading VCF File line: 1000000\n",
      "Number variants loaded: 1005479\n"
     ]
    }
   ],
   "source": [
    "## LOAD TRUTH SET VCF\n",
    "truthBed = copy.deepcopy(bed)\n",
    "dfTruth = aVCF.loadVaraintsFromVCF(VCF_PATH_TRUTH,VCF_FILE_NAME_TRUTH, \\\n",
    "                                   SAMPLE_NAMES_TRUTH,\"Mix-in Truth Set\",True,truthBed)"
   ]
  },
  {
   "cell_type": "code",
   "execution_count": 7,
   "metadata": {
    "collapsed": false
   },
   "outputs": [
    {
     "name": "stdout",
     "output_type": "stream",
     "text": [
      "reading vcf file: CPCT11111111R_CPCT11111111T_merged_somatics.vcf\n",
      "reading VCF File line: 100000\n",
      "reading VCF File line: 200000\n",
      "reading VCF File line: 300000\n",
      "reading VCF File line: 400000\n",
      "reading VCF File line: 500000\n",
      "reading VCF File line: 600000\n",
      "reading VCF File line: 700000\n",
      "reading VCF File line: 800000\n",
      "reading VCF File line: 900000\n",
      "reading VCF File line: 1000000\n",
      "reading VCF File line: 1100000\n",
      "reading VCF File line: 1200000\n",
      "reading VCF File line: 1300000\n",
      "Number variants loaded: 995943\n"
     ]
    }
   ],
   "source": [
    "# LOAD SAMPLE VCF + match to truth set\n",
    "df = aVCF.loadVaraintsFromVCF(VCF_PATH,VCF_FILE_NAME,SAMPLE_NAMES,VCF_SAMPLE,True,bed)\n",
    "df['Truth']=df.chromPos.isin(dfTruth['chromPos']) \n"
   ]
  },
  {
   "cell_type": "markdown",
   "metadata": {},
   "source": [
    "<h3> High Level Stats"
   ]
  },
  {
   "cell_type": "code",
   "execution_count": 85,
   "metadata": {
    "collapsed": false
   },
   "outputs": [
    {
     "data": {
      "text/html": [
       "<div>\n",
       "<table border=\"1\" class=\"dataframe\">\n",
       "  <thead>\n",
       "    <tr style=\"text-align: right;\">\n",
       "      <th></th>\n",
       "      <th>variantType</th>\n",
       "      <th>caller</th>\n",
       "      <th>truthSet</th>\n",
       "      <th>truePositives</th>\n",
       "      <th>falsePositives</th>\n",
       "      <th>falseNegatives</th>\n",
       "      <th>precision</th>\n",
       "      <th>sensitivity</th>\n",
       "    </tr>\n",
       "  </thead>\n",
       "  <tbody>\n",
       "    <tr>\n",
       "      <th>1</th>\n",
       "      <td>INDEL</td>\n",
       "      <td>strelka</td>\n",
       "      <td>54460</td>\n",
       "      <td>21063</td>\n",
       "      <td>326</td>\n",
       "      <td>33071</td>\n",
       "      <td>0.9848</td>\n",
       "      <td>0.3868</td>\n",
       "    </tr>\n",
       "    <tr>\n",
       "      <th>3</th>\n",
       "      <td>INDEL</td>\n",
       "      <td>varscan</td>\n",
       "      <td>56351</td>\n",
       "      <td>50811</td>\n",
       "      <td>2217</td>\n",
       "      <td>3323</td>\n",
       "      <td>0.9582</td>\n",
       "      <td>0.9017</td>\n",
       "    </tr>\n",
       "    <tr>\n",
       "      <th>5</th>\n",
       "      <td>SNP</td>\n",
       "      <td>freebayes</td>\n",
       "      <td>911136</td>\n",
       "      <td>140258</td>\n",
       "      <td>4559</td>\n",
       "      <td>766319</td>\n",
       "      <td>0.9685</td>\n",
       "      <td>0.1539</td>\n",
       "    </tr>\n",
       "    <tr>\n",
       "      <th>4</th>\n",
       "      <td>SNP</td>\n",
       "      <td>mutect</td>\n",
       "      <td>925567</td>\n",
       "      <td>849561</td>\n",
       "      <td>18990</td>\n",
       "      <td>57016</td>\n",
       "      <td>0.9781</td>\n",
       "      <td>0.9179</td>\n",
       "    </tr>\n",
       "    <tr>\n",
       "      <th>0</th>\n",
       "      <td>SNP</td>\n",
       "      <td>strelka</td>\n",
       "      <td>927132</td>\n",
       "      <td>868898</td>\n",
       "      <td>20555</td>\n",
       "      <td>37679</td>\n",
       "      <td>0.9769</td>\n",
       "      <td>0.9372</td>\n",
       "    </tr>\n",
       "    <tr>\n",
       "      <th>2</th>\n",
       "      <td>SNP</td>\n",
       "      <td>varscan</td>\n",
       "      <td>914517</td>\n",
       "      <td>782133</td>\n",
       "      <td>7940</td>\n",
       "      <td>124444</td>\n",
       "      <td>0.9900</td>\n",
       "      <td>0.8552</td>\n",
       "    </tr>\n",
       "  </tbody>\n",
       "</table>\n",
       "</div>"
      ],
      "text/plain": [
       "  variantType     caller  truthSet  truePositives  falsePositives  falseNegatives  precision  sensitivity\n",
       "1       INDEL    strelka     54460          21063             326           33071     0.9848       0.3868\n",
       "3       INDEL    varscan     56351          50811            2217            3323     0.9582       0.9017\n",
       "5         SNP  freebayes    911136         140258            4559          766319     0.9685       0.1539\n",
       "4         SNP     mutect    925567         849561           18990           57016     0.9781       0.9179\n",
       "0         SNP    strelka    927132         868898           20555           37679     0.9769       0.9372\n",
       "2         SNP    varscan    914517         782133            7940          124444     0.9900       0.8552"
      ]
     },
     "execution_count": 85,
     "metadata": {},
     "output_type": "execute_result"
    }
   ],
   "source": [
    "#PRECISION + SENSITIVITY by caller\n",
    "outputdata = []\n",
    "\n",
    "for columnName in list(df):\n",
    "    if columnName.endswith('allele'):\n",
    "        variantTypes = df[(df[myCaller+'allele'] != '')].variantType.unique()\n",
    "        for variantType in variantTypes:\n",
    "            myCaller = columnName[:-6]\n",
    "            truePositives = len(df[(df[myCaller+'allele'] != '')&(df['Truth'] == True) &(df['variantType'] == variantType)])\n",
    "            falseNegatives = len(df[(df[myCaller+'allele'] == '')&(df['Truth'] == True) &(df['variantType'] == variantType)])\n",
    "            positives = len(df[(df[myCaller+'allele'] != '')&(df['variantType'] == variantType)])\n",
    "            truthSet = positives + falseNegatives \n",
    "            if positives > 0:\n",
    "                outputdata.append([variantType, myCaller, truthSet,truePositives,positives-truePositives, falseNegatives, \\\n",
    "                                   round(truePositives/float(positives),4),round(truePositives/float(truthSet),4)])\n",
    "    \n",
    "outputDF = pd.DataFrame(outputdata)\n",
    "outputDF.columns = (['variantType','caller','truthSet','truePositives','falsePositives','falseNegatives','precision','sensitivity'])\n",
    "outputDF.sort_values(['variantType','caller'])"
   ]
  },
  {
   "cell_type": "code",
   "execution_count": 18,
   "metadata": {
    "collapsed": false
   },
   "outputs": [
    {
     "data": {
      "text/html": [
       "<div>\n",
       "<table border=\"1\" class=\"dataframe\">\n",
       "  <thead>\n",
       "    <tr style=\"text-align: right;\">\n",
       "      <th></th>\n",
       "      <th>pos</th>\n",
       "    </tr>\n",
       "    <tr>\n",
       "      <th>variantType</th>\n",
       "      <th></th>\n",
       "    </tr>\n",
       "  </thead>\n",
       "  <tbody>\n",
       "    <tr>\n",
       "      <th>INDEL</th>\n",
       "      <td>78123</td>\n",
       "    </tr>\n",
       "    <tr>\n",
       "      <th>SNP</th>\n",
       "      <td>927356</td>\n",
       "    </tr>\n",
       "  </tbody>\n",
       "</table>\n",
       "</div>"
      ],
      "text/plain": [
       "                pos\n",
       "variantType        \n",
       "INDEL         78123\n",
       "SNP          927356"
      ]
     },
     "execution_count": 18,
     "metadata": {},
     "output_type": "execute_result"
    }
   ],
   "source": [
    "dfTruth[['variantType','pos']].groupby(['variantType']).agg('count')"
   ]
  },
  {
   "cell_type": "code",
   "execution_count": 8,
   "metadata": {
    "collapsed": false
   },
   "outputs": [
    {
     "data": {
      "text/html": [
       "<div>\n",
       "<table border=\"1\" class=\"dataframe\">\n",
       "  <thead>\n",
       "    <tr style=\"text-align: right;\">\n",
       "      <th></th>\n",
       "      <th>pos</th>\n",
       "    </tr>\n",
       "    <tr>\n",
       "      <th>variantType</th>\n",
       "      <th></th>\n",
       "    </tr>\n",
       "  </thead>\n",
       "  <tbody>\n",
       "    <tr>\n",
       "      <th>INDEL</th>\n",
       "      <td>57221</td>\n",
       "    </tr>\n",
       "    <tr>\n",
       "      <th>SNP</th>\n",
       "      <td>938722</td>\n",
       "    </tr>\n",
       "  </tbody>\n",
       "</table>\n",
       "</div>"
      ],
      "text/plain": [
       "                pos\n",
       "variantType        \n",
       "INDEL         57221\n",
       "SNP          938722"
      ]
     },
     "execution_count": 8,
     "metadata": {},
     "output_type": "execute_result"
    }
   ],
   "source": [
    "df[['variantType','pos']].groupby(['variantType']).agg('count')"
   ]
  },
  {
   "cell_type": "code",
   "execution_count": null,
   "metadata": {
    "collapsed": true
   },
   "outputs": [],
   "source": []
  },
  {
   "cell_type": "code",
   "execution_count": 21,
   "metadata": {
    "collapsed": false
   },
   "outputs": [
    {
     "data": {
      "text/html": [
       "<div>\n",
       "<table border=\"1\" class=\"dataframe\">\n",
       "  <thead>\n",
       "    <tr style=\"text-align: right;\">\n",
       "      <th></th>\n",
       "      <th>chrom</th>\n",
       "      <th>pos</th>\n",
       "      <th>chromPos</th>\n",
       "      <th>chromFrac</th>\n",
       "      <th>ref</th>\n",
       "      <th>vennSegment</th>\n",
       "      <th>numCallers</th>\n",
       "      <th>variantType</th>\n",
       "      <th>variantSubType</th>\n",
       "      <th>strelkaallele</th>\n",
       "      <th>strelkaallelicFreq</th>\n",
       "      <th>varscanallele</th>\n",
       "      <th>varscanallelicFreq</th>\n",
       "      <th>mutectallele</th>\n",
       "      <th>mutectallelicFreq</th>\n",
       "      <th>freebayesallele</th>\n",
       "      <th>freebayesallelicFreq</th>\n",
       "      <th>patientName</th>\n",
       "      <th>Truth</th>\n",
       "    </tr>\n",
       "  </thead>\n",
       "  <tbody>\n",
       "    <tr>\n",
       "      <th>0</th>\n",
       "      <td>1</td>\n",
       "      <td>713641</td>\n",
       "      <td>1713641</td>\n",
       "      <td>1.002863</td>\n",
       "      <td>A</td>\n",
       "      <td>mutect</td>\n",
       "      <td>1</td>\n",
       "      <td>SNP</td>\n",
       "      <td></td>\n",
       "      <td></td>\n",
       "      <td></td>\n",
       "      <td></td>\n",
       "      <td></td>\n",
       "      <td>T</td>\n",
       "      <td>0.1</td>\n",
       "      <td></td>\n",
       "      <td></td>\n",
       "      <td>CPCT11111111</td>\n",
       "      <td>False</td>\n",
       "    </tr>\n",
       "  </tbody>\n",
       "</table>\n",
       "</div>"
      ],
      "text/plain": [
       "  chrom     pos chromPos  chromFrac ref vennSegment  numCallers variantType variantSubType strelkaallele strelkaallelicFreq varscanallele varscanallelicFreq mutectallele mutectallelicFreq freebayesallele freebayesallelicFreq   patientName  Truth\n",
       "0     1  713641  1713641   1.002863   A      mutect           1         SNP                                                                                             T               0.1                                       CPCT11111111  False"
      ]
     },
     "execution_count": 21,
     "metadata": {},
     "output_type": "execute_result"
    }
   ],
   "source": [
    "df.head(1)"
   ]
  },
  {
   "cell_type": "markdown",
   "metadata": {},
   "source": [
    "<h3> SNP"
   ]
  },
  {
   "cell_type": "code",
   "execution_count": 10,
   "metadata": {
    "collapsed": false
   },
   "outputs": [],
   "source": [
    "snpdf = df[(df.variantType == 'SNP')]"
   ]
  },
  {
   "cell_type": "code",
   "execution_count": 84,
   "metadata": {
    "collapsed": false
   },
   "outputs": [
    {
     "data": {
      "text/html": [
       "<div>\n",
       "<table border=\"1\" class=\"dataframe\">\n",
       "  <thead>\n",
       "    <tr style=\"text-align: right;\">\n",
       "      <th></th>\n",
       "      <th>variantType</th>\n",
       "      <th>caller</th>\n",
       "      <th>truthSet</th>\n",
       "      <th>truePositives</th>\n",
       "      <th>falsePositives</th>\n",
       "      <th>falseNegatives</th>\n",
       "      <th>precision</th>\n",
       "      <th>sensitivity</th>\n",
       "    </tr>\n",
       "  </thead>\n",
       "  <tbody>\n",
       "    <tr>\n",
       "      <th>1</th>\n",
       "      <td>INDEL</td>\n",
       "      <td>strelka</td>\n",
       "      <td>54460</td>\n",
       "      <td>21063</td>\n",
       "      <td>326</td>\n",
       "      <td>33071</td>\n",
       "      <td>0.9848</td>\n",
       "      <td>0.3868</td>\n",
       "    </tr>\n",
       "    <tr>\n",
       "      <th>3</th>\n",
       "      <td>INDEL</td>\n",
       "      <td>varscan</td>\n",
       "      <td>56351</td>\n",
       "      <td>50811</td>\n",
       "      <td>2217</td>\n",
       "      <td>3323</td>\n",
       "      <td>0.9582</td>\n",
       "      <td>0.9017</td>\n",
       "    </tr>\n",
       "    <tr>\n",
       "      <th>5</th>\n",
       "      <td>SNP</td>\n",
       "      <td>freebayes</td>\n",
       "      <td>911136</td>\n",
       "      <td>140258</td>\n",
       "      <td>4559</td>\n",
       "      <td>766319</td>\n",
       "      <td>0.9685</td>\n",
       "      <td>0.1539</td>\n",
       "    </tr>\n",
       "    <tr>\n",
       "      <th>4</th>\n",
       "      <td>SNP</td>\n",
       "      <td>mutect</td>\n",
       "      <td>925567</td>\n",
       "      <td>849561</td>\n",
       "      <td>18990</td>\n",
       "      <td>57016</td>\n",
       "      <td>0.9781</td>\n",
       "      <td>0.9179</td>\n",
       "    </tr>\n",
       "    <tr>\n",
       "      <th>0</th>\n",
       "      <td>SNP</td>\n",
       "      <td>strelka</td>\n",
       "      <td>927132</td>\n",
       "      <td>868898</td>\n",
       "      <td>20555</td>\n",
       "      <td>37679</td>\n",
       "      <td>0.9769</td>\n",
       "      <td>0.9372</td>\n",
       "    </tr>\n",
       "    <tr>\n",
       "      <th>2</th>\n",
       "      <td>SNP</td>\n",
       "      <td>varscan</td>\n",
       "      <td>914517</td>\n",
       "      <td>782133</td>\n",
       "      <td>7940</td>\n",
       "      <td>124444</td>\n",
       "      <td>0.9900</td>\n",
       "      <td>0.8552</td>\n",
       "    </tr>\n",
       "  </tbody>\n",
       "</table>\n",
       "</div>"
      ],
      "text/plain": [
       "  variantType     caller  truthSet  truePositives  falsePositives  falseNegatives  precision  sensitivity\n",
       "1       INDEL    strelka     54460          21063             326           33071     0.9848       0.3868\n",
       "3       INDEL    varscan     56351          50811            2217            3323     0.9582       0.9017\n",
       "5         SNP  freebayes    911136         140258            4559          766319     0.9685       0.1539\n",
       "4         SNP     mutect    925567         849561           18990           57016     0.9781       0.9179\n",
       "0         SNP    strelka    927132         868898           20555           37679     0.9769       0.9372\n",
       "2         SNP    varscan    914517         782133            7940          124444     0.9900       0.8552"
      ]
     },
     "execution_count": 84,
     "metadata": {},
     "output_type": "execute_result"
    }
   ],
   "source": []
  },
  {
   "cell_type": "code",
   "execution_count": 19,
   "metadata": {
    "collapsed": false
   },
   "outputs": [
    {
     "data": {
      "text/html": [
       "<div>\n",
       "<table border=\"1\" class=\"dataframe\">\n",
       "  <thead>\n",
       "    <tr style=\"text-align: right;\">\n",
       "      <th></th>\n",
       "      <th>pos</th>\n",
       "    </tr>\n",
       "    <tr>\n",
       "      <th>Truth</th>\n",
       "      <th></th>\n",
       "    </tr>\n",
       "  </thead>\n",
       "  <tbody>\n",
       "    <tr>\n",
       "      <th>False</th>\n",
       "      <td>32145</td>\n",
       "    </tr>\n",
       "    <tr>\n",
       "      <th>True</th>\n",
       "      <td>906577</td>\n",
       "    </tr>\n",
       "  </tbody>\n",
       "</table>\n",
       "</div>"
      ],
      "text/plain": [
       "          pos\n",
       "Truth        \n",
       "False   32145\n",
       "True   906577"
      ]
     },
     "execution_count": 19,
     "metadata": {},
     "output_type": "execute_result"
    }
   ],
   "source": [
    "snpdf[['Truth','pos']].groupby(['Truth']).agg('count')"
   ]
  },
  {
   "cell_type": "code",
   "execution_count": 14,
   "metadata": {
    "collapsed": false
   },
   "outputs": [
    {
     "data": {
      "text/html": [
       "<div>\n",
       "<table border=\"1\" class=\"dataframe\">\n",
       "  <thead>\n",
       "    <tr style=\"text-align: right;\">\n",
       "      <th></th>\n",
       "      <th>Truth</th>\n",
       "      <th>False</th>\n",
       "      <th>True</th>\n",
       "    </tr>\n",
       "    <tr>\n",
       "      <th>numCallers</th>\n",
       "      <th>vennSegment</th>\n",
       "      <th></th>\n",
       "      <th></th>\n",
       "    </tr>\n",
       "  </thead>\n",
       "  <tbody>\n",
       "    <tr>\n",
       "      <th rowspan=\"4\" valign=\"top\">1</th>\n",
       "      <th>freebayes</th>\n",
       "      <td>3307.0</td>\n",
       "      <td>1393.0</td>\n",
       "    </tr>\n",
       "    <tr>\n",
       "      <th>mutect</th>\n",
       "      <td>6875.0</td>\n",
       "      <td>18715.0</td>\n",
       "    </tr>\n",
       "    <tr>\n",
       "      <th>strelka</th>\n",
       "      <td>6263.0</td>\n",
       "      <td>17647.0</td>\n",
       "    </tr>\n",
       "    <tr>\n",
       "      <th>varscan</th>\n",
       "      <td>965.0</td>\n",
       "      <td>5647.0</td>\n",
       "    </tr>\n",
       "    <tr>\n",
       "      <th rowspan=\"9\" valign=\"top\">2</th>\n",
       "      <th>filterInvarscan-freebayes</th>\n",
       "      <td>54.0</td>\n",
       "      <td>33.0</td>\n",
       "    </tr>\n",
       "    <tr>\n",
       "      <th>filterInvarscan-mutect</th>\n",
       "      <td>25.0</td>\n",
       "      <td>244.0</td>\n",
       "    </tr>\n",
       "    <tr>\n",
       "      <th>freebayes-mutect</th>\n",
       "      <td>41.0</td>\n",
       "      <td>491.0</td>\n",
       "    </tr>\n",
       "    <tr>\n",
       "      <th>strelka-filterInvarscan</th>\n",
       "      <td>19.0</td>\n",
       "      <td>336.0</td>\n",
       "    </tr>\n",
       "    <tr>\n",
       "      <th>strelka-freebayes</th>\n",
       "      <td>153.0</td>\n",
       "      <td>1419.0</td>\n",
       "    </tr>\n",
       "    <tr>\n",
       "      <th>strelka-mutect</th>\n",
       "      <td>7457.0</td>\n",
       "      <td>74396.0</td>\n",
       "    </tr>\n",
       "    <tr>\n",
       "      <th>strelka-varscan</th>\n",
       "      <td>2094.0</td>\n",
       "      <td>25512.0</td>\n",
       "    </tr>\n",
       "    <tr>\n",
       "      <th>varscan-freebayes</th>\n",
       "      <td>102.0</td>\n",
       "      <td>434.0</td>\n",
       "    </tr>\n",
       "    <tr>\n",
       "      <th>varscan-mutect</th>\n",
       "      <td>218.0</td>\n",
       "      <td>10618.0</td>\n",
       "    </tr>\n",
       "    <tr>\n",
       "      <th rowspan=\"7\" valign=\"top\">3</th>\n",
       "      <th>filterInvarscan-freebayes-mutect</th>\n",
       "      <td>1.0</td>\n",
       "      <td>20.0</td>\n",
       "    </tr>\n",
       "    <tr>\n",
       "      <th>strelka-filterInvarscan-freebayes</th>\n",
       "      <td>1.0</td>\n",
       "      <td>28.0</td>\n",
       "    </tr>\n",
       "    <tr>\n",
       "      <th>strelka-filterInvarscan-mutect</th>\n",
       "      <td>25.0</td>\n",
       "      <td>1263.0</td>\n",
       "    </tr>\n",
       "    <tr>\n",
       "      <th>strelka-freebayes-mutect</th>\n",
       "      <td>109.0</td>\n",
       "      <td>10383.0</td>\n",
       "    </tr>\n",
       "    <tr>\n",
       "      <th>strelka-varscan-freebayes</th>\n",
       "      <td>197.0</td>\n",
       "      <td>4567.0</td>\n",
       "    </tr>\n",
       "    <tr>\n",
       "      <th>strelka-varscan-mutect</th>\n",
       "      <td>3645.0</td>\n",
       "      <td>611941.0</td>\n",
       "    </tr>\n",
       "    <tr>\n",
       "      <th>varscan-freebayes-mutect</th>\n",
       "      <td>2.0</td>\n",
       "      <td>84.0</td>\n",
       "    </tr>\n",
       "    <tr>\n",
       "      <th rowspan=\"2\" valign=\"top\">4</th>\n",
       "      <th>Intersection</th>\n",
       "      <td>592.0</td>\n",
       "      <td>121303.0</td>\n",
       "    </tr>\n",
       "    <tr>\n",
       "      <th>strelka-filterInvarscan-freebayes-mutect</th>\n",
       "      <td>NaN</td>\n",
       "      <td>103.0</td>\n",
       "    </tr>\n",
       "  </tbody>\n",
       "</table>\n",
       "</div>"
      ],
      "text/plain": [
       "Truth                                                 False     True \n",
       "numCallers vennSegment                                               \n",
       "1          freebayes                                 3307.0    1393.0\n",
       "           mutect                                    6875.0   18715.0\n",
       "           strelka                                   6263.0   17647.0\n",
       "           varscan                                    965.0    5647.0\n",
       "2          filterInvarscan-freebayes                   54.0      33.0\n",
       "           filterInvarscan-mutect                      25.0     244.0\n",
       "           freebayes-mutect                            41.0     491.0\n",
       "           strelka-filterInvarscan                     19.0     336.0\n",
       "           strelka-freebayes                          153.0    1419.0\n",
       "           strelka-mutect                            7457.0   74396.0\n",
       "           strelka-varscan                           2094.0   25512.0\n",
       "           varscan-freebayes                          102.0     434.0\n",
       "           varscan-mutect                             218.0   10618.0\n",
       "3          filterInvarscan-freebayes-mutect             1.0      20.0\n",
       "           strelka-filterInvarscan-freebayes            1.0      28.0\n",
       "           strelka-filterInvarscan-mutect              25.0    1263.0\n",
       "           strelka-freebayes-mutect                   109.0   10383.0\n",
       "           strelka-varscan-freebayes                  197.0    4567.0\n",
       "           strelka-varscan-mutect                    3645.0  611941.0\n",
       "           varscan-freebayes-mutect                     2.0      84.0\n",
       "4          Intersection                               592.0  121303.0\n",
       "           strelka-filterInvarscan-freebayes-mutect     NaN     103.0"
      ]
     },
     "execution_count": 14,
     "metadata": {},
     "output_type": "execute_result"
    }
   ],
   "source": [
    "pd.pivot_table(snpdf, values='pos', index=['numCallers','vennSegment'], columns=['Truth'], aggfunc='count')"
   ]
  },
  {
   "cell_type": "code",
   "execution_count": 12,
   "metadata": {
    "collapsed": false
   },
   "outputs": [
    {
     "data": {
      "image/png": "[encoded data removed]",
      "text/plain": [
       "<matplotlib.figure.Figure at 0x1307ffd50>"
      ]
     },
     "metadata": {},
     "output_type": "display_data"
    }
   ],
   "source": [
    "vn.venn([snpdf[snpdf.mutectallele != '']['chromPos'], \\\n",
    "         snpdf[snpdf.strelkaallele != '']['chromPos'], \\\n",
    "        snpdf[snpdf.freebayesallele != '']['chromPos'], \\\n",
    "        snpdf[snpdf.varscanallele != '']['chromPos'] \\\n",
    "        ],['mutect','strelka','freebayes','varscan'],figsize=(6,6))"
   ]
  },
  {
   "cell_type": "markdown",
   "metadata": {},
   "source": [
    "### <hd1> Indel Venn"
   ]
  },
  {
   "cell_type": "code",
   "execution_count": 15,
   "metadata": {
    "collapsed": false
   },
   "outputs": [],
   "source": [
    "indeldf= df[(df.variantType == 'INDEL')]"
   ]
  },
  {
   "cell_type": "code",
   "execution_count": 16,
   "metadata": {
    "collapsed": false
   },
   "outputs": [
    {
     "data": {
      "text/html": [
       "<div>\n",
       "<table border=\"1\" class=\"dataframe\">\n",
       "  <thead>\n",
       "    <tr style=\"text-align: right;\">\n",
       "      <th></th>\n",
       "      <th>Truth</th>\n",
       "      <th>False</th>\n",
       "      <th>True</th>\n",
       "    </tr>\n",
       "    <tr>\n",
       "      <th>numCallers</th>\n",
       "      <th>vennSegment</th>\n",
       "      <th></th>\n",
       "      <th></th>\n",
       "    </tr>\n",
       "  </thead>\n",
       "  <tbody>\n",
       "    <tr>\n",
       "      <th rowspan=\"3\" valign=\"top\">1</th>\n",
       "      <th>freebayes</th>\n",
       "      <td>682.0</td>\n",
       "      <td>924.0</td>\n",
       "    </tr>\n",
       "    <tr>\n",
       "      <th>strelka</th>\n",
       "      <td>166.0</td>\n",
       "      <td>1737.0</td>\n",
       "    </tr>\n",
       "    <tr>\n",
       "      <th>varscan</th>\n",
       "      <td>2048.0</td>\n",
       "      <td>31485.0</td>\n",
       "    </tr>\n",
       "    <tr>\n",
       "      <th rowspan=\"5\" valign=\"top\">2</th>\n",
       "      <th>filterInvarscan-freebayes</th>\n",
       "      <td>3.0</td>\n",
       "      <td>2.0</td>\n",
       "    </tr>\n",
       "    <tr>\n",
       "      <th>strelka-filterInvarscan</th>\n",
       "      <td>1.0</td>\n",
       "      <td>23.0</td>\n",
       "    </tr>\n",
       "    <tr>\n",
       "      <th>strelka-freebayes</th>\n",
       "      <td>22.0</td>\n",
       "      <td>662.0</td>\n",
       "    </tr>\n",
       "    <tr>\n",
       "      <th>strelka-varscan</th>\n",
       "      <td>114.0</td>\n",
       "      <td>13199.0</td>\n",
       "    </tr>\n",
       "    <tr>\n",
       "      <th>varscan-freebayes</th>\n",
       "      <td>28.0</td>\n",
       "      <td>660.0</td>\n",
       "    </tr>\n",
       "    <tr>\n",
       "      <th rowspan=\"2\" valign=\"top\">3</th>\n",
       "      <th>strelka-filterInvarscan-freebayes</th>\n",
       "      <td>NaN</td>\n",
       "      <td>4.0</td>\n",
       "    </tr>\n",
       "    <tr>\n",
       "      <th>strelka-varscan-freebayes</th>\n",
       "      <td>23.0</td>\n",
       "      <td>5438.0</td>\n",
       "    </tr>\n",
       "  </tbody>\n",
       "</table>\n",
       "</div>"
      ],
      "text/plain": [
       "Truth                                          False    True \n",
       "numCallers vennSegment                                       \n",
       "1          freebayes                           682.0    924.0\n",
       "           strelka                             166.0   1737.0\n",
       "           varscan                            2048.0  31485.0\n",
       "2          filterInvarscan-freebayes             3.0      2.0\n",
       "           strelka-filterInvarscan               1.0     23.0\n",
       "           strelka-freebayes                    22.0    662.0\n",
       "           strelka-varscan                     114.0  13199.0\n",
       "           varscan-freebayes                    28.0    660.0\n",
       "3          strelka-filterInvarscan-freebayes     NaN      4.0\n",
       "           strelka-varscan-freebayes            23.0   5438.0"
      ]
     },
     "execution_count": 16,
     "metadata": {},
     "output_type": "execute_result"
    }
   ],
   "source": [
    "pd.pivot_table(indeldf, values='pos', index=['numCallers','vennSegment'], columns=['Truth'], aggfunc='count')"
   ]
  },
  {
   "cell_type": "code",
   "execution_count": null,
   "metadata": {
    "collapsed": false
   },
   "outputs": [],
   "source": [
    "vn.venn([indeldf[indeldf.strelkaallele != '']['chromPos'], \\\n",
    "        indeldf[indeldf.freebayesallele != '']['chromPos'], \\\n",
    "        indeldf[indeldf.varscanallele != '']['chromPos'] \\\n",
    "        ],['strelka','freebayes','varscan'],figsize=(6,6))"
   ]
  },
  {
   "cell_type": "markdown",
   "metadata": {},
   "source": [
    "<h3> Allelic Depth"
   ]
  },
  {
   "cell_type": "code",
   "execution_count": null,
   "metadata": {
    "collapsed": false
   },
   "outputs": [],
   "source": [
    "#Alllele Freq By Caller\n",
    "for columnName in list(snpdf):\n",
    "    if columnName.endswith('allele'):\n",
    "        ser = snpdf[snpdf[columnName] != ''][columnName[:-6] + 'allelicFreq']\n",
    "        ser = ser.sort_values()\n",
    "        ser[len(ser)] = ser.iloc[-1]\n",
    "        cum_dist = np.linspace(0.,1.,len(ser))\n",
    "        ser_cdf = pd.Series(cum_dist, index=ser,name=columnName[:-6]+\": c=\"+str(ser.count())+\" m=\"+str(round(ser.median(),2)))\n",
    "        ser_cdf.plot(drawstyle='steps',legend=True,title=\" Allelic Frequency by Caller\",figsize=[15,6])"
   ]
  },
  {
   "cell_type": "code",
   "execution_count": null,
   "metadata": {
    "collapsed": false
   },
   "outputs": [],
   "source": [
    "# BY CALLER BY VENN SEGMENT - Single Caller\n",
    "myCaller = 'freebayes'\n",
    "vennSegments = snpdf[snpdf[myCaller+'allele'] != ''].vennSegment.unique()\n",
    "for vennSegment in vennSegments:\n",
    "    ser = snpdf[(snpdf.vennSegment == vennSegment) & (snpdf[myCaller+'allele'] != '')][myCaller+'allelicFreq']\n",
    "    ser = ser.sort_values()\n",
    "    ser[len(ser)] = ser.iloc[-1]\n",
    "    cum_dist = np.linspace(0.,1.,len(ser))\n",
    "    ser_cdf = pd.Series(cum_dist, index=ser,name=vennSegment+\": c=\"+str(ser.count())+\" m=\"+str(round(ser.median(),2)))\n",
    "    ser_cdf.plot(drawstyle='steps',legend=True,title=myCaller+\" by Venn Segment\",figsize=[15,6])"
   ]
  },
  {
   "cell_type": "code",
   "execution_count": null,
   "metadata": {
    "collapsed": false
   },
   "outputs": [],
   "source": [
    "# BY CALLER BY VENN SEGMENT - Single Caller\n",
    "myCaller = 'freebayes'\n",
    "vennSegments = snpdf[(snpdf[myCaller+'allele'] != '') & (snpdf.Truth == False)].vennSegment.unique()\n",
    "for vennSegment in vennSegments:\n",
    "    ser = snpdf[(snpdf.vennSegment == vennSegment) & (snpdf[myCaller+'allele'] != '') & (snpdf.Truth == False) ][myCaller+'allelicFreq']\n",
    "    ser = ser.sort_values()\n",
    "    ser[len(ser)] = ser.iloc[-1]\n",
    "    cum_dist = np.linspace(0.,1.,len(ser))\n",
    "    ser_cdf = pd.Series(cum_dist, index=ser,name=vennSegment+\": c=\"+str(ser.count())+\" m=\"+str(round(ser.median(),2)))\n",
    "    ser_cdf.plot(drawstyle='steps',legend=True,title=myCaller+\" FP by Venn Segment\",figsize=[15,6])"
   ]
  },
  {
   "cell_type": "markdown",
   "metadata": {},
   "source": [
    "### Allelic Depth Scatter Plot"
   ]
  },
  {
   "cell_type": "code",
   "execution_count": null,
   "metadata": {
    "collapsed": false
   },
   "outputs": [],
   "source": [
    "caller1 = 'varscan'\n",
    "caller2 = 'strelka'\n",
    "tempdf = df[(df[caller1+'allele']!='')&(df[caller2+'allele']!='')]\n",
    "tempdf.head()\n",
    "tempdf.plot.scatter(caller1+'allelicFreq',caller2+'allelicFreq' \\\n",
    "                        ,figsize=[6,6] \\\n",
    "                        ,title=\"Comparison of \"+caller1+\" and \"+caller2+\" Allelic Frequency\" \\\n",
    "                        ,xlim=[0,1],ylim=[0,1])"
   ]
  },
  {
   "cell_type": "markdown",
   "metadata": {},
   "source": [
    "<h3> RAINBOW CHARTS"
   ]
  },
  {
   "cell_type": "code",
   "execution_count": 46,
   "metadata": {
    "collapsed": false
   },
   "outputs": [
    {
     "data": {
      "text/plain": [
       "<matplotlib.collections.PathCollection at 0x124618c90>"
      ]
     },
     "execution_count": 46,
     "metadata": {},
     "output_type": "execute_result"
    },
    {
     "data": {
      "image/png": "[encoded data removed]",
      "text/plain": [
       "<matplotlib.figure.Figure at 0x123ce9410>"
      ]
     },
     "metadata": {},
     "output_type": "display_data"
    }
   ],
   "source": [
    "## RAINBOW\n",
    "caller = 'freebayes'\n",
    "plt.scatter(df[(df[caller+'allele']!='')& (df['Truth'] == True)&(df['chrom'] == '22')]['chromFrac'], \\\n",
    "            df[(df[caller+'allele']!='')& (df['Truth'] == True)&(df['chrom'] == '22')][caller+'allelicFreq'], \\\n",
    "            s=10, c='b', marker=\"s\")"
   ]
  },
  {
   "cell_type": "code",
   "execution_count": 45,
   "metadata": {
    "collapsed": false
   },
   "outputs": [
    {
     "data": {
      "text/plain": [
       "<matplotlib.collections.PathCollection at 0x123b27c90>"
      ]
     },
     "execution_count": 45,
     "metadata": {},
     "output_type": "execute_result"
    },
    {
     "data": {
      "image/png": "[encoded data removed]",
      "text/plain": [
       "<matplotlib.figure.Figure at 0x1329e5f90>"
      ]
     },
     "metadata": {},
     "output_type": "display_data"
    }
   ],
   "source": [
    "## RAINBOW\n",
    "caller = 'freebayes'\n",
    "plt.scatter(df[(df[caller+'allele']!='')& (df['Truth'] == False)&(df['chrom'] == '22')]['chromFrac'], \\\n",
    "            df[(df[caller+'allele']!='')& (df['Truth'] == False)&(df['chrom'] == '22')][caller+'allelicFreq'], \\\n",
    "            s=10, c='b', marker=\"s\")"
   ]
  },
  {
   "cell_type": "markdown",
   "metadata": {},
   "source": [
    "<h3> Overlapping Analysis"
   ]
  },
  {
   "cell_type": "code",
   "execution_count": null,
   "metadata": {
    "collapsed": false
   },
   "outputs": [],
   "source": [
    "#NEEDS REFACTORING TO SUPPORT NEW DF FORMAT\n",
    "'''\n",
    "sorteddf = df.sort(['chromFrac'], ascending=1)\n",
    "sorteddf['nextRef'] = sorteddf['ref'].shift(-2)\n",
    "sorteddf['nextPos'] = sorteddf['pos'].shift(-2)\n",
    "sorteddf['nextChrom'] = sorteddf['chrom'].shift(-2)\n",
    "sorteddf['nextVT'] = sorteddf['variantType'].shift(-2)\n",
    "sorteddf['nextAlleleTumor1'] = sorteddf['alleleTumor1'].shift(-2)\n",
    "sorteddf['nextAlleleTumor2'] = sorteddf['alleleTumor2'].shift(-2)\n",
    "sorteddf['nextVennSegment'] = sorteddf['vennSegment'].shift(-2)\n",
    "sorteddf['lengthRef'] = sorteddf['ref'].str.len()\n",
    "sorteddf['Dist2Next'] = -sorteddf['pos'].astype(int).diff(-2)\n",
    "\n",
    "overlapdf = sorteddf[(sorteddf['lengthRef']+0>sorteddf['Dist2Next']) & (sorteddf['Dist2Next']>0)]\n",
    "overlapdf.head(20)\n",
    "'''"
   ]
  },
  {
   "cell_type": "code",
   "execution_count": null,
   "metadata": {
    "collapsed": false
   },
   "outputs": [],
   "source": [
    "#NEEDS REFACTORING TO SUPPORT NEW DF FORMAT\n",
    "'''\n",
    "filtereddf = overlapdf[(~overlapdf.vennSegment.isin(['freebayes','varscan','strelka1'])) \\\n",
    "                       & (overlapdf.vennSegment.str.contains('varscan')) \\\n",
    "                       #& (~overlapdf.nextVennSegment.str.contains('varscan')) \\\n",
    "                       & (overlapdf.variantType == 'INDEL') \\\n",
    "                       #& (overlapdf.variantSubType == 'DELETE')\n",
    "                       & (overlapdf.variantType == overlapdf.nextVT)]\n",
    "filtereddf[['nextVennSegment','vennSegment','variantType','nextVT','Dist2Next','lengthRef','ref','alleleTumor2', \\\n",
    "            'nextRef','nextAlleleTumor2','variantSubType','chrom','pos']].count()\n",
    "'''"
   ]
  }
 ],
 "metadata": {
  "kernelspec": {
   "display_name": "Python 2",
   "language": "python",
   "name": "python2"
  },
  "language_info": {
   "codemirror_mode": {
    "name": "ipython",
    "version": 2
   },
   "file_extension": ".py",
   "mimetype": "text/x-python",
   "name": "python",
   "nbconvert_exporter": "python",
   "pygments_lexer": "ipython2",
   "version": "2.7.10"
  }
 },
 "nbformat": 4,
 "nbformat_minor": 0
}
