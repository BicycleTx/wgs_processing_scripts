{
 "cells": [
  {
   "cell_type": "markdown",
   "metadata": {},
   "source": [
    "### CONFIGURATION"
   ]
  },
  {
   "cell_type": "code",
   "execution_count": 5,
   "metadata": {
    "collapsed": true
   },
   "outputs": [],
   "source": [
    "import pandas as pd\n",
    "import numpy as np\n",
    "import copy\n",
    "import sys\n",
    "import matplotlib.pyplot as plt\n",
    "%matplotlib inline"
   ]
  },
  {
   "cell_type": "code",
   "execution_count": 6,
   "metadata": {
    "collapsed": false
   },
   "outputs": [],
   "source": [
    "# Hartwig imports\n",
    "sys.path.append(\"/Users/peterpriestley/hmf/repos/scripts/analysisscripts\") \n",
    "import analyseVCF as aVCF\n",
    "import venn as vn\n",
    "\n"
   ]
  },
  {
   "cell_type": "code",
   "execution_count": 7,
   "metadata": {
    "collapsed": true
   },
   "outputs": [],
   "source": [
    "\n",
    "# BED FILE\n",
    "BED_PATH = \"/Users/peterpriestley/hmf/analyses/70-30sample/truthset/\"\n",
    "BED_FILE_NAME = \"union13callableMQonlymerged_addcert_nouncert_excludesimplerep_excludesegdups_excludedecoy_excludeRepSeqSTRs_noCNVs_v2.19_2mindatasets_5minYesNoRatio.bed\"\n",
    "# TRUTH SET\n",
    "SAMPLE_NAMES_TRUTH = {'NA12878':'70-30truth'}\n",
    "VCF_PATH_TRUTH = \"/Users/peterpriestley/hmf/analyses/70-30sample/truthset/\"\n",
    "VCF_FILE_NAME_TRUTH = \"na12878-na24385-somatic-truth.vcf\"\n",
    "# COMBINED VCF CONFIG\n",
    "VCF_PATH = \"/Users/peterpriestley/hmf/analyses/70-30sample/160524/\"\n",
    "VCF_FILE_NAME = \"CPCT11111111R_CPCT11111111T_merged_somatics.vcf\"\n",
    "SAMPLE_NAMES = {'CPCT11111111T.mutect':'mutect', \\\n",
    "               'CPCT11111111T.freebayes':'freebayes', \\\n",
    "               'TUMOR.strelka':'strelka', \\\n",
    "               'TUMOR.varscan':'varscan'}\n",
    "#MELT VCF CONFIG\n",
    "#VCF_PATH = \"/Users/peterpriestley/hmf/analyses/70-30sample/160524/\"\n",
    "#VCF_FILE_NAME = \"CPCT11111111R_CPCT11111111T_merged_somatics_snpEff_dbSNP_Cosmicv76_melted.vcf\" \n",
    "#SAMPLE_NAMES = {'/sample/output/GIAB_SOMATIC-MIX/somaticVariants/CPCT11111111R_CPCT11111111T/CPCT11111111R_CPCT11111111T_merged_somatics_snpEff_dbSNP_Cosmicv76' \\\n",
    "#                    :'melted'}"
   ]
  },
  {
   "cell_type": "markdown",
   "metadata": {},
   "source": [
    "<h3> Load VCFs and Prepare DF"
   ]
  },
  {
   "cell_type": "code",
   "execution_count": 8,
   "metadata": {
    "collapsed": false
   },
   "outputs": [
    {
     "name": "stdout",
     "output_type": "stream",
     "text": [
      "reading BED file. . .\n",
      "\n",
      "\n",
      "\n"
     ]
    }
   ],
   "source": [
    "## LOAD BED\n",
    "bed = aVCF.loadBEDFile(BED_PATH,BED_FILE_NAME)\n",
    "bed.reverse()\n",
    "truthBed = copy.deepcopy(bed)"
   ]
  },
  {
   "cell_type": "code",
   "execution_count": null,
   "metadata": {
    "collapsed": false
   },
   "outputs": [
    {
     "name": "stdout",
     "output_type": "stream",
     "text": [
      "reading vcf file. . .\n",
      "\n",
      "reading VCF File line: 100000\n",
      "reading VCF File line: 200000\n",
      "reading VCF File line: 300000\n",
      "reading VCF File line: 400000\n",
      "reading VCF File line: 500000\n",
      "reading VCF File line: 600000\n",
      "reading VCF File line: 700000\n",
      "reading VCF File line: 800000\n",
      "reading VCF File line: 900000\n",
      "reading VCF File line: 1000000\n",
      "data frame loaded\n",
      "\n"
     ]
    }
   ],
   "source": [
    "## LOAD TRUTH SET VCF\n",
    "dfTruth = aVCF.loadVaraintsFromVCF(VCF_PATH_TRUTH,VCF_FILE_NAME_TRUTH, \\\n",
    "                                   SAMPLE_NAMES_TRUTH,True,truthBed)\n",
    "dfTruth['chromPos']=dfTruth['chrom']+':'+dfTruth['pos']"
   ]
  },
  {
   "cell_type": "code",
   "execution_count": null,
   "metadata": {
    "collapsed": false
   },
   "outputs": [
    {
     "name": "stdout",
     "output_type": "stream",
     "text": [
      "reading vcf file. . .\n",
      "\n",
      "reading VCF File line: 100000\n"
     ]
    }
   ],
   "source": [
    "# Load main vcf + append additional fields\n",
    "df = aVCF.loadVaraintsFromVCF(VCF_PATH,VCF_FILE_NAME,SAMPLE_NAMES,True,bed)\n",
    "df['chromPos']=df['chrom']+':'+df['pos']\n",
    "df['Truth']=df.chromPos.isin(dfTruth['chromPos']) \n",
    "df['numCallers']= df['vennSegment'].apply(lambda x: x.count('-')+1) ## PP - dodgy.  need to fix\n",
    "df['numCallers'][df['vennSegment'] == 'Intersection'] = 4 # PP - should not hardcode 4"
   ]
  },
  {
   "cell_type": "markdown",
   "metadata": {},
   "source": [
    "<h3> High Level Stats"
   ]
  },
  {
   "cell_type": "code",
   "execution_count": null,
   "metadata": {
    "collapsed": false
   },
   "outputs": [],
   "source": [
    "df[['caller','variantType','pos']].groupby(['variantType','caller']).agg('count')"
   ]
  },
  {
   "cell_type": "markdown",
   "metadata": {},
   "source": [
    "<h3> Overlapping Analysis"
   ]
  },
  {
   "cell_type": "code",
   "execution_count": null,
   "metadata": {
    "collapsed": false
   },
   "outputs": [],
   "source": [
    "sorteddf = df.sort(['chromFrac'], ascending=1)\n",
    "sorteddf['nextRef'] = sorteddf['ref'].shift(-2)\n",
    "sorteddf['nextPos'] = sorteddf['pos'].shift(-2)\n",
    "sorteddf['nextChrom'] = sorteddf['chrom'].shift(-2)\n",
    "sorteddf['nextVT'] = sorteddf['variantType'].shift(-2)\n",
    "sorteddf['nextAlleleTumor1'] = sorteddf['alleleTumor1'].shift(-2)\n",
    "sorteddf['nextAlleleTumor2'] = sorteddf['alleleTumor2'].shift(-2)\n",
    "sorteddf['nextVennSegment'] = sorteddf['vennSegment'].shift(-2)\n",
    "sorteddf['lengthRef'] = sorteddf['ref'].str.len()\n",
    "sorteddf['Dist2Next'] = -sorteddf['pos'].astype(int).diff(-2)\n",
    "\n",
    "overlapdf = sorteddf[(sorteddf['lengthRef']+0>sorteddf['Dist2Next']) & (sorteddf['Dist2Next']>0)]\n",
    "overlapdf.head(20)"
   ]
  },
  {
   "cell_type": "code",
   "execution_count": null,
   "metadata": {
    "collapsed": false
   },
   "outputs": [],
   "source": [
    "filtereddf = overlapdf[(~overlapdf.vennSegment.isin(['freebayes','varscan','strelka1'])) \\\n",
    "                       & (overlapdf.vennSegment.str.contains('varscan')) \\\n",
    "                       #& (~overlapdf.nextVennSegment.str.contains('varscan')) \\\n",
    "                       & (overlapdf.variantType == 'INDEL') \\\n",
    "                       #& (overlapdf.variantSubType == 'DELETE')\n",
    "                       & (overlapdf.variantType == overlapdf.nextVT)]\n",
    "filtereddf[['nextVennSegment','vennSegment','variantType','nextVT','Dist2Next','lengthRef','ref','alleleTumor2', \\\n",
    "            'nextRef','nextAlleleTumor2','variantSubType','chrom','pos']].count()"
   ]
  },
  {
   "cell_type": "markdown",
   "metadata": {},
   "source": [
    "<h3> SNP Venn"
   ]
  },
  {
   "cell_type": "code",
   "execution_count": null,
   "metadata": {
    "collapsed": false
   },
   "outputs": [],
   "source": [
    "snpdf = df[(df.variantType != 'SNP')]"
   ]
  },
  {
   "cell_type": "code",
   "execution_count": null,
   "metadata": {
    "collapsed": false
   },
   "outputs": [],
   "source": [
    "pd.pivot_table(snpdf, values='pos', index=['vennSegment'], columns=['Truth','caller'], aggfunc='count')"
   ]
  },
  {
   "cell_type": "code",
   "execution_count": null,
   "metadata": {
    "collapsed": false
   },
   "outputs": [],
   "source": [
    "vn.venn([snpdf[snpdf.caller == 'mutect']['chromPos'], \\\n",
    "         snpdf[snpdf.caller == 'strelka']['chromPos'], \\\n",
    "        snpdf[snpdf.caller == 'freebayes']['chromPos'], \\\n",
    "        snpdf[snpdf.caller == 'varscan']['chromPos'] \\\n",
    "        ],['mutect','strelka','freebayes','varscan'],figsize=(9,9))"
   ]
  },
  {
   "cell_type": "markdown",
   "metadata": {},
   "source": [
    "### <hd1> Indel Venn"
   ]
  },
  {
   "cell_type": "code",
   "execution_count": null,
   "metadata": {
    "collapsed": false
   },
   "outputs": [],
   "source": [
    "indeldf= df[(df.variantType == 'INDEL')]"
   ]
  },
  {
   "cell_type": "code",
   "execution_count": null,
   "metadata": {
    "collapsed": true
   },
   "outputs": [],
   "source": [
    "pd.pivot_table(snpdf, values='pos', index=['vennSegment'], columns=['Truth','caller'], aggfunc='count')"
   ]
  },
  {
   "cell_type": "code",
   "execution_count": null,
   "metadata": {
    "collapsed": true
   },
   "outputs": [],
   "source": [
    "vn.venn([indeldf[indeldf.caller == 'strelka']['chromPos'], \\\n",
    "        indeldf[indeldf.caller == 'freebayes']['chromPos'], \\\n",
    "        indeldf[indeldf.caller == 'varscan']['chromPos'] \\\n",
    "        ],['strelka','freebayes','varscan'],figsize=(15,10))"
   ]
  },
  {
   "cell_type": "markdown",
   "metadata": {},
   "source": [
    "<h3> Allelic Depth"
   ]
  },
  {
   "cell_type": "code",
   "execution_count": null,
   "metadata": {
    "collapsed": false
   },
   "outputs": [],
   "source": [
    "# BY CALLER\n",
    "callers = df[df.caller != '70-30truth'].caller.unique()\n",
    "for caller in callers:\n",
    "    ser = df[df.caller == caller].allelicFreq\n",
    "    ser = ser.sort_values()\n",
    "    ser[len(ser)] = ser.iloc[-1]\n",
    "    cum_dist = np.linspace(0.,1.,len(ser))\n",
    "    ser_cdf = pd.Series(cum_dist, index=ser,name=caller+\": median=\"+str(round(ser.median(),2)))\n",
    "    ser_cdf.plot(drawstyle='steps',legend=True,title=\" Allelic Frequency by Caller\",figsize=[15,6])"
   ]
  },
  {
   "cell_type": "code",
   "execution_count": null,
   "metadata": {
    "collapsed": false
   },
   "outputs": [],
   "source": [
    "# BY CALLER BY VENN SEGMENT - Single Caller\n",
    "myCaller = 'mutect'\n",
    "vennSegments = df[df.caller == myCaller].vennSegment.unique()\n",
    "for vennSegment in vennSegments:\n",
    "    ser = df[df.vennSegment == vennSegment].allelicFreq\n",
    "    ser = ser.sort_values()\n",
    "    ser[len(ser)] = ser.iloc[-1]\n",
    "    cum_dist = np.linspace(0.,1.,len(ser))\n",
    "    ser_cdf = pd.Series(cum_dist, index=ser,name=vennSegment+\": median=\"+str(round(ser.median(),2)))\n",
    "    ser_cdf.plot(drawstyle='steps',legend=True,title=myCaller+\" by Venn Segment\",figsize=[15,6])"
   ]
  },
  {
   "cell_type": "code",
   "execution_count": null,
   "metadata": {
    "collapsed": false
   },
   "outputs": [],
   "source": [
    "# BY CALLER BY VENN SEGMENT - Single Caller FALSE POSITIVES\n",
    "vennSegments = df[(df.caller == myCaller) & (df.Truth == False) ].vennSegment.unique()\n",
    "for vennSegment in vennSegments:\n",
    "    ser = df[(df.vennSegment == vennSegment) & (df.Truth == False)].allelicFreq\n",
    "    ser = ser.sort_values()\n",
    "    ser[len(ser)] = ser.iloc[-1]\n",
    "    cum_dist = np.linspace(0.,1.,len(ser))\n",
    "    ser_cdf = pd.Series(cum_dist, index=ser,name=vennSegment+\": median=\"+str(round(ser.median(),2)))\n",
    "    ser_cdf.plot(drawstyle='steps',legend=True,title=myCaller+\" FALSE POSITIVES by Venn Segment\",figsize=[15,6])"
   ]
  },
  {
   "cell_type": "code",
   "execution_count": null,
   "metadata": {
    "collapsed": false
   },
   "outputs": [],
   "source": [
    "# BY CALLER BY VENN SEGMENT - Single Caller TRUE POSITIVES\n",
    "vennSegments = df[(df.caller == myCaller) & (df.Truth == True) ].vennSegment.unique()\n",
    "for vennSegment in vennSegments:\n",
    "    ser = df[(df.vennSegment == vennSegment) & (df.Truth == True)].allelicFreq\n",
    "    ser = ser.sort_values()\n",
    "    ser[len(ser)] = ser.iloc[-1]\n",
    "    cum_dist = np.linspace(0.,1.,len(ser))\n",
    "    ser_cdf = pd.Series(cum_dist, index=ser,name=vennSegment+\": median=\"+str(round(ser.median(),2)))\n",
    "    ser_cdf.plot(drawstyle='steps',legend=True,title=myCaller+\" TRUE POSITIVES by Venn Segment\",figsize=[15,6])"
   ]
  },
  {
   "cell_type": "markdown",
   "metadata": {},
   "source": [
    "### Allelic Depth Scatter Plot"
   ]
  },
  {
   "cell_type": "code",
   "execution_count": null,
   "metadata": {
    "collapsed": false
   },
   "outputs": [],
   "source": [
    "# Combine segments\n",
    "tempMutectDF = df[(df.caller =='mutect') & ((df.vennSegment == 'Intersection') \\\n",
    "            | ((df.vennSegment.str.contains('varscan')) & (df.vennSegment.str.contains('mutect'))))]\n",
    "tempMutectDF = tempMutectDF.set_index(tempMutectDF['chromPos'])\n",
    "tempvarscanDF = df[(df.caller =='varscan') & ((df.vennSegment == 'Intersection') \\\n",
    "            | ((df.vennSegment.str.contains('varscan')) & (df.vennSegment.str.contains('mutect'))))]\n",
    "tempvarscanDF = tempvarscanDF.set_index(tempvarscanDF['chromPos'])\n",
    "combinedDF = pd.merge(tempMutectDF, tempvarscanDF, on='chromPos', suffixes=['_mutect', '_varscan'])"
   ]
  },
  {
   "cell_type": "code",
   "execution_count": null,
   "metadata": {
    "collapsed": false
   },
   "outputs": [],
   "source": [
    "combinedDF.plot.scatter('allelicFreq_varscan','allelicFreq_mutect' \\\n",
    "                        ,figsize=[6,6] \\\n",
    "                        ,title=\"Comparison of Varscan and Mutect Allelic Frequency\" \\\n",
    "                        ,xlim=[0,1],ylim=[0,1])"
   ]
  },
  {
   "cell_type": "markdown",
   "metadata": {},
   "source": [
    "<h3> RAINBOW CHARTS"
   ]
  },
  {
   "cell_type": "code",
   "execution_count": null,
   "metadata": {
    "collapsed": true
   },
   "outputs": [],
   "source": [
    "## RAINBOW\n",
    "#plt.scatter(df[df.caller == 'mutect'].chromFrac, df[df.caller == 'mutect'].allelicFreq, s=10, c='b', marker=\"s\")"
   ]
  }
 ],
 "metadata": {
  "kernelspec": {
   "display_name": "Python 2",
   "language": "python",
   "name": "python2"
  }
 },
 "nbformat": 4,
 "nbformat_minor": 0
}
