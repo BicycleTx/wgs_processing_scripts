{
 "cells": [
  {
   "cell_type": "code",
   "execution_count": null,
   "metadata": {
    "collapsed": false
   },
   "outputs": [],
   "source": [
    "import os\n",
    "import pandas as pd\n",
    "import numpy as np\n",
    "import copy\n",
    "import sys\n",
    "import matplotlib.pyplot as plt\n",
    "%matplotlib inline\n",
    "pd.set_option('display.max_rows', 50)\n",
    "pd.set_option('display.max_columns', 50)\n",
    "sys.path.append(\"/Users/peterpriestley/hmf/repos/scripts/analysisscripts\") \n",
    "import chromosomeDefinition as cd\n",
    "import analyseVCF as aVCF\n",
    "from scipy.stats import norm\n",
    "from sklearn.neighbors import KernelDensity"
   ]
  },
  {
   "cell_type": "code",
   "execution_count": null,
   "metadata": {
    "collapsed": true
   },
   "outputs": [],
   "source": [
    "CNV_COLUMNS = ['chrom','posStart','posEnd','copyNum','gainOrLoss','BAF','score','germlineOrSomatic','oneOrZero']"
   ]
  },
  {
   "cell_type": "code",
   "execution_count": null,
   "metadata": {
    "collapsed": false
   },
   "outputs": [],
   "source": [
    "# LOAD BED\n",
    "BED_PATH = \"/Users/peterpriestley/hmf/analyses/giabTruthsets/\"\n",
    "BED_FILE_NAME = \"NA12878_GIAB_highconf_IllFB-IllGATKHC-CG-Ion-Solid_ALLCHROM_v3.2.2_highconf.bed\"\n",
    "USE_BED = True\n",
    "LOAD_FULL_FILE = True"
   ]
  },
  {
   "cell_type": "markdown",
   "metadata": {},
   "source": [
    "### FUNCTIONS"
   ]
  },
  {
   "cell_type": "code",
   "execution_count": null,
   "metadata": {
    "collapsed": false
   },
   "outputs": [],
   "source": [
    "def findFiles(path,suffix):\n",
    "    files=[]\n",
    "    for x in os.listdir(path):\n",
    "        if x[-len(suffix):] == suffix:\n",
    "            files.append(x)\n",
    "    return files"
   ]
  },
  {
   "cell_type": "code",
   "execution_count": null,
   "metadata": {
    "collapsed": false
   },
   "outputs": [],
   "source": [
    "def loadCNVforPatient(cnvFile,patientName):\n",
    "    dfCNV = pd.read_table(cnvFile, names = CNV_COLUMNS )\n",
    "    #add regions with default copy number\n",
    "    last = dfCNV.iloc[0]\n",
    "    for i in range(1, dfCNV.shape[0]-1):\n",
    "        if last['posEnd']<>dfCNV.iloc[i]['posStart']:\n",
    "            if last['chrom']==dfCNV.iloc[i]['chrom']:\n",
    "                dfCNV.loc[len(dfCNV)] = [last['chrom'],last['posEnd'], dfCNV.iloc[i]['posStart']-1,2,'none','','',0,0]\n",
    "            else:\n",
    "                dfCNV.loc[len(dfCNV)] = [last['chrom'],last['posEnd'], cd.chromosomeLength[last['chrom']],2,'none','','',0,0]\n",
    "                if dfCNV.iloc[i]['posStart']<>0:\n",
    "                    dfCNV.loc[len(dfCNV)] = [dfCNV.iloc[i]['chrom'],0, dfCNV.iloc[i]['posStart'],2,'none','','',0,0]\n",
    "        last = dfCNV.iloc[i]\n",
    "    #fix first record\n",
    "    if dfCNV.iloc[0]['posStart']<>0:\n",
    "        dfCNV.loc[len(dfCNV)] = ['1',0, dfCNV.iloc[0]['posStart'],2,'none','','',0,0]\n",
    "    #Additional Fields\n",
    "    dfCNV['chromPos']= dfCNV['chrom'].apply(lambda x: cd.intChrom(x)) + dfCNV['posStart'] / dfCNV['chrom'].apply(lambda x: cd.chromosomeLength[str(x)])\n",
    "    dfCNV['chrom'] = dfCNV['chrom'].apply(lambda x: cd.intChrom(x))\n",
    "    dfCNV['cappedCopyNum'] = dfCNV['copyNum'].clip(upper=5)\n",
    "    dfCNV = dfCNV.sort_values([\"chrom\",\"posStart\",\"posEnd\"]).reset_index()\n",
    "    dfCNV['regionLength'] = (dfCNV['posEnd']-dfCNV['posStart'])\n",
    "    dfCNV['patientName']=patientName\n",
    "    return dfCNV"
   ]
  },
  {
   "cell_type": "code",
   "execution_count": null,
   "metadata": {
    "collapsed": true
   },
   "outputs": [],
   "source": [
    "def calculateMBAFBetween(chrom,minPos,maxPos):\n",
    "    dftemp = dfBAF[(dfBAF.Chromosome==chrom)&(dfBAF.Position>minPos)&(dfBAF.Position<maxPos)]\n",
    "    return dftemp['mBAF'].median(),dftemp['mBAF'].count()"
   ]
  },
  {
   "cell_type": "code",
   "execution_count": null,
   "metadata": {
    "collapsed": true
   },
   "outputs": [],
   "source": [
    "def loadBAFData(bafFile):\n",
    "    df = pd.read_table(bafFile)\n",
    "    return df"
   ]
  },
  {
   "cell_type": "code",
   "execution_count": null,
   "metadata": {
    "collapsed": false
   },
   "outputs": [],
   "source": [
    "def cnvChart(dfCNV,filename,minChrom=1,maxChrom=23):\n",
    "    plt.figure(figsize=[18,3])\n",
    "    plt.title(filename)\n",
    "    ax = plt.gca()\n",
    "    ax.plot(dfCNV['chromPos'], dfCNV['copyNum'],drawstyle=\"steps-post\")\n",
    "    ax.axis([minChrom, maxChrom, 0, 6])\n",
    "       "
   ]
  },
  {
   "cell_type": "code",
   "execution_count": null,
   "metadata": {
    "collapsed": false
   },
   "outputs": [],
   "source": [
    "def cnvLabel(copyNumber):\n",
    "    if copyNumber < 2:\n",
    "        return 'loss'\n",
    "    elif copyNumber > 2:\n",
    "        return 'amplification'\n",
    "    else:\n",
    "        return'normal'"
   ]
  },
  {
   "cell_type": "code",
   "execution_count": null,
   "metadata": {
    "collapsed": false
   },
   "outputs": [],
   "source": [
    "def createBAF(dfGermline):\n",
    "    dfBAF = dfGermline[(dfGermline['variantType']==\"SNP\")&(dfGermline['normalSGT']==\"0/1\")&(dfGermline['normalAF']>0.4) \\\n",
    "                   &(dfGermline['normalAF']<0.65)&(dfGermline['normalDP']>30)&\\\n",
    "                   (dfGermline['normalDP']<100)][['chrom','pos','tumorAF']]\n",
    "    dfBAF.columns = ['Chromosome', 'Position','BAF']\n",
    "    dfBAF['Position'] = pd.to_numeric(dfBAF['Position'])\n",
    "    dfBAF['mBAF']= 0.5+abs(dfBAF['BAF']-0.5)\n",
    "    dfBAF['chromPos']= dfBAF['Chromosome'].apply(lambda x: cd.intChrom(x)) + dfBAF['Position'] / dfBAF['Chromosome'].apply(lambda x: cd.chromosomeLength[str(x)])\n",
    "    dfBAF['Chromosome']= dfBAF['Chromosome'].apply(lambda x: cd.intChrom(x))\n",
    "    return dfBAF"
   ]
  },
  {
   "cell_type": "code",
   "execution_count": null,
   "metadata": {
    "collapsed": true
   },
   "outputs": [],
   "source": [
    "def patientIDFromFilename(filename,findKey):\n",
    "    patientIDStart = filename.find(findKey)   #\n",
    "    return filename[patientIDStart:patientIDStart+12]\n",
    "    #return \"GIAB12878\""
   ]
  },
  {
   "cell_type": "code",
   "execution_count": null,
   "metadata": {
    "collapsed": false
   },
   "outputs": [],
   "source": [
    "def germlineVCFSampleNames(filename,patientID):\n",
    "    return {patientID+'R':'normal',patientID+'T':'tumor'}"
   ]
  },
  {
   "cell_type": "code",
   "execution_count": null,
   "metadata": {
    "collapsed": false
   },
   "outputs": [],
   "source": [
    "def loadVCF(path,filename,sampleNames,patientID,bedPath,bedFileName):\n",
    "    df = pd.DataFrame()\n",
    "    if USE_BED:\n",
    "        bed = aVCF.loadBEDFile(bedPath,bedFileName)\n",
    "        return pd.concat([df,aVCF.loadVariantsFromVCF(path,filename,sampleNames,patientID,True,True,bed,LOAD_FULL_FILE)])\n",
    "    else:\n",
    "        return pd.concat([df,aVCF.loadVariantsFromVCF(path,filename,sampleNames,patientID,True)])"
   ]
  },
  {
   "cell_type": "code",
   "execution_count": null,
   "metadata": {
    "collapsed": true
   },
   "outputs": [],
   "source": [
    "def AFByPosPlot(pos,AF,startChartPos,endChartPos,maxY=1.0,height=5):\n",
    "    plt.figure(figsize=[18,height])\n",
    "    plt.scatter(pos, AF)\n",
    "    plt.grid(b=True, which='both', color='0.65',linestyle='-')\n",
    "    plt.axis([startChartPos, endChartPos,0, maxY])\n",
    "    plt.show()"
   ]
  },
  {
   "cell_type": "code",
   "execution_count": null,
   "metadata": {
    "collapsed": true
   },
   "outputs": [],
   "source": [
    "def loadPON(aPath,aPONFile):\n",
    "    myPON = []\n",
    "    with open(aPath + aPONFile, 'r') as f:\n",
    "        for line in f:\n",
    "            line = line.strip('\\n')\n",
    "            splitLine = line.split('\\t')\n",
    "            myPON.append(splitLine)\n",
    "    dfPON = pd.DataFrame(myPON)\n",
    "    dfPON.columns = ['chrom','pos','ref','alt','PONCount']\n",
    "    return dfPON"
   ]
  },
  {
   "cell_type": "code",
   "execution_count": null,
   "metadata": {
    "collapsed": true
   },
   "outputs": [],
   "source": [
    "def findPeaks(log_dens):\n",
    "    peaks = []\n",
    "    troughs = []\n",
    "    dens=np.exp(log_dens)\n",
    "    diff = [dens[x] - dens[x-1] for x in range(1,len(dens))]\n",
    "    for i in range (len(diff)-1):\n",
    "        if diff[i+1] < 0 and diff[i] > 0:\n",
    "            peaks.append(float(i+1)/len(dens))\n",
    "        if diff[i+1] > 0 and diff[i] < 0:\n",
    "            troughs.append(float(i+1)/len(dens))\n",
    "    return peaks, troughs"
   ]
  },
  {
   "cell_type": "code",
   "execution_count": null,
   "metadata": {
    "collapsed": true
   },
   "outputs": [],
   "source": [
    "def pdfChart(log_dens,maxYValue=8):\n",
    "    fig, ax = plt.subplots()\n",
    "    ax.plot(X_plot[:, 0], np.exp(log_dens), '-',label=\"kernel = '{0}'\".format('gaussian'))\n",
    "    ax.legend(loc='upper right')\n",
    "    fig.set_figwidth(10)\n",
    "    fig.set_figheight(5)\n",
    "    ax.set_xlim(0, 1)\n",
    "    ax.set_ylim(-0.02, maxYValue)\n",
    "    ax.grid(b=True, which='both', color='0.65',linestyle='-')\n",
    "    plt.show()"
   ]
  },
  {
   "cell_type": "code",
   "execution_count": null,
   "metadata": {
    "collapsed": true
   },
   "outputs": [],
   "source": [
    "def calculateSomaticCNV(dfTumorCNV):\n",
    "    lastSomaticCopyNum = 2\n",
    "    dfTumorCNV['copyNumSomatic']= dfTumorCNV['copyNum']\n",
    "    for i in range(1, dfTumorCNV.shape[0]-1):\n",
    "        if dfTumorCNV.iloc[i].germlineOrSomatic==\"germline\":\n",
    "                dfTumorCNV.ix[i,'copyNumSomatic'] = lastSomaticCopyNum\n",
    "        elif dfTumorCNV.iloc[i].germlineOrSomatic==\"somatic\"  or dfTumorCNV.iloc[i].germlineOrSomatic==\"-\":  \n",
    "            lastSomaticCopyNum = dfTumorCNV.ix[i,'copyNumSomatic']\n",
    "    return dfTumorCNV"
   ]
  },
  {
   "cell_type": "markdown",
   "metadata": {},
   "source": [
    "### LOAD PON"
   ]
  },
  {
   "cell_type": "code",
   "execution_count": null,
   "metadata": {
    "collapsed": false
   },
   "outputs": [],
   "source": [
    "# Only needs to be run once\n",
    "#dfPON2 = loadPON(\"/Users/peterpriestley/hmf/analyses/PON/779filePON/\",\"PON.tsv\")"
   ]
  },
  {
   "cell_type": "code",
   "execution_count": null,
   "metadata": {
    "collapsed": false
   },
   "outputs": [],
   "source": [
    "def loadPONvcf(PONFile):\n",
    "    numHeaderRows = 0\n",
    "    with open(PONFile) as fp:\n",
    "        while fp.readline()[0]=='#':\n",
    "            numHeaderRows = numHeaderRows+1\n",
    "    dfPON = pd.read_table(PONFile,skiprows =numHeaderRows-1, dtype={'#CHROM':'str','POS':'str'})  #names = CNV_COLUMNS\n",
    "    dfPON['PON_COUNT'] = dfPON['INFO'].apply(lambda x: x.split('=')[1])\n",
    "    dfPON.rename(columns={'#CHROM': 'chrom', 'POS': 'pos','REF':'ref','ALT':'alt'}, inplace=True)\n",
    "    return dfPON\n",
    "\n",
    "dfPON = loadPONvcf(\"/Users/peterpriestley/hmf/analyses/PON/PON.vcf\")"
   ]
  },
  {
   "cell_type": "markdown",
   "metadata": {},
   "source": [
    "### FIND ALL FILES"
   ]
  },
  {
   "cell_type": "code",
   "execution_count": null,
   "metadata": {
    "collapsed": true
   },
   "outputs": [],
   "source": [
    "PATH = \"/Users/peterpriestley/hmf/analyses/pipelineV3/\""
   ]
  },
  {
   "cell_type": "markdown",
   "metadata": {},
   "source": [
    "### TEMP"
   ]
  },
  {
   "cell_type": "code",
   "execution_count": null,
   "metadata": {
    "collapsed": false
   },
   "outputs": [],
   "source": [
    "somaticVCFFilename = findFiles(PATH,\"melted.vcf\")[0]\n",
    "strelkaVCFFilename = findFiles(PATH,\"processed.vcf\")[0]\n",
    "patientID = patientIDFromFilename(somaticVCFFilename,\"CPCT0\")\n",
    "print somaticVCFFilename\n",
    "print strelkaVCFFilename\n",
    "print \"patient =\",patientID"
   ]
  },
  {
   "cell_type": "code",
   "execution_count": null,
   "metadata": {
    "collapsed": false
   },
   "outputs": [],
   "source": [
    "dfStrelka = loadVCF(PATH,strelkaVCFFilename,{patientID+'T':'melted'},patientID,BED_PATH,BED_FILE_NAME)\n",
    "dfSomatic = loadVCF(PATH,somaticVCFFilename,{patientID+'T':'melted'},patientID,BED_PATH,BED_FILE_NAME)"
   ]
  },
  {
   "cell_type": "code",
   "execution_count": null,
   "metadata": {
    "collapsed": false
   },
   "outputs": [],
   "source": [
    "# APPLY PON to SOMATICs\n",
    "dfStrelka['alt'] = dfStrelka['meltedallele']\n",
    "dfStrelka['strelkaAF'] = dfStrelka['meltedAF']\n",
    "dfStrelka = pd.merge(dfStrelka,dfPON,how='left', on=['chrom','pos','ref','alt'])\n",
    "dfStrelka['PON_COUNT'].fillna(0, inplace=True)\n",
    "dfStrelka['inPON'] = pd.to_numeric(dfStrelka.PON_COUNT,errors=coerce)>4\n",
    "\n",
    "dfSomatic['alt'] = dfSomatic['meltedallele']\n",
    "dfSomatic = pd.merge(dfSomatic,dfPON,how='left', on=['chrom','pos','ref','alt'])\n",
    "dfSomatic['PON_COUNT'].fillna(0, inplace=True)\n",
    "dfSomatic['inPON'] = pd.to_numeric(dfSomatic.PON_COUNT,errors=coerce)>4"
   ]
  },
  {
   "cell_type": "code",
   "execution_count": null,
   "metadata": {
    "collapsed": true
   },
   "outputs": [],
   "source": [
    "#dfStrelka['inSomatic'] = dfStrelka.meltedAF_y>0"
   ]
  },
  {
   "cell_type": "code",
   "execution_count": null,
   "metadata": {
    "collapsed": false
   },
   "outputs": [],
   "source": [
    "# Compare to SOMATICs\n",
    "dfStrelka = pd.merge(dfStrelka,dfSomatic[dfSomatic.consensus==True][['chrom','pos','ref','alt','meltedAF']],how='left', on=['chrom','pos','ref','alt'])\n",
    "dfStrelka['inSomatic'] = dfStrelka.meltedAF>0\n",
    "dfSomatic = pd.merge(dfSomatic,dfStrelka[['chrom','pos','ref','alt','strelkaAF']],how='left', on=['chrom','pos','ref','alt'])\n",
    "dfSomatic['inStrelka'] = dfSomatic.strelkaAF>0"
   ]
  },
  {
   "cell_type": "code",
   "execution_count": null,
   "metadata": {
    "collapsed": false
   },
   "outputs": [],
   "source": [
    "pd.pivot_table(dfStrelka[(((dfStrelka.strelkaQS>20)&(dfStrelka.strelkaAF>0.05))|(dfStrelka.bedRegion=='Default'))&(dfStrelka.inPON==False)&(dfStrelka.strelkaQS*dfStrelka.strelkaAF>1.3)&(dfStrelka.annAllEffects.str.contains('missense'))], values='pos', index=['variantType'], columns=['bedRegion'], aggfunc='count',margins=False).fillna(\"\")"
   ]
  },
  {
   "cell_type": "code",
   "execution_count": null,
   "metadata": {
    "collapsed": false
   },
   "outputs": [],
   "source": [
    "pd.pivot_table(dfStrelka[(dfStrelka.inPON==False)], values='pos', index=['variantType','inSomatic'], columns=['bedRegion'], aggfunc='count',margins=False).fillna(\"\")"
   ]
  },
  {
   "cell_type": "code",
   "execution_count": null,
   "metadata": {
    "collapsed": false
   },
   "outputs": [],
   "source": [
    "#pd.pivot_table(dfStrelka[(((dfStrelka.strelkaQS>20)&(dfStrelka.strelkaAF>0.1))|(dfStrelka.bedRegion=='Default'))&(dfStrelka.inPON==False)&(dfStrelka.strelkaQS*dfStrelka.strelkaAF>0)], values='pos', index=['inSomatic','variantType'], columns=['bedRegion'], aggfunc='count',margins=False).fillna(\"\")"
   ]
  },
  {
   "cell_type": "code",
   "execution_count": null,
   "metadata": {
    "collapsed": false
   },
   "outputs": [],
   "source": [
    "#pd.pivot_table(dfStrelka[(dfStrelka.inPON==False)&(dfStrelka.strelkaQS*dfStrelka.strelkaAF>1)], values='pos', index=['inSomatic','variantType'], columns=['bedRegion'], aggfunc='count',margins=False).fillna(\"\")"
   ]
  },
  {
   "cell_type": "code",
   "execution_count": null,
   "metadata": {
    "collapsed": false
   },
   "outputs": [],
   "source": [
    "#dfSomatic"
   ]
  },
  {
   "cell_type": "code",
   "execution_count": null,
   "metadata": {
    "collapsed": false
   },
   "outputs": [],
   "source": [
    "pd.pivot_table(dfSomatic[(dfSomatic.inPON==False)&(dfSomatic.consensus==True)], values='pos', index=['inStrelka','variantType'], columns=['bedRegion'], aggfunc='count',margins=False).fillna(\"\")"
   ]
  },
  {
   "cell_type": "markdown",
   "metadata": {},
   "source": [
    "### BED FILE ANALYSIS"
   ]
  },
  {
   "cell_type": "code",
   "execution_count": null,
   "metadata": {
    "collapsed": false
   },
   "outputs": [],
   "source": [
    "BED_PATH = \"/Users/peterpriestley/hmf/analyses/giabTruthsets/\"\n",
    "BED_FILE_NAME = \"NA12878_GIAB_highconf_IllFB-IllGATKHC-CG-Ion-Solid_ALLCHROM_v3.2.2_highconf.bed\"\n",
    "HCBed = aVCF.loadBEDFile(BED_PATH,BED_FILE_NAME)"
   ]
  },
  {
   "cell_type": "code",
   "execution_count": null,
   "metadata": {
    "collapsed": false
   },
   "outputs": [],
   "source": [
    "BED_PATH = \"/Users/peterpriestley/hmf/analyses/slices/\"\n",
    "BED_FILE_NAME = \"CPCT_Slicing.bed\"\n",
    "hmfBed = aVCF.loadBEDFile(BED_PATH,BED_FILE_NAME)\n",
    "print sum(int(row[2])-int(row[1]) for row in hmfBed)"
   ]
  },
  {
   "cell_type": "code",
   "execution_count": null,
   "metadata": {
    "collapsed": false
   },
   "outputs": [],
   "source": []
  },
  {
   "cell_type": "code",
   "execution_count": null,
   "metadata": {
    "collapsed": false,
    "scrolled": false
   },
   "outputs": [],
   "source": [
    "HCItem = HCBed.pop()\n",
    "HMFItem = hmfBed.pop()\n",
    "overlap = 0\n",
    "count = 0\n",
    "prevOverlap,prevCount = 0,0\n",
    "while HCBed and hmfBed: \n",
    "    if HCItem[0]=='X':\n",
    "        HCItem[0] = 23\n",
    "    if HCItem[0]=='Y':\n",
    "        HCItem[0] = 24\n",
    "    if HMFItem[0]=='X':\n",
    "        HMFItem[0] = 23\n",
    "    if HMFItem[0]=='Y':\n",
    "        HMFItem[0] = 24\n",
    "    if int(HCItem[0])<int(HMFItem[0]) or (int(HCItem[0])==int(HMFItem[0]) and int(HCItem[2]) < int(HMFItem[1])):\n",
    "        #if int(HMFItem[0])>int(HCItem[0]):\n",
    "        #    print HCItem\n",
    "        print HMFItem[3],int(HMFItem[2])-int(HMFItem[1]),overlap-prevOverlap,round(float(overlap-prevOverlap)/(int(HMFItem[2])-int(HMFItem[1])),2),count-prevCount\n",
    "        prevOverlap = overlap\n",
    "        prevCount = count\n",
    "        HMFItem = hmfBed.pop()\n",
    "    elif int(HMFItem[0])<int(HCItem[0]) or (int(HCItem[0])==int(HMFItem[0]) and int(HMFItem[2]) < int(HCItem[1])):\n",
    "        #if int(HMFItem[0])<int(HCItem[0]):\n",
    "        #    print HMFItem\n",
    "        HCItem = HCBed.pop()\n",
    "\n",
    "    else:\n",
    "        overlap = overlap + min(int(HCItem[2]),int(HMFItem[2])) - max(int(HCItem[1]),int(HMFItem[1]))\n",
    "        count = count + 1\n",
    "        #if count < 300: #HMFItem[3]=='ENST00000249373.3 (SMO)' or HMFItem[3] == 'ENST00000320356.2 (EZH2)':\n",
    "         #   print HMFItem,HCItem,int(HMFItem[2])-int(HMFItem[1]),int(HCItem[2])-int(HCItem[1]),min(int(HCItem[2]),int(HMFItem[2])) - max(int(HCItem[1]),int(HMFItem[1]))\n",
    "        if int(HCItem[1])<int(HMFItem[1]):\n",
    "            print HMFItem[3],int(HMFItem[2])-int(HMFItem[1]),overlap-prevOverlap,round(float(overlap-prevOverlap)/(int(HMFItem[2])-int(HMFItem[1])),2),count-prevCount\n",
    "            prevOverlap = overlap\n",
    "            prevCount = count\n",
    "            HMFItem = hmfBed.pop()\n",
    "        else:\n",
    "            \n",
    "            HCItem = HCBed.pop()\n",
    "                                \n",
    "print overlap,count\n",
    "            "
   ]
  },
  {
   "cell_type": "code",
   "execution_count": null,
   "metadata": {
    "collapsed": true
   },
   "outputs": [],
   "source": []
  },
  {
   "cell_type": "code",
   "execution_count": null,
   "metadata": {
    "collapsed": true
   },
   "outputs": [],
   "source": []
  }
 ],
 "metadata": {
  "kernelspec": {
   "display_name": "Python 2",
   "language": "python",
   "name": "python2"
  },
  "language_info": {
   "codemirror_mode": {
    "name": "ipython",
    "version": 2
   },
   "file_extension": ".py",
   "mimetype": "text/x-python",
   "name": "python",
   "nbconvert_exporter": "python",
   "pygments_lexer": "ipython2",
   "version": "2.7.10"
  }
 },
 "nbformat": 4,
 "nbformat_minor": 0
}
