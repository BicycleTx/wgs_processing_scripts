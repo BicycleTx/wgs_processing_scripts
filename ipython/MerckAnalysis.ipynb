{
 "cells": [
  {
   "cell_type": "markdown",
   "metadata": {},
   "source": [
    "### CONFIGURATION"
   ]
  },
  {
   "cell_type": "code",
   "execution_count": 11,
   "metadata": {
    "collapsed": false
   },
   "outputs": [],
   "source": [
    "import pandas as pd\n",
    "pd.set_option('display.max_columns', 500)\n",
    "pd.set_option('display.width', 1000)\n",
    "import numpy as np\n",
    "import copy\n",
    "import sys\n",
    "import matplotlib.pyplot as plt\n",
    "%matplotlib inline"
   ]
  },
  {
   "cell_type": "code",
   "execution_count": 12,
   "metadata": {
    "collapsed": false
   },
   "outputs": [],
   "source": [
    "# Hartwig imports\n",
    "sys.path.append(\"/Users/peterpriestley/hmf/repos/scripts/analysisscripts\") \n",
    "import analyseVCF as aVCF\n",
    "import venn as vn"
   ]
  },
  {
   "cell_type": "code",
   "execution_count": 13,
   "metadata": {
    "collapsed": true
   },
   "outputs": [],
   "source": [
    "#CHROM SLICING\n",
    "minChromFrac = 0#17.443476\n",
    "maxChromFrac = 26#17.491846\n",
    "#minChromFrac = 17.689695\n",
    "#maxChromFrac = 17.73896"
   ]
  },
  {
   "cell_type": "code",
   "execution_count": 30,
   "metadata": {
    "collapsed": false
   },
   "outputs": [],
   "source": [
    "\n",
    "# COMBINED VCF CONFIG\n",
    "VCF_SAMPLE = \"CPCT02010277\"\n",
    "VCF_PATH = \"/Users/peterpriestley/hmf/analyses/2016OctMerckComparison/\"\n",
    "VCF_FILE_NAME = VCF_SAMPLE + \"R_\"+ VCF_SAMPLE + \"T_merged_somatics_snpEff_dbSNP_Cosmicv76_melted.vcf\"\n",
    "SAMPLE_NAMES = {'/sample/output/160526_HMFreg0049_FR10303439_FR10303440_CPCT02010277/somaticVariants/CPCT02010277R_CPCT02010277T/CPCT02010277R_CPCT02010277T_merged_somatics_snpEff_dbSNP_Cosmicv76':'melted'}\n",
    "# TRUTH SET\n",
    "VCF_SAMPLE_TRUTH = VCF_SAMPLE\n",
    "SAMPLE_NAMES_TRUTH = {VCF_SAMPLE + 'T':'truth'}\n",
    "VCF_PATH_TRUTH = VCF_PATH\n",
    "VCF_FILE_NAME_TRUTH = VCF_SAMPLE + \".mutect.cutoff.ann.vcf\"\n"
   ]
  },
  {
   "cell_type": "markdown",
   "metadata": {},
   "source": [
    "### Functions"
   ]
  },
  {
   "cell_type": "code",
   "execution_count": 31,
   "metadata": {
    "collapsed": true
   },
   "outputs": [],
   "source": [
    "def filterByChromFrac(df):\n",
    "    return df[(df.chromFrac > minChromFrac)&(df.chromFrac < maxChromFrac)]"
   ]
  },
  {
   "cell_type": "code",
   "execution_count": 32,
   "metadata": {
    "collapsed": false
   },
   "outputs": [],
   "source": [
    "def calculateTruth(df,dfTruth):\n",
    "    df = pd.merge(df,dfTruth,how='left', left_index=True,right_index=True,suffixes=('', '_Truth'))\n",
    "    df['hasTP'] = False\n",
    "    df['hasFP'] = False\n",
    "    for columnName in list(df):\n",
    "        if columnName.endswith('allele'):\n",
    "            df['hasTP'] = (df['hasTP']) | ((df[columnName[:-6]+'indelDiff'] == df['truth_indelDiff']) \\\n",
    "                    & (~pd.isnull(df['truth_indelDiff']) & (df['variantType'] == 'INDEL'))) |((df[columnName] == df['truth_allele']) \\\n",
    "                    & (df['variantType'] == 'SNP'))\n",
    "            df['hasFP'] = (df['hasFP']) | ((df[columnName[:-6]+'indelDiff'] != df['truth_indelDiff']) \\\n",
    "                    & (df['variantType'] == 'INDEL') & (df[columnName[:-6]+'indelDiff'] != '')) |((df[columnName] != df['truth_allele']) \\\n",
    "                    & (df['variantType'] == 'SNP') & (df[columnName] != ''))\n",
    "    df['Truth'] = (df['hasTP']) &  (df['hasFP'] == False)\n",
    "    return df"
   ]
  },
  {
   "cell_type": "code",
   "execution_count": 33,
   "metadata": {
    "collapsed": false
   },
   "outputs": [],
   "source": [
    "def calcuatePrecisionSensivityMatrix(df):\n",
    "    outputdata = []\n",
    "    for columnName in list(df):\n",
    "        if columnName.endswith('allele') & ~columnName.endswith('_allele'):\n",
    "            myCaller = columnName[:-6]\n",
    "            variantTypes = df[(df[myCaller+'allele'] != '')].variantType.unique()\n",
    "            for variantType in variantTypes:\n",
    "                truePositives = len(df[(df[myCaller+'allele'] != '') & (df['Truth'] == True) &(df['variantType'] == variantType)])\n",
    "                positives = len(df[(df[myCaller+'allele'] != '')&(df['variantType'] == variantType)])\n",
    "                truthSet = len(dfTruth[dfTruth['variantType'] == variantType]) \n",
    "                falseNegatives = truthSet - truePositives\n",
    "                if positives > 0:\n",
    "                    outputdata.append([variantType, myCaller, truthSet,truePositives,positives-truePositives, falseNegatives, \\\n",
    "                                   round(truePositives/float(positives),4),round(truePositives/float(max(truthSet,1)),4)])\n",
    "    \n",
    "    outputDF = pd.DataFrame(outputdata)\n",
    "    outputDF.columns = (['variantType','caller','truthSet','truePositives','falsePositives','falseNegatives','precision','sensitivity'])\n",
    "    return outputDF.sort_values(['variantType','caller'])"
   ]
  },
  {
   "cell_type": "markdown",
   "metadata": {},
   "source": [
    "<h3> Load VCFs and Prepare DF"
   ]
  },
  {
   "cell_type": "code",
   "execution_count": 34,
   "metadata": {
    "collapsed": false
   },
   "outputs": [
    {
     "name": "stdout",
     "output_type": "stream",
     "text": [
      "reading vcf file: CPCT02010277.mutect.cutoff.ann.vcf\n",
      "reading VCF File line: 100000\n",
      "Number variants loaded: 109762\n"
     ]
    }
   ],
   "source": [
    "## LOAD TRUTH SET VCF\n",
    "dfTruth = aVCF.loadVaraintsFromVCF(VCF_PATH_TRUTH,VCF_FILE_NAME_TRUTH, \\\n",
    "                                   SAMPLE_NAMES_TRUTH,\"Mix-in Truth Set\",True)\n",
    "dfTruth = filterByChromFrac(dfTruth)\n",
    "dfTruth.rename(columns={'truthallele':'truth_allele','truthindelDiff':'truth_indelDiff','truthindelPos':'truth_indelPos'}, inplace=True)\n",
    "dfTruth = dfTruth[['chrom','pos','variantType','ref','truth_allele','truth_indelDiff','truth_indelPos']]\n",
    "dfTruth = dfTruth.set_index(['chrom','pos'])"
   ]
  },
  {
   "cell_type": "code",
   "execution_count": 35,
   "metadata": {
    "collapsed": false
   },
   "outputs": [
    {
     "name": "stdout",
     "output_type": "stream",
     "text": [
      "reading vcf file: CPCT02010277R_CPCT02010277T_merged_somatics_snpEff_dbSNP_Cosmicv76_melted.vcf\n",
      "reading VCF File line: 100000\n",
      "reading VCF File line: 200000\n",
      "Number variants loaded: 263910\n"
     ]
    }
   ],
   "source": [
    "# LOAD SAMPLE VCF + match to truth set\n",
    "dfProd = aVCF.loadVaraintsFromVCF(VCF_PATH,VCF_FILE_NAME,SAMPLE_NAMES,VCF_SAMPLE,True)\n",
    "dfProd = filterByChromFrac(dfProd)\n",
    "dfProd = dfProd.set_index(['chrom','pos'])\n",
    "dfProd = calculateTruth(dfProd,dfTruth)"
   ]
  },
  {
   "cell_type": "markdown",
   "metadata": {},
   "source": [
    "<h3> SLICE ANALYSIS"
   ]
  },
  {
   "cell_type": "markdown",
   "metadata": {},
   "source": [
    "### PRECISION + SENSITIVITY|"
   ]
  },
  {
   "cell_type": "code",
   "execution_count": 28,
   "metadata": {
    "collapsed": false
   },
   "outputs": [
    {
     "data": {
      "text/html": [
       "<div>\n",
       "<table border=\"1\" class=\"dataframe\">\n",
       "  <thead>\n",
       "    <tr style=\"text-align: right;\">\n",
       "      <th></th>\n",
       "      <th>variantType</th>\n",
       "      <th>caller</th>\n",
       "      <th>truthSet</th>\n",
       "      <th>truePositives</th>\n",
       "      <th>falsePositives</th>\n",
       "      <th>falseNegatives</th>\n",
       "      <th>precision</th>\n",
       "      <th>sensitivity</th>\n",
       "    </tr>\n",
       "  </thead>\n",
       "  <tbody>\n",
       "    <tr>\n",
       "      <th>1</th>\n",
       "      <td>INDEL</td>\n",
       "      <td>melted</td>\n",
       "      <td>0</td>\n",
       "      <td>0</td>\n",
       "      <td>4557</td>\n",
       "      <td>0</td>\n",
       "      <td>0.0000</td>\n",
       "      <td>0.0000</td>\n",
       "    </tr>\n",
       "    <tr>\n",
       "      <th>0</th>\n",
       "      <td>SNP</td>\n",
       "      <td>melted</td>\n",
       "      <td>26158</td>\n",
       "      <td>26156</td>\n",
       "      <td>31425</td>\n",
       "      <td>2</td>\n",
       "      <td>0.4542</td>\n",
       "      <td>0.9999</td>\n",
       "    </tr>\n",
       "  </tbody>\n",
       "</table>\n",
       "</div>"
      ],
      "text/plain": [
       "  variantType  caller  truthSet  truePositives  falsePositives  falseNegatives  precision  sensitivity\n",
       "1       INDEL  melted         0              0            4557               0     0.0000       0.0000\n",
       "0         SNP  melted     26158          26156           31425               2     0.4542       0.9999"
      ]
     },
     "execution_count": 28,
     "metadata": {},
     "output_type": "execute_result"
    }
   ],
   "source": [
    "#PRECISION + SENSITIVITY by caller - PROD\n",
    "outputDF = calcuatePrecisionSensivityMatrix(dfProd)\n",
    "outputDF"
   ]
  },
  {
   "cell_type": "code",
   "execution_count": 29,
   "metadata": {
    "collapsed": false
   },
   "outputs": [
    {
     "data": {
      "text/html": [
       "<div>\n",
       "<table border=\"1\" class=\"dataframe\">\n",
       "  <thead>\n",
       "    <tr style=\"text-align: right;\">\n",
       "      <th>Truth</th>\n",
       "      <th>False</th>\n",
       "      <th>True</th>\n",
       "    </tr>\n",
       "    <tr>\n",
       "      <th>vennSegment</th>\n",
       "      <th></th>\n",
       "      <th></th>\n",
       "    </tr>\n",
       "  </thead>\n",
       "  <tbody>\n",
       "    <tr>\n",
       "      <th>Intersection</th>\n",
       "      <td>125.0</td>\n",
       "      <td>6286.0</td>\n",
       "    </tr>\n",
       "    <tr>\n",
       "      <th>filterInvarscan-freebayes</th>\n",
       "      <td>201.0</td>\n",
       "      <td>NaN</td>\n",
       "    </tr>\n",
       "    <tr>\n",
       "      <th>filterInvarscan-freebayes-mutect</th>\n",
       "      <td>NaN</td>\n",
       "      <td>3.0</td>\n",
       "    </tr>\n",
       "    <tr>\n",
       "      <th>filterInvarscan-mutect</th>\n",
       "      <td>11.0</td>\n",
       "      <td>43.0</td>\n",
       "    </tr>\n",
       "    <tr>\n",
       "      <th>freebayes</th>\n",
       "      <td>14041.0</td>\n",
       "      <td>NaN</td>\n",
       "    </tr>\n",
       "    <tr>\n",
       "      <th>freebayes-mutect</th>\n",
       "      <td>30.0</td>\n",
       "      <td>20.0</td>\n",
       "    </tr>\n",
       "    <tr>\n",
       "      <th>mutect</th>\n",
       "      <td>3153.0</td>\n",
       "      <td>7447.0</td>\n",
       "    </tr>\n",
       "    <tr>\n",
       "      <th>strelka</th>\n",
       "      <td>9570.0</td>\n",
       "      <td>NaN</td>\n",
       "    </tr>\n",
       "    <tr>\n",
       "      <th>strelka-filterInvarscan</th>\n",
       "      <td>30.0</td>\n",
       "      <td>NaN</td>\n",
       "    </tr>\n",
       "    <tr>\n",
       "      <th>strelka-filterInvarscan-freebayes</th>\n",
       "      <td>4.0</td>\n",
       "      <td>NaN</td>\n",
       "    </tr>\n",
       "    <tr>\n",
       "      <th>strelka-filterInvarscan-freebayes-mutect</th>\n",
       "      <td>1.0</td>\n",
       "      <td>6.0</td>\n",
       "    </tr>\n",
       "    <tr>\n",
       "      <th>strelka-filterInvarscan-mutect</th>\n",
       "      <td>5.0</td>\n",
       "      <td>12.0</td>\n",
       "    </tr>\n",
       "    <tr>\n",
       "      <th>strelka-freebayes</th>\n",
       "      <td>142.0</td>\n",
       "      <td>NaN</td>\n",
       "    </tr>\n",
       "    <tr>\n",
       "      <th>strelka-freebayes-mutect</th>\n",
       "      <td>6.0</td>\n",
       "      <td>179.0</td>\n",
       "    </tr>\n",
       "    <tr>\n",
       "      <th>strelka-mutect</th>\n",
       "      <td>240.0</td>\n",
       "      <td>1568.0</td>\n",
       "    </tr>\n",
       "    <tr>\n",
       "      <th>strelka-varscan</th>\n",
       "      <td>521.0</td>\n",
       "      <td>NaN</td>\n",
       "    </tr>\n",
       "    <tr>\n",
       "      <th>strelka-varscan-freebayes</th>\n",
       "      <td>126.0</td>\n",
       "      <td>NaN</td>\n",
       "    </tr>\n",
       "    <tr>\n",
       "      <th>strelka-varscan-mutect</th>\n",
       "      <td>225.0</td>\n",
       "      <td>10507.0</td>\n",
       "    </tr>\n",
       "    <tr>\n",
       "      <th>varscan</th>\n",
       "      <td>2724.0</td>\n",
       "      <td>NaN</td>\n",
       "    </tr>\n",
       "    <tr>\n",
       "      <th>varscan-freebayes</th>\n",
       "      <td>186.0</td>\n",
       "      <td>NaN</td>\n",
       "    </tr>\n",
       "    <tr>\n",
       "      <th>varscan-freebayes-mutect</th>\n",
       "      <td>14.0</td>\n",
       "      <td>6.0</td>\n",
       "    </tr>\n",
       "    <tr>\n",
       "      <th>varscan-mutect</th>\n",
       "      <td>70.0</td>\n",
       "      <td>79.0</td>\n",
       "    </tr>\n",
       "  </tbody>\n",
       "</table>\n",
       "</div>"
      ],
      "text/plain": [
       "Truth                                       False    True \n",
       "vennSegment                                               \n",
       "Intersection                                125.0   6286.0\n",
       "filterInvarscan-freebayes                   201.0      NaN\n",
       "filterInvarscan-freebayes-mutect              NaN      3.0\n",
       "filterInvarscan-mutect                       11.0     43.0\n",
       "freebayes                                 14041.0      NaN\n",
       "freebayes-mutect                             30.0     20.0\n",
       "mutect                                     3153.0   7447.0\n",
       "strelka                                    9570.0      NaN\n",
       "strelka-filterInvarscan                      30.0      NaN\n",
       "strelka-filterInvarscan-freebayes             4.0      NaN\n",
       "strelka-filterInvarscan-freebayes-mutect      1.0      6.0\n",
       "strelka-filterInvarscan-mutect                5.0     12.0\n",
       "strelka-freebayes                           142.0      NaN\n",
       "strelka-freebayes-mutect                      6.0    179.0\n",
       "strelka-mutect                              240.0   1568.0\n",
       "strelka-varscan                             521.0      NaN\n",
       "strelka-varscan-freebayes                   126.0      NaN\n",
       "strelka-varscan-mutect                      225.0  10507.0\n",
       "varscan                                    2724.0      NaN\n",
       "varscan-freebayes                           186.0      NaN\n",
       "varscan-freebayes-mutect                     14.0      6.0\n",
       "varscan-mutect                               70.0     79.0"
      ]
     },
     "execution_count": 29,
     "metadata": {},
     "output_type": "execute_result"
    }
   ],
   "source": [
    "dftemp = dfProd[(dfProd['variantType']== \"SNP\")].reset_index()\n",
    "pd.pivot_table(dftemp, values='pos', index=['vennSegment'], columns=['Truth'], aggfunc='count')"
   ]
  },
  {
   "cell_type": "code",
   "execution_count": 24,
   "metadata": {
    "collapsed": false
   },
   "outputs": [
    {
     "ename": "KeyError",
     "evalue": "'truth_AF'",
     "output_type": "error",
     "traceback": [
      "\u001b[0;31m---------------------------------------------------------------------------\u001b[0m",
      "\u001b[0;31mKeyError\u001b[0m                                  Traceback (most recent call last)",
      "\u001b[0;32m<ipython-input-24-39f726f746e1>\u001b[0m in \u001b[0;36m<module>\u001b[0;34m()\u001b[0m\n\u001b[1;32m      3\u001b[0m \u001b[0;32mfor\u001b[0m \u001b[0mcolumnName\u001b[0m \u001b[0;32min\u001b[0m \u001b[0mlist\u001b[0m\u001b[0;34m(\u001b[0m\u001b[0msnpdf\u001b[0m\u001b[0;34m)\u001b[0m\u001b[0;34m:\u001b[0m\u001b[0;34m\u001b[0m\u001b[0m\n\u001b[1;32m      4\u001b[0m     \u001b[0;32mif\u001b[0m \u001b[0mcolumnName\u001b[0m\u001b[0;34m.\u001b[0m\u001b[0mendswith\u001b[0m\u001b[0;34m(\u001b[0m\u001b[0;34m'allele'\u001b[0m\u001b[0;34m)\u001b[0m\u001b[0;34m:\u001b[0m\u001b[0;34m\u001b[0m\u001b[0m\n\u001b[0;32m----> 5\u001b[0;31m         \u001b[0mser\u001b[0m \u001b[0;34m=\u001b[0m \u001b[0msnpdf\u001b[0m\u001b[0;34m[\u001b[0m\u001b[0;34m(\u001b[0m\u001b[0msnpdf\u001b[0m\u001b[0;34m[\u001b[0m\u001b[0mcolumnName\u001b[0m\u001b[0;34m]\u001b[0m \u001b[0;34m!=\u001b[0m \u001b[0;34m''\u001b[0m\u001b[0;34m)\u001b[0m \u001b[0;34m&\u001b[0m\u001b[0;34m(\u001b[0m\u001b[0msnpdf\u001b[0m\u001b[0;34m[\u001b[0m\u001b[0mcolumnName\u001b[0m\u001b[0;34m[\u001b[0m\u001b[0;34m:\u001b[0m\u001b[0;34m-\u001b[0m\u001b[0;36m6\u001b[0m\u001b[0;34m]\u001b[0m \u001b[0;34m+\u001b[0m \u001b[0;34m'AF'\u001b[0m\u001b[0;34m]\u001b[0m \u001b[0;34m>\u001b[0m \u001b[0;36m0.0\u001b[0m\u001b[0;34m)\u001b[0m\u001b[0;34m]\u001b[0m\u001b[0;34m[\u001b[0m\u001b[0mcolumnName\u001b[0m\u001b[0;34m[\u001b[0m\u001b[0;34m:\u001b[0m\u001b[0;34m-\u001b[0m\u001b[0;36m6\u001b[0m\u001b[0;34m]\u001b[0m \u001b[0;34m+\u001b[0m \u001b[0;34m'AF'\u001b[0m\u001b[0;34m]\u001b[0m\u001b[0;34m\u001b[0m\u001b[0m\n\u001b[0m\u001b[1;32m      6\u001b[0m         \u001b[0mser\u001b[0m \u001b[0;34m=\u001b[0m \u001b[0mser\u001b[0m\u001b[0;34m.\u001b[0m\u001b[0msort_values\u001b[0m\u001b[0;34m(\u001b[0m\u001b[0;34m)\u001b[0m\u001b[0;34m\u001b[0m\u001b[0m\n\u001b[1;32m      7\u001b[0m         \u001b[0;31m#ser[len(ser)] = ser.iloc[-1]\u001b[0m\u001b[0;34m\u001b[0m\u001b[0;34m\u001b[0m\u001b[0m\n",
      "\u001b[0;32m/Library/Python/2.7/site-packages/pandas/core/frame.pyc\u001b[0m in \u001b[0;36m__getitem__\u001b[0;34m(self, key)\u001b[0m\n\u001b[1;32m   1995\u001b[0m             \u001b[0;32mreturn\u001b[0m \u001b[0mself\u001b[0m\u001b[0;34m.\u001b[0m\u001b[0m_getitem_multilevel\u001b[0m\u001b[0;34m(\u001b[0m\u001b[0mkey\u001b[0m\u001b[0;34m)\u001b[0m\u001b[0;34m\u001b[0m\u001b[0m\n\u001b[1;32m   1996\u001b[0m         \u001b[0;32melse\u001b[0m\u001b[0;34m:\u001b[0m\u001b[0;34m\u001b[0m\u001b[0m\n\u001b[0;32m-> 1997\u001b[0;31m             \u001b[0;32mreturn\u001b[0m \u001b[0mself\u001b[0m\u001b[0;34m.\u001b[0m\u001b[0m_getitem_column\u001b[0m\u001b[0;34m(\u001b[0m\u001b[0mkey\u001b[0m\u001b[0;34m)\u001b[0m\u001b[0;34m\u001b[0m\u001b[0m\n\u001b[0m\u001b[1;32m   1998\u001b[0m \u001b[0;34m\u001b[0m\u001b[0m\n\u001b[1;32m   1999\u001b[0m     \u001b[0;32mdef\u001b[0m \u001b[0m_getitem_column\u001b[0m\u001b[0;34m(\u001b[0m\u001b[0mself\u001b[0m\u001b[0;34m,\u001b[0m \u001b[0mkey\u001b[0m\u001b[0;34m)\u001b[0m\u001b[0;34m:\u001b[0m\u001b[0;34m\u001b[0m\u001b[0m\n",
      "\u001b[0;32m/Library/Python/2.7/site-packages/pandas/core/frame.pyc\u001b[0m in \u001b[0;36m_getitem_column\u001b[0;34m(self, key)\u001b[0m\n\u001b[1;32m   2002\u001b[0m         \u001b[0;31m# get column\u001b[0m\u001b[0;34m\u001b[0m\u001b[0;34m\u001b[0m\u001b[0m\n\u001b[1;32m   2003\u001b[0m         \u001b[0;32mif\u001b[0m \u001b[0mself\u001b[0m\u001b[0;34m.\u001b[0m\u001b[0mcolumns\u001b[0m\u001b[0;34m.\u001b[0m\u001b[0mis_unique\u001b[0m\u001b[0;34m:\u001b[0m\u001b[0;34m\u001b[0m\u001b[0m\n\u001b[0;32m-> 2004\u001b[0;31m             \u001b[0;32mreturn\u001b[0m \u001b[0mself\u001b[0m\u001b[0;34m.\u001b[0m\u001b[0m_get_item_cache\u001b[0m\u001b[0;34m(\u001b[0m\u001b[0mkey\u001b[0m\u001b[0;34m)\u001b[0m\u001b[0;34m\u001b[0m\u001b[0m\n\u001b[0m\u001b[1;32m   2005\u001b[0m \u001b[0;34m\u001b[0m\u001b[0m\n\u001b[1;32m   2006\u001b[0m         \u001b[0;31m# duplicate columns & possible reduce dimensionality\u001b[0m\u001b[0;34m\u001b[0m\u001b[0;34m\u001b[0m\u001b[0m\n",
      "\u001b[0;32m/Library/Python/2.7/site-packages/pandas/core/generic.pyc\u001b[0m in \u001b[0;36m_get_item_cache\u001b[0;34m(self, item)\u001b[0m\n\u001b[1;32m   1348\u001b[0m         \u001b[0mres\u001b[0m \u001b[0;34m=\u001b[0m \u001b[0mcache\u001b[0m\u001b[0;34m.\u001b[0m\u001b[0mget\u001b[0m\u001b[0;34m(\u001b[0m\u001b[0mitem\u001b[0m\u001b[0;34m)\u001b[0m\u001b[0;34m\u001b[0m\u001b[0m\n\u001b[1;32m   1349\u001b[0m         \u001b[0;32mif\u001b[0m \u001b[0mres\u001b[0m \u001b[0;32mis\u001b[0m \u001b[0mNone\u001b[0m\u001b[0;34m:\u001b[0m\u001b[0;34m\u001b[0m\u001b[0m\n\u001b[0;32m-> 1350\u001b[0;31m             \u001b[0mvalues\u001b[0m \u001b[0;34m=\u001b[0m \u001b[0mself\u001b[0m\u001b[0;34m.\u001b[0m\u001b[0m_data\u001b[0m\u001b[0;34m.\u001b[0m\u001b[0mget\u001b[0m\u001b[0;34m(\u001b[0m\u001b[0mitem\u001b[0m\u001b[0;34m)\u001b[0m\u001b[0;34m\u001b[0m\u001b[0m\n\u001b[0m\u001b[1;32m   1351\u001b[0m             \u001b[0mres\u001b[0m \u001b[0;34m=\u001b[0m \u001b[0mself\u001b[0m\u001b[0;34m.\u001b[0m\u001b[0m_box_item_values\u001b[0m\u001b[0;34m(\u001b[0m\u001b[0mitem\u001b[0m\u001b[0;34m,\u001b[0m \u001b[0mvalues\u001b[0m\u001b[0;34m)\u001b[0m\u001b[0;34m\u001b[0m\u001b[0m\n\u001b[1;32m   1352\u001b[0m             \u001b[0mcache\u001b[0m\u001b[0;34m[\u001b[0m\u001b[0mitem\u001b[0m\u001b[0;34m]\u001b[0m \u001b[0;34m=\u001b[0m \u001b[0mres\u001b[0m\u001b[0;34m\u001b[0m\u001b[0m\n",
      "\u001b[0;32m/Library/Python/2.7/site-packages/pandas/core/internals.pyc\u001b[0m in \u001b[0;36mget\u001b[0;34m(self, item, fastpath)\u001b[0m\n\u001b[1;32m   3288\u001b[0m \u001b[0;34m\u001b[0m\u001b[0m\n\u001b[1;32m   3289\u001b[0m             \u001b[0;32mif\u001b[0m \u001b[0;32mnot\u001b[0m \u001b[0misnull\u001b[0m\u001b[0;34m(\u001b[0m\u001b[0mitem\u001b[0m\u001b[0;34m)\u001b[0m\u001b[0;34m:\u001b[0m\u001b[0;34m\u001b[0m\u001b[0m\n\u001b[0;32m-> 3290\u001b[0;31m                 \u001b[0mloc\u001b[0m \u001b[0;34m=\u001b[0m \u001b[0mself\u001b[0m\u001b[0;34m.\u001b[0m\u001b[0mitems\u001b[0m\u001b[0;34m.\u001b[0m\u001b[0mget_loc\u001b[0m\u001b[0;34m(\u001b[0m\u001b[0mitem\u001b[0m\u001b[0;34m)\u001b[0m\u001b[0;34m\u001b[0m\u001b[0m\n\u001b[0m\u001b[1;32m   3291\u001b[0m             \u001b[0;32melse\u001b[0m\u001b[0;34m:\u001b[0m\u001b[0;34m\u001b[0m\u001b[0m\n\u001b[1;32m   3292\u001b[0m                 \u001b[0mindexer\u001b[0m \u001b[0;34m=\u001b[0m \u001b[0mnp\u001b[0m\u001b[0;34m.\u001b[0m\u001b[0marange\u001b[0m\u001b[0;34m(\u001b[0m\u001b[0mlen\u001b[0m\u001b[0;34m(\u001b[0m\u001b[0mself\u001b[0m\u001b[0;34m.\u001b[0m\u001b[0mitems\u001b[0m\u001b[0;34m)\u001b[0m\u001b[0;34m)\u001b[0m\u001b[0;34m[\u001b[0m\u001b[0misnull\u001b[0m\u001b[0;34m(\u001b[0m\u001b[0mself\u001b[0m\u001b[0;34m.\u001b[0m\u001b[0mitems\u001b[0m\u001b[0;34m)\u001b[0m\u001b[0;34m]\u001b[0m\u001b[0;34m\u001b[0m\u001b[0m\n",
      "\u001b[0;32m/Library/Python/2.7/site-packages/pandas/indexes/base.pyc\u001b[0m in \u001b[0;36mget_loc\u001b[0;34m(self, key, method, tolerance)\u001b[0m\n\u001b[1;32m   1945\u001b[0m                 \u001b[0;32mreturn\u001b[0m \u001b[0mself\u001b[0m\u001b[0;34m.\u001b[0m\u001b[0m_engine\u001b[0m\u001b[0;34m.\u001b[0m\u001b[0mget_loc\u001b[0m\u001b[0;34m(\u001b[0m\u001b[0mkey\u001b[0m\u001b[0;34m)\u001b[0m\u001b[0;34m\u001b[0m\u001b[0m\n\u001b[1;32m   1946\u001b[0m             \u001b[0;32mexcept\u001b[0m \u001b[0mKeyError\u001b[0m\u001b[0;34m:\u001b[0m\u001b[0;34m\u001b[0m\u001b[0m\n\u001b[0;32m-> 1947\u001b[0;31m                 \u001b[0;32mreturn\u001b[0m \u001b[0mself\u001b[0m\u001b[0;34m.\u001b[0m\u001b[0m_engine\u001b[0m\u001b[0;34m.\u001b[0m\u001b[0mget_loc\u001b[0m\u001b[0;34m(\u001b[0m\u001b[0mself\u001b[0m\u001b[0;34m.\u001b[0m\u001b[0m_maybe_cast_indexer\u001b[0m\u001b[0;34m(\u001b[0m\u001b[0mkey\u001b[0m\u001b[0;34m)\u001b[0m\u001b[0;34m)\u001b[0m\u001b[0;34m\u001b[0m\u001b[0m\n\u001b[0m\u001b[1;32m   1948\u001b[0m \u001b[0;34m\u001b[0m\u001b[0m\n\u001b[1;32m   1949\u001b[0m         \u001b[0mindexer\u001b[0m \u001b[0;34m=\u001b[0m \u001b[0mself\u001b[0m\u001b[0;34m.\u001b[0m\u001b[0mget_indexer\u001b[0m\u001b[0;34m(\u001b[0m\u001b[0;34m[\u001b[0m\u001b[0mkey\u001b[0m\u001b[0;34m]\u001b[0m\u001b[0;34m,\u001b[0m \u001b[0mmethod\u001b[0m\u001b[0;34m=\u001b[0m\u001b[0mmethod\u001b[0m\u001b[0;34m,\u001b[0m \u001b[0mtolerance\u001b[0m\u001b[0;34m=\u001b[0m\u001b[0mtolerance\u001b[0m\u001b[0;34m)\u001b[0m\u001b[0;34m\u001b[0m\u001b[0m\n",
      "\u001b[0;32mpandas/index.pyx\u001b[0m in \u001b[0;36mpandas.index.IndexEngine.get_loc (pandas/index.c:4154)\u001b[0;34m()\u001b[0m\n",
      "\u001b[0;32mpandas/index.pyx\u001b[0m in \u001b[0;36mpandas.index.IndexEngine.get_loc (pandas/index.c:4018)\u001b[0;34m()\u001b[0m\n",
      "\u001b[0;32mpandas/hashtable.pyx\u001b[0m in \u001b[0;36mpandas.hashtable.PyObjectHashTable.get_item (pandas/hashtable.c:12368)\u001b[0;34m()\u001b[0m\n",
      "\u001b[0;32mpandas/hashtable.pyx\u001b[0m in \u001b[0;36mpandas.hashtable.PyObjectHashTable.get_item (pandas/hashtable.c:12322)\u001b[0;34m()\u001b[0m\n",
      "\u001b[0;31mKeyError\u001b[0m: 'truth_AF'"
     ]
    },
    {
     "data": {
      "image/png": "[encoded data removed]",
      "text/plain": [
       "<matplotlib.figure.Figure at 0x109822a90>"
      ]
     },
     "metadata": {},
     "output_type": "display_data"
    }
   ],
   "source": [
    "#Alllele Freq By Caller\n",
    "snpdf = dfProd[(dfProd.variantType == 'SNP')]\n",
    "for columnName in list(snpdf):\n",
    "    if columnName.endswith('allele'):\n",
    "        ser = snpdf[(snpdf[columnName] != '') &(snpdf[columnName[:-6] + 'AF'] > 0.0)][columnName[:-6] + 'AF']\n",
    "        ser = ser.sort_values()\n",
    "        #ser[len(ser)] = ser.iloc[-1]\n",
    "        cum_dist = np.linspace(0.,1.,len(ser))\n",
    "        ser_cdf = pd.Series(cum_dist, index=ser,name=columnName[:-6]+\": count=\"+str(ser.count())+\" med=\"+str(round(ser.median(),2)))\n",
    "        ser_cdf.plot(drawstyle='steps',legend=True,title=VCF_SAMPLE+\" Allelic Frequency by Caller (AllelicFreq > 0.0)\",figsize=[10,5])"
   ]
  },
  {
   "cell_type": "code",
   "execution_count": null,
   "metadata": {
    "collapsed": false
   },
   "outputs": [],
   "source": [
    "#INTERNAL PRECISION + SENSITIVITY by caller - OLD\n",
    "#dfTruth['Truth'] = (dfTruth['numCallers'] >= 2)\n",
    "#outputDF = calcuatePrecisionSensivityMatrix(dfTruth,dfTruth)\n",
    "#outputDF"
   ]
  },
  {
   "cell_type": "code",
   "execution_count": null,
   "metadata": {
    "collapsed": false
   },
   "outputs": [],
   "source": [
    "dfProd.head(10)"
   ]
  },
  {
   "cell_type": "code",
   "execution_count": 71,
   "metadata": {
    "collapsed": false
   },
   "outputs": [
    {
     "data": {
      "text/html": [
       "<div>\n",
       "<table border=\"1\" class=\"dataframe\">\n",
       "  <thead>\n",
       "    <tr style=\"text-align: right;\">\n",
       "      <th>mutectallele</th>\n",
       "      <th></th>\n",
       "      <th>A</th>\n",
       "      <th>C</th>\n",
       "      <th>G</th>\n",
       "      <th>T</th>\n",
       "    </tr>\n",
       "    <tr>\n",
       "      <th>ref</th>\n",
       "      <th></th>\n",
       "      <th></th>\n",
       "      <th></th>\n",
       "      <th></th>\n",
       "      <th></th>\n",
       "    </tr>\n",
       "  </thead>\n",
       "  <tbody>\n",
       "    <tr>\n",
       "      <th>A</th>\n",
       "      <td>10141.0</td>\n",
       "      <td>NaN</td>\n",
       "      <td>2378.0</td>\n",
       "      <td>7359.0</td>\n",
       "      <td>1720.0</td>\n",
       "    </tr>\n",
       "    <tr>\n",
       "      <th>C</th>\n",
       "      <td>9576.0</td>\n",
       "      <td>2041.0</td>\n",
       "      <td>NaN</td>\n",
       "      <td>1942.0</td>\n",
       "      <td>7926.0</td>\n",
       "    </tr>\n",
       "    <tr>\n",
       "      <th>G</th>\n",
       "      <td>9479.0</td>\n",
       "      <td>7874.0</td>\n",
       "      <td>2050.0</td>\n",
       "      <td>NaN</td>\n",
       "      <td>2197.0</td>\n",
       "    </tr>\n",
       "    <tr>\n",
       "      <th>T</th>\n",
       "      <td>10198.0</td>\n",
       "      <td>1686.0</td>\n",
       "      <td>7407.0</td>\n",
       "      <td>2279.0</td>\n",
       "      <td>NaN</td>\n",
       "    </tr>\n",
       "  </tbody>\n",
       "</table>\n",
       "</div>"
      ],
      "text/plain": [
       "mutectallele                A       C       G       T\n",
       "ref                                                  \n",
       "A             10141.0     NaN  2378.0  7359.0  1720.0\n",
       "C              9576.0  2041.0     NaN  1942.0  7926.0\n",
       "G              9479.0  7874.0  2050.0     NaN  2197.0\n",
       "T             10198.0  1686.0  7407.0  2279.0     NaN"
      ]
     },
     "execution_count": 71,
     "metadata": {},
     "output_type": "execute_result"
    }
   ],
   "source": [
    "snpdf = dfProd[(dfProd.variantType == 'SNP')&(dfProd.ref.str.len() ==1)]\n",
    "pd.pivot_table(snpdf, values='pos', index=['ref'], columns=['mutectallele'], aggfunc='count')"
   ]
  },
  {
   "cell_type": "code",
   "execution_count": null,
   "metadata": {
    "collapsed": false,
    "scrolled": false
   },
   "outputs": [],
   "source": [
    "#dfTruth[(dfTruth['freebayesallele'] != '') & (dfTruth.variantType == 'SNP')]"
   ]
  },
  {
   "cell_type": "code",
   "execution_count": null,
   "metadata": {
    "collapsed": false
   },
   "outputs": [],
   "source": [
    "#pd.options.display.max_rows = 200\n",
    "#caller = \"freebayes\"\n",
    "#dfTruth[(dfTruth[caller+'allele'] != '') & (dfTruth.variantType == 'SNP')][['ref',caller+'indelDiff',caller+'QS',caller+'AF','numCallers']]"
   ]
  },
  {
   "cell_type": "code",
   "execution_count": null,
   "metadata": {
    "collapsed": false,
    "scrolled": true
   },
   "outputs": [],
   "source": [
    "#pd.options.display.max_rows = 15000\n",
    "#caller = \"varscan\"\n",
    "#dfProd[(True) &(dfProd[caller+'allele'] != '') & (dfProd.variantType == 'INDEL')][['Truth','ref',caller+'indelDiff',caller+'QS',caller+'AF','numCallers']]"
   ]
  },
  {
   "cell_type": "markdown",
   "metadata": {},
   "source": [
    "## False Positive Analysis"
   ]
  },
  {
   "cell_type": "code",
   "execution_count": null,
   "metadata": {
    "collapsed": false
   },
   "outputs": [],
   "source": [
    "unfilteredBed = copy.deepcopy(bed)"
   ]
  },
  {
   "cell_type": "code",
   "execution_count": null,
   "metadata": {
    "collapsed": false,
    "scrolled": false
   },
   "outputs": [],
   "source": [
    "# SETTINGS\n",
    "myCaller = 'varscan'\n",
    "UNFILTERED_VCF_PATH = \"/Users/peterpriestley/hmf/70-30slice/\"\n",
    "if myCaller == 'varscan':\n",
    "    UNFILTERED_VCF_FILE_NAME = \"varscan.snp.vcf\"\n",
    "    UNFILTERED_SAMPLE_NAMES = {\"TUMOR\":myCaller}\n",
    "elif myCaller == 'freebayes':\n",
    "    UNFILTERED_VCF_FILE_NAME = \"freebayes.somatic.vcf\"\n",
    "    UNFILTERED_SAMPLE_NAMES = {'CPCT11111111T':myCaller}  \n",
    "elif myCaller == 'strelka':\n",
    "    UNFILTERED_VCF_FILE_NAME = \"/strelka/results/all.somatic.snvs.vcf\"\n",
    "    UNFILTERED_SAMPLE_NAMES = {\"TUMOR\":myCaller}\n",
    "elif myCaller == 'mutect':\n",
    "    UNFILTERED_VCF_FILE_NAME = \"mutect.vcf\"\n",
    "    UNFILTERED_SAMPLE_NAMES = {'CPCT11111111T':myCaller}\n",
    "\n",
    "\n",
    "dfUnfiltered = aVCF.loadVaraintsFromVCF(UNFILTERED_VCF_PATH,UNFILTERED_VCF_FILE_NAME,UNFILTERED_SAMPLE_NAMES,VCF_SAMPLE,False,True,unfilteredBed)\n",
    "dfUnfiltered['Truth']=dfUnfiltered.chromPos.isin(dfTruth['chromPos']) \n",
    "dfUnfiltered = dfUnfiltered[(dfUnfiltered.chromFrac > minChromFrac)&(dfUnfiltered.chromFrac < maxChromFrac)]"
   ]
  },
  {
   "cell_type": "code",
   "execution_count": null,
   "metadata": {
    "collapsed": false
   },
   "outputs": [],
   "source": [
    "dfTruth['inUnfiltered'+myCaller]=dfTruth.chromPos.isin(dfUnfiltered[dfUnfiltered[myCaller+'allele'] != '']['chromPos'])\n",
    "dfTruth['inSlice']=dfTruth.chromPos.isin(dfSlice['chromPos'])"
   ]
  },
  {
   "cell_type": "code",
   "execution_count": null,
   "metadata": {
    "collapsed": false
   },
   "outputs": [],
   "source": [
    "#False Positives - pre-somatic\n",
    "dfTruth[['inSlice','pos','inUnfiltered'+myCaller,'variantType']].groupby(['variantType','inUnfiltered'+myCaller]).agg('count')\n"
   ]
  },
  {
   "cell_type": "code",
   "execution_count": null,
   "metadata": {
    "collapsed": false
   },
   "outputs": [],
   "source": [
    "dfUnfiltered['inSlice'+myCaller]=dfUnfiltered.chromPos.isin(dfSlice[dfSlice[myCaller+'allele'] != '']['chromPos'])\n",
    "dfUnfiltered['inSlice']=dfUnfiltered.chromPos.isin(dfSlice['chromPos'])"
   ]
  },
  {
   "cell_type": "code",
   "execution_count": null,
   "metadata": {
    "collapsed": false
   },
   "outputs": [],
   "source": [
    "dfUnfiltered[['inSlice'+myCaller,'pos','Truth','variantType','filter']].groupby(['variantType','inSlice'+myCaller,'Truth','filter']).agg('count')\n"
   ]
  },
  {
   "cell_type": "code",
   "execution_count": null,
   "metadata": {
    "collapsed": false
   },
   "outputs": [],
   "source": [
    "\n",
    "dfUnfiltered[(dfUnfiltered['Truth'] == True)&\n",
    "            (dfUnfiltered['inSlice'+myCaller] == True)& \n",
    "             (dfUnfiltered.variantType == 'SNP') &\n",
    "             (dfUnfiltered['filter'] != 'PETE')]['pos']"
   ]
  },
  {
   "cell_type": "code",
   "execution_count": null,
   "metadata": {
    "collapsed": false,
    "scrolled": false
   },
   "outputs": [],
   "source": [
    "#FALSE NEGATIVES IN UNFILTERED\n",
    "dfUnfiltered[(dfUnfiltered['inSlice'+myCaller] == False)& \n",
    "             (dfUnfiltered[myCaller+'somaticGT'] != '2')&\n",
    "             (dfUnfiltered.variantType == 'SNP') &\n",
    "             (dfUnfiltered['filter'] != 'str10')].sort_values([myCaller+'QS'],ascending=False)"
   ]
  },
  {
   "cell_type": "code",
   "execution_count": null,
   "metadata": {
    "collapsed": false
   },
   "outputs": [],
   "source": [
    "dfSlice[dfSlice.pos>'37577400'].head(10)"
   ]
  },
  {
   "cell_type": "code",
   "execution_count": null,
   "metadata": {
    "collapsed": false
   },
   "outputs": [],
   "source": [
    "#FALSE POSITIVES`\n",
    "dfUnfiltered[(dfUnfiltered['inSlice'+myCaller] == True) & (dfUnfiltered.variantType == 'SNP') &\n",
    "             (dfUnfiltered['Truth'] == False)].sort_values([myCaller+'QS'],ascending=False)"
   ]
  },
  {
   "cell_type": "markdown",
   "metadata": {},
   "source": [
    "<h3> SNP"
   ]
  },
  {
   "cell_type": "code",
   "execution_count": 26,
   "metadata": {
    "collapsed": false
   },
   "outputs": [
    {
     "data": {
      "image/png": "[encoded data removed]",
      "text/plain": [
       "<matplotlib.figure.Figure at 0x1103f9110>"
      ]
     },
     "metadata": {},
     "output_type": "display_data"
    }
   ],
   "source": [
    "snpdf = dfProd[(dfProd.variantType == 'SNP')]\n",
    "vn.venn([snpdf[snpdf.mutectallele != '']['chromPos'], \\\n",
    "         snpdf[snpdf.strelkaallele != '']['chromPos'], \\\n",
    "        snpdf[snpdf.freebayesallele != '']['chromPos'], \\\n",
    "        snpdf[snpdf.varscanallele != '']['chromPos'] \\\n",
    "        ],['mutect','strelka','freebayes','varscan'],figsize=(6,6))"
   ]
  },
  {
   "cell_type": "code",
   "execution_count": 28,
   "metadata": {
    "collapsed": false
   },
   "outputs": [
    {
     "data": {
      "image/png": "[encoded data removed]",
      "text/plain": [
       "<matplotlib.figure.Figure at 0x10fe63490>"
      ]
     },
     "metadata": {},
     "output_type": "display_data"
    }
   ],
   "source": [
    "snpdf = dfProd[(dfTruth.variantType == 'SNP')]\n",
    "vn.venn([snpdf[snpdf.mutectallele != '']['chromPos'], \\\n",
    "         snpdf[snpdf.strelkaallele != '']['chromPos'], \\\n",
    "        snpdf[snpdf.freebayesallele != '']['chromPos'], \\\n",
    "        snpdf[snpdf.varscanallele != '']['chromPos'] \\\n",
    "        ],['mutect','strelka','freebayes','varscan'],figsize=(6,6))"
   ]
  },
  {
   "cell_type": "markdown",
   "metadata": {},
   "source": [
    "### <hd3> Indel Venn"
   ]
  },
  {
   "cell_type": "code",
   "execution_count": 29,
   "metadata": {
    "collapsed": false
   },
   "outputs": [
    {
     "data": {
      "image/png": "[encoded data removed]",
      "text/plain": [
       "<matplotlib.figure.Figure at 0x1112af950>"
      ]
     },
     "metadata": {},
     "output_type": "display_data"
    }
   ],
   "source": [
    "indeldf= dfProd[(dfProd.variantType == 'INDEL')]\n",
    "vn.venn([indeldf[indeldf.strelkaallele != '']['chromPos'], \\\n",
    "        indeldf[indeldf.freebayesallele != '']['chromPos'], \\\n",
    "        indeldf[indeldf.varscanallele != '']['chromPos'] \\\n",
    "        ],['strelka','freebayes','varscan'],figsize=(6,6))"
   ]
  },
  {
   "cell_type": "code",
   "execution_count": null,
   "metadata": {
    "collapsed": false
   },
   "outputs": [],
   "source": [
    "indeldf= dfTruth[(dfTruth.variantType == 'INDEL')]\n",
    "vn.venn([indeldf[indeldf.strelkaallele != '']['chromPos'], \\\n",
    "        indeldf[indeldf.freebayesallele != '']['chromPos'], \\\n",
    "        indeldf[indeldf.varscanallele != '']['chromPos'] \\\n",
    "        ],['strelka','freebayes','varscan'],figsize=(6,6))"
   ]
  },
  {
   "cell_type": "markdown",
   "metadata": {},
   "source": [
    "### <hd3> Read Depth"
   ]
  },
  {
   "cell_type": "code",
   "execution_count": null,
   "metadata": {
    "collapsed": false
   },
   "outputs": [],
   "source": [
    "for columnName in list(df):\n",
    "    if columnName.endswith('allelicFreq'):\n",
    "        df[df[columnName] != ''].hist(column=columnName,by=\"Truth\",bins=40,figsize=(10,5))\n",
    "        "
   ]
  },
  {
   "cell_type": "code",
   "execution_count": null,
   "metadata": {
    "collapsed": false
   },
   "outputs": [],
   "source": [
    "df[df.freebayesreadDepth != ''].hist(column=\"freebayesallelicFreq\",by=\"Truth\",bins=30)"
   ]
  },
  {
   "cell_type": "markdown",
   "metadata": {},
   "source": [
    "## Qual Score"
   ]
  },
  {
   "cell_type": "code",
   "execution_count": null,
   "metadata": {
    "collapsed": false
   },
   "outputs": [],
   "source": [
    "# INDELS BY CALLER BY TRUTH\n",
    "caller = 'strelka'\n",
    "truths = indeldf.Truth.unique()\n",
    "for truth in truths:\n",
    "    ser = indeldf[(indeldf.Truth == truth) &(indeldf[caller+'allele'] != '')][caller + 'QS']\n",
    "    ser = ser.sort_values()\n",
    "    cum_dist = np.linspace(0.,1.,len(ser))\n",
    "    ser_cdf = pd.Series(cum_dist, index=ser,name=caller+\" INDEL \"+str(truth)+\": c=\"+str(ser.count())+\" m=\"+str(round(ser.median(),2)))\n",
    "    ser_cdf.plot(drawstyle='steps',legend=True,title=caller+\" Qual Score CDF - INDELS\",figsize=[15,6], xlim=[0,100],ylim=[0,1])\n",
    "\n",
    "truths = snpdf.Truth.unique()\n",
    "for truth in truths:\n",
    "    ser = snpdf[(snpdf.Truth == truth) &(snpdf[caller+'allele'] != '')][caller + 'QS']\n",
    "    ser = ser.sort_values()\n",
    "    cum_dist = np.linspace(0.,1.,len(ser))\n",
    "    ser_cdf = pd.Series(cum_dist, index=ser,name=caller+\" SNP \"+str(truth)+\": c=\"+str(ser.count())+\" m=\"+str(round(ser.median(),2)))\n",
    "    ser_cdf.plot(drawstyle='steps',legend=True,title=caller+\"Qual Score CDF\",figsize=[15,6],xlim=[0,100],ylim=[0,1])"
   ]
  },
  {
   "cell_type": "markdown",
   "metadata": {},
   "source": [
    "<h3> Allelic Depth"
   ]
  },
  {
   "cell_type": "code",
   "execution_count": null,
   "metadata": {
    "collapsed": false
   },
   "outputs": [],
   "source": [
    "#Alllele Freq By Caller\n",
    "for columnName in list(snpdf):\n",
    "    if columnName.endswith('allele'):\n",
    "        ser = snpdf[(snpdf[columnName] != '') &(snpdf[columnName[:-6] + 'AF'] > 0.0)][columnName[:-6] + 'AF']\n",
    "        ser = ser.sort_values()\n",
    "        #ser[len(ser)] = ser.iloc[-1]\n",
    "        cum_dist = np.linspace(0.,1.,len(ser))\n",
    "        ser_cdf = pd.Series(cum_dist, index=ser,name=columnName[:-6]+\": count=\"+str(ser.count())+\" med=\"+str(round(ser.median(),2)))\n",
    "        ser_cdf.plot(drawstyle='steps',legend=True,title=VCF_SAMPLE+\" Allelic Frequency by Caller (AllelicFreq > 0.0)\",figsize=[10,5])"
   ]
  },
  {
   "cell_type": "code",
   "execution_count": null,
   "metadata": {
    "collapsed": false
   },
   "outputs": [],
   "source": [
    "#Alllele Freq By Caller\n",
    "for columnName in list(snpdf):\n",
    "    if columnName.endswith('allele'):\n",
    "        ser = snpdf[(snpdf[columnName] != '') &(snpdf[columnName[:-6] + 'AF'] > 0.0)][columnName[:-6] + 'AF']\n",
    "        ser = ser.sort_values()\n",
    "        #ser[len(ser)] = ser.iloc[-1]\n",
    "        cum_dist = np.linspace(0.,1.,len(ser))\n",
    "        ser_cdf = pd.Series(cum_dist, index=ser,name=columnName[:-6]+\": c=\"+str(ser.count())+\" m=\"+str(round(ser.median(),2)))\n",
    "        ser_cdf.plot(drawstyle='steps',legend=True,title=\" Allelic Frequency by Caller (AllelicFreq > 0.0)\",figsize=[15,6])"
   ]
  },
  {
   "cell_type": "code",
   "execution_count": null,
   "metadata": {
    "collapsed": false
   },
   "outputs": [],
   "source": [
    "# BY CALLER BY TRUTH\n",
    "truths = snpdf.Truth.unique()\n",
    "for truth in truths:\n",
    "    for columnName in list(snpdf):\n",
    "        if columnName.endswith('allele'):\n",
    "            ser = snpdf[(snpdf.Truth == truth) &(snpdf[columnName] != '')][columnName[:-6] + 'allelicFreq']\n",
    "            ser = ser.sort_values()\n",
    "            #ser[len(ser)] = ser.iloc[-1]\n",
    "            cum_dist = np.linspace(0.,1.,len(ser))\n",
    "            ser_cdf = pd.Series(cum_dist, index=ser,name=columnName[:-6]+\" \"+str(truth)+\": c=\"+str(ser.count())+\" m=\"+str(round(ser.median(),2)))\n",
    "            ser_cdf.plot(drawstyle='steps',legend=True,title=\" Allelic Frequency by Caller and Truth\",figsize=[15,6])"
   ]
  },
  {
   "cell_type": "code",
   "execution_count": null,
   "metadata": {
    "collapsed": false
   },
   "outputs": [],
   "source": [
    "#  BY VENN SEGMENT - Single Caller - FALSE POSITIVES\n",
    "myCaller = 'freebayes'\n",
    "vennSegments = snpdf[(snpdf[myCaller+'allele'] != '') & (snpdf.Truth == False)].vennSegment.unique()\n",
    "for vennSegment in vennSegments:\n",
    "    ser = snpdf[(snpdf.vennSegment == vennSegment) & (snpdf[myCaller+'allele'] != '') & (snpdf.Truth == False) ][myCaller+'allelicFreq']\n",
    "    ser = ser.sort_values()\n",
    "    ser[len(ser)] = ser.iloc[-1]\n",
    "    cum_dist = np.linspace(0.,1.,len(ser))\n",
    "    ser_cdf = pd.Series(cum_dist, index=ser,name=vennSegment+\": c=\"+str(ser.count())+\" m=\"+str(round(ser.median(),2)))\n",
    "    ser_cdf.plot(drawstyle='steps',legend=True,title=myCaller+\" FP by Venn Segment\",figsize=[15,6])"
   ]
  },
  {
   "cell_type": "markdown",
   "metadata": {},
   "source": [
    "### Allelic Depth Scatter Plot"
   ]
  },
  {
   "cell_type": "code",
   "execution_count": null,
   "metadata": {
    "collapsed": false
   },
   "outputs": [],
   "source": [
    "caller1 = 'varscan'\n",
    "caller2 = 'strelka'\n",
    "tempdf = df[(df[caller1+'allele']!='')&(df[caller2+'allele']!='')]\n",
    "tempdf.head()\n",
    "tempdf.plot.scatter(caller1+'allelicFreq',caller2+'allelicFreq' \\\n",
    "                        ,figsize=[6,6] \\\n",
    "                        ,title=\"Comparison of \"+caller1+\" and \"+caller2+\" Allelic Frequency\" \\\n",
    "                        ,xlim=[0,1],ylim=[0,1])"
   ]
  },
  {
   "cell_type": "markdown",
   "metadata": {},
   "source": [
    "<h3> RAINBOW CHARTS"
   ]
  },
  {
   "cell_type": "code",
   "execution_count": null,
   "metadata": {
    "collapsed": false
   },
   "outputs": [],
   "source": [
    "## RAINBOW\n",
    "caller = 'freebayes'\n",
    "plt.scatter(df[(df[caller+'allele']!='')& (df['Truth'] == True)&(df['chrom'] == '22')]['chromFrac'], \\\n",
    "            df[(df[caller+'allele']!='')& (df['Truth'] == True)&(df['chrom'] == '22')][caller+'allelicFreq'], \\\n",
    "            s=10, c='b', marker=\"s\")"
   ]
  },
  {
   "cell_type": "code",
   "execution_count": null,
   "metadata": {
    "collapsed": false
   },
   "outputs": [],
   "source": [
    "## RAINBOW\n",
    "caller = 'freebayes'\n",
    "plt.scatter(df[(df[caller+'allele']!='')& (df['Truth'] == False)&(df['chrom'] == '22')]['chromFrac'], \\\n",
    "            df[(df[caller+'allele']!='')& (df['Truth'] == False)&(df['chrom'] == '22')][caller+'allelicFreq'], \\\n",
    "            s=10, c='b', marker=\"s\")"
   ]
  },
  {
   "cell_type": "markdown",
   "metadata": {},
   "source": [
    "<h3> Overlapping Analysis"
   ]
  },
  {
   "cell_type": "code",
   "execution_count": null,
   "metadata": {
    "collapsed": false
   },
   "outputs": [],
   "source": [
    "#NEEDS REFACTORING TO SUPPORT NEW DF FORMAT\n",
    "'''\n",
    "sorteddf = df.sort(['chromFrac'], ascending=1)\n",
    "sorteddf['nextRef'] = sorteddf['ref'].shift(-2)\n",
    "sorteddf['nextPos'] = sorteddf['pos'].shift(-2)\n",
    "sorteddf['nextChrom'] = sorteddf['chrom'].shift(-2)\n",
    "sorteddf['nextVT'] = sorteddf['variantType'].shift(-2)\n",
    "sorteddf['nextAlleleTumor1'] = sorteddf['alleleTumor1'].shift(-2)\n",
    "sorteddf['nextAlleleTumor2'] = sorteddf['alleleTumor2'].shift(-2)\n",
    "sorteddf['nextVennSegment'] = sorteddf['vennSegment'].shift(-2)\n",
    "sorteddf['lengthRef'] = sorteddf['ref'].str.len()\n",
    "sorteddf['Dist2Next'] = -sorteddf['pos'].astype(int).diff(-2)\n",
    "\n",
    "overlapdf = sorteddf[(sorteddf['lengthRef']+0>sorteddf['Dist2Next']) & (sorteddf['Dist2Next']>0)]\n",
    "overlapdf.head(20)\n",
    "'''"
   ]
  },
  {
   "cell_type": "code",
   "execution_count": null,
   "metadata": {
    "collapsed": false
   },
   "outputs": [],
   "source": [
    "#NEEDS REFACTORING TO SUPPORT NEW DF FORMAT\n",
    "'''\n",
    "filtereddf = overlapdf[(~overlapdf.vennSegment.isin(['freebayes','varscan','strelka1'])) \\\n",
    "                       & (overlapdf.vennSegment.str.contains('varscan')) \\\n",
    "                       #& (~overlapdf.nextVennSegment.str.contains('varscan')) \\\n",
    "                       & (overlapdf.variantType == 'INDEL') \\\n",
    "                       #& (overlapdf.variantSubType == 'DELETE')\n",
    "                       & (overlapdf.variantType == overlapdf.nextVT)]\n",
    "filtereddf[['nextVennSegment','vennSegment','variantType','nextVT','Dist2Next','lengthRef','ref','alleleTumor2', \\\n",
    "            'nextRef','nextAlleleTumor2','variantSubType','chrom','pos']].count()\n",
    "'''"
   ]
  },
  {
   "cell_type": "code",
   "execution_count": null,
   "metadata": {
    "collapsed": true
   },
   "outputs": [],
   "source": []
  },
  {
   "cell_type": "code",
   "execution_count": null,
   "metadata": {
    "collapsed": true
   },
   "outputs": [],
   "source": []
  },
  {
   "cell_type": "code",
   "execution_count": null,
   "metadata": {
    "collapsed": true
   },
   "outputs": [],
   "source": []
  },
  {
   "cell_type": "code",
   "execution_count": null,
   "metadata": {
    "collapsed": true
   },
   "outputs": [],
   "source": []
  }
 ],
 "metadata": {
  "kernelspec": {
   "display_name": "Python 2",
   "language": "python",
   "name": "python2"
  },
  "language_info": {
   "codemirror_mode": {
    "name": "ipython",
    "version": 2
   },
   "file_extension": ".py",
   "mimetype": "text/x-python",
   "name": "python",
   "nbconvert_exporter": "python",
   "pygments_lexer": "ipython2",
   "version": "2.7.10"
  }
 },
 "nbformat": 4,
 "nbformat_minor": 0
}
