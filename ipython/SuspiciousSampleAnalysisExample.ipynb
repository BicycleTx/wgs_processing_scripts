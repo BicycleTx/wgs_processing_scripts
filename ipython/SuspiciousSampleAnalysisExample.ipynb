{
 "cells": [
  {
   "cell_type": "markdown",
   "metadata": {},
   "source": [
    "### CONFIGURATION"
   ]
  },
  {
   "cell_type": "code",
   "execution_count": 2,
   "metadata": {
    "collapsed": false
   },
   "outputs": [],
   "source": [
    "# GENERAL PYTHON IMPORTS\n",
    "import pandas as pd\n",
    "pd.set_option('display.max_columns', 500)\n",
    "pd.set_option('display.width', 1000)\n",
    "pd.set_option('max_colwidth',200)  #necessary for pileup files\n",
    "import numpy as np\n",
    "import copy\n",
    "import sys\n",
    "import matplotlib.pyplot as plt\n",
    "%matplotlib inline\n"
   ]
  },
  {
   "cell_type": "code",
   "execution_count": 3,
   "metadata": {
    "collapsed": false
   },
   "outputs": [],
   "source": [
    "# HARTWIG imports\n",
    "sys.path.append(\"/Users/peterpriestley/hmf/repos/scripts/analysisscripts\") \n",
    "import analyseVCF as aVCF\n",
    "import analysePileup as aPILEUP\n",
    "import venn as vn"
   ]
  },
  {
   "cell_type": "code",
   "execution_count": 30,
   "metadata": {
    "collapsed": false
   },
   "outputs": [],
   "source": [
    "# BED FILE\n",
    "BED_PATH = \"/Users/peterpriestley/hmf/repos/pipeline/settings/slicing/\"\n",
    "BED_FILE_NAME = \"CPCT_Slicing.bed\"\n",
    "\n",
    "# COMBINED VCF CONFIG\n",
    "VCF_SAMPLE = \"CPCT02080037\"\n",
    "VCF_PATH = \"/Users/peterpriestley/hmf/analyses/highSomaticVariants/\"\n",
    "VCF_FILE_NAME = VCF_SAMPLE + \"R_\" + VCF_SAMPLE + \"T_merged_somatics.vcf\"\n",
    "#VCF_FILE_NAME = \"CPCT02140003R_CPCT02140003T_merged_somatics_snpEff_dbSNP_Cosmicv76_melted.vcf\"\n",
    "SAMPLE_NAMES = {VCF_SAMPLE + 'T.mutect':'mutect', \\\n",
    "                VCF_SAMPLE + 'T.freebayes':'freebayes', \\\n",
    "                'TUMOR.strelka':'strelka', \\\n",
    "                'TUMOR.varscan':'varscan'}\n",
    "#SAMPLE_NAMES = {'CPCT02140003T':'melted'}\n",
    "VCF_SAMPLE2 = \"CPCT02070011\"\n",
    "VCF_FILE_NAME2 = VCF_SAMPLE2 + \"R_\" + VCF_SAMPLE2 + \"T_merged_somatics.vcf\"\n",
    "SAMPLE_NAMES2 = {VCF_SAMPLE2 + 'T.mutect':'mutect', \\\n",
    "                VCF_SAMPLE2 + 'T.freebayes':'freebayes', \\\n",
    "                'TUMOR.strelka':'strelka', \\\n",
    "                'TUMOR.varscan':'varscan'}\n",
    "# PILEUP CONFIG\n",
    "PILEUP_PATH = \"/Users/peterpriestley/hmf/slice\" + VCF_SAMPLE + \"/\"\n",
    "NORMAL_PILEUP_FILENAME = VCF_SAMPLE + \".pileup\"\n",
    "TUMOR_PILEUP_FILENAME = VCF_SAMPLE + \"T.pileup\"\n",
    "\n",
    "#MELT PARAMS\n",
    "VCF_FILE_NAME = VCF_SAMPLE + \"R_\" + VCF_SAMPLE + \"T_merged_somatics_snpEff_dbSNP_Cosmicv76_melted.vcf\"\n",
    "SAMPLE_NAMES = {VCF_SAMPLE+'T':'melted'}"
   ]
  },
  {
   "cell_type": "markdown",
   "metadata": {},
   "source": [
    "<h3> Load VCFs and Prepare DF"
   ]
  },
  {
   "cell_type": "code",
   "execution_count": 31,
   "metadata": {
    "collapsed": false
   },
   "outputs": [],
   "source": [
    "## LOAD BED IF REQUIRED\n",
    "#bed = aVCF.loadBEDFile(BED_PATH,BED_FILE_NAME)"
   ]
  },
  {
   "cell_type": "code",
   "execution_count": 32,
   "metadata": {
    "collapsed": false
   },
   "outputs": [
    {
     "name": "stdout",
     "output_type": "stream",
     "text": [
      "reading vcf file: CPCT02080037R_CPCT02080037T_merged_somatics_snpEff_dbSNP_Cosmicv76_melted.vcf\n",
      "reading VCF File line: 100000\n",
      "reading VCF File line: 200000\n",
      "reading VCF File line: 300000\n",
      "reading VCF File line: 400000\n",
      "reading VCF File line: 500000\n",
      "reading VCF File line: 600000\n",
      "reading VCF File line: 700000\n",
      "reading VCF File line: 800000\n",
      "reading VCF File line: 900000\n",
      "reading VCF File line: 1000000\n",
      "reading VCF File line: 1100000\n",
      "reading VCF File line: 1200000\n",
      "reading VCF File line: 1300000\n",
      "Number variants loaded: 1343889\n"
     ]
    }
   ],
   "source": [
    "# LOAD PROD VCF AND FILTER\n",
    "#sampleBed = copy.deepcopy(bed)\n",
    "df = aVCF.loadVaraintsFromVCF(VCF_PATH,VCF_FILE_NAME,SAMPLE_NAMES,VCF_SAMPLE,True,False)#True,sampleBed)"
   ]
  },
  {
   "cell_type": "code",
   "execution_count": 33,
   "metadata": {
    "collapsed": false
   },
   "outputs": [],
   "source": [
    "df['dbSNP'] = (df['id'].str.contains('rs'))\n",
    "df['COSMIC'] = (df['id'].str.contains('COSM'))"
   ]
  },
  {
   "cell_type": "code",
   "execution_count": null,
   "metadata": {
    "collapsed": true
   },
   "outputs": [],
   "source": []
  },
  {
   "cell_type": "markdown",
   "metadata": {},
   "source": [
    "### CONTAMINATION ANALYSIS"
   ]
  },
  {
   "cell_type": "code",
   "execution_count": 34,
   "metadata": {
    "collapsed": true
   },
   "outputs": [],
   "source": [
    "#df2 = aVCF.loadVaraintsFromVCF(VCF_PATH,VCF_FILE_NAME2,SAMPLE_NAMES2,VCF_SAMPLE2,True,False)"
   ]
  },
  {
   "cell_type": "code",
   "execution_count": 35,
   "metadata": {
    "collapsed": false
   },
   "outputs": [],
   "source": [
    "#df = df.set_index(['chrom','pos'])\n",
    "#df2 = df2.set_index(['chrom','pos'])\n",
    "#dfComb = pd.merge(df,df2, left_index=True,right_index=True,how='inner',suffixes=('', '_2'))"
   ]
  },
  {
   "cell_type": "code",
   "execution_count": 36,
   "metadata": {
    "collapsed": false
   },
   "outputs": [],
   "source": [
    "#len(df)"
   ]
  },
  {
   "cell_type": "code",
   "execution_count": 37,
   "metadata": {
    "collapsed": false
   },
   "outputs": [],
   "source": [
    "#len(df2)"
   ]
  },
  {
   "cell_type": "code",
   "execution_count": 38,
   "metadata": {
    "collapsed": false
   },
   "outputs": [],
   "source": [
    "#len(dfComb)"
   ]
  },
  {
   "cell_type": "markdown",
   "metadata": {},
   "source": [
    "<h3> ANALYSIS"
   ]
  },
  {
   "cell_type": "code",
   "execution_count": null,
   "metadata": {
    "collapsed": true
   },
   "outputs": [],
   "source": []
  },
  {
   "cell_type": "code",
   "execution_count": 39,
   "metadata": {
    "collapsed": false
   },
   "outputs": [
    {
     "data": {
      "text/html": [
       "<div>\n",
       "<table border=\"1\" class=\"dataframe\">\n",
       "  <thead>\n",
       "    <tr style=\"text-align: right;\">\n",
       "      <th></th>\n",
       "      <th>variantType</th>\n",
       "      <th>caller</th>\n",
       "      <th>truth</th>\n",
       "      <th>TP</th>\n",
       "      <th>FP</th>\n",
       "      <th>FN</th>\n",
       "      <th>intPrecision</th>\n",
       "      <th>intSensitivity</th>\n",
       "    </tr>\n",
       "  </thead>\n",
       "  <tbody>\n",
       "    <tr>\n",
       "      <th>1</th>\n",
       "      <td>INDEL</td>\n",
       "      <td>melted</td>\n",
       "      <td>87412</td>\n",
       "      <td>0</td>\n",
       "      <td>87412</td>\n",
       "      <td>0</td>\n",
       "      <td>0.0</td>\n",
       "      <td>0.0</td>\n",
       "    </tr>\n",
       "    <tr>\n",
       "      <th>0</th>\n",
       "      <td>SNP</td>\n",
       "      <td>melted</td>\n",
       "      <td>1256477</td>\n",
       "      <td>0</td>\n",
       "      <td>1256477</td>\n",
       "      <td>0</td>\n",
       "      <td>0.0</td>\n",
       "      <td>0.0</td>\n",
       "    </tr>\n",
       "  </tbody>\n",
       "</table>\n",
       "</div>"
      ],
      "text/plain": [
       "  variantType  caller    truth  TP       FP  FN  intPrecision  intSensitivity\n",
       "1       INDEL  melted    87412   0    87412   0           0.0             0.0\n",
       "0         SNP  melted  1256477   0  1256477   0           0.0             0.0"
      ]
     },
     "execution_count": 39,
     "metadata": {},
     "output_type": "execute_result"
    }
   ],
   "source": [
    "#INTERNAL 'PRECISION' + 'SENSITIVITY' per caller\n",
    "outputdata = []\n",
    "variantTypes = df.variantType.unique()\n",
    "patientNames = df.patientName.unique()\n",
    "for patientName in patientNames:\n",
    "    for variantType in variantTypes:\n",
    "        truthSet = len(df[(df['numCallers'] >= 1)&(df['variantType'] == variantType)&(df['patientName'] == patientName)])\n",
    "        for columnName in list(df):\n",
    "            if columnName.endswith('allele'):\n",
    "                myCaller = columnName[:-6]\n",
    "                truePositives = len(df[(df[myCaller+'allele'] != '')&(df['numCallers'] >=2) &\\\n",
    "                                   (df['variantType'] == variantType)&(df['patientName'] == patientName)])\n",
    "                falseNegatives = len(df[(df[myCaller+'allele'] == '')&(df['numCallers'] >= 2) &\\\n",
    "                                    (df['variantType'] == variantType)&(df['patientName'] == patientName)])\n",
    "                positives = len(df[(df[myCaller+'allele'] != '')&\\\n",
    "                                   (df['variantType'] == variantType)&(df['patientName'] == patientName)]) \n",
    "                if positives > 0:\n",
    "                    outputdata.append([variantType, myCaller, truthSet,truePositives,\\\n",
    "                                   positives-truePositives, falseNegatives, \\\n",
    "                                   round(truePositives/float(positives),4),round(truePositives/float(truthSet),4)])\n",
    "   \n",
    "outputDF = pd.DataFrame(outputdata)\n",
    "outputDF.columns = (['variantType','caller','truth','TP','FP','FN',\\\n",
    "                     'intPrecision','intSensitivity'])\n",
    "outputDF.sort_values(['variantType','caller'])"
   ]
  },
  {
   "cell_type": "code",
   "execution_count": 43,
   "metadata": {
    "collapsed": false
   },
   "outputs": [
    {
     "data": {
      "text/html": [
       "<div>\n",
       "<table border=\"1\" class=\"dataframe\">\n",
       "  <thead>\n",
       "    <tr style=\"text-align: right;\">\n",
       "      <th>dbSNP</th>\n",
       "      <th>False</th>\n",
       "      <th>True</th>\n",
       "    </tr>\n",
       "    <tr>\n",
       "      <th>variantType</th>\n",
       "      <th></th>\n",
       "      <th></th>\n",
       "    </tr>\n",
       "  </thead>\n",
       "  <tbody>\n",
       "    <tr>\n",
       "      <th>INDEL</th>\n",
       "      <td>75626</td>\n",
       "      <td>11786</td>\n",
       "    </tr>\n",
       "    <tr>\n",
       "      <th>SNP</th>\n",
       "      <td>91932</td>\n",
       "      <td>1164545</td>\n",
       "    </tr>\n",
       "  </tbody>\n",
       "</table>\n",
       "</div>"
      ],
      "text/plain": [
       "dbSNP        False    True \n",
       "variantType                \n",
       "INDEL        75626    11786\n",
       "SNP          91932  1164545"
      ]
     },
     "execution_count": 43,
     "metadata": {},
     "output_type": "execute_result"
    }
   ],
   "source": [
    "dftemp = df[(df['variantType']!= \"ASNP\")].reset_index()\n",
    "pd.pivot_table(dftemp, values='pos', index=['variantType'], columns=['dbSNP'], aggfunc='count')"
   ]
  },
  {
   "cell_type": "markdown",
   "metadata": {},
   "source": [
    "<h3> SNP"
   ]
  },
  {
   "cell_type": "code",
   "execution_count": null,
   "metadata": {
    "collapsed": false
   },
   "outputs": [],
   "source": [
    "snpdf = df[(df.variantType == 'SNP')]"
   ]
  },
  {
   "cell_type": "code",
   "execution_count": null,
   "metadata": {
    "collapsed": false
   },
   "outputs": [],
   "source": [
    "#vn.venn([snpdf[snpdf.mutectallele != '']['chromPos'], \\\n",
    "#         snpdf[snpdf.strelkaallele != '']['chromPos'], \\\n",
    "#        snpdf[snpdf.freebayesallele != '']['chromPos'], \\\n",
    "#        snpdf[snpdf.varscanallele != '']['chromPos'] \\\n",
    "#        ],['mutect','strelka','freebayes','varscan'],figsize=(6,6))"
   ]
  },
  {
   "cell_type": "markdown",
   "metadata": {},
   "source": [
    "### <hd3> Indel Venn"
   ]
  },
  {
   "cell_type": "code",
   "execution_count": null,
   "metadata": {
    "collapsed": false
   },
   "outputs": [],
   "source": [
    "#indeldf= df[(df.variantType == 'INDEL')]"
   ]
  },
  {
   "cell_type": "code",
   "execution_count": null,
   "metadata": {
    "collapsed": false
   },
   "outputs": [],
   "source": [
    "#vn.venn([indeldf[indeldf.strelkaallele != '']['chromPos'], \\\n",
    "#        indeldf[indeldf.freebayesallele != '']['chromPos'], \\\n",
    "#        indeldf[indeldf.varscanallele != '']['chromPos'] \\\n",
    "#        ],['strelka','freebayes','varscan'],figsize=(6,6))"
   ]
  },
  {
   "cell_type": "markdown",
   "metadata": {},
   "source": [
    "<h3> Allelic Depth"
   ]
  },
  {
   "cell_type": "code",
   "execution_count": null,
   "metadata": {
    "collapsed": false
   },
   "outputs": [],
   "source": [
    "#Alllele Freq By Caller\n",
    "for columnName in list(snpdf):\n",
    "    if columnName.endswith('allele'):\n",
    "        ser = snpdf[(snpdf[columnName] != '') &(snpdf[columnName[:-6] + 'AF'] > 0.0)&(snpdf.numCallers > 0)][columnName[:-6] + 'AF']\n",
    "        ser = ser.sort_values()\n",
    "        #ser[len(ser)] = ser.iloc[-1]\n",
    "        cum_dist = np.linspace(0.,1.,len(ser))\n",
    "        ser_cdf = pd.Series(cum_dist, index=ser,name=columnName[:-6]+\": c=\"+str(ser.count())+\" m=\"+str(round(ser.median(),2)))\n",
    "        ser_cdf.plot(drawstyle='steps',legend=True,title=VCF_SAMPLE+\" Allelic Frequency by Caller (AF > 0.0)\",figsize=[10,6],ylim=[0,1])"
   ]
  },
  {
   "cell_type": "markdown",
   "metadata": {},
   "source": [
    "### Allelic Depth Scatter Plot"
   ]
  },
  {
   "cell_type": "code",
   "execution_count": null,
   "metadata": {
    "collapsed": false
   },
   "outputs": [],
   "source": [
    "#AD vs DP single caller\n",
    "caller1 = 'mutect'\n",
    "tempdf = df[(df[caller1+'allele']!='')&(df[caller2+'allele']!='')]\n",
    "tempdf.head()\n",
    "tempdf.plot.scatter(caller1+'AF',caller1+'DP' \\\n",
    "                        ,figsize=[6,6] \\\n",
    "                        ,title=\"Comparison of \"+caller1+\" and \"+caller2+\" Allelic Frequency\" \\\n",
    "                        ,xlim=[0,0.2],ylim=[0,250])"
   ]
  },
  {
   "cell_type": "code",
   "execution_count": null,
   "metadata": {
    "collapsed": false
   },
   "outputs": [],
   "source": [
    "# Cross caller\n",
    "caller1 = 'mutect'\n",
    "caller2 = 'strelka'\n",
    "tempdf = df[(df[caller1+'allele']!='')&(df[caller2+'allele']!='')]\n",
    "tempdf.head()\n",
    "tempdf.plot.scatter(caller1+'AF',caller2+'AF' \\\n",
    "                        ,figsize=[6,6] \\\n",
    "                        ,title=\"Comparison of \"+caller1+\" and \"+caller2+\" Allelic Frequency\" \\\n",
    "                        ,xlim=[0,1],ylim=[0,1])"
   ]
  },
  {
   "cell_type": "markdown",
   "metadata": {},
   "source": [
    "### Allelic Depth Scatter Plot"
   ]
  },
  {
   "cell_type": "code",
   "execution_count": null,
   "metadata": {
    "collapsed": false
   },
   "outputs": [],
   "source": [
    "## RAINBOW\n",
    "caller = 'strelka'\n",
    "plt.scatter(df[(df[caller+'allele']!='')&(df['chrom'] == '17')]['chromFrac'], \\\n",
    "            df[(df[caller+'allele']!='')&(df['chrom'] == '17')][caller+'AF'], \\\n",
    "            s=10, c='b', marker=\"s\")"
   ]
  }
 ],
 "metadata": {
  "kernelspec": {
   "display_name": "Python 2",
   "language": "python",
   "name": "python2"
  }
 },
 "nbformat": 4,
 "nbformat_minor": 0
}
