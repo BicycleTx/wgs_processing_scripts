{
 "cells": [
  {
   "cell_type": "code",
   "execution_count": 1,
   "metadata": {
    "collapsed": false
   },
   "outputs": [],
   "source": [
    "import os\n",
    "import pandas as pd\n",
    "import numpy as np\n",
    "import copy\n",
    "import sys\n",
    "import matplotlib.pyplot as plt\n",
    "%matplotlib inline\n",
    "pd.set_option('display.max_rows', 50)\n",
    "pd.set_option('display.max_columns', 50)\n",
    "sys.path.append(\"/Users/peterpriestley/hmf/repos/scripts/analysisscripts\") \n",
    "import chromosomeDefinition as cd\n",
    "import analyseVCF as aVCF\n",
    "from scipy.stats import norm\n",
    "from sklearn.neighbors import KernelDensity"
   ]
  },
  {
   "cell_type": "code",
   "execution_count": 2,
   "metadata": {
    "collapsed": true
   },
   "outputs": [],
   "source": [
    "CNV_COLUMNS = ['chrom','posStart','posEnd','copyNum','gainOrLoss','BAF','score','germlineOrSomatic','oneOrZero']"
   ]
  },
  {
   "cell_type": "code",
   "execution_count": 3,
   "metadata": {
    "collapsed": false
   },
   "outputs": [],
   "source": [
    "# LOAD BED\n",
    "BED_PATH = \"/Users/peterpriestley/hmf/analyses/giabTruthsets/\"\n",
    "BED_FILE_NAME = \"NA12878_GIAB_highconf_IllFB-IllGATKHC-CG-Ion-Solid_ALLCHROM_v3.2.2_highconf.bed\"\n",
    "USE_BED = True\n",
    "LOAD_FULL_FILE = True"
   ]
  },
  {
   "cell_type": "code",
   "execution_count": 4,
   "metadata": {
    "collapsed": true
   },
   "outputs": [],
   "source": [
    "# HEALTH CHECKS\n",
    "HEALTH_CSV_PATH=\"/Users/peterpriestley/hmf/analyses/healthCheckAnalysis/\"\n",
    "HEALTH_CSV_FILENAME=\"healthCheckFile.csv\""
   ]
  },
  {
   "cell_type": "markdown",
   "metadata": {},
   "source": [
    "### FUNCTIONS"
   ]
  },
  {
   "cell_type": "code",
   "execution_count": 5,
   "metadata": {
    "collapsed": false
   },
   "outputs": [],
   "source": [
    "def findFiles(path,suffix):\n",
    "    files=[]\n",
    "    for x in os.listdir(path):\n",
    "        if x[-len(suffix):] == suffix:\n",
    "            files.append(x)\n",
    "    return files"
   ]
  },
  {
   "cell_type": "code",
   "execution_count": 6,
   "metadata": {
    "collapsed": false
   },
   "outputs": [],
   "source": [
    "def loadCNVforPatient(cnvFile,patientName):\n",
    "    dfCNV = pd.read_table(cnvFile, names = CNV_COLUMNS )\n",
    "    #add regions with default copy number\n",
    "    last = dfCNV.iloc[0]\n",
    "    for i in range(1, dfCNV.shape[0]-1):\n",
    "        if last['posEnd']<>dfCNV.iloc[i]['posStart']:\n",
    "            if last['chrom']==dfCNV.iloc[i]['chrom']:\n",
    "                dfCNV.loc[len(dfCNV)] = [last['chrom'],last['posEnd'], dfCNV.iloc[i]['posStart']-1,2,'none','','',0,0]\n",
    "            else:\n",
    "                dfCNV.loc[len(dfCNV)] = [last['chrom'],last['posEnd'], cd.chromosomeLength[last['chrom']],2,'none','','',0,0]\n",
    "                if dfCNV.iloc[i]['posStart']<>0:\n",
    "                    dfCNV.loc[len(dfCNV)] = [dfCNV.iloc[i]['chrom'],0, dfCNV.iloc[i]['posStart'],2,'none','','',0,0]\n",
    "        last = dfCNV.iloc[i]\n",
    "    #fix first record\n",
    "    if dfCNV.iloc[0]['posStart']<>0:\n",
    "        dfCNV.loc[len(dfCNV)] = ['1',0, dfCNV.iloc[0]['posStart'],2,'none','','',0,0]\n",
    "    #Additional Fields\n",
    "    dfCNV['chromPos']= dfCNV['chrom'].apply(lambda x: cd.intChrom(x)) + dfCNV['posStart'] / dfCNV['chrom'].apply(lambda x: cd.chromosomeLength[str(x)])\n",
    "    dfCNV['chrom'] = dfCNV['chrom'].apply(lambda x: cd.intChrom(x))\n",
    "    dfCNV['cappedCopyNum'] = dfCNV['copyNum'].clip(upper=5)\n",
    "    dfCNV = dfCNV.sort_values([\"chrom\",\"posStart\",\"posEnd\"]).reset_index()\n",
    "    dfCNV['regionLength'] = (dfCNV['posEnd']-dfCNV['posStart'])\n",
    "    dfCNV['patientName']=patientName\n",
    "    return dfCNV"
   ]
  },
  {
   "cell_type": "code",
   "execution_count": 7,
   "metadata": {
    "collapsed": true
   },
   "outputs": [],
   "source": [
    "def calculateMBAFCountBetween(chrom,minPos,maxPos):\n",
    "   return dfBAF[(dfBAF.Chromosome==chrom)&(dfBAF.Position>minPos)&(dfBAF.Position<maxPos)]['mBAF'].count()"
   ]
  },
  {
   "cell_type": "code",
   "execution_count": 8,
   "metadata": {
    "collapsed": false
   },
   "outputs": [],
   "source": [
    "def calculateMBAFBetween(chrom,minPos,maxPos):\n",
    "   return dfBAF[(dfBAF.Chromosome==chrom)&(dfBAF.Position>minPos)&(dfBAF.Position<maxPos)]['mBAF'].median()"
   ]
  },
  {
   "cell_type": "code",
   "execution_count": 9,
   "metadata": {
    "collapsed": true
   },
   "outputs": [],
   "source": [
    "def loadBAFData(bafFile):\n",
    "    df = pd.read_table(bafFile)\n",
    "    return df"
   ]
  },
  {
   "cell_type": "code",
   "execution_count": 10,
   "metadata": {
    "collapsed": true
   },
   "outputs": [],
   "source": [
    "def loadHealthChecksAndMerge(df):\n",
    "    hc = pd.read_csv(HEALTH_CSV_PATH + HEALTH_CSV_FILENAME)\n",
    "    hc = hc[['SAMPLE','TUMOR_PERCENTAGE','TUMOR_TYPE','PIPELINE_VERSION']]\n",
    "    hc = hc[hc['SAMPLE'].str[12]==\"T\"]   # only tumor rows\n",
    "    hc['SAMPLE']=hc['SAMPLE'].str[:12]\n",
    "    hc = hc.set_index(['SAMPLE'])\n",
    "    df = pd.merge(df,hc,how='left', left_on='patientName',right_index=True)\n",
    "    df.fillna(\"Unknown\", inplace=True)\n",
    "    return df"
   ]
  },
  {
   "cell_type": "code",
   "execution_count": 11,
   "metadata": {
    "collapsed": false
   },
   "outputs": [],
   "source": [
    "def cnvChart(dfCNV,filename,minChrom=1,maxChrom=23):\n",
    "    plt.figure(figsize=[18,3])\n",
    "    plt.title(filename)\n",
    "    ax = plt.gca()\n",
    "    ax.plot(dfCNV['chromPos'], dfCNV['copyNum'],drawstyle=\"steps-post\")\n",
    "    ax.axis([minChrom, maxChrom, 0, 6])\n",
    "       "
   ]
  },
  {
   "cell_type": "code",
   "execution_count": 12,
   "metadata": {
    "collapsed": false
   },
   "outputs": [],
   "source": [
    "def cnvLabel(copyNumber):\n",
    "    if copyNumber < 2:\n",
    "        return 'loss'\n",
    "    elif copyNumber > 2:\n",
    "        return 'amplification'\n",
    "    else:\n",
    "        return'normal'"
   ]
  },
  {
   "cell_type": "code",
   "execution_count": 13,
   "metadata": {
    "collapsed": false
   },
   "outputs": [],
   "source": [
    "def runGeneCNVAnalysis(dfCNV,bed,patientName):\n",
    "    geneList =[]\n",
    "    for bedrow in bed:\n",
    "        bedChromPosStart = cd.intChrom(bedrow[0]) + float(bedrow[1])/cd.chromosomeLength[bedrow[0]]\n",
    "        bedChromPosEnd = cd.intChrom(bedrow[0]) + float(bedrow[1])/cd.chromosomeLength[bedrow[0]]\n",
    "        prevCNV = max(dfCNV[(dfCNV['chromPos'] < bedChromPosStart)].index.tolist())\n",
    "        if dfCNV[(dfCNV['chromPos'] > bedChromPosEnd) ].index.tolist():\n",
    "            nextCNV = min(dfCNV[(dfCNV['chromPos'] > bedChromPosEnd) ].index.tolist())\n",
    "            minCopyNum = min(([dfCNV.iloc[x]['copyNum']]) for x in range (prevCNV,nextCNV)) \n",
    "        else:\n",
    "            minCopyNum = [-1]\n",
    "        geneList.append([patientName,bedrow[3],bedrow[0],bedrow[1],bedrow[2],minCopyNum[0],cnvLabel(minCopyNum[0])])\n",
    "    return geneList"
   ]
  },
  {
   "cell_type": "code",
   "execution_count": 14,
   "metadata": {
    "collapsed": true
   },
   "outputs": [],
   "source": [
    "def patientIDFromFilename(filename):\n",
    "    patientIDStart = filename.find(\"CPCT02\")\n",
    "    return filename[patientIDStart:patientIDStart+12]"
   ]
  },
  {
   "cell_type": "code",
   "execution_count": 15,
   "metadata": {
    "collapsed": false
   },
   "outputs": [],
   "source": [
    "def germlineVCFSampleNames(filename,patientID):\n",
    "    return {patientID+'R':'normal',patientID+'T':'tumor'}"
   ]
  },
  {
   "cell_type": "code",
   "execution_count": 16,
   "metadata": {
    "collapsed": false
   },
   "outputs": [],
   "source": [
    "def loadVCF(path,filename,sampleNames,patientID):\n",
    "    df = pd.DataFrame()\n",
    "    if USE_BED:\n",
    "        bed = aVCF.loadBEDFile(BED_PATH,BED_FILE_NAME)\n",
    "        return pd.concat([df,aVCF.loadVariantsFromVCF(path,filename,sampleNames,patientID,True,True,bed,LOAD_FULL_FILE)])\n",
    "    else:\n",
    "        return pd.concat([df,aVCF.loadVariantsFromVCF(path,filename,sampleNames,patientID,True)])"
   ]
  },
  {
   "cell_type": "code",
   "execution_count": 17,
   "metadata": {
    "collapsed": true
   },
   "outputs": [],
   "source": [
    "def AFByPosPlot(pos,AF,startChartPos,endChartPos):\n",
    "    plt.figure(figsize=[18,5])\n",
    "    plt.scatter(pos, AF)\n",
    "    plt.grid(b=True, which='both', color='0.65',linestyle='-')\n",
    "    plt.axis([startChartPos, endChartPos,0, 1.0])\n",
    "    plt.show()"
   ]
  },
  {
   "cell_type": "code",
   "execution_count": 18,
   "metadata": {
    "collapsed": true
   },
   "outputs": [],
   "source": [
    "def loadPON(aPath,aPONFile):\n",
    "    myPON = []\n",
    "    with open(aPath + aPONFile, 'r') as f:\n",
    "        for line in f:\n",
    "            line = line.strip('\\n')\n",
    "            splitLine = line.split('\\t')\n",
    "            myPON.append(splitLine)\n",
    "    dfPON = pd.DataFrame(myPON)\n",
    "    dfPON.columns = ['chrom','pos','ref','alt','PONCount']\n",
    "    return dfPON"
   ]
  },
  {
   "cell_type": "code",
   "execution_count": 19,
   "metadata": {
    "collapsed": true
   },
   "outputs": [],
   "source": [
    "def findPeaks(log_dens):\n",
    "    peaks = []\n",
    "    troughs = []\n",
    "    dens=np.exp(log_dens)\n",
    "    diff = [dens[x] - dens[x-1] for x in range(1,len(dens))]\n",
    "    for i in range (len(diff)-1):\n",
    "        if diff[i+1] < 0 and diff[i] > 0:\n",
    "            peaks.append(float(i+1)/len(dens))\n",
    "        if diff[i+1] > 0 and diff[i] < 0:\n",
    "            troughs.append(float(i+1)/len(dens))\n",
    "    return peaks, troughs"
   ]
  },
  {
   "cell_type": "code",
   "execution_count": 57,
   "metadata": {
    "collapsed": true
   },
   "outputs": [],
   "source": [
    "def pdfChart(log_dens):\n",
    "    fig, ax = plt.subplots()\n",
    "    ax.plot(X_plot[:, 0], np.exp(log_dens), '-',\n",
    "            label=\"kernel = '{0}'\".format('gaussian'))\n",
    "    ax.legend(loc='upper right')\n",
    "    fig.set_figwidth(10)\n",
    "    fig.set_figheight(5)\n",
    "    ax.set_xlim(0, 1)\n",
    "    ax.set_ylim(-0.02, 8)\n",
    "    ax.grid(b=True, which='both', color='0.65',linestyle='-')\n",
    "    plt.show()"
   ]
  },
  {
   "cell_type": "markdown",
   "metadata": {},
   "source": [
    "### LOAD PON"
   ]
  },
  {
   "cell_type": "code",
   "execution_count": 21,
   "metadata": {
    "collapsed": true
   },
   "outputs": [],
   "source": [
    "# Only needs to be run once\n",
    "dfPON = loadPON(\"/Users/peterpriestley/hmf/analyses/PON/779filePON/\",\"PON.tsv\")"
   ]
  },
  {
   "cell_type": "markdown",
   "metadata": {},
   "source": [
    "### FIND ALL FILES"
   ]
  },
  {
   "cell_type": "code",
   "execution_count": 233,
   "metadata": {
    "collapsed": true
   },
   "outputs": [],
   "source": [
    "PATH = \"/Users/peterpriestley/hmf/analyses/v1.12samples/CPCT02010506/\""
   ]
  },
  {
   "cell_type": "code",
   "execution_count": 234,
   "metadata": {
    "collapsed": false
   },
   "outputs": [
    {
     "name": "stdout",
     "output_type": "stream",
     "text": [
      "germline = 170308_HMFregCPCT_FR13274497_FR10244750_CPCT02010506.annotatedSLICED.vcf\n",
      "somatic = CPCT02010506R_CPCT02010506T_melted.vcf\n",
      "patient = CPCT02010506\n",
      "CNV = CPCT02010506T_dedup.realigned.pileup.gz_CNVs\n"
     ]
    }
   ],
   "source": [
    "germlineVCFFilename = findFiles(PATH,\"SLICED.vcf\")[0]\n",
    "somaticVCFFilename = findFiles(PATH,\"melted.vcf\")[0]\n",
    "patientID = patientIDFromFilename(germlineVCFFilename)\n",
    "cnvFilename = findFiles(PATH,\"gz_CNVs\")[0]\n",
    "print \"germline =\",germlineVCFFilename\n",
    "print \"somatic =\",somaticVCFFilename\n",
    "print \"patient =\",patientID\n",
    "print \"CNV =\",cnvFilename"
   ]
  },
  {
   "cell_type": "markdown",
   "metadata": {},
   "source": [
    "### LOAD VCFS"
   ]
  },
  {
   "cell_type": "code",
   "execution_count": null,
   "metadata": {
    "collapsed": false
   },
   "outputs": [
    {
     "name": "stdout",
     "output_type": "stream",
     "text": [
      "reading vcf file: 170308_HMFregCPCT_FR13274497_FR10244750_CPCT02010506.annotatedSLICED.vcf\n",
      "reading VCF File line: 1\n",
      "reading VCF File line: 200001\n",
      "Number variants loaded: 343589\n",
      "reading vcf file: CPCT02010506R_CPCT02010506T_melted.vcf\n",
      "reading VCF File line: 1\n"
     ]
    }
   ],
   "source": [
    "#LOAD VCFS\n",
    "dfGermline = loadVCF(PATH,germlineVCFFilename,{patientID+'R':'normal',patientID+'T':'tumor'},patientID)\n",
    "dfSomatic = loadVCF(PATH,somaticVCFFilename,{patientID+'T':'melted'},patientID)"
   ]
  },
  {
   "cell_type": "code",
   "execution_count": null,
   "metadata": {
    "collapsed": true
   },
   "outputs": [],
   "source": [
    "# APPLY PON to SOMATICs\n",
    "dfSomatic['alt'] = dfSomatic['meltedallele']\n",
    "dfSomatic = pd.merge(dfSomatic,dfPON,how='left', on=['chrom','pos','ref','alt'])\n",
    "dfSomatic['PONCount'].fillna(0, inplace=True)\n",
    "dfSomatic['inPON'] = pd.to_numeric(dfSomatic.PONCount,errors=coerce)>4"
   ]
  },
  {
   "cell_type": "markdown",
   "metadata": {},
   "source": [
    "### Load BAF and CNV and calculate median BAF per segment"
   ]
  },
  {
   "cell_type": "code",
   "execution_count": null,
   "metadata": {
    "collapsed": false
   },
   "outputs": [],
   "source": [
    "dfBAF = dfGermline[(dfGermline['variantType']==\"SNP\")&(dfGermline['normalSGT']==\"0/1\")&(dfGermline['normalAF']>0.4) \\\n",
    "                   &(dfGermline['normalAF']<0.65)&(dfGermline['normalDP']>30)&\\\n",
    "                   (dfGermline['normalDP']<40)][['chrom','pos','tumorAF']]\n",
    "dfBAF.columns = ['Chromosome', 'Position','BAF']\n",
    "dfBAF['Position'] = pd.to_numeric(dfBAF['Position'])\n",
    "dfBAF['mBAF']= 0.5+abs(dfBAF['BAF']-0.5)\n",
    "dfBAF['chromPos']= dfBAF['Chromosome'].apply(lambda x: cd.intChrom(x)) + dfBAF['Position'] / dfBAF['Chromosome'].apply(lambda x: cd.chromosomeLength[str(x)])\n",
    "dfBAF['Chromosome']= dfBAF['Chromosome'].apply(lambda x: cd.intChrom(x))\n",
    "dfBAF.head(1)"
   ]
  },
  {
   "cell_type": "code",
   "execution_count": null,
   "metadata": {
    "collapsed": false,
    "scrolled": false
   },
   "outputs": [],
   "source": [
    "dfCNV = loadCNVforPatient(PATH+cnvFilename,patientID)\n",
    "dfCNV['mBAF'] = np.vectorize(calculateMBAFBetween)(dfCNV['chrom'], dfCNV['posStart'],dfCNV['posEnd'])\n",
    "dfCNV['mBAFCount'] = np.vectorize(calculateMBAFCountBetween)(dfCNV['chrom'], dfCNV['posStart'],dfCNV['posEnd'])\n",
    "cnvChart(dfCNV,cnvFilename,1,22)"
   ]
  },
  {
   "cell_type": "markdown",
   "metadata": {},
   "source": [
    "### TUMOR PURITY"
   ]
  },
  {
   "cell_type": "code",
   "execution_count": null,
   "metadata": {
    "collapsed": false
   },
   "outputs": [],
   "source": [
    "c = 1\n",
    "fractionMin = 0\n",
    "fractionMax = 22\n",
    "dfSom = dfBAF[(dfBAF.chromPos>c+fractionMin)&(dfBAF.chromPos<c+fractionMax)]\n",
    "plt.figure(figsize=[18,5])\n",
    "plt.scatter(dfSom.chromPos, dfSom.BAF)\n",
    "plt.grid(b=True, which='both', color='0.65',linestyle='-')\n",
    "plt.axis([c+fractionMin, c+fractionMax,0, 1.0])\n",
    "plt.show()\n",
    "# CNV according to freeC\n",
    "plt.figure(figsize=[5,2])\n",
    "plt.hist(dfCNV['copyNum'].values,cumulative=False, normed=True, bins=20,range=(0,10),weights=dfCNV['regionLength'].values)\n",
    "plt.show()\n",
    "# should only use regions with mbaf > x\n",
    "c,fractionMin,fractionMax = 1,0,22\n",
    "dftemp = dfCNV[(dfCNV.mBAF>=0.0)&(dfCNV.mBAF<=1.0)&(dfCNV.mBAFCount>20)&(dfCNV.chromPos<=c+fractionMax)&(dfCNV.chromPos>=c+fractionMin)]\n",
    "plt.figure(figsize=[18,5])\n",
    "for CNV in range(0,6):\n",
    "    plt.hist(dftemp[(dftemp.copyNum==CNV)]['mBAF'].values,cumulative=False, normed=False, bins=50,range=(0.5,1.0),weights=dftemp[(dftemp.copyNum==CNV)]['mBAFCount'].values,stacked = True,rwidth=0.8,label='CNV ='+str(CNV))\n",
    "    plt.legend()\n",
    "plt.show()"
   ]
  },
  {
   "cell_type": "code",
   "execution_count": null,
   "metadata": {
    "collapsed": false
   },
   "outputs": [],
   "source": [
    "dfCNV[(dfCNV.chrom>10)&(dfCNV.copyNum>=1)&(dfCNV.mBAF>0.62)&(dfCNV.mBAF<0.67)\\\n",
    "      &(dfCNV.mBAFCount>50)][['chrom','posStart','copyNum','chromPos','regionLength','mBAF','mBAFCount']]"
   ]
  },
  {
   "cell_type": "markdown",
   "metadata": {},
   "source": [
    "### SOMATIC AF"
   ]
  },
  {
   "cell_type": "code",
   "execution_count": null,
   "metadata": {
    "collapsed": false
   },
   "outputs": [],
   "source": [
    "c,fractionMin,fractionMax = 1,0,22\n",
    "dfSom = dfSomatic[(dfSomatic['variantType']==\"INDEL\")&(dfSomatic['inPON']==False)&(dfSomatic['consensus']==True)&(dfSomatic.chromFrac>c+fractionMin)&(dfSomatic.chromFrac<c+fractionMax)]\n",
    "AFByPosPlot(dfSom.chromFrac, dfSom.meltedAF,c+fractionMin, c+fractionMax)"
   ]
  },
  {
   "cell_type": "code",
   "execution_count": null,
   "metadata": {
    "collapsed": false,
    "scrolled": false
   },
   "outputs": [],
   "source": [
    "c,fractionMin,fractionMax = 18,0,1\n",
    "dfTemp = dfBAF[(dfBAF.chromPos>c+fractionMin)&(dfBAF.chromPos<c+fractionMax)]\n",
    "AFByPosPlot(dfTemp.chromPos, dfTemp.BAF,c+fractionMin, c+fractionMax)\n",
    "dfSom = dfSomatic[(dfSomatic['variantType']==\"SNP\")&(dfSomatic['inPON']==False)&(dfSomatic['consensus']==True)&(dfSomatic.chromFrac>c+fractionMin)&(dfSomatic.chromFrac<c+fractionMax)]\n",
    "AFByPosPlot(dfSom.chromFrac, dfSom.meltedAF,c+fractionMin, c+fractionMax)\n",
    "\n",
    "#CDF\n",
    "ser = dfSom.meltedAF.sort_values()\n",
    "cum_dist = np.linspace(0.,1.,len(ser))\n",
    "ser_cdf = pd.Series(cum_dist, index=ser,name=\": c=\"+str(ser.count())+\" m=\"+str(round(ser.median(),2)))\n",
    "ser_cdf.plot(drawstyle='steps',legend=True,title=\" Allelic Frequency by \",figsize=[15,6],xlim=[0.0,0.7])\n",
    "\n",
    "#mbaf\n",
    "dfCNV[(dfCNV.chromPos>c+fractionMin)&(dfCNV.chromPos<c+fractionMax)&(dfCNV.mBAFCount>20)][['chrom','posStart','copyNum','chromPos','regionLength','mBAF','mBAFCount']]"
   ]
  },
  {
   "cell_type": "markdown",
   "metadata": {},
   "source": [
    "### PDF peak fMinding"
   ]
  },
  {
   "cell_type": "code",
   "execution_count": null,
   "metadata": {
    "collapsed": false
   },
   "outputs": [],
   "source": [
    "#dfSom.plot(y='meltedAF', kind='kde', figsize=(10, 6))\n",
    "#dfSom = dfSomatic[(dfSomatic['variantType']==\"SNP\")&(dfSomatic['inPON']==False)&(dfSomatic['consensus']==True)&(dfSomatic.chromFrac>c+fractionMin)&(dfSomatic.chromFrac<c+fractionMax)]\n",
    "#ser = dfSom.meltedAF.sort_values()\n",
    "#cum_dist = np.linspace(0.,1.,len(ser))\n",
    "#ser_cdf = pd.Series(cum_dist, index=ser,name=\": c=\"+str(ser.count())+\" m=\"+str(round(ser.median(),2)))\n",
    "#ser_cdf.plot(drawstyle='steps',legend=True,title=\" Allelic Frequency by \",figsize=[15,3],xlim=[0.0,0.8])\n",
    "\n",
    "X = dfSom.meltedAF.sort_values()[:, np.newaxis]\n",
    "X_plot = np.linspace(0,1,100)[:, np.newaxis]\n",
    "kde = KernelDensity(kernel='gaussian', bandwidth=0.05).fit(X)\n",
    "log_dens = kde.score_samples(X_plot)\n",
    "pdfChart(log_dens)\n",
    "findPeaks(log_dens)"
   ]
  },
  {
   "cell_type": "markdown",
   "metadata": {
    "collapsed": false
   },
   "source": [
    "### SCRATCH"
   ]
  },
  {
   "cell_type": "code",
   "execution_count": null,
   "metadata": {
    "collapsed": false
   },
   "outputs": [],
   "source": [
    "chromosomes = ['4']#dfSomatic['chrom'].unique()\n",
    "for chromosome in chromosomes:\n",
    "    try:\n",
    "        ser = dfSomatic[(dfSomatic.chrom==chromosome)&(dfSomatic['variantType']==\"SNP\")&(dfSomatic['inPON']==False)&(dfSomatic['consensus']==True)][\"meltedAF\"]\n",
    "        ser = ser.sort_values()\n",
    "        cum_dist = np.linspace(0.,1.,len(ser))\n",
    "        ser_cdf = pd.Series(cum_dist, index=ser,name=str(chromosome))\n",
    "        ser_cdf.plot(drawstyle='steps',legend=True,title=\"BAF By Chromosome\",figsize=[13,3],xlim=[0.0,0.8],ylim=[0.0,1.0])\n",
    "    except TypeError:\n",
    "        continue"
   ]
  },
  {
   "cell_type": "code",
   "execution_count": null,
   "metadata": {
    "collapsed": true
   },
   "outputs": [],
   "source": []
  },
  {
   "cell_type": "code",
   "execution_count": null,
   "metadata": {
    "collapsed": true
   },
   "outputs": [],
   "source": []
  }
 ],
 "metadata": {
  "kernelspec": {
   "display_name": "Python 2",
   "language": "python",
   "name": "python2"
  },
  "language_info": {
   "codemirror_mode": {
    "name": "ipython",
    "version": 2
   },
   "file_extension": ".py",
   "mimetype": "text/x-python",
   "name": "python",
   "nbconvert_exporter": "python",
   "pygments_lexer": "ipython2",
   "version": "2.7.10"
  }
 },
 "nbformat": 4,
 "nbformat_minor": 0
}
