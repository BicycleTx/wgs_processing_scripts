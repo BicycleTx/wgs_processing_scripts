{
 "cells": [
  {
   "cell_type": "markdown",
   "metadata": {},
   "source": [
    "### CONFIGURATION"
   ]
  },
  {
   "cell_type": "code",
   "execution_count": 1,
   "metadata": {
    "collapsed": false
   },
   "outputs": [],
   "source": [
    "import pandas as pd\n",
    "pd.set_option('display.max_columns', 500)\n",
    "pd.set_option('display.width', 1000)\n",
    "import numpy as np\n",
    "import copy\n",
    "import sys\n",
    "import matplotlib.pyplot as plt\n",
    "%matplotlib inline"
   ]
  },
  {
   "cell_type": "code",
   "execution_count": 2,
   "metadata": {
    "collapsed": false
   },
   "outputs": [],
   "source": [
    "# Hartwig imports\n",
    "sys.path.append(\"/Users/peterpriestley/hmf/repos/scripts/analysisscripts\") \n",
    "import analyseVCF as aVCF\n",
    "import venn as vn"
   ]
  },
  {
   "cell_type": "code",
   "execution_count": 3,
   "metadata": {
    "collapsed": true
   },
   "outputs": [],
   "source": [
    "#CHROM SLICING\n",
    "minChromFrac = 0\n",
    "maxChromFrac = 26"
   ]
  },
  {
   "cell_type": "code",
   "execution_count": 4,
   "metadata": {
    "collapsed": false
   },
   "outputs": [],
   "source": [
    "# BED FILE\n",
    "BED_PATH = \"/Users/peterpriestley/hmf/analyses/giabTruthsets/70-30mixin/\"\n",
    "BED_FILE_NAME = \"na12878-na24385-somatic-truth-regions.bed\"\n",
    "\n",
    "# TRUTH SET\n",
    "SAMPLE_NAMES_TRUTH = {'NA12878':'70-30truth'}\n",
    "VCF_PATH_TRUTH = \"/Users/peterpriestley/hmf/analyses/giabTruthsets/70-30mixin/\"\n",
    "VCF_FILE_NAME_TRUTH = \"na12878-na24385-somatic-truth.vcf\"\n",
    "\n",
    "# COMBINED VCF CONFIG\n",
    "VCF_SAMPLE = \"CPCT11111111\"\n",
    "VCF_PATH = \"/Users/peterpriestley/hmf/analyses/70-30sample/161110_preliminary1.10regression/\"\n",
    "VCF_FILE_NAME = VCF_SAMPLE + \"R_\"+ VCF_SAMPLE + \"T_merged_somatics.vcf\"#_somatic_filtered.vcf\"#\n",
    "SAMPLE_NAMES = {VCF_SAMPLE + 'T.mutect':'mutect', \\\n",
    "                VCF_SAMPLE + 'T.freebayes':'freebayes', \\\n",
    "                'TUMOR.strelka':'strelka', \\\n",
    "                'TUMOR.varscan':'varscan'}\n",
    "#SAMPLE_NAMES = {VCF_SAMPLE + 'T':'freebayes',VCF_SAMPLE + 'R':'normal'}"
   ]
  },
  {
   "cell_type": "markdown",
   "metadata": {},
   "source": [
    "### Functions"
   ]
  },
  {
   "cell_type": "code",
   "execution_count": 5,
   "metadata": {
    "collapsed": true
   },
   "outputs": [],
   "source": [
    "def filterByChromFrac(df):\n",
    "    return df[(df.chromFrac > minChromFrac)&(df.chromFrac < maxChromFrac)]"
   ]
  },
  {
   "cell_type": "code",
   "execution_count": 6,
   "metadata": {
    "collapsed": false
   },
   "outputs": [],
   "source": [
    "def calculateTruth(df,dfTruth):\n",
    "    df = pd.merge(df,dfTruth,how='left', left_index=True,right_index=True,suffixes=('', '_Truth'))\n",
    "    df['hasTP'] = False\n",
    "    df['hasFP'] = False\n",
    "    for columnName in list(df):\n",
    "        if columnName.endswith('allele') and not columnName.startswith('truth'):\n",
    "            df['hasTP'] = (df['hasTP']) | ((df[columnName[:-6]+'indelDiff'] == df['truth_indelDiff']) \\\n",
    "                    & (~pd.isnull(df['truth_indelDiff']) & (df['variantType'] == 'INDEL'))) |((df[columnName] == df['truth_allele']) \\\n",
    "                    & (df['variantType'] == 'SNP'))\n",
    "            df['hasFP'] = (df['hasFP']) | ((df[columnName[:-6]+'indelDiff'] != df['truth_indelDiff']) \\\n",
    "                    & (df['variantType'] == 'INDEL') & (df[columnName[:-6]+'indelDiff'] != '')& (~pd.isnull(df['truth_allele']))) |((df[columnName] != df['truth_allele']) \\\n",
    "                    & (df['variantType'] == 'SNP') & (df[columnName] != '')& (~pd.isnull(df['truth_allele'])))\n",
    "    df['Truth'] = (df['hasTP']) &  (df['hasFP'] == False)\n",
    "    return df"
   ]
  },
  {
   "cell_type": "code",
   "execution_count": 7,
   "metadata": {
    "collapsed": true
   },
   "outputs": [],
   "source": [
    "def calcuatePrecisionSensivityMatrix(df):\n",
    "    outputdata = []\n",
    "    for columnName in list(df):\n",
    "        if columnName.endswith('allele') & ~columnName.endswith('_allele'):\n",
    "            myCaller = columnName[:-6]\n",
    "            variantTypes = df[(df[myCaller+'allele'] != '')].variantType.unique()\n",
    "            for variantType in variantTypes:\n",
    "                truePositives = len(df[(df[myCaller+'allele'] != '') & (df['Truth'] == True) &(df['variantType'] == variantType)])\n",
    "                positives = len(df[(df[myCaller+'allele'] != '')&(df['variantType'] == variantType)])\n",
    "                truthSet = len(dfTruth[dfTruth['variantType'] == variantType]) \n",
    "                falseNegatives = truthSet - truePositives\n",
    "                if positives > 0 and truthSet > 0:\n",
    "                    outputdata.append([variantType, myCaller, truthSet,truePositives,positives-truePositives, falseNegatives, \\\n",
    "                                   round(truePositives/float(positives),4),round(truePositives/float(truthSet),4)])\n",
    "    \n",
    "    outputDF = pd.DataFrame(outputdata)\n",
    "    outputDF.columns = (['variantType','caller','truthSet','truePositives','falsePositives','falseNegatives','precision','sensitivity'])\n",
    "    return outputDF.sort_values(['variantType','caller'])"
   ]
  },
  {
   "cell_type": "markdown",
   "metadata": {},
   "source": [
    "<h3> Load VCFs and Prepare DF"
   ]
  },
  {
   "cell_type": "code",
   "execution_count": 8,
   "metadata": {
    "collapsed": false
   },
   "outputs": [
    {
     "name": "stdout",
     "output_type": "stream",
     "text": [
      "2333895411\n"
     ]
    }
   ],
   "source": [
    "## LOAD BED\n",
    "bed = aVCF.loadBEDFile(BED_PATH,BED_FILE_NAME)\n",
    "cum_sum =0\n",
    "for row in bed:\n",
    "    cum_sum += -int(row[1]) + int(row[2])\n",
    "print cum_sum"
   ]
  },
  {
   "cell_type": "code",
   "execution_count": 9,
   "metadata": {
    "collapsed": false
   },
   "outputs": [
    {
     "name": "stdout",
     "output_type": "stream",
     "text": [
      "reading vcf file: na12878-na24385-somatic-truth.vcf\n",
      "reading VCF File line: 100000\n",
      "reading VCF File line: 200000\n",
      "reading VCF File line: 300000\n",
      "reading VCF File line: 400000\n",
      "reading VCF File line: 500000\n",
      "reading VCF File line: 600000\n",
      "reading VCF File line: 700000\n",
      "reading VCF File line: 800000\n",
      "reading VCF File line: 900000\n",
      "reading VCF File line: 1000000\n",
      "reading VCF File line: 1100000\n",
      "Number variants loaded: 1101868\n"
     ]
    }
   ],
   "source": [
    "## LOAD TRUTH SET VCF\n",
    "truthBed = copy.deepcopy(bed)\n",
    "dfTruth = aVCF.loadVaraintsFromVCF(VCF_PATH_TRUTH,VCF_FILE_NAME_TRUTH, \\\n",
    "                                   SAMPLE_NAMES_TRUTH,\"Mix-in Truth Set\",True,True,truthBed)\n",
    "dfTruth = filterByChromFrac(dfTruth)\n",
    "dfTruth.rename(columns={'70-30truthallele':'truth_allele','70-30truthindelDiff':'truth_indelDiff'}, inplace=True)\n",
    "dfTruth = dfTruth[['chrom','pos','variantType','ref','truth_allele','truth_indelDiff','bedRegion']]\n",
    "dfTruth = dfTruth.set_index(['chrom','pos'])"
   ]
  },
  {
   "cell_type": "code",
   "execution_count": 10,
   "metadata": {
    "collapsed": false
   },
   "outputs": [
    {
     "name": "stdout",
     "output_type": "stream",
     "text": [
      "reading vcf file: CPCT11111111R_CPCT11111111T_merged_somatics.vcf\n",
      "reading VCF File line: 100000\n",
      "reading VCF File line: 200000\n",
      "reading VCF File line: 300000\n",
      "reading VCF File line: 400000\n",
      "reading VCF File line: 500000\n",
      "reading VCF File line: 600000\n",
      "reading VCF File line: 700000\n",
      "reading VCF File line: 800000\n",
      "reading VCF File line: 900000\n",
      "reading VCF File line: 1000000\n",
      "reading VCF File line: 1100000\n",
      "reading VCF File line: 1200000\n",
      "reading VCF File line: 1300000\n",
      "reading VCF File line: 1400000\n",
      "Number variants loaded: 1077347\n"
     ]
    }
   ],
   "source": [
    "# LOAD SAMPLE VCF + match to truth set\n",
    "sampleBed = copy.deepcopy(bed)\n",
    "dfProd = aVCF.loadVaraintsFromVCF(VCF_PATH,VCF_FILE_NAME,SAMPLE_NAMES,VCF_SAMPLE,True,True,sampleBed)\n",
    "dfProd = filterByChromFrac(dfProd)\n",
    "dfProd = dfProd.set_index(['chrom','pos'])\n",
    "dfProd = calculateTruth(dfProd,dfTruth)"
   ]
  },
  {
   "cell_type": "markdown",
   "metadata": {},
   "source": [
    "### PRECISION + SENSITIVITY|"
   ]
  },
  {
   "cell_type": "code",
   "execution_count": 11,
   "metadata": {
    "collapsed": false
   },
   "outputs": [
    {
     "data": {
      "text/html": [
       "<div>\n",
       "<table border=\"1\" class=\"dataframe\">\n",
       "  <thead>\n",
       "    <tr style=\"text-align: right;\">\n",
       "      <th></th>\n",
       "      <th></th>\n",
       "      <th>chromPos</th>\n",
       "      <th>chromFrac</th>\n",
       "      <th>id</th>\n",
       "      <th>ref</th>\n",
       "      <th>vennSegment</th>\n",
       "      <th>numCallers</th>\n",
       "      <th>variantType</th>\n",
       "      <th>variantSubType</th>\n",
       "      <th>filter</th>\n",
       "      <th>bedRegion</th>\n",
       "      <th>inDBSNP</th>\n",
       "      <th>inCOSMIC</th>\n",
       "      <th>annGene</th>\n",
       "      <th>annWorstImpact</th>\n",
       "      <th>annWorstEffect</th>\n",
       "      <th>annAllEffects</th>\n",
       "      <th>consensus</th>\n",
       "      <th>strelkaallele</th>\n",
       "      <th>strelkaAF</th>\n",
       "      <th>strelkaDP</th>\n",
       "      <th>strelkaQS</th>\n",
       "      <th>strelkaSGT</th>\n",
       "      <th>strelkaindelDiff</th>\n",
       "      <th>varscanallele</th>\n",
       "      <th>varscanAF</th>\n",
       "      <th>varscanDP</th>\n",
       "      <th>varscanQS</th>\n",
       "      <th>varscanSGT</th>\n",
       "      <th>varscanindelDiff</th>\n",
       "      <th>mutectallele</th>\n",
       "      <th>mutectAF</th>\n",
       "      <th>mutectDP</th>\n",
       "      <th>mutectQS</th>\n",
       "      <th>mutectSGT</th>\n",
       "      <th>mutectindelDiff</th>\n",
       "      <th>freebayesallele</th>\n",
       "      <th>freebayesAF</th>\n",
       "      <th>freebayesDP</th>\n",
       "      <th>freebayesQS</th>\n",
       "      <th>freebayesSGT</th>\n",
       "      <th>freebayesindelDiff</th>\n",
       "      <th>patientName</th>\n",
       "      <th>variantType_Truth</th>\n",
       "      <th>ref_Truth</th>\n",
       "      <th>truth_allele</th>\n",
       "      <th>truth_indelDiff</th>\n",
       "      <th>bedRegion_Truth</th>\n",
       "      <th>hasTP</th>\n",
       "      <th>hasFP</th>\n",
       "      <th>Truth</th>\n",
       "    </tr>\n",
       "    <tr>\n",
       "      <th>chrom</th>\n",
       "      <th>pos</th>\n",
       "      <th></th>\n",
       "      <th></th>\n",
       "      <th></th>\n",
       "      <th></th>\n",
       "      <th></th>\n",
       "      <th></th>\n",
       "      <th></th>\n",
       "      <th></th>\n",
       "      <th></th>\n",
       "      <th></th>\n",
       "      <th></th>\n",
       "      <th></th>\n",
       "      <th></th>\n",
       "      <th></th>\n",
       "      <th></th>\n",
       "      <th></th>\n",
       "      <th></th>\n",
       "      <th></th>\n",
       "      <th></th>\n",
       "      <th></th>\n",
       "      <th></th>\n",
       "      <th></th>\n",
       "      <th></th>\n",
       "      <th></th>\n",
       "      <th></th>\n",
       "      <th></th>\n",
       "      <th></th>\n",
       "      <th></th>\n",
       "      <th></th>\n",
       "      <th></th>\n",
       "      <th></th>\n",
       "      <th></th>\n",
       "      <th></th>\n",
       "      <th></th>\n",
       "      <th></th>\n",
       "      <th></th>\n",
       "      <th></th>\n",
       "      <th></th>\n",
       "      <th></th>\n",
       "      <th></th>\n",
       "      <th></th>\n",
       "      <th></th>\n",
       "      <th></th>\n",
       "      <th></th>\n",
       "      <th></th>\n",
       "      <th></th>\n",
       "      <th></th>\n",
       "      <th></th>\n",
       "      <th></th>\n",
       "      <th></th>\n",
       "    </tr>\n",
       "  </thead>\n",
       "  <tbody>\n",
       "    <tr>\n",
       "      <th>1</th>\n",
       "      <th>100028229</th>\n",
       "      <td>1:100028229</td>\n",
       "      <td>1.401316</td>\n",
       "      <td>rs72719698</td>\n",
       "      <td>G</td>\n",
       "      <td>Intersection</td>\n",
       "      <td>4</td>\n",
       "      <td>SNP</td>\n",
       "      <td></td>\n",
       "      <td>PASS</td>\n",
       "      <td>Default</td>\n",
       "      <td>True</td>\n",
       "      <td>False</td>\n",
       "      <td></td>\n",
       "      <td></td>\n",
       "      <td></td>\n",
       "      <td></td>\n",
       "      <td>True</td>\n",
       "      <td>T</td>\n",
       "      <td>0.194444</td>\n",
       "      <td>110</td>\n",
       "      <td>28</td>\n",
       "      <td>ref</td>\n",
       "      <td></td>\n",
       "      <td>T</td>\n",
       "      <td>0.18</td>\n",
       "      <td>100</td>\n",
       "      <td>18</td>\n",
       "      <td>2</td>\n",
       "      <td></td>\n",
       "      <td>T</td>\n",
       "      <td>0.183</td>\n",
       "      <td>104</td>\n",
       "      <td>-1</td>\n",
       "      <td>ref-het</td>\n",
       "      <td></td>\n",
       "      <td>T</td>\n",
       "      <td>0.2</td>\n",
       "      <td>110</td>\n",
       "      <td>317.47</td>\n",
       "      <td>SNP</td>\n",
       "      <td></td>\n",
       "      <td>CPCT11111111</td>\n",
       "      <td>SNP</td>\n",
       "      <td>G</td>\n",
       "      <td>T</td>\n",
       "      <td></td>\n",
       "      <td>Default</td>\n",
       "      <td>True</td>\n",
       "      <td>False</td>\n",
       "      <td>True</td>\n",
       "    </tr>\n",
       "  </tbody>\n",
       "</table>\n",
       "</div>"
      ],
      "text/plain": [
       "                    chromPos  chromFrac          id ref   vennSegment  numCallers variantType variantSubType filter bedRegion inDBSNP inCOSMIC annGene annWorstImpact annWorstEffect annAllEffects consensus strelkaallele strelkaAF strelkaDP strelkaQS strelkaSGT strelkaindelDiff varscanallele varscanAF varscanDP varscanQS varscanSGT varscanindelDiff mutectallele mutectAF mutectDP mutectQS mutectSGT mutectindelDiff freebayesallele freebayesAF freebayesDP freebayesQS freebayesSGT freebayesindelDiff   patientName variantType_Truth ref_Truth truth_allele truth_indelDiff bedRegion_Truth hasTP  hasFP Truth\n",
       "chrom pos                                                                                                                                                                                                                                                                                                                                                                                                                                                                                                                                                                                                                   \n",
       "1     100028229  1:100028229   1.401316  rs72719698   G  Intersection           4         SNP                  PASS   Default    True    False                                                          True             T  0.194444       110        28        ref                              T      0.18       100        18          2                             T    0.183      104       -1   ref-het                               T         0.2         110      317.47          SNP                     CPCT11111111               SNP         G            T                         Default  True  False  True"
      ]
     },
     "execution_count": 11,
     "metadata": {},
     "output_type": "execute_result"
    }
   ],
   "source": [
    "dfProd.head(1)"
   ]
  },
  {
   "cell_type": "code",
   "execution_count": 12,
   "metadata": {
    "collapsed": false,
    "scrolled": true
   },
   "outputs": [
    {
     "data": {
      "text/html": [
       "<div>\n",
       "<table border=\"1\" class=\"dataframe\">\n",
       "  <thead>\n",
       "    <tr style=\"text-align: right;\">\n",
       "      <th></th>\n",
       "      <th>variantType</th>\n",
       "      <th>caller</th>\n",
       "      <th>truthSet</th>\n",
       "      <th>truePositives</th>\n",
       "      <th>falsePositives</th>\n",
       "      <th>falseNegatives</th>\n",
       "      <th>precision</th>\n",
       "      <th>sensitivity</th>\n",
       "    </tr>\n",
       "  </thead>\n",
       "  <tbody>\n",
       "    <tr>\n",
       "      <th>6</th>\n",
       "      <td>INDEL</td>\n",
       "      <td>freebayes</td>\n",
       "      <td>96385</td>\n",
       "      <td>64192</td>\n",
       "      <td>692</td>\n",
       "      <td>32193</td>\n",
       "      <td>0.9893</td>\n",
       "      <td>0.6660</td>\n",
       "    </tr>\n",
       "    <tr>\n",
       "      <th>1</th>\n",
       "      <td>INDEL</td>\n",
       "      <td>strelka</td>\n",
       "      <td>96385</td>\n",
       "      <td>48251</td>\n",
       "      <td>272</td>\n",
       "      <td>48134</td>\n",
       "      <td>0.9944</td>\n",
       "      <td>0.5006</td>\n",
       "    </tr>\n",
       "    <tr>\n",
       "      <th>3</th>\n",
       "      <td>INDEL</td>\n",
       "      <td>varscan</td>\n",
       "      <td>96385</td>\n",
       "      <td>63411</td>\n",
       "      <td>619</td>\n",
       "      <td>32974</td>\n",
       "      <td>0.9903</td>\n",
       "      <td>0.6579</td>\n",
       "    </tr>\n",
       "    <tr>\n",
       "      <th>5</th>\n",
       "      <td>SNP</td>\n",
       "      <td>freebayes</td>\n",
       "      <td>1005483</td>\n",
       "      <td>933292</td>\n",
       "      <td>997</td>\n",
       "      <td>72191</td>\n",
       "      <td>0.9989</td>\n",
       "      <td>0.9282</td>\n",
       "    </tr>\n",
       "    <tr>\n",
       "      <th>4</th>\n",
       "      <td>SNP</td>\n",
       "      <td>mutect</td>\n",
       "      <td>1005483</td>\n",
       "      <td>929772</td>\n",
       "      <td>5904</td>\n",
       "      <td>75711</td>\n",
       "      <td>0.9937</td>\n",
       "      <td>0.9247</td>\n",
       "    </tr>\n",
       "    <tr>\n",
       "      <th>0</th>\n",
       "      <td>SNP</td>\n",
       "      <td>strelka</td>\n",
       "      <td>1005483</td>\n",
       "      <td>939193</td>\n",
       "      <td>3505</td>\n",
       "      <td>66290</td>\n",
       "      <td>0.9963</td>\n",
       "      <td>0.9341</td>\n",
       "    </tr>\n",
       "    <tr>\n",
       "      <th>2</th>\n",
       "      <td>SNP</td>\n",
       "      <td>varscan</td>\n",
       "      <td>1005483</td>\n",
       "      <td>897461</td>\n",
       "      <td>826</td>\n",
       "      <td>108022</td>\n",
       "      <td>0.9991</td>\n",
       "      <td>0.8926</td>\n",
       "    </tr>\n",
       "  </tbody>\n",
       "</table>\n",
       "</div>"
      ],
      "text/plain": [
       "  variantType     caller  truthSet  truePositives  falsePositives  falseNegatives  precision  sensitivity\n",
       "6       INDEL  freebayes     96385          64192             692           32193     0.9893       0.6660\n",
       "1       INDEL    strelka     96385          48251             272           48134     0.9944       0.5006\n",
       "3       INDEL    varscan     96385          63411             619           32974     0.9903       0.6579\n",
       "5         SNP  freebayes   1005483         933292             997           72191     0.9989       0.9282\n",
       "4         SNP     mutect   1005483         929772            5904           75711     0.9937       0.9247\n",
       "0         SNP    strelka   1005483         939193            3505           66290     0.9963       0.9341\n",
       "2         SNP    varscan   1005483         897461             826          108022     0.9991       0.8926"
      ]
     },
     "execution_count": 12,
     "metadata": {},
     "output_type": "execute_result"
    }
   ],
   "source": [
    "outputDF = calcuatePrecisionSensivityMatrix(dfProd)\n",
    "outputDF"
   ]
  },
  {
   "cell_type": "code",
   "execution_count": 13,
   "metadata": {
    "collapsed": false
   },
   "outputs": [
    {
     "data": {
      "text/html": [
       "<div>\n",
       "<table border=\"1\" class=\"dataframe\">\n",
       "  <thead>\n",
       "    <tr>\n",
       "      <th>variantType</th>\n",
       "      <th colspan=\"2\" halign=\"left\">INDEL</th>\n",
       "      <th colspan=\"2\" halign=\"left\">SNP</th>\n",
       "    </tr>\n",
       "    <tr>\n",
       "      <th>Truth</th>\n",
       "      <th>False</th>\n",
       "      <th>True</th>\n",
       "      <th>False</th>\n",
       "      <th>True</th>\n",
       "    </tr>\n",
       "    <tr>\n",
       "      <th>numCallers</th>\n",
       "      <th></th>\n",
       "      <th></th>\n",
       "      <th></th>\n",
       "      <th></th>\n",
       "    </tr>\n",
       "  </thead>\n",
       "  <tbody>\n",
       "    <tr>\n",
       "      <th>1</th>\n",
       "      <td>1089.0</td>\n",
       "      <td>12289.0</td>\n",
       "      <td>7421.0</td>\n",
       "      <td>23817.0</td>\n",
       "    </tr>\n",
       "    <tr>\n",
       "      <th>2</th>\n",
       "      <td>205.0</td>\n",
       "      <td>17827.0</td>\n",
       "      <td>1579.0</td>\n",
       "      <td>56689.0</td>\n",
       "    </tr>\n",
       "    <tr>\n",
       "      <th>3</th>\n",
       "      <td>28.0</td>\n",
       "      <td>42637.0</td>\n",
       "      <td>147.0</td>\n",
       "      <td>91597.0</td>\n",
       "    </tr>\n",
       "    <tr>\n",
       "      <th>4</th>\n",
       "      <td>NaN</td>\n",
       "      <td>NaN</td>\n",
       "      <td>53.0</td>\n",
       "      <td>821933.0</td>\n",
       "    </tr>\n",
       "  </tbody>\n",
       "</table>\n",
       "</div>"
      ],
      "text/plain": [
       "variantType   INDEL              SNP          \n",
       "Truth         False    True    False     True \n",
       "numCallers                                    \n",
       "1            1089.0  12289.0  7421.0   23817.0\n",
       "2             205.0  17827.0  1579.0   56689.0\n",
       "3              28.0  42637.0   147.0   91597.0\n",
       "4               NaN      NaN    53.0  821933.0"
      ]
     },
     "execution_count": 13,
     "metadata": {},
     "output_type": "execute_result"
    }
   ],
   "source": [
    "dftemp = dfProd.reset_index()\n",
    "pd.pivot_table(dftemp[(dftemp.variantType=='INDEL')|(dftemp.variantType=='SNP')], values='pos', index=['numCallers'], columns=['variantType','Truth'], aggfunc='count')"
   ]
  },
  {
   "cell_type": "markdown",
   "metadata": {},
   "source": [
    "### SCRATCH"
   ]
  },
  {
   "cell_type": "code",
   "execution_count": 25,
   "metadata": {
    "collapsed": false
   },
   "outputs": [
    {
     "data": {
      "text/html": [
       "<div>\n",
       "<table border=\"1\" class=\"dataframe\">\n",
       "  <thead>\n",
       "    <tr>\n",
       "      <th></th>\n",
       "      <th>variantType</th>\n",
       "      <th colspan=\"2\" halign=\"left\">INDEL</th>\n",
       "      <th colspan=\"2\" halign=\"left\">SNP</th>\n",
       "    </tr>\n",
       "    <tr>\n",
       "      <th></th>\n",
       "      <th>Truth</th>\n",
       "      <th>False</th>\n",
       "      <th>True</th>\n",
       "      <th>False</th>\n",
       "      <th>True</th>\n",
       "    </tr>\n",
       "    <tr>\n",
       "      <th>numCallers</th>\n",
       "      <th>vennSegment</th>\n",
       "      <th></th>\n",
       "      <th></th>\n",
       "      <th></th>\n",
       "      <th></th>\n",
       "    </tr>\n",
       "  </thead>\n",
       "  <tbody>\n",
       "    <tr>\n",
       "      <th rowspan=\"4\" valign=\"top\">1</th>\n",
       "      <th>freebayes</th>\n",
       "      <td>475.0</td>\n",
       "      <td>5995.0</td>\n",
       "      <td>657.0</td>\n",
       "      <td>6872.0</td>\n",
       "    </tr>\n",
       "    <tr>\n",
       "      <th>mutect</th>\n",
       "      <td>NaN</td>\n",
       "      <td>NaN</td>\n",
       "      <td>4383.0</td>\n",
       "      <td>9353.0</td>\n",
       "    </tr>\n",
       "    <tr>\n",
       "      <th>strelka</th>\n",
       "      <td>50.0</td>\n",
       "      <td>1031.0</td>\n",
       "      <td>276.0</td>\n",
       "      <td>1668.0</td>\n",
       "    </tr>\n",
       "    <tr>\n",
       "      <th>varscan</th>\n",
       "      <td>418.0</td>\n",
       "      <td>4894.0</td>\n",
       "      <td>513.0</td>\n",
       "      <td>2871.0</td>\n",
       "    </tr>\n",
       "    <tr>\n",
       "      <th rowspan=\"6\" valign=\"top\">2</th>\n",
       "      <th>freebayes-mutect</th>\n",
       "      <td>NaN</td>\n",
       "      <td>NaN</td>\n",
       "      <td>41.0</td>\n",
       "      <td>11305.0</td>\n",
       "    </tr>\n",
       "    <tr>\n",
       "      <th>strelka-freebayes</th>\n",
       "      <td>32.0</td>\n",
       "      <td>1941.0</td>\n",
       "      <td>48.0</td>\n",
       "      <td>3539.0</td>\n",
       "    </tr>\n",
       "    <tr>\n",
       "      <th>strelka-mutect</th>\n",
       "      <td>NaN</td>\n",
       "      <td>NaN</td>\n",
       "      <td>67.0</td>\n",
       "      <td>11554.0</td>\n",
       "    </tr>\n",
       "    <tr>\n",
       "      <th>strelka-varscan</th>\n",
       "      <td>16.0</td>\n",
       "      <td>2221.0</td>\n",
       "      <td>33.0</td>\n",
       "      <td>1097.0</td>\n",
       "    </tr>\n",
       "    <tr>\n",
       "      <th>varscan-freebayes</th>\n",
       "      <td>157.0</td>\n",
       "      <td>13613.0</td>\n",
       "      <td>67.0</td>\n",
       "      <td>8239.0</td>\n",
       "    </tr>\n",
       "    <tr>\n",
       "      <th>varscan-mutect</th>\n",
       "      <td>NaN</td>\n",
       "      <td>NaN</td>\n",
       "      <td>21.0</td>\n",
       "      <td>779.0</td>\n",
       "    </tr>\n",
       "    <tr>\n",
       "      <th rowspan=\"4\" valign=\"top\">3</th>\n",
       "      <th>strelka-freebayes-mutect</th>\n",
       "      <td>NaN</td>\n",
       "      <td>NaN</td>\n",
       "      <td>41.0</td>\n",
       "      <td>28179.0</td>\n",
       "    </tr>\n",
       "    <tr>\n",
       "      <th>strelka-varscan-freebayes</th>\n",
       "      <td>28.0</td>\n",
       "      <td>42630.0</td>\n",
       "      <td>65.0</td>\n",
       "      <td>35540.0</td>\n",
       "    </tr>\n",
       "    <tr>\n",
       "      <th>strelka-varscan-mutect</th>\n",
       "      <td>NaN</td>\n",
       "      <td>NaN</td>\n",
       "      <td>10.0</td>\n",
       "      <td>7266.0</td>\n",
       "    </tr>\n",
       "    <tr>\n",
       "      <th>varscan-freebayes-mutect</th>\n",
       "      <td>NaN</td>\n",
       "      <td>NaN</td>\n",
       "      <td>13.0</td>\n",
       "      <td>15424.0</td>\n",
       "    </tr>\n",
       "    <tr>\n",
       "      <th>4</th>\n",
       "      <th>Intersection</th>\n",
       "      <td>NaN</td>\n",
       "      <td>NaN</td>\n",
       "      <td>51.0</td>\n",
       "      <td>819304.0</td>\n",
       "    </tr>\n",
       "  </tbody>\n",
       "</table>\n",
       "</div>"
      ],
      "text/plain": [
       "variantType                           INDEL              SNP          \n",
       "Truth                                 False    True    False     True \n",
       "numCallers vennSegment                                                \n",
       "1          freebayes                  475.0   5995.0   657.0    6872.0\n",
       "           mutect                       NaN      NaN  4383.0    9353.0\n",
       "           strelka                     50.0   1031.0   276.0    1668.0\n",
       "           varscan                    418.0   4894.0   513.0    2871.0\n",
       "2          freebayes-mutect             NaN      NaN    41.0   11305.0\n",
       "           strelka-freebayes           32.0   1941.0    48.0    3539.0\n",
       "           strelka-mutect               NaN      NaN    67.0   11554.0\n",
       "           strelka-varscan             16.0   2221.0    33.0    1097.0\n",
       "           varscan-freebayes          157.0  13613.0    67.0    8239.0\n",
       "           varscan-mutect               NaN      NaN    21.0     779.0\n",
       "3          strelka-freebayes-mutect     NaN      NaN    41.0   28179.0\n",
       "           strelka-varscan-freebayes   28.0  42630.0    65.0   35540.0\n",
       "           strelka-varscan-mutect       NaN      NaN    10.0    7266.0\n",
       "           varscan-freebayes-mutect     NaN      NaN    13.0   15424.0\n",
       "4          Intersection                 NaN      NaN    51.0  819304.0"
      ]
     },
     "execution_count": 25,
     "metadata": {},
     "output_type": "execute_result"
    }
   ],
   "source": [
    "\n",
    "pd.pivot_table(dftemp[((dftemp.variantType=='INDEL')|(dftemp.variantType=='SNP'))&(dftemp.strelkaAF > 0.1)], values='pos', index=['numCallers','vennSegment'], columns=['variantType','Truth'], aggfunc='count')"
   ]
  },
  {
   "cell_type": "code",
   "execution_count": 18,
   "metadata": {
    "collapsed": false
   },
   "outputs": [
    {
     "data": {
      "text/html": [
       "<div>\n",
       "<table border=\"1\" class=\"dataframe\">\n",
       "  <thead>\n",
       "    <tr>\n",
       "      <th></th>\n",
       "      <th>variantType</th>\n",
       "      <th colspan=\"2\" halign=\"left\">INDEL</th>\n",
       "      <th colspan=\"2\" halign=\"left\">SNP</th>\n",
       "    </tr>\n",
       "    <tr>\n",
       "      <th></th>\n",
       "      <th>Truth</th>\n",
       "      <th>False</th>\n",
       "      <th>True</th>\n",
       "      <th>False</th>\n",
       "      <th>True</th>\n",
       "    </tr>\n",
       "    <tr>\n",
       "      <th>numCallers</th>\n",
       "      <th>vennSegment</th>\n",
       "      <th></th>\n",
       "      <th></th>\n",
       "      <th></th>\n",
       "      <th></th>\n",
       "    </tr>\n",
       "  </thead>\n",
       "  <tbody>\n",
       "    <tr>\n",
       "      <th>1</th>\n",
       "      <th>strelka</th>\n",
       "      <td>146.0</td>\n",
       "      <td>359.0</td>\n",
       "      <td>1582.0</td>\n",
       "      <td>2956.0</td>\n",
       "    </tr>\n",
       "    <tr>\n",
       "      <th rowspan=\"3\" valign=\"top\">2</th>\n",
       "      <th>strelka-freebayes</th>\n",
       "      <td>NaN</td>\n",
       "      <td>6.0</td>\n",
       "      <td>7.0</td>\n",
       "      <td>201.0</td>\n",
       "    </tr>\n",
       "    <tr>\n",
       "      <th>strelka-mutect</th>\n",
       "      <td>NaN</td>\n",
       "      <td>NaN</td>\n",
       "      <td>1257.0</td>\n",
       "      <td>18735.0</td>\n",
       "    </tr>\n",
       "    <tr>\n",
       "      <th>strelka-varscan</th>\n",
       "      <td>NaN</td>\n",
       "      <td>40.0</td>\n",
       "      <td>35.0</td>\n",
       "      <td>427.0</td>\n",
       "    </tr>\n",
       "    <tr>\n",
       "      <th rowspan=\"3\" valign=\"top\">3</th>\n",
       "      <th>strelka-freebayes-mutect</th>\n",
       "      <td>NaN</td>\n",
       "      <td>NaN</td>\n",
       "      <td>3.0</td>\n",
       "      <td>1139.0</td>\n",
       "    </tr>\n",
       "    <tr>\n",
       "      <th>strelka-varscan-freebayes</th>\n",
       "      <td>NaN</td>\n",
       "      <td>6.0</td>\n",
       "      <td>1.0</td>\n",
       "      <td>657.0</td>\n",
       "    </tr>\n",
       "    <tr>\n",
       "      <th>strelka-varscan-mutect</th>\n",
       "      <td>NaN</td>\n",
       "      <td>NaN</td>\n",
       "      <td>14.0</td>\n",
       "      <td>2848.0</td>\n",
       "    </tr>\n",
       "    <tr>\n",
       "      <th>4</th>\n",
       "      <th>Intersection</th>\n",
       "      <td>NaN</td>\n",
       "      <td>NaN</td>\n",
       "      <td>1.0</td>\n",
       "      <td>2186.0</td>\n",
       "    </tr>\n",
       "  </tbody>\n",
       "</table>\n",
       "</div>"
      ],
      "text/plain": [
       "variantType                           INDEL            SNP         \n",
       "Truth                                 False  True    False    True \n",
       "numCallers vennSegment                                             \n",
       "1          strelka                    146.0  359.0  1582.0   2956.0\n",
       "2          strelka-freebayes            NaN    6.0     7.0    201.0\n",
       "           strelka-mutect               NaN    NaN  1257.0  18735.0\n",
       "           strelka-varscan              NaN   40.0    35.0    427.0\n",
       "3          strelka-freebayes-mutect     NaN    NaN     3.0   1139.0\n",
       "           strelka-varscan-freebayes    NaN    6.0     1.0    657.0\n",
       "           strelka-varscan-mutect       NaN    NaN    14.0   2848.0\n",
       "4          Intersection                 NaN    NaN     1.0   2186.0"
      ]
     },
     "execution_count": 18,
     "metadata": {},
     "output_type": "execute_result"
    }
   ],
   "source": [
    "\n",
    "pd.pivot_table(dftemp[((dftemp.variantType=='INDEL')|(dftemp.variantType=='SNP'))&(dftemp.strelkaAF < 0.1)], values='pos', index=['numCallers','vennSegment'], columns=['variantType','Truth'], aggfunc='count')"
   ]
  },
  {
   "cell_type": "code",
   "execution_count": null,
   "metadata": {
    "collapsed": false
   },
   "outputs": [],
   "source": [
    "dftemp[dftemp.Truth == False].head(10)"
   ]
  },
  {
   "cell_type": "markdown",
   "metadata": {},
   "source": [
    "<h3> SNP"
   ]
  },
  {
   "cell_type": "code",
   "execution_count": null,
   "metadata": {
    "collapsed": false
   },
   "outputs": [],
   "source": [
    "snpdf = dfProd[(dfProd.variantType == 'SNP')]"
   ]
  },
  {
   "cell_type": "code",
   "execution_count": null,
   "metadata": {
    "collapsed": false
   },
   "outputs": [],
   "source": [
    "vn.venn([snpdf[snpdf.mutectallele != '']['chromPos'], \\\n",
    "         snpdf[snpdf.strelkaallele != '']['chromPos'], \\\n",
    "        snpdf[snpdf.freebayesallele != '']['chromPos'], \\\n",
    "        snpdf[snpdf.varscanallele != '']['chromPos'] \\\n",
    "        ],['mutect','strelka','freebayes','varscan'],figsize=(6,6))"
   ]
  },
  {
   "cell_type": "markdown",
   "metadata": {},
   "source": [
    "### <hd3> Indel Venn"
   ]
  },
  {
   "cell_type": "code",
   "execution_count": null,
   "metadata": {
    "collapsed": false
   },
   "outputs": [],
   "source": [
    "indeldf= dfProd[(dfProd.variantType == 'INDEL')]"
   ]
  },
  {
   "cell_type": "code",
   "execution_count": null,
   "metadata": {
    "collapsed": false
   },
   "outputs": [],
   "source": [
    "vn.venn([indeldf[indeldf.strelkaallele != '']['chromPos'], \\\n",
    "        indeldf[indeldf.freebayesallele != '']['chromPos'], \\\n",
    "        indeldf[indeldf.varscanallele != '']['chromPos'] \\\n",
    "        ],['strelka','freebayes','varscan'],figsize=(6,6))"
   ]
  },
  {
   "cell_type": "markdown",
   "metadata": {},
   "source": [
    "<h3> Allelic Depth"
   ]
  },
  {
   "cell_type": "code",
   "execution_count": null,
   "metadata": {
    "collapsed": false
   },
   "outputs": [],
   "source": [
    "#Alllele Freq By Caller\n",
    "for columnName in list(dfProd):\n",
    "    if columnName.endswith('freebayesAF'):\n",
    "        print columnName\n",
    "        ser = dfProd[(dfProd.Truth == True)][columnName[:-2] + 'AF']\n",
    "        ser = ser.sort_values()\n",
    "        #ser[len(ser)] = ser.iloc[-1]\n",
    "        cum_dist = np.linspace(0.,1.,len(ser))\n",
    "        ser_cdf = pd.Series(cum_dist, index=ser,name=columnName[:-2]+\": c=\"+str(ser.count())+\" m=\"+str(round(ser.median(),2)))\n",
    "        ser_cdf.plot(drawstyle='steps',legend=True,title=\" Allelic Frequency by Caller (AllelicFreq > 0.0)\",figsize=[15,6],xlim=[0,1])"
   ]
  },
  {
   "cell_type": "code",
   "execution_count": null,
   "metadata": {
    "collapsed": false
   },
   "outputs": [],
   "source": [
    "truths = [True,False]\n",
    "for truth in truths:\n",
    "    #Alllele Freq By Caller\n",
    "    for columnName in list(dfProd):\n",
    "        if columnName.endswith('freebayesQS') and not columnName.endswith('lQS'):\n",
    "            ser = dfProd[(dfProd.Truth == truth)][columnName]\n",
    "            ser = ser.sort_values()\n",
    "            cum_dist = np.linspace(0.,1.,len(ser))\n",
    "            ser_cdf = pd.Series(cum_dist, index=ser,name=columnName[:-2]+\": c=\"+str(ser.count())+ \" \"+ str(truth) +\" m=\"+str(round(ser.median(),2)))\n",
    "            ser_cdf.plot(drawstyle='steps',legend=True,title=\" Allelic Frequency by Caller (AllelicFreq > 0.0)\",figsize=[15,6],xlim=[0,100],ylim=[0,0.5])"
   ]
  },
  {
   "cell_type": "code",
   "execution_count": null,
   "metadata": {
    "collapsed": false
   },
   "outputs": [],
   "source": [
    "truths = [True,False]\n",
    "for truth in truths:\n",
    "    #Alllele Freq By Caller\n",
    "    for columnName in list(dfProd):\n",
    "        if columnName.endswith('freebayesQS') and not columnName.endswith('lQS'):\n",
    "            ser = dfProd[(dfProd.Truth == truth)][columnName]\n",
    "            ser = ser.sort_values()\n",
    "            cum_dist = np.linspace(0.,1.,len(ser))\n",
    "            ser_cdf = pd.Series(cum_dist, index=ser,name=columnName[:-2]+\": c=\"+str(ser.count())+ \" \"+ str(truth) +\" m=\"+str(round(ser.median(),2)))\n",
    "            ser_cdf.plot(drawstyle='steps',legend=True,title=\" Allelic Frequency by Caller (AllelicFreq > 0.0)\",figsize=[15,6],xlim=[-20,0],ylim=[0.6,1])"
   ]
  },
  {
   "cell_type": "code",
   "execution_count": null,
   "metadata": {
    "collapsed": false
   },
   "outputs": [],
   "source": [
    "ser"
   ]
  },
  {
   "cell_type": "code",
   "execution_count": null,
   "metadata": {
    "collapsed": false
   },
   "outputs": [],
   "source": [
    "ser.head()"
   ]
  },
  {
   "cell_type": "code",
   "execution_count": null,
   "metadata": {
    "collapsed": true
   },
   "outputs": [],
   "source": []
  }
 ],
 "metadata": {
  "kernelspec": {
   "display_name": "Python 2",
   "language": "python",
   "name": "python2"
  },
  "language_info": {
   "codemirror_mode": {
    "name": "ipython",
    "version": 2
   },
   "file_extension": ".py",
   "mimetype": "text/x-python",
   "name": "python",
   "nbconvert_exporter": "python",
   "pygments_lexer": "ipython2",
   "version": "2.7.10"
  }
 },
 "nbformat": 4,
 "nbformat_minor": 0
}
