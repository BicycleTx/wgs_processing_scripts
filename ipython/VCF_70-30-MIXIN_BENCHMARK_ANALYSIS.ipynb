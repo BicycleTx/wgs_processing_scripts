{
 "cells": [
  {
   "cell_type": "markdown",
   "metadata": {},
   "source": [
    "### CONFIGURATION"
   ]
  },
  {
   "cell_type": "code",
   "execution_count": 1,
   "metadata": {
    "collapsed": false
   },
   "outputs": [],
   "source": [
    "import pandas as pd\n",
    "pd.set_option('display.max_columns', 500)\n",
    "pd.set_option('display.width', 1000)\n",
    "import numpy as np\n",
    "import copy\n",
    "import sys\n",
    "import matplotlib.pyplot as plt\n",
    "%matplotlib inline"
   ]
  },
  {
   "cell_type": "code",
   "execution_count": 2,
   "metadata": {
    "collapsed": false
   },
   "outputs": [],
   "source": [
    "# Hartwig imports\n",
    "sys.path.append(\"/Users/peterpriestley/hmf/repos/scripts/analysisscripts\") \n",
    "import analyseVCF as aVCF\n",
    "import venn as vn"
   ]
  },
  {
   "cell_type": "code",
   "execution_count": 3,
   "metadata": {
    "collapsed": true
   },
   "outputs": [],
   "source": [
    "#CHROM SLICING\n",
    "minChromFrac = 0\n",
    "maxChromFrac = 26"
   ]
  },
  {
   "cell_type": "code",
   "execution_count": 13,
   "metadata": {
    "collapsed": false
   },
   "outputs": [],
   "source": [
    "# BED FILE\n",
    "BED_PATH = \"/Users/peterpriestley/hmf/analyses/giabTruthsets/70-30mixin/\"\n",
    "BED_FILE_NAME = \"na12878-na24385-somatic-truth-regionsSORTED.bed\"\n",
    "\n",
    "# TRUTH SET\n",
    "SAMPLE_NAMES_TRUTH = {'NA12878':'truth'}\n",
    "VCF_PATH_TRUTH = \"/Users/peterpriestley/hmf/analyses/giabTruthsets/70-30mixin/\"\n",
    "VCF_FILE_NAME_TRUTH = \"na12878-na24385-somatic-truth.vcf\"\n",
    "\n",
    "# COMBINED VCF CONFIG\n",
    "VCF_SAMPLE = \"CPCT11111111\"\n",
    "VCF_PATH = \"/Users/peterpriestley/hmf/analyses/70-30sample/170214_fb_legacy_bqsr_clean_test/\"\n",
    "VCF_FILE_NAME = \"fb_legacy.\" + VCF_SAMPLE + \"R_\"+ VCF_SAMPLE + \"T_merged_somatics.vcf\"#_somatic_filtered.vcf\"#\n",
    "#VCF_FILE_NAME = VCF_SAMPLE + \"R_\"+ VCF_SAMPLE + \"T_melted.vcf\"#_somatic_filtered.vcf\"#\n",
    "SAMPLE_NAMES = {VCF_SAMPLE + 'T.mutect':'mutect', VCF_SAMPLE + 'T.freebayes':'freebayes', \\\n",
    "                'TUMOR.strelka':'strelka', 'TUMOR.varscan':'varscan'}\n",
    "#SAMPLE_NAMES = {VCF_SAMPLE + 'T':'melted'}"
   ]
  },
  {
   "cell_type": "markdown",
   "metadata": {},
   "source": [
    "### Functions"
   ]
  },
  {
   "cell_type": "code",
   "execution_count": 14,
   "metadata": {
    "collapsed": true
   },
   "outputs": [],
   "source": [
    "def filterByChromFrac(df):\n",
    "    return df[(df.chromFrac > minChromFrac)&(df.chromFrac < maxChromFrac)]"
   ]
  },
  {
   "cell_type": "code",
   "execution_count": 15,
   "metadata": {
    "collapsed": false
   },
   "outputs": [],
   "source": [
    "def calculateTruth(df,dfTruth):\n",
    "    df = pd.merge(df,dfTruth,how='left', left_index=True,right_index=True,suffixes=('', '_Truth'))\n",
    "    df['hasTP'] = False\n",
    "    df['hasFP'] = False\n",
    "    for columnName in list(df):\n",
    "        if columnName.endswith('allele') and not columnName.startswith('truth'):\n",
    "            df['hasTP'] = (df['hasTP']) | ((df[columnName[:-6]+'indelDiff'] == df['truthindelDiff']) \\\n",
    "                    & (~pd.isnull(df['truthindelDiff']) & (df['variantType'] == 'INDEL'))) |((df[columnName] == df['truthallele']) \\\n",
    "                    & (df['variantType'] == 'SNP'))\n",
    "            df['hasFP'] = (df['hasFP']) | ((df[columnName[:-6]+'indelDiff'] != df['truthindelDiff']) \\\n",
    "                    & (df['variantType'] == 'INDEL') & (df[columnName[:-6]+'indelDiff'] != '')& (~pd.isnull(df['truthallele']))) |((df[columnName] != df['truthallele']) \\\n",
    "                    & (df['variantType'] == 'SNP') & (df[columnName] != '')& (~pd.isnull(df['truthallele'])))\n",
    "    df['Truth'] = (df['hasTP']) &  (df['hasFP'] == False)\n",
    "    return df"
   ]
  },
  {
   "cell_type": "code",
   "execution_count": 16,
   "metadata": {
    "collapsed": true
   },
   "outputs": [],
   "source": [
    "def calcuatePrecisionSensivityMatrix(df):\n",
    "    outputdata = []\n",
    "    for columnName in list(df):\n",
    "        if columnName.endswith('allele') & ~columnName.endswith('truthallele'):\n",
    "            myCaller = columnName[:-6]\n",
    "            variantTypes = df[(df[myCaller+'allele'] != '')].variantType.unique()\n",
    "            for variantType in variantTypes:\n",
    "                truePositives = len(df[(df[myCaller+'allele'] != '') & (df['Truth'] == True) &(df['variantType'] == variantType)])\n",
    "                positives = len(df[(df[myCaller+'allele'] != '')&(df['variantType'] == variantType)])\n",
    "                truthSet = len(dfTruth[dfTruth['variantType'] == variantType]) \n",
    "                falseNegatives = truthSet - truePositives\n",
    "                if positives > 0 and truthSet > 0:\n",
    "                    outputdata.append([variantType, myCaller, truthSet,truePositives,positives-truePositives, falseNegatives, \\\n",
    "                                   round(truePositives/float(positives),4),round(truePositives/float(truthSet),4)])\n",
    "    \n",
    "    outputDF = pd.DataFrame(outputdata)\n",
    "    outputDF.columns = (['variantType','caller','truthSet','truePositives','falsePositives','falseNegatives','precision','sensitivity'])\n",
    "    return outputDF.sort_values(['variantType','caller'])"
   ]
  },
  {
   "cell_type": "markdown",
   "metadata": {},
   "source": [
    "<h3> Load VCFs and Prepare DF"
   ]
  },
  {
   "cell_type": "code",
   "execution_count": 17,
   "metadata": {
    "collapsed": false
   },
   "outputs": [
    {
     "name": "stdout",
     "output_type": "stream",
     "text": [
      "reading vcf file: na12878-na24385-somatic-truth.vcf\n",
      "reading VCF File line: 1\n",
      "reading VCF File line: 200001\n",
      "reading VCF File line: 400001\n",
      "reading VCF File line: 600001\n",
      "reading VCF File line: 800001\n",
      "reading VCF File line: 1000001\n",
      "Number variants loaded: 1104460\n"
     ]
    }
   ],
   "source": [
    "## LOAD TRUTH SET VCF\n",
    "bed = aVCF.loadBEDFile(BED_PATH,BED_FILE_NAME)\n",
    "dfTruth = aVCF.loadVariantsFromVCF(VCF_PATH_TRUTH,VCF_FILE_NAME_TRUTH, \\\n",
    "                                   SAMPLE_NAMES_TRUTH,\"Mix-in Truth Set\",True,True,bed)\n",
    "dfTruth = filterByChromFrac(dfTruth)\n",
    "dfTruth = dfTruth[['chrom','pos','variantType','ref','truthallele','truthindelDiff','bedRegion']]\n",
    "dfTruth = dfTruth.set_index(['chrom','pos'])"
   ]
  },
  {
   "cell_type": "code",
   "execution_count": 18,
   "metadata": {
    "collapsed": false
   },
   "outputs": [
    {
     "name": "stdout",
     "output_type": "stream",
     "text": [
      "reading vcf file: fb_legacy.CPCT11111111R_CPCT11111111T_merged_somatics.vcf\n",
      "reading VCF File line: 1\n",
      "reading VCF File line: 200001\n",
      "reading VCF File line: 400001\n",
      "reading VCF File line: 600001\n",
      "reading VCF File line: 800001\n",
      "reading VCF File line: 1000001\n",
      "reading VCF File line: 1200001\n",
      "reading VCF File line: 1400001\n",
      "Number variants loaded: 1104899\n"
     ]
    }
   ],
   "source": [
    "# LOAD SAMPLE VCF + match to truth set\n",
    "bed = aVCF.loadBEDFile(BED_PATH,BED_FILE_NAME)\n",
    "dfProd = aVCF.loadVariantsFromVCF(VCF_PATH,VCF_FILE_NAME,SAMPLE_NAMES,VCF_SAMPLE,True,True,bed)\n",
    "dfProd = filterByChromFrac(dfProd)\n",
    "dfProd = dfProd.set_index(['chrom','pos'])\n",
    "dfProd = calculateTruth(dfProd,dfTruth)"
   ]
  },
  {
   "cell_type": "markdown",
   "metadata": {},
   "source": [
    "### PRECISION + SENSITIVITY|"
   ]
  },
  {
   "cell_type": "code",
   "execution_count": 19,
   "metadata": {
    "collapsed": false,
    "scrolled": true
   },
   "outputs": [
    {
     "data": {
      "text/html": [
       "<div>\n",
       "<table border=\"1\" class=\"dataframe\">\n",
       "  <thead>\n",
       "    <tr style=\"text-align: right;\">\n",
       "      <th></th>\n",
       "      <th>variantType</th>\n",
       "      <th>caller</th>\n",
       "      <th>truthSet</th>\n",
       "      <th>truePositives</th>\n",
       "      <th>falsePositives</th>\n",
       "      <th>falseNegatives</th>\n",
       "      <th>precision</th>\n",
       "      <th>sensitivity</th>\n",
       "    </tr>\n",
       "  </thead>\n",
       "  <tbody>\n",
       "    <tr>\n",
       "      <th>6</th>\n",
       "      <td>INDEL</td>\n",
       "      <td>freebayes</td>\n",
       "      <td>96616</td>\n",
       "      <td>71048</td>\n",
       "      <td>630</td>\n",
       "      <td>25568</td>\n",
       "      <td>0.9912</td>\n",
       "      <td>0.7354</td>\n",
       "    </tr>\n",
       "    <tr>\n",
       "      <th>1</th>\n",
       "      <td>INDEL</td>\n",
       "      <td>strelka</td>\n",
       "      <td>96616</td>\n",
       "      <td>67301</td>\n",
       "      <td>275</td>\n",
       "      <td>29315</td>\n",
       "      <td>0.9959</td>\n",
       "      <td>0.6966</td>\n",
       "    </tr>\n",
       "    <tr>\n",
       "      <th>3</th>\n",
       "      <td>INDEL</td>\n",
       "      <td>varscan</td>\n",
       "      <td>96616</td>\n",
       "      <td>63577</td>\n",
       "      <td>626</td>\n",
       "      <td>33039</td>\n",
       "      <td>0.9902</td>\n",
       "      <td>0.6580</td>\n",
       "    </tr>\n",
       "    <tr>\n",
       "      <th>5</th>\n",
       "      <td>SNP</td>\n",
       "      <td>freebayes</td>\n",
       "      <td>1007844</td>\n",
       "      <td>967060</td>\n",
       "      <td>21990</td>\n",
       "      <td>40784</td>\n",
       "      <td>0.9778</td>\n",
       "      <td>0.9595</td>\n",
       "    </tr>\n",
       "    <tr>\n",
       "      <th>4</th>\n",
       "      <td>SNP</td>\n",
       "      <td>mutect</td>\n",
       "      <td>1007844</td>\n",
       "      <td>931941</td>\n",
       "      <td>5905</td>\n",
       "      <td>75903</td>\n",
       "      <td>0.9937</td>\n",
       "      <td>0.9247</td>\n",
       "    </tr>\n",
       "    <tr>\n",
       "      <th>0</th>\n",
       "      <td>SNP</td>\n",
       "      <td>strelka</td>\n",
       "      <td>1007844</td>\n",
       "      <td>969305</td>\n",
       "      <td>2068</td>\n",
       "      <td>38539</td>\n",
       "      <td>0.9979</td>\n",
       "      <td>0.9618</td>\n",
       "    </tr>\n",
       "    <tr>\n",
       "      <th>2</th>\n",
       "      <td>SNP</td>\n",
       "      <td>varscan</td>\n",
       "      <td>1007844</td>\n",
       "      <td>899596</td>\n",
       "      <td>835</td>\n",
       "      <td>108248</td>\n",
       "      <td>0.9991</td>\n",
       "      <td>0.8926</td>\n",
       "    </tr>\n",
       "  </tbody>\n",
       "</table>\n",
       "</div>"
      ],
      "text/plain": [
       "  variantType     caller  truthSet  truePositives  falsePositives  falseNegatives  precision  sensitivity\n",
       "6       INDEL  freebayes     96616          71048             630           25568     0.9912       0.7354\n",
       "1       INDEL    strelka     96616          67301             275           29315     0.9959       0.6966\n",
       "3       INDEL    varscan     96616          63577             626           33039     0.9902       0.6580\n",
       "5         SNP  freebayes   1007844         967060           21990           40784     0.9778       0.9595\n",
       "4         SNP     mutect   1007844         931941            5905           75903     0.9937       0.9247\n",
       "0         SNP    strelka   1007844         969305            2068           38539     0.9979       0.9618\n",
       "2         SNP    varscan   1007844         899596             835          108248     0.9991       0.8926"
      ]
     },
     "execution_count": 19,
     "metadata": {},
     "output_type": "execute_result"
    }
   ],
   "source": [
    "outputDF = calcuatePrecisionSensivityMatrix(dfProd)\n",
    "outputDF"
   ]
  },
  {
   "cell_type": "code",
   "execution_count": null,
   "metadata": {
    "collapsed": false
   },
   "outputs": [],
   "source": [
    "#dftemp2 = dfProd.reset_index()\n",
    "pd.pivot_table(dftemp2, values='pos', index=['filter'], columns=['variantType','Truth'], aggfunc='count')"
   ]
  },
  {
   "cell_type": "code",
   "execution_count": null,
   "metadata": {
    "collapsed": false
   },
   "outputs": [],
   "source": [
    "pd.pivot_table(dftemp2[(dftemp2.variantType=='INDEL')|(dftemp2.variantType=='SNP')], values='pos', index=['consensus','inDBSNP'], columns=['variantType','Truth'], aggfunc='count')"
   ]
  },
  {
   "cell_type": "code",
   "execution_count": 20,
   "metadata": {
    "collapsed": false
   },
   "outputs": [
    {
     "data": {
      "text/html": [
       "<div>\n",
       "<table border=\"1\" class=\"dataframe\">\n",
       "  <thead>\n",
       "    <tr>\n",
       "      <th>variantType</th>\n",
       "      <th colspan=\"2\" halign=\"left\">INDEL</th>\n",
       "      <th colspan=\"2\" halign=\"left\">SNP</th>\n",
       "    </tr>\n",
       "    <tr>\n",
       "      <th>Truth</th>\n",
       "      <th>False</th>\n",
       "      <th>True</th>\n",
       "      <th>False</th>\n",
       "      <th>True</th>\n",
       "    </tr>\n",
       "    <tr>\n",
       "      <th>numCallers</th>\n",
       "      <th></th>\n",
       "      <th></th>\n",
       "      <th></th>\n",
       "      <th></th>\n",
       "    </tr>\n",
       "  </thead>\n",
       "  <tbody>\n",
       "    <tr>\n",
       "      <th>1</th>\n",
       "      <td>927.0</td>\n",
       "      <td>8703.0</td>\n",
       "      <td>26172.0</td>\n",
       "      <td>16975.0</td>\n",
       "    </tr>\n",
       "    <tr>\n",
       "      <th>2</th>\n",
       "      <td>230.0</td>\n",
       "      <td>12541.0</td>\n",
       "      <td>1671.0</td>\n",
       "      <td>35937.0</td>\n",
       "    </tr>\n",
       "    <tr>\n",
       "      <th>3</th>\n",
       "      <td>48.0</td>\n",
       "      <td>56047.0</td>\n",
       "      <td>336.0</td>\n",
       "      <td>101919.0</td>\n",
       "    </tr>\n",
       "    <tr>\n",
       "      <th>4</th>\n",
       "      <td>NaN</td>\n",
       "      <td>NaN</td>\n",
       "      <td>69.0</td>\n",
       "      <td>843324.0</td>\n",
       "    </tr>\n",
       "  </tbody>\n",
       "</table>\n",
       "</div>"
      ],
      "text/plain": [
       "variantType  INDEL               SNP          \n",
       "Truth        False    True     False     True \n",
       "numCallers                                    \n",
       "1            927.0   8703.0  26172.0   16975.0\n",
       "2            230.0  12541.0   1671.0   35937.0\n",
       "3             48.0  56047.0    336.0  101919.0\n",
       "4              NaN      NaN     69.0  843324.0"
      ]
     },
     "execution_count": 20,
     "metadata": {},
     "output_type": "execute_result"
    }
   ],
   "source": [
    "dftemp2 = dfProd.reset_index()\n",
    "pd.pivot_table(dftemp2[(dftemp2.variantType=='INDEL')|(dftemp2.variantType=='SNP')], values='pos', index=['numCallers'], columns=['variantType','Truth'], aggfunc='count')"
   ]
  },
  {
   "cell_type": "markdown",
   "metadata": {},
   "source": [
    "<h3> SNP"
   ]
  },
  {
   "cell_type": "code",
   "execution_count": null,
   "metadata": {
    "collapsed": false
   },
   "outputs": [],
   "source": [
    "snpdf = dfProd[(dfProd.variantType == 'SNP')]"
   ]
  },
  {
   "cell_type": "code",
   "execution_count": null,
   "metadata": {
    "collapsed": false
   },
   "outputs": [],
   "source": [
    "vn.venn([snpdf[snpdf.mutectallele != '']['chromPos'], \\\n",
    "         snpdf[snpdf.strelkaallele != '']['chromPos'], \\\n",
    "        snpdf[snpdf.freebayesallele != '']['chromPos'], \\\n",
    "        snpdf[snpdf.varscanallele != '']['chromPos'] \\\n",
    "        ],['mutect','strelka','freebayes','varscan'],figsize=(6,6))"
   ]
  },
  {
   "cell_type": "markdown",
   "metadata": {},
   "source": [
    "<h3> Allelic Depth"
   ]
  },
  {
   "cell_type": "code",
   "execution_count": null,
   "metadata": {
    "collapsed": false
   },
   "outputs": [],
   "source": [
    "#Alllele Freq By Caller\n",
    "for truth in [True,False]:\n",
    "    ser = dfProd[(dfProd.Truth == truth)&(dfProd['filter']=='QSI_ref')]['strelkaAF']\n",
    "    ser = ser.sort_values()\n",
    "    cum_dist = np.linspace(0.,1.,len(ser))\n",
    "    ser_cdf = pd.Series(cum_dist, index=ser,name=str(truth)+\": c=\"+str(ser.count())+\" m=\"+str(round(ser.median(),2)))\n",
    "    ser_cdf.plot(drawstyle='steps',legend=True,title=\" Allelic Frequency by Caller (AllelicFreq > 0.0)\",figsize=[15,6],xlim=[0,1])"
   ]
  },
  {
   "cell_type": "code",
   "execution_count": null,
   "metadata": {
    "collapsed": false
   },
   "outputs": [],
   "source": [
    "truths = [True,False]\n",
    "for truth in truths:\n",
    "    #Alllele Freq By Caller\n",
    "    for columnName in list(dfProd):\n",
    "        if columnName.endswith('strelkaQS'):\n",
    "            ser = dfProd[(dfProd.Truth == truth)&(dfProd['filter']=='QSI_ref')][columnName]\n",
    "            ser = ser.sort_values()\n",
    "            cum_dist = np.linspace(0.,1.,len(ser))\n",
    "            ser_cdf = pd.Series(cum_dist, index=ser,name=columnName[:-2]+\": c=\"+str(ser.count())+ \" \"+ str(truth) +\" m=\"+str(round(ser.median(),2)))\n",
    "            ser_cdf.plot(drawstyle='steps',legend=True,title=\" Allelic Frequency by Caller (AllelicFreq > 0.0)\",figsize=[15,6],xlim=[0,100],ylim=[0,1])"
   ]
  },
  {
   "cell_type": "markdown",
   "metadata": {
    "collapsed": true
   },
   "source": [
    "### SCRATCH"
   ]
  },
  {
   "cell_type": "code",
   "execution_count": null,
   "metadata": {
    "collapsed": false
   },
   "outputs": [],
   "source": [
    "dfProd[(dfProd.variantType=='INDEL')&(dfProd.Truth==False)&(dfProd.freebayesallele<>'')&(dfProd.chromPos.str.contains('1:'))].head(20)"
   ]
  },
  {
   "cell_type": "code",
   "execution_count": null,
   "metadata": {
    "collapsed": false
   },
   "outputs": [],
   "source": [
    "dftemp[(dftemp.vennSegment.str.contains('mutect'))&(dftemp.Truth==False)].head(200)"
   ]
  },
  {
   "cell_type": "code",
   "execution_count": null,
   "metadata": {
    "collapsed": false
   },
   "outputs": [],
   "source": [
    "pd.set_option('display.max_rows', 500)\n",
    "dftemp[((dftemp.vennSegment.str.contains('mutect'))|(dftemp.vennSegment=='Intersection'))&(dftemp.Truth==True)].head(40)"
   ]
  },
  {
   "cell_type": "code",
   "execution_count": null,
   "metadata": {
    "collapsed": false
   },
   "outputs": [],
   "source": [
    "dftemp2[((dftemp2.vennSegment.str.contains('mutect'))|(dftemp2.vennSegment=='Intersection'))&(dftemp2.Truth==True)].head(40)"
   ]
  },
  {
   "cell_type": "code",
   "execution_count": null,
   "metadata": {
    "collapsed": false
   },
   "outputs": [],
   "source": [
    "len(dftemp)"
   ]
  },
  {
   "cell_type": "code",
   "execution_count": null,
   "metadata": {
    "collapsed": false
   },
   "outputs": [],
   "source": [
    "len(dftemp2)"
   ]
  },
  {
   "cell_type": "code",
   "execution_count": null,
   "metadata": {
    "collapsed": true
   },
   "outputs": [],
   "source": []
  }
 ],
 "metadata": {
  "kernelspec": {
   "display_name": "Python 2",
   "language": "python",
   "name": "python2"
  },
  "language_info": {
   "codemirror_mode": {
    "name": "ipython",
    "version": 2
   },
   "file_extension": ".py",
   "mimetype": "text/x-python",
   "name": "python",
   "nbconvert_exporter": "python",
   "pygments_lexer": "ipython2",
   "version": "2.7.10"
  }
 },
 "nbformat": 4,
 "nbformat_minor": 0
}
