{
 "cells": [
  {
   "cell_type": "markdown",
   "metadata": {},
   "source": [
    "### CONFIGURATION"
   ]
  },
  {
   "cell_type": "code",
   "execution_count": 1,
   "metadata": {
    "collapsed": false
   },
   "outputs": [],
   "source": [
    "import pandas as pd\n",
    "pd.set_option('display.max_columns', 500)\n",
    "pd.set_option('display.width', 1000)\n",
    "import numpy as np\n",
    "import copy\n",
    "import sys\n",
    "import matplotlib.pyplot as plt\n",
    "%matplotlib inline"
   ]
  },
  {
   "cell_type": "code",
   "execution_count": 2,
   "metadata": {
    "collapsed": false
   },
   "outputs": [],
   "source": [
    "# Hartwig imports\n",
    "sys.path.append(\"/Users/peterpriestley/hmf/repos/scripts/analysisscripts\") \n",
    "import analyseVCF as aVCF\n",
    "import venn as vn"
   ]
  },
  {
   "cell_type": "code",
   "execution_count": 3,
   "metadata": {
    "collapsed": true
   },
   "outputs": [],
   "source": [
    "#CHROM SLICING\n",
    "minChromFrac = 0\n",
    "maxChromFrac = 26"
   ]
  },
  {
   "cell_type": "code",
   "execution_count": 28,
   "metadata": {
    "collapsed": false
   },
   "outputs": [],
   "source": [
    "# BED FILE\n",
    "BED_PATH = \"/Users/peterpriestley/hmf/analyses/giabTruthsets/70-30mixin/\"\n",
    "BED_FILE_NAME = \"na12878-na24385-somatic-truth-regionsSORTED.bed\"\n",
    "\n",
    "# TRUTH SET\n",
    "SAMPLE_NAMES_TRUTH = {'NA12878':'truth'}\n",
    "VCF_PATH_TRUTH = \"/Users/peterpriestley/hmf/analyses/giabTruthsets/70-30mixin/\"\n",
    "VCF_FILE_NAME_TRUTH = \"na12878-na24385-somatic-truth.vcf\"\n",
    "\n",
    "# COMBINED VCF CONFIG\n",
    "VCF_SAMPLE = \"CPCT11111111\"\n",
    "VCF_PATH = \"/Users/peterpriestley/hmf/analyses/70-30sample/170123_freebayes_normalisation/\"\n",
    "VCF_FILE_NAME = VCF_SAMPLE + \"R_\"+ VCF_SAMPLE + \"T_merged_somatics.vcf\"#_somatic_filtered.vcf\"#\n",
    "#VCF_FILE_NAME = VCF_SAMPLE + \"R_\"+ VCF_SAMPLE + \"T_melted.vcf\"#_somatic_filtered.vcf\"#\n",
    "SAMPLE_NAMES = {VCF_SAMPLE + 'T.mutect':'mutect', VCF_SAMPLE + 'T.freebayes':'freebayes', \\\n",
    "                'TUMOR.strelka':'strelka', 'TUMOR.varscan':'varscan'}\n",
    "#SAMPLE_NAMES = {VCF_SAMPLE + 'T':'melted'}"
   ]
  },
  {
   "cell_type": "markdown",
   "metadata": {},
   "source": [
    "### Functions"
   ]
  },
  {
   "cell_type": "code",
   "execution_count": 6,
   "metadata": {
    "collapsed": true
   },
   "outputs": [],
   "source": [
    "def filterByChromFrac(df):\n",
    "    return df[(df.chromFrac > minChromFrac)&(df.chromFrac < maxChromFrac)]"
   ]
  },
  {
   "cell_type": "code",
   "execution_count": 7,
   "metadata": {
    "collapsed": false
   },
   "outputs": [],
   "source": [
    "def calculateTruth(df,dfTruth):\n",
    "    df = pd.merge(df,dfTruth,how='left', left_index=True,right_index=True,suffixes=('', '_Truth'))\n",
    "    df['hasTP'] = False\n",
    "    df['hasFP'] = False\n",
    "    for columnName in list(df):\n",
    "        if columnName.endswith('allele') and not columnName.startswith('truth'):\n",
    "            df['hasTP'] = (df['hasTP']) | ((df[columnName[:-6]+'indelDiff'] == df['truthindelDiff']) \\\n",
    "                    & (~pd.isnull(df['truthindelDiff']) & (df['variantType'] == 'INDEL'))) |((df[columnName] == df['truthallele']) \\\n",
    "                    & (df['variantType'] == 'SNP'))\n",
    "            df['hasFP'] = (df['hasFP']) | ((df[columnName[:-6]+'indelDiff'] != df['truthindelDiff']) \\\n",
    "                    & (df['variantType'] == 'INDEL') & (df[columnName[:-6]+'indelDiff'] != '')& (~pd.isnull(df['truthallele']))) |((df[columnName] != df['truthallele']) \\\n",
    "                    & (df['variantType'] == 'SNP') & (df[columnName] != '')& (~pd.isnull(df['truthallele'])))\n",
    "    df['Truth'] = (df['hasTP']) &  (df['hasFP'] == False)\n",
    "    return df"
   ]
  },
  {
   "cell_type": "code",
   "execution_count": 8,
   "metadata": {
    "collapsed": true
   },
   "outputs": [],
   "source": [
    "def calcuatePrecisionSensivityMatrix(df):\n",
    "    outputdata = []\n",
    "    for columnName in list(df):\n",
    "        if columnName.endswith('allele') & ~columnName.endswith('truthallele'):\n",
    "            myCaller = columnName[:-6]\n",
    "            variantTypes = df[(df[myCaller+'allele'] != '')].variantType.unique()\n",
    "            for variantType in variantTypes:\n",
    "                truePositives = len(df[(df[myCaller+'allele'] != '') & (df['Truth'] == True) &(df['variantType'] == variantType)])\n",
    "                positives = len(df[(df[myCaller+'allele'] != '')&(df['variantType'] == variantType)])\n",
    "                truthSet = len(dfTruth[dfTruth['variantType'] == variantType]) \n",
    "                falseNegatives = truthSet - truePositives\n",
    "                if positives > 0 and truthSet > 0:\n",
    "                    outputdata.append([variantType, myCaller, truthSet,truePositives,positives-truePositives, falseNegatives, \\\n",
    "                                   round(truePositives/float(positives),4),round(truePositives/float(truthSet),4)])\n",
    "    \n",
    "    outputDF = pd.DataFrame(outputdata)\n",
    "    outputDF.columns = (['variantType','caller','truthSet','truePositives','falsePositives','falseNegatives','precision','sensitivity'])\n",
    "    return outputDF.sort_values(['variantType','caller'])"
   ]
  },
  {
   "cell_type": "markdown",
   "metadata": {},
   "source": [
    "<h3> Load VCFs and Prepare DF"
   ]
  },
  {
   "cell_type": "code",
   "execution_count": 9,
   "metadata": {
    "collapsed": false
   },
   "outputs": [
    {
     "name": "stdout",
     "output_type": "stream",
     "text": [
      "reading vcf file: na12878-na24385-somatic-truth.vcf\n",
      "reading VCF File line: 1\n",
      "reading VCF File line: 200001\n",
      "reading VCF File line: 400001\n",
      "reading VCF File line: 600001\n",
      "reading VCF File line: 800001\n",
      "reading VCF File line: 1000001\n",
      "Number variants loaded: 1104460\n"
     ]
    }
   ],
   "source": [
    "## LOAD TRUTH SET VCF\n",
    "bed = aVCF.loadBEDFile(BED_PATH,BED_FILE_NAME)\n",
    "dfTruth = aVCF.loadVariantsFromVCF(VCF_PATH_TRUTH,VCF_FILE_NAME_TRUTH, \\\n",
    "                                   SAMPLE_NAMES_TRUTH,\"Mix-in Truth Set\",True,True,bed)\n",
    "dfTruth = filterByChromFrac(dfTruth)\n",
    "dfTruth = dfTruth[['chrom','pos','variantType','ref','truthallele','truthindelDiff','bedRegion']]\n",
    "dfTruth = dfTruth.set_index(['chrom','pos'])"
   ]
  },
  {
   "cell_type": "code",
   "execution_count": 29,
   "metadata": {
    "collapsed": false
   },
   "outputs": [
    {
     "name": "stdout",
     "output_type": "stream",
     "text": [
      "reading vcf file: CPCT11111111R_CPCT11111111T_merged_somatics.vcf\n",
      "reading VCF File line: 1\n",
      "reading VCF File line: 200001\n",
      "reading VCF File line: 400001\n",
      "reading VCF File line: 600001\n",
      "reading VCF File line: 800001\n",
      "reading VCF File line: 1000001\n",
      "reading VCF File line: 1200001\n",
      "reading VCF File line: 1400001\n",
      "Number variants loaded: 1082514\n"
     ]
    }
   ],
   "source": [
    "# LOAD SAMPLE VCF + match to truth set\n",
    "bed = aVCF.loadBEDFile(BED_PATH,BED_FILE_NAME)\n",
    "dfProd = aVCF.loadVariantsFromVCF(VCF_PATH,VCF_FILE_NAME,SAMPLE_NAMES,VCF_SAMPLE,True,True,bed)\n",
    "dfProd = filterByChromFrac(dfProd)\n",
    "dfProd = dfProd.set_index(['chrom','pos'])\n",
    "dfProd = calculateTruth(dfProd,dfTruth)"
   ]
  },
  {
   "cell_type": "markdown",
   "metadata": {},
   "source": [
    "### PRECISION + SENSITIVITY|"
   ]
  },
  {
   "cell_type": "code",
   "execution_count": 30,
   "metadata": {
    "collapsed": false,
    "scrolled": true
   },
   "outputs": [
    {
     "data": {
      "text/html": [
       "<div>\n",
       "<table border=\"1\" class=\"dataframe\">\n",
       "  <thead>\n",
       "    <tr style=\"text-align: right;\">\n",
       "      <th></th>\n",
       "      <th>variantType</th>\n",
       "      <th>caller</th>\n",
       "      <th>truthSet</th>\n",
       "      <th>truePositives</th>\n",
       "      <th>falsePositives</th>\n",
       "      <th>falseNegatives</th>\n",
       "      <th>precision</th>\n",
       "      <th>sensitivity</th>\n",
       "    </tr>\n",
       "  </thead>\n",
       "  <tbody>\n",
       "    <tr>\n",
       "      <th>6</th>\n",
       "      <td>INDEL</td>\n",
       "      <td>freebayes</td>\n",
       "      <td>96616</td>\n",
       "      <td>64521</td>\n",
       "      <td>3113</td>\n",
       "      <td>32095</td>\n",
       "      <td>0.9540</td>\n",
       "      <td>0.6678</td>\n",
       "    </tr>\n",
       "    <tr>\n",
       "      <th>1</th>\n",
       "      <td>INDEL</td>\n",
       "      <td>strelka</td>\n",
       "      <td>96616</td>\n",
       "      <td>48003</td>\n",
       "      <td>669</td>\n",
       "      <td>48613</td>\n",
       "      <td>0.9863</td>\n",
       "      <td>0.4968</td>\n",
       "    </tr>\n",
       "    <tr>\n",
       "      <th>3</th>\n",
       "      <td>INDEL</td>\n",
       "      <td>varscan</td>\n",
       "      <td>96616</td>\n",
       "      <td>62993</td>\n",
       "      <td>1207</td>\n",
       "      <td>33623</td>\n",
       "      <td>0.9812</td>\n",
       "      <td>0.6520</td>\n",
       "    </tr>\n",
       "    <tr>\n",
       "      <th>5</th>\n",
       "      <td>SNP</td>\n",
       "      <td>freebayes</td>\n",
       "      <td>1007844</td>\n",
       "      <td>936784</td>\n",
       "      <td>1015</td>\n",
       "      <td>71060</td>\n",
       "      <td>0.9989</td>\n",
       "      <td>0.9295</td>\n",
       "    </tr>\n",
       "    <tr>\n",
       "      <th>4</th>\n",
       "      <td>SNP</td>\n",
       "      <td>mutect</td>\n",
       "      <td>1007844</td>\n",
       "      <td>931973</td>\n",
       "      <td>5948</td>\n",
       "      <td>75871</td>\n",
       "      <td>0.9937</td>\n",
       "      <td>0.9247</td>\n",
       "    </tr>\n",
       "    <tr>\n",
       "      <th>0</th>\n",
       "      <td>SNP</td>\n",
       "      <td>strelka</td>\n",
       "      <td>1007844</td>\n",
       "      <td>941410</td>\n",
       "      <td>3525</td>\n",
       "      <td>66434</td>\n",
       "      <td>0.9963</td>\n",
       "      <td>0.9341</td>\n",
       "    </tr>\n",
       "    <tr>\n",
       "      <th>2</th>\n",
       "      <td>SNP</td>\n",
       "      <td>varscan</td>\n",
       "      <td>1007844</td>\n",
       "      <td>899598</td>\n",
       "      <td>832</td>\n",
       "      <td>108246</td>\n",
       "      <td>0.9991</td>\n",
       "      <td>0.8926</td>\n",
       "    </tr>\n",
       "  </tbody>\n",
       "</table>\n",
       "</div>"
      ],
      "text/plain": [
       "  variantType     caller  truthSet  truePositives  falsePositives  falseNegatives  precision  sensitivity\n",
       "6       INDEL  freebayes     96616          64521            3113           32095     0.9540       0.6678\n",
       "1       INDEL    strelka     96616          48003             669           48613     0.9863       0.4968\n",
       "3       INDEL    varscan     96616          62993            1207           33623     0.9812       0.6520\n",
       "5         SNP  freebayes   1007844         936784            1015           71060     0.9989       0.9295\n",
       "4         SNP     mutect   1007844         931973            5948           75871     0.9937       0.9247\n",
       "0         SNP    strelka   1007844         941410            3525           66434     0.9963       0.9341\n",
       "2         SNP    varscan   1007844         899598             832          108246     0.9991       0.8926"
      ]
     },
     "execution_count": 30,
     "metadata": {},
     "output_type": "execute_result"
    }
   ],
   "source": [
    "outputDF = calcuatePrecisionSensivityMatrix(dfProd)\n",
    "outputDF"
   ]
  },
  {
   "cell_type": "code",
   "execution_count": 31,
   "metadata": {
    "collapsed": false
   },
   "outputs": [
    {
     "data": {
      "text/html": [
       "<div>\n",
       "<table border=\"1\" class=\"dataframe\">\n",
       "  <thead>\n",
       "    <tr>\n",
       "      <th>variantType</th>\n",
       "      <th colspan=\"2\" halign=\"left\">INDEL</th>\n",
       "      <th colspan=\"2\" halign=\"left\">SNP</th>\n",
       "    </tr>\n",
       "    <tr>\n",
       "      <th>Truth</th>\n",
       "      <th>False</th>\n",
       "      <th>True</th>\n",
       "      <th>False</th>\n",
       "      <th>True</th>\n",
       "    </tr>\n",
       "    <tr>\n",
       "      <th>filter</th>\n",
       "      <th></th>\n",
       "      <th></th>\n",
       "      <th></th>\n",
       "      <th></th>\n",
       "    </tr>\n",
       "  </thead>\n",
       "  <tbody>\n",
       "    <tr>\n",
       "      <th>.</th>\n",
       "      <td>349</td>\n",
       "      <td>3790</td>\n",
       "      <td>12010</td>\n",
       "      <td>5917</td>\n",
       "    </tr>\n",
       "    <tr>\n",
       "      <th>PASS</th>\n",
       "      <td>744</td>\n",
       "      <td>72247</td>\n",
       "      <td>5293</td>\n",
       "      <td>990258</td>\n",
       "    </tr>\n",
       "  </tbody>\n",
       "</table>\n",
       "</div>"
      ],
      "text/plain": [
       "variantType INDEL           SNP        \n",
       "Truth       False  True   False   True \n",
       "filter                                 \n",
       ".             349   3790  12010    5917\n",
       "PASS          744  72247   5293  990258"
      ]
     },
     "execution_count": 31,
     "metadata": {},
     "output_type": "execute_result"
    }
   ],
   "source": [
    "#dftemp2 = dfProd.reset_index()\n",
    "pd.pivot_table(dftemp2, values='pos', index=['filter'], columns=['variantType','Truth'], aggfunc='count')"
   ]
  },
  {
   "cell_type": "code",
   "execution_count": 32,
   "metadata": {
    "collapsed": false
   },
   "outputs": [
    {
     "data": {
      "text/html": [
       "<div>\n",
       "<table border=\"1\" class=\"dataframe\">\n",
       "  <thead>\n",
       "    <tr>\n",
       "      <th></th>\n",
       "      <th>variantType</th>\n",
       "      <th colspan=\"2\" halign=\"left\">INDEL</th>\n",
       "      <th colspan=\"2\" halign=\"left\">SNP</th>\n",
       "    </tr>\n",
       "    <tr>\n",
       "      <th></th>\n",
       "      <th>Truth</th>\n",
       "      <th>False</th>\n",
       "      <th>True</th>\n",
       "      <th>False</th>\n",
       "      <th>True</th>\n",
       "    </tr>\n",
       "    <tr>\n",
       "      <th>consensus</th>\n",
       "      <th>inDBSNP</th>\n",
       "      <th></th>\n",
       "      <th></th>\n",
       "      <th></th>\n",
       "      <th></th>\n",
       "    </tr>\n",
       "  </thead>\n",
       "  <tbody>\n",
       "    <tr>\n",
       "      <th rowspan=\"2\" valign=\"top\">False</th>\n",
       "      <th>False</th>\n",
       "      <td>836.0</td>\n",
       "      <td>8907.0</td>\n",
       "      <td>15514.0</td>\n",
       "      <td>9956.0</td>\n",
       "    </tr>\n",
       "    <tr>\n",
       "      <th>True</th>\n",
       "      <td>NaN</td>\n",
       "      <td>NaN</td>\n",
       "      <td>384.0</td>\n",
       "      <td>27194.0</td>\n",
       "    </tr>\n",
       "    <tr>\n",
       "      <th rowspan=\"2\" valign=\"top\">True</th>\n",
       "      <th>False</th>\n",
       "      <td>257.0</td>\n",
       "      <td>67130.0</td>\n",
       "      <td>1362.0</td>\n",
       "      <td>38195.0</td>\n",
       "    </tr>\n",
       "    <tr>\n",
       "      <th>True</th>\n",
       "      <td>NaN</td>\n",
       "      <td>NaN</td>\n",
       "      <td>43.0</td>\n",
       "      <td>920830.0</td>\n",
       "    </tr>\n",
       "  </tbody>\n",
       "</table>\n",
       "</div>"
      ],
      "text/plain": [
       "variantType        INDEL               SNP          \n",
       "Truth              False    True     False     True \n",
       "consensus inDBSNP                                   \n",
       "False     False    836.0   8907.0  15514.0    9956.0\n",
       "          True       NaN      NaN    384.0   27194.0\n",
       "True      False    257.0  67130.0   1362.0   38195.0\n",
       "          True       NaN      NaN     43.0  920830.0"
      ]
     },
     "execution_count": 32,
     "metadata": {},
     "output_type": "execute_result"
    }
   ],
   "source": [
    "pd.pivot_table(dftemp2[(dftemp2.variantType=='INDEL')|(dftemp2.variantType=='SNP')], values='pos', index=['consensus','inDBSNP'], columns=['variantType','Truth'], aggfunc='count')"
   ]
  },
  {
   "cell_type": "code",
   "execution_count": 33,
   "metadata": {
    "collapsed": false
   },
   "outputs": [
    {
     "data": {
      "text/html": [
       "<div>\n",
       "<table border=\"1\" class=\"dataframe\">\n",
       "  <thead>\n",
       "    <tr>\n",
       "      <th>variantType</th>\n",
       "      <th colspan=\"2\" halign=\"left\">INDEL</th>\n",
       "      <th colspan=\"2\" halign=\"left\">SNP</th>\n",
       "    </tr>\n",
       "    <tr>\n",
       "      <th>Truth</th>\n",
       "      <th>False</th>\n",
       "      <th>True</th>\n",
       "      <th>False</th>\n",
       "      <th>True</th>\n",
       "    </tr>\n",
       "    <tr>\n",
       "      <th>numCallers</th>\n",
       "      <th></th>\n",
       "      <th></th>\n",
       "      <th></th>\n",
       "      <th></th>\n",
       "    </tr>\n",
       "  </thead>\n",
       "  <tbody>\n",
       "    <tr>\n",
       "      <th>1</th>\n",
       "      <td>2934.0</td>\n",
       "      <td>12537.0</td>\n",
       "      <td>7478.0</td>\n",
       "      <td>23806.0</td>\n",
       "    </tr>\n",
       "    <tr>\n",
       "      <th>2</th>\n",
       "      <td>417.0</td>\n",
       "      <td>18127.0</td>\n",
       "      <td>1587.0</td>\n",
       "      <td>56727.0</td>\n",
       "    </tr>\n",
       "    <tr>\n",
       "      <th>3</th>\n",
       "      <td>407.0</td>\n",
       "      <td>42242.0</td>\n",
       "      <td>152.0</td>\n",
       "      <td>91683.0</td>\n",
       "    </tr>\n",
       "    <tr>\n",
       "      <th>4</th>\n",
       "      <td>NaN</td>\n",
       "      <td>NaN</td>\n",
       "      <td>53.0</td>\n",
       "      <td>824364.0</td>\n",
       "    </tr>\n",
       "  </tbody>\n",
       "</table>\n",
       "</div>"
      ],
      "text/plain": [
       "variantType   INDEL              SNP          \n",
       "Truth         False    True    False     True \n",
       "numCallers                                    \n",
       "1            2934.0  12537.0  7478.0   23806.0\n",
       "2             417.0  18127.0  1587.0   56727.0\n",
       "3             407.0  42242.0   152.0   91683.0\n",
       "4               NaN      NaN    53.0  824364.0"
      ]
     },
     "execution_count": 33,
     "metadata": {},
     "output_type": "execute_result"
    }
   ],
   "source": [
    "dftemp2 = dfProd.reset_index()\n",
    "pd.pivot_table(dftemp2[(dftemp2.variantType=='INDEL')|(dftemp2.variantType=='SNP')], values='pos', index=['numCallers'], columns=['variantType','Truth'], aggfunc='count')"
   ]
  },
  {
   "cell_type": "markdown",
   "metadata": {},
   "source": [
    "<h3> SNP"
   ]
  },
  {
   "cell_type": "code",
   "execution_count": null,
   "metadata": {
    "collapsed": false
   },
   "outputs": [],
   "source": [
    "snpdf = dfProd[(dfProd.variantType == 'SNP')]"
   ]
  },
  {
   "cell_type": "code",
   "execution_count": null,
   "metadata": {
    "collapsed": false
   },
   "outputs": [],
   "source": [
    "vn.venn([snpdf[snpdf.mutectallele != '']['chromPos'], \\\n",
    "         snpdf[snpdf.strelkaallele != '']['chromPos'], \\\n",
    "        snpdf[snpdf.freebayesallele != '']['chromPos'], \\\n",
    "        snpdf[snpdf.varscanallele != '']['chromPos'] \\\n",
    "        ],['mutect','strelka','freebayes','varscan'],figsize=(6,6))"
   ]
  },
  {
   "cell_type": "markdown",
   "metadata": {},
   "source": [
    "<h3> Allelic Depth"
   ]
  },
  {
   "cell_type": "code",
   "execution_count": null,
   "metadata": {
    "collapsed": false
   },
   "outputs": [],
   "source": [
    "#Alllele Freq By Caller\n",
    "for truth in [True,False]:\n",
    "    ser = dfProd[(dfProd.Truth == truth)&(dfProd['filter']=='QSI_ref')]['strelkaAF']\n",
    "    ser = ser.sort_values()\n",
    "    cum_dist = np.linspace(0.,1.,len(ser))\n",
    "    ser_cdf = pd.Series(cum_dist, index=ser,name=str(truth)+\": c=\"+str(ser.count())+\" m=\"+str(round(ser.median(),2)))\n",
    "    ser_cdf.plot(drawstyle='steps',legend=True,title=\" Allelic Frequency by Caller (AllelicFreq > 0.0)\",figsize=[15,6],xlim=[0,1])"
   ]
  },
  {
   "cell_type": "code",
   "execution_count": null,
   "metadata": {
    "collapsed": false
   },
   "outputs": [],
   "source": [
    "truths = [True,False]\n",
    "for truth in truths:\n",
    "    #Alllele Freq By Caller\n",
    "    for columnName in list(dfProd):\n",
    "        if columnName.endswith('strelkaQS'):\n",
    "            ser = dfProd[(dfProd.Truth == truth)&(dfProd['filter']=='QSI_ref')][columnName]\n",
    "            ser = ser.sort_values()\n",
    "            cum_dist = np.linspace(0.,1.,len(ser))\n",
    "            ser_cdf = pd.Series(cum_dist, index=ser,name=columnName[:-2]+\": c=\"+str(ser.count())+ \" \"+ str(truth) +\" m=\"+str(round(ser.median(),2)))\n",
    "            ser_cdf.plot(drawstyle='steps',legend=True,title=\" Allelic Frequency by Caller (AllelicFreq > 0.0)\",figsize=[15,6],xlim=[0,100],ylim=[0,1])"
   ]
  },
  {
   "cell_type": "markdown",
   "metadata": {
    "collapsed": true
   },
   "source": [
    "### SCRATCH"
   ]
  },
  {
   "cell_type": "code",
   "execution_count": null,
   "metadata": {
    "collapsed": false
   },
   "outputs": [],
   "source": [
    "dfProd[(dfProd.variantType=='INDEL')&(dfProd.Truth==False)&(dfProd.freebayesallele<>'')&(dfProd.chromPos.str.contains('1:'))].head(20)"
   ]
  },
  {
   "cell_type": "code",
   "execution_count": null,
   "metadata": {
    "collapsed": false
   },
   "outputs": [],
   "source": [
    "dftemp[(dftemp.vennSegment.str.contains('mutect'))&(dftemp.Truth==False)].head(200)"
   ]
  },
  {
   "cell_type": "code",
   "execution_count": null,
   "metadata": {
    "collapsed": false
   },
   "outputs": [],
   "source": [
    "pd.set_option('display.max_rows', 500)\n",
    "dftemp[((dftemp.vennSegment.str.contains('mutect'))|(dftemp.vennSegment=='Intersection'))&(dftemp.Truth==True)].head(40)"
   ]
  },
  {
   "cell_type": "code",
   "execution_count": null,
   "metadata": {
    "collapsed": false
   },
   "outputs": [],
   "source": [
    "dftemp2[((dftemp2.vennSegment.str.contains('mutect'))|(dftemp2.vennSegment=='Intersection'))&(dftemp2.Truth==True)].head(40)"
   ]
  },
  {
   "cell_type": "code",
   "execution_count": null,
   "metadata": {
    "collapsed": false
   },
   "outputs": [],
   "source": [
    "len(dftemp)"
   ]
  },
  {
   "cell_type": "code",
   "execution_count": null,
   "metadata": {
    "collapsed": false
   },
   "outputs": [],
   "source": [
    "len(dftemp2)"
   ]
  },
  {
   "cell_type": "code",
   "execution_count": null,
   "metadata": {
    "collapsed": true
   },
   "outputs": [],
   "source": []
  }
 ],
 "metadata": {
  "kernelspec": {
   "display_name": "Python 2",
   "language": "python",
   "name": "python2"
  },
  "language_info": {
   "codemirror_mode": {
    "name": "ipython",
    "version": 2
   },
   "file_extension": ".py",
   "mimetype": "text/x-python",
   "name": "python",
   "nbconvert_exporter": "python",
   "pygments_lexer": "ipython2",
   "version": "2.7.10"
  }
 },
 "nbformat": 4,
 "nbformat_minor": 0
}
