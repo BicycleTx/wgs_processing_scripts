{
 "cells": [
  {
   "cell_type": "markdown",
   "metadata": {},
   "source": [
    "### CONFIGURATION"
   ]
  },
  {
   "cell_type": "code",
   "execution_count": 1,
   "metadata": {
    "collapsed": false
   },
   "outputs": [],
   "source": [
    "import pandas as pd\n",
    "pd.set_option('display.max_columns', 500)\n",
    "pd.set_option('display.width', 1000)\n",
    "import numpy as np\n",
    "import copy\n",
    "import sys\n",
    "import matplotlib.pyplot as plt\n",
    "%matplotlib inline"
   ]
  },
  {
   "cell_type": "code",
   "execution_count": 2,
   "metadata": {
    "collapsed": false
   },
   "outputs": [],
   "source": [
    "# Hartwig imports\n",
    "sys.path.append(\"/Users/peterpriestley/hmf/repos/scripts/analysisscripts\") \n",
    "import analyseVCF as aVCF\n",
    "import venn as vn"
   ]
  },
  {
   "cell_type": "code",
   "execution_count": 3,
   "metadata": {
    "collapsed": true
   },
   "outputs": [],
   "source": [
    "#CHROM SLICING\n",
    "minChromFrac = 0#17.443476\n",
    "maxChromFrac = 26#17.491846\n",
    "\n",
    "#minChromFrac = 17.689695\n",
    "#maxChromFrac = 17.73896"
   ]
  },
  {
   "cell_type": "code",
   "execution_count": 13,
   "metadata": {
    "collapsed": false
   },
   "outputs": [],
   "source": [
    "# BED FILE\n",
    "BED_PATH = \"/Users/peterpriestley/hmf/analyses/70-30sample/truthSetNew/\"\n",
    "BED_FILE_NAME = \"na12878-na24385-somatic-truth-regions.bed\"\n",
    "#GIAB_ID = \"NA12878\"\n",
    "#BED_PATH = \"/Users/peterpriestley/hmf/analyses/giabTruthsets/\"\n",
    "#BED_FILE_NAME = \"NA12878_GIAB_highconf_IllFB-IllGATKHC-CG-Ion-Solid_ALLCHROM_v3.2.2_highconf.bed\"\n",
    "\n",
    "# TRUTH SET\n",
    "SAMPLE_NAMES_TRUTH = {'NA12878':'70-30truth'}\n",
    "VCF_PATH_TRUTH = \"/Users/peterpriestley/hmf/analyses/70-30sample/truthSetNew/\"\n",
    "VCF_FILE_NAME_TRUTH = \"na12878-na24385-somatic-truth.vcf\"\n",
    "#SAMPLE_NAMES_TRUTH = {'INTEGRATION':'70-30truth'}\n",
    "#VCF_PATH_TRUTH = BED_PATH\n",
    "#VCF_FILE_NAME_TRUTH = \"NA12878_GIAB_highconf_IllFB-IllGATKHC-CG-Ion-Solid_ALLCHROM_v3.2.2_highconf.vcf\"\n",
    "\n",
    "\n",
    "# COMBINED VCF CONFIG\n",
    "VCF_SAMPLE = \"CPCT11111111\"\n",
    "VCF_PATH = \"/Users/peterpriestley/hmf/analyses/70-30sample/161013decoysOnlyRun/\"\n",
    "VCF_FILE_NAME = VCF_SAMPLE + \"R_\"+ VCF_SAMPLE + \"T_merged_somatics_snpEff_dbSNP_Cosmicv76.vcf\"\n",
    "SAMPLE_NAMES = {'TUMOR':'varscan'}\n",
    "SAMPLE_NAMES = {VCF_SAMPLE + 'T.mutect':'mutect', \\\n",
    "                VCF_SAMPLE + 'T.freebayes':'freebayes', \\\n",
    "                'TUMOR.strelka':'strelka', \\\n",
    "                'TUMOR.varscan':'varscan'}\n",
    "\n",
    "#VCF_SAMPLE = GIAB_ID\n",
    "#VCF_SAMPLE = \"12878T\"\n",
    "\n",
    "#VCF_PATH = \"/Users/peterpriestley/hmf/analyses/precisionFDA/\"\n",
    "#VCF_FILE_NAME = \"160922_GIABDIFF_NA12878_NA12878_NA12878.filtered_variants.vcf\"\n",
    "#VCF_FILE_NAME = \"GIABanalysis09-prep1A.filtered_variants.vcf\"\n",
    "#SAMPLE_NAMES = {VCF_SAMPLE:VCF_SAMPLE}"
   ]
  },
  {
   "cell_type": "markdown",
   "metadata": {},
   "source": [
    "### Functions"
   ]
  },
  {
   "cell_type": "code",
   "execution_count": 6,
   "metadata": {
    "collapsed": true
   },
   "outputs": [],
   "source": [
    "def filterByChromFrac(df):\n",
    "    return df[(df.chromFrac > minChromFrac)&(df.chromFrac < maxChromFrac)]"
   ]
  },
  {
   "cell_type": "code",
   "execution_count": 7,
   "metadata": {
    "collapsed": false
   },
   "outputs": [],
   "source": [
    "def calculateTruth(df,dfTruth):\n",
    "    df = pd.merge(df,dfTruth,how='left', left_index=True,right_index=True,suffixes=('', '_Truth'))\n",
    "    df['hasTP'] = False\n",
    "    df['hasFP'] = False\n",
    "    for columnName in list(df):\n",
    "        if columnName.endswith('allele'):\n",
    "            df['hasTP'] = (df['hasTP']) | ((df[columnName[:-6]+'indelDiff'] == df['truth_indelDiff']) \\\n",
    "                    & (~pd.isnull(df['truth_indelDiff']) & (df['variantType'] == 'INDEL'))) |((df[columnName] == df['truth_allele']) \\\n",
    "                    & (df['variantType'] == 'SNP'))\n",
    "            df['hasFP'] = (df['hasFP']) | ((df[columnName[:-6]+'indelDiff'] != df['truth_indelDiff']) \\\n",
    "                    & (df['variantType'] == 'INDEL') & (df[columnName[:-6]+'indelDiff'] != '')) |((df[columnName] != df['truth_allele']) \\\n",
    "                    & (df['variantType'] == 'SNP') & (df[columnName] != ''))\n",
    "    df['Truth'] = (df['hasTP']) &  (df['hasFP'] == False)\n",
    "    return df"
   ]
  },
  {
   "cell_type": "code",
   "execution_count": 8,
   "metadata": {
    "collapsed": true
   },
   "outputs": [],
   "source": [
    "def calcuatePrecisionSensivityMatrix(df):\n",
    "    outputdata = []\n",
    "    for columnName in list(df):\n",
    "        if columnName.endswith('allele') & ~columnName.endswith('_allele'):\n",
    "            myCaller = columnName[:-6]\n",
    "            variantTypes = df[(df[myCaller+'allele'] != '')].variantType.unique()\n",
    "            for variantType in variantTypes:\n",
    "                truePositives = len(df[(df[myCaller+'allele'] != '') & (df['Truth'] == True) &(df['variantType'] == variantType)])\n",
    "                positives = len(df[(df[myCaller+'allele'] != '')&(df['variantType'] == variantType)])\n",
    "                truthSet = len(dfTruth[dfTruth['variantType'] == variantType]) \n",
    "                falseNegatives = truthSet - truePositives\n",
    "                if positives > 0:\n",
    "                    outputdata.append([variantType, myCaller, truthSet,truePositives,positives-truePositives, falseNegatives, \\\n",
    "                                   round(truePositives/float(positives),4),round(truePositives/float(truthSet),4)])\n",
    "    \n",
    "    outputDF = pd.DataFrame(outputdata)\n",
    "    outputDF.columns = (['variantType','caller','truthSet','truePositives','falsePositives','falseNegatives','precision','sensitivity'])\n",
    "    return outputDF.sort_values(['variantType','caller'])"
   ]
  },
  {
   "cell_type": "markdown",
   "metadata": {},
   "source": [
    "<h3> Load VCFs and Prepare DF"
   ]
  },
  {
   "cell_type": "code",
   "execution_count": 9,
   "metadata": {
    "collapsed": false
   },
   "outputs": [
    {
     "name": "stdout",
     "output_type": "stream",
     "text": [
      "reading BED file\n",
      "Bed File Loaded\n",
      "2333895411\n"
     ]
    }
   ],
   "source": [
    "## LOAD BED\n",
    "bed = aVCF.loadBEDFile(BED_PATH,BED_FILE_NAME)\n",
    "cum_sum =0\n",
    "for row in bed:\n",
    "    cum_sum += -int(row[1]) + int(row[2])\n",
    "print cum_sum"
   ]
  },
  {
   "cell_type": "code",
   "execution_count": 10,
   "metadata": {
    "collapsed": false
   },
   "outputs": [
    {
     "name": "stdout",
     "output_type": "stream",
     "text": [
      "reading vcf file: na12878-na24385-somatic-truth.vcf\n",
      "reading VCF File line: 100000\n",
      "reading VCF File line: 200000\n",
      "reading VCF File line: 300000\n",
      "reading VCF File line: 400000\n",
      "reading VCF File line: 500000\n",
      "reading VCF File line: 600000\n",
      "reading VCF File line: 700000\n",
      "reading VCF File line: 800000\n",
      "reading VCF File line: 900000\n",
      "reading VCF File line: 1000000\n",
      "reading VCF File line: 1100000\n",
      "Number variants loaded: 1101868\n"
     ]
    }
   ],
   "source": [
    "## LOAD TRUTH SET VCF\n",
    "truthBed = copy.deepcopy(bed)\n",
    "dfTruth = aVCF.loadVaraintsFromVCF(VCF_PATH_TRUTH,VCF_FILE_NAME_TRUTH, \\\n",
    "                                   SAMPLE_NAMES_TRUTH,\"Mix-in Truth Set\",True,True,truthBed)\n",
    "dfTruth = filterByChromFrac(dfTruth)\n",
    "dfTruth.rename(columns={'70-30truthallele':'truth_allele','70-30truthindelDiff':'truth_indelDiff','70-30truthindelPos':'truth_indelPos'}, inplace=True)\n",
    "dfTruth = dfTruth[['chrom','pos','variantType','ref','truth_allele','truth_indelDiff','truth_indelPos']]\n",
    "dfTruth = dfTruth.set_index(['chrom','pos'])"
   ]
  },
  {
   "cell_type": "code",
   "execution_count": 14,
   "metadata": {
    "collapsed": false
   },
   "outputs": [
    {
     "name": "stdout",
     "output_type": "stream",
     "text": [
      "reading vcf file: CPCT11111111R_CPCT11111111T_merged_somatics_snpEff_dbSNP_Cosmicv76.vcf\n",
      "reading VCF File line: 100000\n",
      "reading VCF File line: 200000\n",
      "reading VCF File line: 300000\n",
      "reading VCF File line: 400000\n",
      "reading VCF File line: 500000\n",
      "reading VCF File line: 600000\n",
      "reading VCF File line: 700000\n",
      "reading VCF File line: 800000\n",
      "reading VCF File line: 900000\n",
      "reading VCF File line: 1000000\n",
      "reading VCF File line: 1100000\n",
      "reading VCF File line: 1200000\n",
      "reading VCF File line: 1300000\n",
      "reading VCF File line: 1400000\n",
      "Number variants loaded: 1077641\n"
     ]
    }
   ],
   "source": [
    "# LOAD SAMPLE VCF + match to truth set\n",
    "sampleBed = copy.deepcopy(bed)\n",
    "dfProd = aVCF.loadVaraintsFromVCF(VCF_PATH,VCF_FILE_NAME,SAMPLE_NAMES,VCF_SAMPLE,False,True,sampleBed)\n",
    "dfProd = filterByChromFrac(dfProd)\n",
    "dfProd = dfProd.set_index(['chrom','pos'])\n",
    "dfProd = calculateTruth(dfProd,dfTruth)"
   ]
  },
  {
   "cell_type": "code",
   "execution_count": null,
   "metadata": {
    "collapsed": false
   },
   "outputs": [],
   "source": [
    "#len(dfProd[(dfProd['variantType']== \"SNP\")&(dfProd['Truth']== True) &(dfProd['Set1GIAB12878QS']<34)&(dfProd['filter']=='MappingQuality')])\n"
   ]
  },
  {
   "cell_type": "code",
   "execution_count": null,
   "metadata": {
    "collapsed": false
   },
   "outputs": [],
   "source": [
    "#len(dfProd[(dfProd['Truth']== True) &(dfProd['filter'].str.contains(\"VarMapQual|RefMapQual|VarDist3|VarAvgRL|VarBaseQual|RefBaseQual|VarReadPos\"))])"
   ]
  },
  {
   "cell_type": "code",
   "execution_count": null,
   "metadata": {
    "collapsed": false
   },
   "outputs": [],
   "source": [
    "#dfProd[(dfProd['filter']!= \"PASS\")].head(10)"
   ]
  },
  {
   "cell_type": "code",
   "execution_count": null,
   "metadata": {
    "collapsed": false
   },
   "outputs": [],
   "source": [
    "#len(dfProd[(dfProd['Truth']== False) & (dfProd['variantType']== \"SNP\")])"
   ]
  },
  {
   "cell_type": "code",
   "execution_count": null,
   "metadata": {
    "collapsed": false
   },
   "outputs": [],
   "source": [
    "#dfTemp = dfProd[((dfProd['filter']== \"PASS\")|(dfProd['filter']== \"SnpCluster\")|(dfProd['filter']== \"MappingQuality\"))&(dfProd.variantType == 'INDEL')&(dfProd['Truth']== False)&(dfProd['hasTP']== True)]"
   ]
  },
  {
   "cell_type": "markdown",
   "metadata": {},
   "source": [
    "<h3> SLICE ANALYSIS"
   ]
  },
  {
   "cell_type": "code",
   "execution_count": null,
   "metadata": {
    "collapsed": true
   },
   "outputs": [],
   "source": [
    "# SLICE SETTINGS\n",
    "#SLICE_VCF_PATH = \"/Users/peterpriestley/hmf/70-30slice/\"\n",
    "#SLICE_VCF_FILE_NAME = \"somatics.merged.vcf\"\n",
    "#SLICE_SAMPLE_NAMES = SAMPLE_NAMES "
   ]
  },
  {
   "cell_type": "code",
   "execution_count": null,
   "metadata": {
    "collapsed": true
   },
   "outputs": [],
   "source": [
    "#sliceBed = copy.deepcopy(bed)"
   ]
  },
  {
   "cell_type": "code",
   "execution_count": null,
   "metadata": {
    "collapsed": false
   },
   "outputs": [],
   "source": [
    "#dfSlice = aVCF.loadVaraintsFromVCF(SLICE_VCF_PATH,SLICE_VCF_FILE_NAME,SLICE_SAMPLE_NAMES,VCF_SAMPLE,True,True,sliceBed)\n",
    "#dfSlice = filterByChromFrac(dfSlice)\n",
    "#dfSlice = dfSlice.set_index(['chrom','pos'])\n",
    "#dfSlice = calculateTruth(dfSlice,dfTruth)"
   ]
  },
  {
   "cell_type": "code",
   "execution_count": null,
   "metadata": {
    "collapsed": false
   },
   "outputs": [],
   "source": [
    "#dfSlice[(dfSlice['Truth']== False)].head(10)"
   ]
  },
  {
   "cell_type": "markdown",
   "metadata": {},
   "source": [
    "### PRECISION + SENSITIVITY|"
   ]
  },
  {
   "cell_type": "code",
   "execution_count": 15,
   "metadata": {
    "collapsed": false
   },
   "outputs": [
    {
     "data": {
      "text/html": [
       "<div>\n",
       "<table border=\"1\" class=\"dataframe\">\n",
       "  <thead>\n",
       "    <tr style=\"text-align: right;\">\n",
       "      <th></th>\n",
       "      <th>variantType</th>\n",
       "      <th>caller</th>\n",
       "      <th>truthSet</th>\n",
       "      <th>truePositives</th>\n",
       "      <th>falsePositives</th>\n",
       "      <th>falseNegatives</th>\n",
       "      <th>precision</th>\n",
       "      <th>sensitivity</th>\n",
       "    </tr>\n",
       "  </thead>\n",
       "  <tbody>\n",
       "    <tr>\n",
       "      <th>6</th>\n",
       "      <td>INDEL</td>\n",
       "      <td>freebayes</td>\n",
       "      <td>96385</td>\n",
       "      <td>64381</td>\n",
       "      <td>539</td>\n",
       "      <td>32004</td>\n",
       "      <td>0.9917</td>\n",
       "      <td>0.6680</td>\n",
       "    </tr>\n",
       "    <tr>\n",
       "      <th>1</th>\n",
       "      <td>INDEL</td>\n",
       "      <td>strelka</td>\n",
       "      <td>96385</td>\n",
       "      <td>48290</td>\n",
       "      <td>275</td>\n",
       "      <td>48095</td>\n",
       "      <td>0.9943</td>\n",
       "      <td>0.5010</td>\n",
       "    </tr>\n",
       "    <tr>\n",
       "      <th>3</th>\n",
       "      <td>INDEL</td>\n",
       "      <td>varscan</td>\n",
       "      <td>96385</td>\n",
       "      <td>63756</td>\n",
       "      <td>633</td>\n",
       "      <td>32629</td>\n",
       "      <td>0.9902</td>\n",
       "      <td>0.6615</td>\n",
       "    </tr>\n",
       "    <tr>\n",
       "      <th>5</th>\n",
       "      <td>SNP</td>\n",
       "      <td>freebayes</td>\n",
       "      <td>1005483</td>\n",
       "      <td>933778</td>\n",
       "      <td>916</td>\n",
       "      <td>71705</td>\n",
       "      <td>0.9990</td>\n",
       "      <td>0.9287</td>\n",
       "    </tr>\n",
       "    <tr>\n",
       "      <th>4</th>\n",
       "      <td>SNP</td>\n",
       "      <td>mutect</td>\n",
       "      <td>1005483</td>\n",
       "      <td>930684</td>\n",
       "      <td>5735</td>\n",
       "      <td>74799</td>\n",
       "      <td>0.9939</td>\n",
       "      <td>0.9256</td>\n",
       "    </tr>\n",
       "    <tr>\n",
       "      <th>0</th>\n",
       "      <td>SNP</td>\n",
       "      <td>strelka</td>\n",
       "      <td>1005483</td>\n",
       "      <td>939492</td>\n",
       "      <td>3360</td>\n",
       "      <td>65991</td>\n",
       "      <td>0.9964</td>\n",
       "      <td>0.9344</td>\n",
       "    </tr>\n",
       "    <tr>\n",
       "      <th>2</th>\n",
       "      <td>SNP</td>\n",
       "      <td>varscan</td>\n",
       "      <td>1005483</td>\n",
       "      <td>900857</td>\n",
       "      <td>1112</td>\n",
       "      <td>104626</td>\n",
       "      <td>0.9988</td>\n",
       "      <td>0.8959</td>\n",
       "    </tr>\n",
       "  </tbody>\n",
       "</table>\n",
       "</div>"
      ],
      "text/plain": [
       "  variantType     caller  truthSet  truePositives  falsePositives  falseNegatives  precision  sensitivity\n",
       "6       INDEL  freebayes     96385          64381             539           32004     0.9917       0.6680\n",
       "1       INDEL    strelka     96385          48290             275           48095     0.9943       0.5010\n",
       "3       INDEL    varscan     96385          63756             633           32629     0.9902       0.6615\n",
       "5         SNP  freebayes   1005483         933778             916           71705     0.9990       0.9287\n",
       "4         SNP     mutect   1005483         930684            5735           74799     0.9939       0.9256\n",
       "0         SNP    strelka   1005483         939492            3360           65991     0.9964       0.9344\n",
       "2         SNP    varscan   1005483         900857            1112          104626     0.9988       0.8959"
      ]
     },
     "execution_count": 15,
     "metadata": {},
     "output_type": "execute_result"
    }
   ],
   "source": [
    "#PRECISION + SENSITIVITY by caller - PROD\n",
    "outputDF = calcuatePrecisionSensivityMatrix(dfProd)\n",
    "outputDF"
   ]
  },
  {
   "cell_type": "code",
   "execution_count": 16,
   "metadata": {
    "collapsed": false
   },
   "outputs": [
    {
     "data": {
      "text/html": [
       "<div>\n",
       "<table border=\"1\" class=\"dataframe\">\n",
       "  <thead>\n",
       "    <tr style=\"text-align: right;\">\n",
       "      <th></th>\n",
       "      <th>variantType</th>\n",
       "      <th>caller</th>\n",
       "      <th>truthSet</th>\n",
       "      <th>truePositives</th>\n",
       "      <th>falsePositives</th>\n",
       "      <th>falseNegatives</th>\n",
       "      <th>precision</th>\n",
       "      <th>sensitivity</th>\n",
       "    </tr>\n",
       "  </thead>\n",
       "  <tbody>\n",
       "    <tr>\n",
       "      <th>6</th>\n",
       "      <td>INDEL</td>\n",
       "      <td>freebayes</td>\n",
       "      <td>96385</td>\n",
       "      <td>58196</td>\n",
       "      <td>217</td>\n",
       "      <td>38189</td>\n",
       "      <td>0.9963</td>\n",
       "      <td>0.6038</td>\n",
       "    </tr>\n",
       "    <tr>\n",
       "      <th>1</th>\n",
       "      <td>INDEL</td>\n",
       "      <td>strelka</td>\n",
       "      <td>96385</td>\n",
       "      <td>48290</td>\n",
       "      <td>275</td>\n",
       "      <td>48095</td>\n",
       "      <td>0.9943</td>\n",
       "      <td>0.5010</td>\n",
       "    </tr>\n",
       "    <tr>\n",
       "      <th>3</th>\n",
       "      <td>INDEL</td>\n",
       "      <td>varscan</td>\n",
       "      <td>96385</td>\n",
       "      <td>63687</td>\n",
       "      <td>617</td>\n",
       "      <td>32698</td>\n",
       "      <td>0.9904</td>\n",
       "      <td>0.6608</td>\n",
       "    </tr>\n",
       "    <tr>\n",
       "      <th>5</th>\n",
       "      <td>SNP</td>\n",
       "      <td>freebayes</td>\n",
       "      <td>1005483</td>\n",
       "      <td>927531</td>\n",
       "      <td>390</td>\n",
       "      <td>77952</td>\n",
       "      <td>0.9996</td>\n",
       "      <td>0.9225</td>\n",
       "    </tr>\n",
       "    <tr>\n",
       "      <th>4</th>\n",
       "      <td>SNP</td>\n",
       "      <td>mutect</td>\n",
       "      <td>1005483</td>\n",
       "      <td>930684</td>\n",
       "      <td>5735</td>\n",
       "      <td>74799</td>\n",
       "      <td>0.9939</td>\n",
       "      <td>0.9256</td>\n",
       "    </tr>\n",
       "    <tr>\n",
       "      <th>0</th>\n",
       "      <td>SNP</td>\n",
       "      <td>strelka</td>\n",
       "      <td>1005483</td>\n",
       "      <td>939492</td>\n",
       "      <td>3360</td>\n",
       "      <td>65991</td>\n",
       "      <td>0.9964</td>\n",
       "      <td>0.9344</td>\n",
       "    </tr>\n",
       "    <tr>\n",
       "      <th>2</th>\n",
       "      <td>SNP</td>\n",
       "      <td>varscan</td>\n",
       "      <td>1005483</td>\n",
       "      <td>900747</td>\n",
       "      <td>632</td>\n",
       "      <td>104736</td>\n",
       "      <td>0.9993</td>\n",
       "      <td>0.8958</td>\n",
       "    </tr>\n",
       "  </tbody>\n",
       "</table>\n",
       "</div>"
      ],
      "text/plain": [
       "  variantType     caller  truthSet  truePositives  falsePositives  falseNegatives  precision  sensitivity\n",
       "6       INDEL  freebayes     96385          58196             217           38189     0.9963       0.6038\n",
       "1       INDEL    strelka     96385          48290             275           48095     0.9943       0.5010\n",
       "3       INDEL    varscan     96385          63687             617           32698     0.9904       0.6608\n",
       "5         SNP  freebayes   1005483         927531             390           77952     0.9996       0.9225\n",
       "4         SNP     mutect   1005483         930684            5735           74799     0.9939       0.9256\n",
       "0         SNP    strelka   1005483         939492            3360           65991     0.9964       0.9344\n",
       "2         SNP    varscan   1005483         900747             632          104736     0.9993       0.8958"
      ]
     },
     "execution_count": 16,
     "metadata": {},
     "output_type": "execute_result"
    }
   ],
   "source": [
    "dfTemp = dfProd[(dfProd['filter']== \"PASS\")|(dfProd['filter']== \"SnpCluster\")|(dfProd['filter']== \"MappingQuality\")]\n",
    "outputDF = calcuatePrecisionSensivityMatrix(dfTemp)\n",
    "outputDF"
   ]
  },
  {
   "cell_type": "code",
   "execution_count": null,
   "metadata": {
    "collapsed": false
   },
   "outputs": [],
   "source": [
    "dfTemp = dfProd[(dfProd['filter']== \"PASS\")]\n",
    "outputDF = calcuatePrecisionSensivityMatrix(dfTemp)\n",
    "outputDF"
   ]
  },
  {
   "cell_type": "code",
   "execution_count": 24,
   "metadata": {
    "collapsed": false,
    "scrolled": true
   },
   "outputs": [
    {
     "data": {
      "text/html": [
       "<div>\n",
       "<table border=\"1\" class=\"dataframe\">\n",
       "  <thead>\n",
       "    <tr style=\"text-align: right;\">\n",
       "      <th>Truth</th>\n",
       "      <th>False</th>\n",
       "      <th>True</th>\n",
       "    </tr>\n",
       "    <tr>\n",
       "      <th>numCallers</th>\n",
       "      <th></th>\n",
       "      <th></th>\n",
       "    </tr>\n",
       "  </thead>\n",
       "  <tbody>\n",
       "    <tr>\n",
       "      <th>1</th>\n",
       "      <td>933</td>\n",
       "      <td>12549</td>\n",
       "    </tr>\n",
       "    <tr>\n",
       "      <th>2</th>\n",
       "      <td>212</td>\n",
       "      <td>17751</td>\n",
       "    </tr>\n",
       "    <tr>\n",
       "      <th>3</th>\n",
       "      <td>30</td>\n",
       "      <td>42792</td>\n",
       "    </tr>\n",
       "  </tbody>\n",
       "</table>\n",
       "</div>"
      ],
      "text/plain": [
       "Truth       False  True \n",
       "numCallers              \n",
       "1             933  12549\n",
       "2             212  17751\n",
       "3              30  42792"
      ]
     },
     "execution_count": 24,
     "metadata": {},
     "output_type": "execute_result"
    }
   ],
   "source": [
    "dftemp = dfProd[(dfProd['variantType']== \"INDEL\")].reset_index()\n",
    "pd.pivot_table(dftemp, values='pos', index=['numCallers'], columns=['Truth'], aggfunc='count')"
   ]
  },
  {
   "cell_type": "code",
   "execution_count": 17,
   "metadata": {
    "collapsed": false
   },
   "outputs": [
    {
     "data": {
      "text/html": [
       "<div>\n",
       "<table border=\"1\" class=\"dataframe\">\n",
       "  <thead>\n",
       "    <tr style=\"text-align: right;\">\n",
       "      <th>Truth</th>\n",
       "      <th>False</th>\n",
       "      <th>True</th>\n",
       "    </tr>\n",
       "    <tr>\n",
       "      <th>vennSegment</th>\n",
       "      <th></th>\n",
       "      <th></th>\n",
       "    </tr>\n",
       "  </thead>\n",
       "  <tbody>\n",
       "    <tr>\n",
       "      <th>FilteredInAll</th>\n",
       "      <td>569</td>\n",
       "      <td>127</td>\n",
       "    </tr>\n",
       "    <tr>\n",
       "      <th>Intersection</th>\n",
       "      <td>75</td>\n",
       "      <td>829105</td>\n",
       "    </tr>\n",
       "    <tr>\n",
       "      <th>filterInvarscan-freebayes</th>\n",
       "      <td>88</td>\n",
       "      <td>606</td>\n",
       "    </tr>\n",
       "    <tr>\n",
       "      <th>filterInvarscan-freebayes-mutect</th>\n",
       "      <td>4</td>\n",
       "      <td>296</td>\n",
       "    </tr>\n",
       "    <tr>\n",
       "      <th>filterInvarscan-mutect</th>\n",
       "      <td>17</td>\n",
       "      <td>46</td>\n",
       "    </tr>\n",
       "    <tr>\n",
       "      <th>freebayes</th>\n",
       "      <td>443</td>\n",
       "      <td>5866</td>\n",
       "    </tr>\n",
       "    <tr>\n",
       "      <th>freebayes-mutect</th>\n",
       "      <td>20</td>\n",
       "      <td>10290</td>\n",
       "    </tr>\n",
       "    <tr>\n",
       "      <th>mutect</th>\n",
       "      <td>4181</td>\n",
       "      <td>9189</td>\n",
       "    </tr>\n",
       "    <tr>\n",
       "      <th>strelka</th>\n",
       "      <td>1714</td>\n",
       "      <td>4371</td>\n",
       "    </tr>\n",
       "    <tr>\n",
       "      <th>strelka-filterInvarscan</th>\n",
       "      <td>4</td>\n",
       "      <td>35</td>\n",
       "    </tr>\n",
       "    <tr>\n",
       "      <th>strelka-filterInvarscan-freebayes</th>\n",
       "      <td>1</td>\n",
       "      <td>400</td>\n",
       "    </tr>\n",
       "    <tr>\n",
       "      <th>strelka-filterInvarscan-freebayes-mutect</th>\n",
       "      <td>1</td>\n",
       "      <td>1291</td>\n",
       "    </tr>\n",
       "    <tr>\n",
       "      <th>strelka-filterInvarscan-mutect</th>\n",
       "      <td>3</td>\n",
       "      <td>67</td>\n",
       "    </tr>\n",
       "    <tr>\n",
       "      <th>strelka-freebayes</th>\n",
       "      <td>16</td>\n",
       "      <td>2437</td>\n",
       "    </tr>\n",
       "    <tr>\n",
       "      <th>strelka-freebayes-mutect</th>\n",
       "      <td>22</td>\n",
       "      <td>22027</td>\n",
       "    </tr>\n",
       "    <tr>\n",
       "      <th>strelka-mutect</th>\n",
       "      <td>1307</td>\n",
       "      <td>29073</td>\n",
       "    </tr>\n",
       "    <tr>\n",
       "      <th>strelka-varscan</th>\n",
       "      <td>86</td>\n",
       "      <td>1754</td>\n",
       "    </tr>\n",
       "    <tr>\n",
       "      <th>strelka-varscan-freebayes</th>\n",
       "      <td>93</td>\n",
       "      <td>36733</td>\n",
       "    </tr>\n",
       "    <tr>\n",
       "      <th>strelka-varscan-mutect</th>\n",
       "      <td>37</td>\n",
       "      <td>12200</td>\n",
       "    </tr>\n",
       "    <tr>\n",
       "      <th>varscan</th>\n",
       "      <td>449</td>\n",
       "      <td>3021</td>\n",
       "    </tr>\n",
       "    <tr>\n",
       "      <th>varscan-freebayes</th>\n",
       "      <td>129</td>\n",
       "      <td>8512</td>\n",
       "    </tr>\n",
       "    <tr>\n",
       "      <th>varscan-freebayes-mutect</th>\n",
       "      <td>23</td>\n",
       "      <td>16216</td>\n",
       "    </tr>\n",
       "    <tr>\n",
       "      <th>varscan-mutect</th>\n",
       "      <td>45</td>\n",
       "      <td>884</td>\n",
       "    </tr>\n",
       "  </tbody>\n",
       "</table>\n",
       "</div>"
      ],
      "text/plain": [
       "Truth                                     False   True \n",
       "vennSegment                                            \n",
       "FilteredInAll                               569     127\n",
       "Intersection                                 75  829105\n",
       "filterInvarscan-freebayes                    88     606\n",
       "filterInvarscan-freebayes-mutect              4     296\n",
       "filterInvarscan-mutect                       17      46\n",
       "freebayes                                   443    5866\n",
       "freebayes-mutect                             20   10290\n",
       "mutect                                     4181    9189\n",
       "strelka                                    1714    4371\n",
       "strelka-filterInvarscan                       4      35\n",
       "strelka-filterInvarscan-freebayes             1     400\n",
       "strelka-filterInvarscan-freebayes-mutect      1    1291\n",
       "strelka-filterInvarscan-mutect                3      67\n",
       "strelka-freebayes                            16    2437\n",
       "strelka-freebayes-mutect                     22   22027\n",
       "strelka-mutect                             1307   29073\n",
       "strelka-varscan                              86    1754\n",
       "strelka-varscan-freebayes                    93   36733\n",
       "strelka-varscan-mutect                       37   12200\n",
       "varscan                                     449    3021\n",
       "varscan-freebayes                           129    8512\n",
       "varscan-freebayes-mutect                     23   16216\n",
       "varscan-mutect                               45     884"
      ]
     },
     "execution_count": 17,
     "metadata": {},
     "output_type": "execute_result"
    }
   ],
   "source": [
    "dftemp = dfProd[(dfProd['variantType']== \"SNP\")].reset_index()\n",
    "pd.pivot_table(dftemp, values='pos', index=['vennSegment'], columns=['Truth'], aggfunc='count')"
   ]
  },
  {
   "cell_type": "code",
   "execution_count": null,
   "metadata": {
    "collapsed": false
   },
   "outputs": [],
   "source": [
    "dfProd[(dfProd['variantType']== \"INDEL\")&(dfProd['Truth']== True)&(dfProd['filter']== \"PASS\")].head(10)"
   ]
  },
  {
   "cell_type": "code",
   "execution_count": null,
   "metadata": {
    "collapsed": false
   },
   "outputs": [],
   "source": [
    "#PRECISION + SENSITIVITY by caller - SLICE\n",
    "outputDF = calcuatePrecisionSensivityMatrix(dfSlice)\n",
    "outputDF"
   ]
  },
  {
   "cell_type": "markdown",
   "metadata": {},
   "source": [
    "# False Negative Analysis"
   ]
  },
  {
   "cell_type": "code",
   "execution_count": null,
   "metadata": {
    "collapsed": false
   },
   "outputs": [],
   "source": [
    "pd.options.display.max_rows = 200\n",
    "caller = \"varscan\"\n",
    "dfProd[(dfProd.Truth == True) &(dfProd[caller+'allele'] != '') & (dfProd.variantType == 'INDEL')][['ref',caller+'indelDiff',caller+'QS',caller+'AF','numCallers']]"
   ]
  },
  {
   "cell_type": "code",
   "execution_count": null,
   "metadata": {
    "collapsed": false
   },
   "outputs": [],
   "source": [
    "dfSlice[(dfSlice['Truth'] == True) & (dfSlice['freebayesallele'] != '') & (dfSlice.variantType == 'INDEL')]"
   ]
  },
  {
   "cell_type": "code",
   "execution_count": null,
   "metadata": {
    "collapsed": false
   },
   "outputs": [],
   "source": [
    "unfilteredBed = copy.deepcopy(bed)"
   ]
  },
  {
   "cell_type": "code",
   "execution_count": null,
   "metadata": {
    "collapsed": false,
    "scrolled": false
   },
   "outputs": [],
   "source": [
    "# SETTINGS\n",
    "myCaller = 'varscan'\n",
    "UNFILTERED_VCF_PATH = \"/Users/peterpriestley/hmf/70-30slice/\"\n",
    "if myCaller == 'varscan':\n",
    "    UNFILTERED_VCF_FILE_NAME = \"varscan.snp.vcf\"\n",
    "    UNFILTERED_SAMPLE_NAMES = {\"TUMOR\":myCaller}\n",
    "elif myCaller == 'freebayes':\n",
    "    UNFILTERED_VCF_FILE_NAME = \"freebayes.somatic.vcf\"\n",
    "    UNFILTERED_SAMPLE_NAMES = {'CPCT11111111T':myCaller}  \n",
    "elif myCaller == 'strelka':\n",
    "    UNFILTERED_VCF_FILE_NAME = \"/strelka/results/all.somatic.snvs.vcf\"\n",
    "    UNFILTERED_SAMPLE_NAMES = {\"TUMOR\":myCaller}\n",
    "elif myCaller == 'mutect':\n",
    "    UNFILTERED_VCF_FILE_NAME = \"mutect.vcf\"\n",
    "    UNFILTERED_SAMPLE_NAMES = {'CPCT11111111T':myCaller}\n",
    "\n",
    "\n",
    "dfUnfiltered = aVCF.loadVaraintsFromVCF(UNFILTERED_VCF_PATH,UNFILTERED_VCF_FILE_NAME,UNFILTERED_SAMPLE_NAMES,VCF_SAMPLE,False,True,unfilteredBed)\n",
    "dfUnfiltered['Truth']=dfUnfiltered.chromPos.isin(dfTruth['chromPos']) \n",
    "dfUnfiltered = dfUnfiltered[(dfUnfiltered.chromFrac > minChromFrac)&(dfUnfiltered.chromFrac < maxChromFrac)]"
   ]
  },
  {
   "cell_type": "code",
   "execution_count": null,
   "metadata": {
    "collapsed": false
   },
   "outputs": [],
   "source": [
    "dfTruth['inUnfiltered'+myCaller]=dfTruth.chromPos.isin(dfUnfiltered[dfUnfiltered[myCaller+'allele'] != '']['chromPos'])\n",
    "dfTruth['inSlice']=dfTruth.chromPos.isin(dfSlice['chromPos'])"
   ]
  },
  {
   "cell_type": "code",
   "execution_count": null,
   "metadata": {
    "collapsed": false
   },
   "outputs": [],
   "source": [
    "#False Positives - pre-somatic\n",
    "dfTruth[['inSlice','pos','inUnfiltered'+myCaller,'variantType']].groupby(['variantType','inUnfiltered'+myCaller]).agg('count')\n"
   ]
  },
  {
   "cell_type": "code",
   "execution_count": null,
   "metadata": {
    "collapsed": false
   },
   "outputs": [],
   "source": [
    "dfUnfiltered['inSlice'+myCaller]=dfUnfiltered.chromPos.isin(dfSlice[dfSlice[myCaller+'allele'] != '']['chromPos'])\n",
    "dfUnfiltered['inSlice']=dfUnfiltered.chromPos.isin(dfSlice['chromPos'])"
   ]
  },
  {
   "cell_type": "code",
   "execution_count": null,
   "metadata": {
    "collapsed": false
   },
   "outputs": [],
   "source": [
    "dfUnfiltered[['inSlice'+myCaller,'pos','Truth','variantType','filter']].groupby(['variantType','inSlice'+myCaller,'Truth','filter']).agg('count')\n"
   ]
  },
  {
   "cell_type": "code",
   "execution_count": null,
   "metadata": {
    "collapsed": false
   },
   "outputs": [],
   "source": [
    "\n",
    "dfUnfiltered[(dfUnfiltered['Truth'] == True)&\n",
    "            (dfUnfiltered['inSlice'+myCaller] == True)& \n",
    "             (dfUnfiltered.variantType == 'SNP') &\n",
    "             (dfUnfiltered['filter'] != 'PETE')]['pos']"
   ]
  },
  {
   "cell_type": "code",
   "execution_count": null,
   "metadata": {
    "collapsed": false,
    "scrolled": false
   },
   "outputs": [],
   "source": [
    "#FALSE NEGATIVES IN UNFILTERED\n",
    "dfUnfiltered[(dfUnfiltered['inSlice'+myCaller] == False)& \n",
    "             (dfUnfiltered[myCaller+'somaticGT'] != '2')&\n",
    "             (dfUnfiltered.variantType == 'SNP') &\n",
    "             (dfUnfiltered['filter'] != 'str10')].sort_values([myCaller+'QS'],ascending=False)"
   ]
  },
  {
   "cell_type": "code",
   "execution_count": null,
   "metadata": {
    "collapsed": false
   },
   "outputs": [],
   "source": [
    "dfSlice[dfSlice.pos>'37577400'].head(10)"
   ]
  },
  {
   "cell_type": "code",
   "execution_count": null,
   "metadata": {
    "collapsed": false
   },
   "outputs": [],
   "source": [
    "#FALSE POSITIVES`\n",
    "dfUnfiltered[(dfUnfiltered['inSlice'+myCaller] == True) & (dfUnfiltered.variantType == 'SNP') &\n",
    "             (dfUnfiltered['Truth'] == False)].sort_values([myCaller+'QS'],ascending=False)"
   ]
  },
  {
   "cell_type": "markdown",
   "metadata": {},
   "source": [
    "<h3> SNP"
   ]
  },
  {
   "cell_type": "code",
   "execution_count": 18,
   "metadata": {
    "collapsed": false
   },
   "outputs": [],
   "source": [
    "snpdf = dfProd[(dfProd.variantType == 'SNP')]"
   ]
  },
  {
   "cell_type": "code",
   "execution_count": null,
   "metadata": {
    "collapsed": false
   },
   "outputs": [],
   "source": [
    "snpdf[['Truth','pos']].groupby(['Truth']).agg('count')"
   ]
  },
  {
   "cell_type": "code",
   "execution_count": null,
   "metadata": {
    "collapsed": false
   },
   "outputs": [],
   "source": [
    "pd.pivot_table(snpdf, values='pos', index=['numCallers'], columns=['Truth'], aggfunc='count')"
   ]
  },
  {
   "cell_type": "code",
   "execution_count": null,
   "metadata": {
    "collapsed": false
   },
   "outputs": [],
   "source": [
    "vn.venn([snpdf[snpdf.mutectallele != '']['chromPos'], \\\n",
    "         snpdf[snpdf.strelkaallele != '']['chromPos'], \\\n",
    "        snpdf[snpdf.freebayesallele != '']['chromPos'], \\\n",
    "        snpdf[snpdf.varscanallele != '']['chromPos'] \\\n",
    "        ],['mutect','strelka','freebayes','varscan'],figsize=(6,6))"
   ]
  },
  {
   "cell_type": "markdown",
   "metadata": {},
   "source": [
    "### <hd3> Indel Venn"
   ]
  },
  {
   "cell_type": "code",
   "execution_count": null,
   "metadata": {
    "collapsed": false
   },
   "outputs": [],
   "source": [
    "indeldf= dfProd[(dfProd.variantType == 'INDEL')]"
   ]
  },
  {
   "cell_type": "code",
   "execution_count": null,
   "metadata": {
    "collapsed": false
   },
   "outputs": [],
   "source": [
    "pd.pivot_table(indeldf, values='pos', index=['numCallers'], columns=['Truth'], aggfunc='count')"
   ]
  },
  {
   "cell_type": "code",
   "execution_count": null,
   "metadata": {
    "collapsed": false
   },
   "outputs": [],
   "source": [
    "vn.venn([indeldf[indeldf.strelkaallele != '']['chromPos'], \\\n",
    "        indeldf[indeldf.freebayesallele != '']['chromPos'], \\\n",
    "        indeldf[indeldf.varscanallele != '']['chromPos'] \\\n",
    "        ],['strelka','freebayes','varscan'],figsize=(6,6))"
   ]
  },
  {
   "cell_type": "markdown",
   "metadata": {},
   "source": [
    "### <hd3> Read Depth"
   ]
  },
  {
   "cell_type": "code",
   "execution_count": null,
   "metadata": {
    "collapsed": false
   },
   "outputs": [],
   "source": [
    "for columnName in list(df):\n",
    "    if columnName.endswith('allelicFreq'):\n",
    "        df[df[columnName] != ''].hist(column=columnName,by=\"Truth\",bins=40,figsize=(10,5))\n",
    "        "
   ]
  },
  {
   "cell_type": "code",
   "execution_count": null,
   "metadata": {
    "collapsed": false
   },
   "outputs": [],
   "source": [
    "df[df.freebayesreadDepth != ''].hist(column=\"freebayesallelicFreq\",by=\"Truth\",bins=30)"
   ]
  },
  {
   "cell_type": "code",
   "execution_count": null,
   "metadata": {
    "collapsed": true
   },
   "outputs": [],
   "source": []
  },
  {
   "cell_type": "code",
   "execution_count": null,
   "metadata": {
    "collapsed": false
   },
   "outputs": [],
   "source": [
    "# INDELS BY CALLER BY TRUTH\n",
    "caller = 'freebayes'\n",
    "truths = indeldf.Truth.unique()\n",
    "for truth in truths:\n",
    "    ser = indeldf[(indeldf.Truth == truth) &(indeldf[caller+'allele'] != '')][caller + 'QS']\n",
    "    ser = ser.sort_values()\n",
    "    cum_dist = np.linspace(0.,1.,len(ser))\n",
    "    ser_cdf = pd.Series(cum_dist, index=ser,name=caller+\" INDEL \"+str(truth)+\": c=\"+str(ser.count())+\" m=\"+str(round(ser.median(),2)))\n",
    "    ser_cdf.plot(drawstyle='steps',legend=True,title=caller+\" Qual Score CDF - INDELS\",figsize=[15,6], xlim=[0,100],ylim=[0,1])\n",
    "\n",
    "truths = snpdf.Truth.unique()\n",
    "for truth in truths:\n",
    "    ser = snpdf[(snpdf.Truth == truth) &(snpdf[caller+'allele'] != '')][caller + 'QS']\n",
    "    ser = ser.sort_values()\n",
    "    cum_dist = np.linspace(0.,1.,len(ser))\n",
    "    ser_cdf = pd.Series(cum_dist, index=ser,name=caller+\" SNP \"+str(truth)+\": c=\"+str(ser.count())+\" m=\"+str(round(ser.median(),2)))\n",
    "    ser_cdf.plot(drawstyle='steps',legend=True,title=caller+\"Qual Score CDF\",figsize=[15,6],xlim=[0,100],ylim=[0,1])"
   ]
  },
  {
   "cell_type": "code",
   "execution_count": null,
   "metadata": {
    "collapsed": true
   },
   "outputs": [],
   "source": []
  },
  {
   "cell_type": "markdown",
   "metadata": {},
   "source": [
    "<h3> Allelic Depth"
   ]
  },
  {
   "cell_type": "code",
   "execution_count": 19,
   "metadata": {
    "collapsed": false
   },
   "outputs": [
    {
     "ename": "KeyError",
     "evalue": "'truth_AF'",
     "output_type": "error",
     "traceback": [
      "\u001b[0;31m---------------------------------------------------------------------------\u001b[0m",
      "\u001b[0;31mKeyError\u001b[0m                                  Traceback (most recent call last)",
      "\u001b[0;32m<ipython-input-19-e29e629ba52f>\u001b[0m in \u001b[0;36m<module>\u001b[0;34m()\u001b[0m\n\u001b[1;32m      2\u001b[0m \u001b[0;32mfor\u001b[0m \u001b[0mcolumnName\u001b[0m \u001b[0;32min\u001b[0m \u001b[0mlist\u001b[0m\u001b[0;34m(\u001b[0m\u001b[0msnpdf\u001b[0m\u001b[0;34m)\u001b[0m\u001b[0;34m:\u001b[0m\u001b[0;34m\u001b[0m\u001b[0m\n\u001b[1;32m      3\u001b[0m     \u001b[0;32mif\u001b[0m \u001b[0mcolumnName\u001b[0m\u001b[0;34m.\u001b[0m\u001b[0mendswith\u001b[0m\u001b[0;34m(\u001b[0m\u001b[0;34m'allele'\u001b[0m\u001b[0;34m)\u001b[0m\u001b[0;34m:\u001b[0m\u001b[0;34m\u001b[0m\u001b[0m\n\u001b[0;32m----> 4\u001b[0;31m         \u001b[0mser\u001b[0m \u001b[0;34m=\u001b[0m \u001b[0msnpdf\u001b[0m\u001b[0;34m[\u001b[0m\u001b[0;34m(\u001b[0m\u001b[0msnpdf\u001b[0m\u001b[0;34m[\u001b[0m\u001b[0mcolumnName\u001b[0m\u001b[0;34m]\u001b[0m \u001b[0;34m!=\u001b[0m \u001b[0;34m''\u001b[0m\u001b[0;34m)\u001b[0m \u001b[0;34m&\u001b[0m\u001b[0;34m(\u001b[0m\u001b[0msnpdf\u001b[0m\u001b[0;34m[\u001b[0m\u001b[0mcolumnName\u001b[0m\u001b[0;34m[\u001b[0m\u001b[0;34m:\u001b[0m\u001b[0;34m-\u001b[0m\u001b[0;36m6\u001b[0m\u001b[0;34m]\u001b[0m \u001b[0;34m+\u001b[0m \u001b[0;34m'AF'\u001b[0m\u001b[0;34m]\u001b[0m \u001b[0;34m>\u001b[0m \u001b[0;36m0.0\u001b[0m\u001b[0;34m)\u001b[0m\u001b[0;34m]\u001b[0m\u001b[0;34m[\u001b[0m\u001b[0mcolumnName\u001b[0m\u001b[0;34m[\u001b[0m\u001b[0;34m:\u001b[0m\u001b[0;34m-\u001b[0m\u001b[0;36m6\u001b[0m\u001b[0;34m]\u001b[0m \u001b[0;34m+\u001b[0m \u001b[0;34m'AF'\u001b[0m\u001b[0;34m]\u001b[0m\u001b[0;34m\u001b[0m\u001b[0m\n\u001b[0m\u001b[1;32m      5\u001b[0m         \u001b[0mser\u001b[0m \u001b[0;34m=\u001b[0m \u001b[0mser\u001b[0m\u001b[0;34m.\u001b[0m\u001b[0msort_values\u001b[0m\u001b[0;34m(\u001b[0m\u001b[0;34m)\u001b[0m\u001b[0;34m\u001b[0m\u001b[0m\n\u001b[1;32m      6\u001b[0m         \u001b[0;31m#ser[len(ser)] = ser.iloc[-1]\u001b[0m\u001b[0;34m\u001b[0m\u001b[0;34m\u001b[0m\u001b[0m\n",
      "\u001b[0;32m/Library/Python/2.7/site-packages/pandas/core/frame.pyc\u001b[0m in \u001b[0;36m__getitem__\u001b[0;34m(self, key)\u001b[0m\n\u001b[1;32m   1995\u001b[0m             \u001b[0;32mreturn\u001b[0m \u001b[0mself\u001b[0m\u001b[0;34m.\u001b[0m\u001b[0m_getitem_multilevel\u001b[0m\u001b[0;34m(\u001b[0m\u001b[0mkey\u001b[0m\u001b[0;34m)\u001b[0m\u001b[0;34m\u001b[0m\u001b[0m\n\u001b[1;32m   1996\u001b[0m         \u001b[0;32melse\u001b[0m\u001b[0;34m:\u001b[0m\u001b[0;34m\u001b[0m\u001b[0m\n\u001b[0;32m-> 1997\u001b[0;31m             \u001b[0;32mreturn\u001b[0m \u001b[0mself\u001b[0m\u001b[0;34m.\u001b[0m\u001b[0m_getitem_column\u001b[0m\u001b[0;34m(\u001b[0m\u001b[0mkey\u001b[0m\u001b[0;34m)\u001b[0m\u001b[0;34m\u001b[0m\u001b[0m\n\u001b[0m\u001b[1;32m   1998\u001b[0m \u001b[0;34m\u001b[0m\u001b[0m\n\u001b[1;32m   1999\u001b[0m     \u001b[0;32mdef\u001b[0m \u001b[0m_getitem_column\u001b[0m\u001b[0;34m(\u001b[0m\u001b[0mself\u001b[0m\u001b[0;34m,\u001b[0m \u001b[0mkey\u001b[0m\u001b[0;34m)\u001b[0m\u001b[0;34m:\u001b[0m\u001b[0;34m\u001b[0m\u001b[0m\n",
      "\u001b[0;32m/Library/Python/2.7/site-packages/pandas/core/frame.pyc\u001b[0m in \u001b[0;36m_getitem_column\u001b[0;34m(self, key)\u001b[0m\n\u001b[1;32m   2002\u001b[0m         \u001b[0;31m# get column\u001b[0m\u001b[0;34m\u001b[0m\u001b[0;34m\u001b[0m\u001b[0m\n\u001b[1;32m   2003\u001b[0m         \u001b[0;32mif\u001b[0m \u001b[0mself\u001b[0m\u001b[0;34m.\u001b[0m\u001b[0mcolumns\u001b[0m\u001b[0;34m.\u001b[0m\u001b[0mis_unique\u001b[0m\u001b[0;34m:\u001b[0m\u001b[0;34m\u001b[0m\u001b[0m\n\u001b[0;32m-> 2004\u001b[0;31m             \u001b[0;32mreturn\u001b[0m \u001b[0mself\u001b[0m\u001b[0;34m.\u001b[0m\u001b[0m_get_item_cache\u001b[0m\u001b[0;34m(\u001b[0m\u001b[0mkey\u001b[0m\u001b[0;34m)\u001b[0m\u001b[0;34m\u001b[0m\u001b[0m\n\u001b[0m\u001b[1;32m   2005\u001b[0m \u001b[0;34m\u001b[0m\u001b[0m\n\u001b[1;32m   2006\u001b[0m         \u001b[0;31m# duplicate columns & possible reduce dimensionality\u001b[0m\u001b[0;34m\u001b[0m\u001b[0;34m\u001b[0m\u001b[0m\n",
      "\u001b[0;32m/Library/Python/2.7/site-packages/pandas/core/generic.pyc\u001b[0m in \u001b[0;36m_get_item_cache\u001b[0;34m(self, item)\u001b[0m\n\u001b[1;32m   1348\u001b[0m         \u001b[0mres\u001b[0m \u001b[0;34m=\u001b[0m \u001b[0mcache\u001b[0m\u001b[0;34m.\u001b[0m\u001b[0mget\u001b[0m\u001b[0;34m(\u001b[0m\u001b[0mitem\u001b[0m\u001b[0;34m)\u001b[0m\u001b[0;34m\u001b[0m\u001b[0m\n\u001b[1;32m   1349\u001b[0m         \u001b[0;32mif\u001b[0m \u001b[0mres\u001b[0m \u001b[0;32mis\u001b[0m \u001b[0mNone\u001b[0m\u001b[0;34m:\u001b[0m\u001b[0;34m\u001b[0m\u001b[0m\n\u001b[0;32m-> 1350\u001b[0;31m             \u001b[0mvalues\u001b[0m \u001b[0;34m=\u001b[0m \u001b[0mself\u001b[0m\u001b[0;34m.\u001b[0m\u001b[0m_data\u001b[0m\u001b[0;34m.\u001b[0m\u001b[0mget\u001b[0m\u001b[0;34m(\u001b[0m\u001b[0mitem\u001b[0m\u001b[0;34m)\u001b[0m\u001b[0;34m\u001b[0m\u001b[0m\n\u001b[0m\u001b[1;32m   1351\u001b[0m             \u001b[0mres\u001b[0m \u001b[0;34m=\u001b[0m \u001b[0mself\u001b[0m\u001b[0;34m.\u001b[0m\u001b[0m_box_item_values\u001b[0m\u001b[0;34m(\u001b[0m\u001b[0mitem\u001b[0m\u001b[0;34m,\u001b[0m \u001b[0mvalues\u001b[0m\u001b[0;34m)\u001b[0m\u001b[0;34m\u001b[0m\u001b[0m\n\u001b[1;32m   1352\u001b[0m             \u001b[0mcache\u001b[0m\u001b[0;34m[\u001b[0m\u001b[0mitem\u001b[0m\u001b[0;34m]\u001b[0m \u001b[0;34m=\u001b[0m \u001b[0mres\u001b[0m\u001b[0;34m\u001b[0m\u001b[0m\n",
      "\u001b[0;32m/Library/Python/2.7/site-packages/pandas/core/internals.pyc\u001b[0m in \u001b[0;36mget\u001b[0;34m(self, item, fastpath)\u001b[0m\n\u001b[1;32m   3288\u001b[0m \u001b[0;34m\u001b[0m\u001b[0m\n\u001b[1;32m   3289\u001b[0m             \u001b[0;32mif\u001b[0m \u001b[0;32mnot\u001b[0m \u001b[0misnull\u001b[0m\u001b[0;34m(\u001b[0m\u001b[0mitem\u001b[0m\u001b[0;34m)\u001b[0m\u001b[0;34m:\u001b[0m\u001b[0;34m\u001b[0m\u001b[0m\n\u001b[0;32m-> 3290\u001b[0;31m                 \u001b[0mloc\u001b[0m \u001b[0;34m=\u001b[0m \u001b[0mself\u001b[0m\u001b[0;34m.\u001b[0m\u001b[0mitems\u001b[0m\u001b[0;34m.\u001b[0m\u001b[0mget_loc\u001b[0m\u001b[0;34m(\u001b[0m\u001b[0mitem\u001b[0m\u001b[0;34m)\u001b[0m\u001b[0;34m\u001b[0m\u001b[0m\n\u001b[0m\u001b[1;32m   3291\u001b[0m             \u001b[0;32melse\u001b[0m\u001b[0;34m:\u001b[0m\u001b[0;34m\u001b[0m\u001b[0m\n\u001b[1;32m   3292\u001b[0m                 \u001b[0mindexer\u001b[0m \u001b[0;34m=\u001b[0m \u001b[0mnp\u001b[0m\u001b[0;34m.\u001b[0m\u001b[0marange\u001b[0m\u001b[0;34m(\u001b[0m\u001b[0mlen\u001b[0m\u001b[0;34m(\u001b[0m\u001b[0mself\u001b[0m\u001b[0;34m.\u001b[0m\u001b[0mitems\u001b[0m\u001b[0;34m)\u001b[0m\u001b[0;34m)\u001b[0m\u001b[0;34m[\u001b[0m\u001b[0misnull\u001b[0m\u001b[0;34m(\u001b[0m\u001b[0mself\u001b[0m\u001b[0;34m.\u001b[0m\u001b[0mitems\u001b[0m\u001b[0;34m)\u001b[0m\u001b[0;34m]\u001b[0m\u001b[0;34m\u001b[0m\u001b[0m\n",
      "\u001b[0;32m/Library/Python/2.7/site-packages/pandas/indexes/base.pyc\u001b[0m in \u001b[0;36mget_loc\u001b[0;34m(self, key, method, tolerance)\u001b[0m\n\u001b[1;32m   1945\u001b[0m                 \u001b[0;32mreturn\u001b[0m \u001b[0mself\u001b[0m\u001b[0;34m.\u001b[0m\u001b[0m_engine\u001b[0m\u001b[0;34m.\u001b[0m\u001b[0mget_loc\u001b[0m\u001b[0;34m(\u001b[0m\u001b[0mkey\u001b[0m\u001b[0;34m)\u001b[0m\u001b[0;34m\u001b[0m\u001b[0m\n\u001b[1;32m   1946\u001b[0m             \u001b[0;32mexcept\u001b[0m \u001b[0mKeyError\u001b[0m\u001b[0;34m:\u001b[0m\u001b[0;34m\u001b[0m\u001b[0m\n\u001b[0;32m-> 1947\u001b[0;31m                 \u001b[0;32mreturn\u001b[0m \u001b[0mself\u001b[0m\u001b[0;34m.\u001b[0m\u001b[0m_engine\u001b[0m\u001b[0;34m.\u001b[0m\u001b[0mget_loc\u001b[0m\u001b[0;34m(\u001b[0m\u001b[0mself\u001b[0m\u001b[0;34m.\u001b[0m\u001b[0m_maybe_cast_indexer\u001b[0m\u001b[0;34m(\u001b[0m\u001b[0mkey\u001b[0m\u001b[0;34m)\u001b[0m\u001b[0;34m)\u001b[0m\u001b[0;34m\u001b[0m\u001b[0m\n\u001b[0m\u001b[1;32m   1948\u001b[0m \u001b[0;34m\u001b[0m\u001b[0m\n\u001b[1;32m   1949\u001b[0m         \u001b[0mindexer\u001b[0m \u001b[0;34m=\u001b[0m \u001b[0mself\u001b[0m\u001b[0;34m.\u001b[0m\u001b[0mget_indexer\u001b[0m\u001b[0;34m(\u001b[0m\u001b[0;34m[\u001b[0m\u001b[0mkey\u001b[0m\u001b[0;34m]\u001b[0m\u001b[0;34m,\u001b[0m \u001b[0mmethod\u001b[0m\u001b[0;34m=\u001b[0m\u001b[0mmethod\u001b[0m\u001b[0;34m,\u001b[0m \u001b[0mtolerance\u001b[0m\u001b[0;34m=\u001b[0m\u001b[0mtolerance\u001b[0m\u001b[0;34m)\u001b[0m\u001b[0;34m\u001b[0m\u001b[0m\n",
      "\u001b[0;32mpandas/index.pyx\u001b[0m in \u001b[0;36mpandas.index.IndexEngine.get_loc (pandas/index.c:4154)\u001b[0;34m()\u001b[0m\n",
      "\u001b[0;32mpandas/index.pyx\u001b[0m in \u001b[0;36mpandas.index.IndexEngine.get_loc (pandas/index.c:4018)\u001b[0;34m()\u001b[0m\n",
      "\u001b[0;32mpandas/hashtable.pyx\u001b[0m in \u001b[0;36mpandas.hashtable.PyObjectHashTable.get_item (pandas/hashtable.c:12368)\u001b[0;34m()\u001b[0m\n",
      "\u001b[0;32mpandas/hashtable.pyx\u001b[0m in \u001b[0;36mpandas.hashtable.PyObjectHashTable.get_item (pandas/hashtable.c:12322)\u001b[0;34m()\u001b[0m\n",
      "\u001b[0;31mKeyError\u001b[0m: 'truth_AF'"
     ]
    },
    {
     "data": {
      "image/png": "[encoded data removed]",
      "text/plain": [
       "<matplotlib.figure.Figure at 0x1069a8510>"
      ]
     },
     "metadata": {},
     "output_type": "display_data"
    }
   ],
   "source": [
    "#Alllele Freq By Caller\n",
    "for columnName in list(snpdf):\n",
    "    if columnName.endswith('allele'):\n",
    "        ser = snpdf[(snpdf[columnName] != '') &(snpdf[columnName[:-6] + 'AF'] > 0.0)][columnName[:-6] + 'AF']\n",
    "        ser = ser.sort_values()\n",
    "        #ser[len(ser)] = ser.iloc[-1]\n",
    "        cum_dist = np.linspace(0.,1.,len(ser))\n",
    "        ser_cdf = pd.Series(cum_dist, index=ser,name=columnName[:-6]+\": c=\"+str(ser.count())+\" m=\"+str(round(ser.median(),2)))\n",
    "        ser_cdf.plot(drawstyle='steps',legend=True,title=\" Allelic Frequency by Caller (AllelicFreq > 0.0)\",figsize=[15,6])"
   ]
  },
  {
   "cell_type": "code",
   "execution_count": null,
   "metadata": {
    "collapsed": false
   },
   "outputs": [],
   "source": [
    "# BY CALLER BY TRUTH\n",
    "truths = snpdf.Truth.unique()\n",
    "for truth in truths:\n",
    "    for columnName in list(snpdf):\n",
    "        if columnName.endswith('allele'):\n",
    "            ser = snpdf[(snpdf.Truth == truth) &(snpdf[columnName] != '')][columnName[:-6] + 'allelicFreq']\n",
    "            ser = ser.sort_values()\n",
    "            #ser[len(ser)] = ser.iloc[-1]\n",
    "            cum_dist = np.linspace(0.,1.,len(ser))\n",
    "            ser_cdf = pd.Series(cum_dist, index=ser,name=columnName[:-6]+\" \"+str(truth)+\": c=\"+str(ser.count())+\" m=\"+str(round(ser.median(),2)))\n",
    "            ser_cdf.plot(drawstyle='steps',legend=True,title=\" Allelic Frequency by Caller and Truth\",figsize=[15,6])"
   ]
  },
  {
   "cell_type": "code",
   "execution_count": null,
   "metadata": {
    "collapsed": false
   },
   "outputs": [],
   "source": [
    "#  BY VENN SEGMENT - Single Caller - FALSE POSITIVES\n",
    "myCaller = 'freebayes'\n",
    "vennSegments = snpdf[(snpdf[myCaller+'allele'] != '') & (snpdf.Truth == False)].vennSegment.unique()\n",
    "for vennSegment in vennSegments:\n",
    "    ser = snpdf[(snpdf.vennSegment == vennSegment) & (snpdf[myCaller+'allele'] != '') & (snpdf.Truth == False) ][myCaller+'allelicFreq']\n",
    "    ser = ser.sort_values()\n",
    "    ser[len(ser)] = ser.iloc[-1]\n",
    "    cum_dist = np.linspace(0.,1.,len(ser))\n",
    "    ser_cdf = pd.Series(cum_dist, index=ser,name=vennSegment+\": c=\"+str(ser.count())+\" m=\"+str(round(ser.median(),2)))\n",
    "    ser_cdf.plot(drawstyle='steps',legend=True,title=myCaller+\" FP by Venn Segment\",figsize=[15,6])"
   ]
  },
  {
   "cell_type": "markdown",
   "metadata": {},
   "source": [
    "### Allelic Depth Scatter Plot"
   ]
  },
  {
   "cell_type": "code",
   "execution_count": null,
   "metadata": {
    "collapsed": false
   },
   "outputs": [],
   "source": [
    "caller1 = 'varscan'\n",
    "caller2 = 'strelka'\n",
    "tempdf = df[(df[caller1+'allele']!='')&(df[caller2+'allele']!='')]\n",
    "tempdf.head()\n",
    "tempdf.plot.scatter(caller1+'allelicFreq',caller2+'allelicFreq' \\\n",
    "                        ,figsize=[6,6] \\\n",
    "                        ,title=\"Comparison of \"+caller1+\" and \"+caller2+\" Allelic Frequency\" \\\n",
    "                        ,xlim=[0,1],ylim=[0,1])"
   ]
  },
  {
   "cell_type": "markdown",
   "metadata": {},
   "source": [
    "<h3> RAINBOW CHARTS"
   ]
  },
  {
   "cell_type": "code",
   "execution_count": null,
   "metadata": {
    "collapsed": false
   },
   "outputs": [],
   "source": [
    "## RAINBOW\n",
    "caller = 'freebayes'\n",
    "plt.scatter(df[(df[caller+'allele']!='')& (df['Truth'] == True)&(df['chrom'] == '22')]['chromFrac'], \\\n",
    "            df[(df[caller+'allele']!='')& (df['Truth'] == True)&(df['chrom'] == '22')][caller+'allelicFreq'], \\\n",
    "            s=10, c='b', marker=\"s\")"
   ]
  },
  {
   "cell_type": "code",
   "execution_count": null,
   "metadata": {
    "collapsed": false
   },
   "outputs": [],
   "source": [
    "## RAINBOW\n",
    "caller = 'freebayes'\n",
    "plt.scatter(df[(df[caller+'allele']!='')& (df['Truth'] == False)&(df['chrom'] == '22')]['chromFrac'], \\\n",
    "            df[(df[caller+'allele']!='')& (df['Truth'] == False)&(df['chrom'] == '22')][caller+'allelicFreq'], \\\n",
    "            s=10, c='b', marker=\"s\")"
   ]
  },
  {
   "cell_type": "markdown",
   "metadata": {},
   "source": [
    "<h3> Overlapping Analysis"
   ]
  },
  {
   "cell_type": "code",
   "execution_count": null,
   "metadata": {
    "collapsed": false
   },
   "outputs": [],
   "source": [
    "#NEEDS REFACTORING TO SUPPORT NEW DF FORMAT\n",
    "'''\n",
    "sorteddf = df.sort(['chromFrac'], ascending=1)\n",
    "sorteddf['nextRef'] = sorteddf['ref'].shift(-2)\n",
    "sorteddf['nextPos'] = sorteddf['pos'].shift(-2)\n",
    "sorteddf['nextChrom'] = sorteddf['chrom'].shift(-2)\n",
    "sorteddf['nextVT'] = sorteddf['variantType'].shift(-2)\n",
    "sorteddf['nextAlleleTumor1'] = sorteddf['alleleTumor1'].shift(-2)\n",
    "sorteddf['nextAlleleTumor2'] = sorteddf['alleleTumor2'].shift(-2)\n",
    "sorteddf['nextVennSegment'] = sorteddf['vennSegment'].shift(-2)\n",
    "sorteddf['lengthRef'] = sorteddf['ref'].str.len()\n",
    "sorteddf['Dist2Next'] = -sorteddf['pos'].astype(int).diff(-2)\n",
    "\n",
    "overlapdf = sorteddf[(sorteddf['lengthRef']+0>sorteddf['Dist2Next']) & (sorteddf['Dist2Next']>0)]\n",
    "overlapdf.head(20)\n",
    "'''"
   ]
  },
  {
   "cell_type": "code",
   "execution_count": null,
   "metadata": {
    "collapsed": false
   },
   "outputs": [],
   "source": [
    "#NEEDS REFACTORING TO SUPPORT NEW DF FORMAT\n",
    "'''\n",
    "filtereddf = overlapdf[(~overlapdf.vennSegment.isin(['freebayes','varscan','strelka1'])) \\\n",
    "                       & (overlapdf.vennSegment.str.contains('varscan')) \\\n",
    "                       #& (~overlapdf.nextVennSegment.str.contains('varscan')) \\\n",
    "                       & (overlapdf.variantType == 'INDEL') \\\n",
    "                       #& (overlapdf.variantSubType == 'DELETE')\n",
    "                       & (overlapdf.variantType == overlapdf.nextVT)]\n",
    "filtereddf[['nextVennSegment','vennSegment','variantType','nextVT','Dist2Next','lengthRef','ref','alleleTumor2', \\\n",
    "            'nextRef','nextAlleleTumor2','variantSubType','chrom','pos']].count()\n",
    "'''"
   ]
  },
  {
   "cell_type": "code",
   "execution_count": null,
   "metadata": {
    "collapsed": true
   },
   "outputs": [],
   "source": []
  },
  {
   "cell_type": "code",
   "execution_count": null,
   "metadata": {
    "collapsed": true
   },
   "outputs": [],
   "source": []
  },
  {
   "cell_type": "code",
   "execution_count": null,
   "metadata": {
    "collapsed": true
   },
   "outputs": [],
   "source": []
  },
  {
   "cell_type": "code",
   "execution_count": null,
   "metadata": {
    "collapsed": true
   },
   "outputs": [],
   "source": []
  }
 ],
 "metadata": {
  "kernelspec": {
   "display_name": "Python 2",
   "language": "python",
   "name": "python2"
  },
  "language_info": {
   "codemirror_mode": {
    "name": "ipython",
    "version": 2
   },
   "file_extension": ".py",
   "mimetype": "text/x-python",
   "name": "python",
   "nbconvert_exporter": "python",
   "pygments_lexer": "ipython2",
   "version": "2.7.10"
  }
 },
 "nbformat": 4,
 "nbformat_minor": 0
}
