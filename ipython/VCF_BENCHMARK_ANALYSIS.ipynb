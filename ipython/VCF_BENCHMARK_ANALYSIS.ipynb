{
 "cells": [
  {
   "cell_type": "markdown",
   "metadata": {},
   "source": [
    "### CONFIGURATION"
   ]
  },
  {
   "cell_type": "code",
   "execution_count": null,
   "metadata": {
    "collapsed": false
   },
   "outputs": [],
   "source": [
    "import pandas as pd\n",
    "pd.set_option('display.max_columns', 500)\n",
    "pd.set_option('display.width', 1000)\n",
    "import numpy as np\n",
    "import copy\n",
    "import sys\n",
    "import matplotlib.pyplot as plt\n",
    "%matplotlib inline"
   ]
  },
  {
   "cell_type": "code",
   "execution_count": null,
   "metadata": {
    "collapsed": false
   },
   "outputs": [],
   "source": [
    "# Hartwig imports\n",
    "sys.path.append(\"/Users/peterpriestley/hmf/repos/scripts/analysisscripts\") \n",
    "import analyseVCF as aVCF\n",
    "import venn as vn"
   ]
  },
  {
   "cell_type": "code",
   "execution_count": 42,
   "metadata": {
    "collapsed": true
   },
   "outputs": [],
   "source": [
    "# BED FILE\n",
    "BED_PATH = \"/Users/peterpriestley/hmf/analyses/70-30sample/truthset/\"\n",
    "BED_FILE_NAME = \"union13callableMQonlymerged_addcert_nouncert_excludesimplerep_excludesegdups_excludedecoy_excludeRepSeqSTRs_noCNVs_v2.19_2mindatasets_5minYesNoRatio.bed\"\n",
    "\n",
    "\n",
    "# TRUTH SET\n",
    "SAMPLE_NAMES_TRUTH = {'NA12878':'70-30truth'}\n",
    "VCF_PATH_TRUTH = \"/Users/peterpriestley/hmf/analyses/70-30sample/truthset/\"\n",
    "VCF_FILE_NAME_TRUTH = \"na12878-na24385-somatic-truth.vcf\"\n",
    "# COMBINED VCF CONFIG\n",
    "VCF_SAMPLE = \"CPCT11111111\"\n",
    "VCF_PATH = \"/Users/peterpriestley/hmf/analyses/70-30sample/160524/\"\n",
    "VCF_FILE_NAME = VCF_SAMPLE + \"R_\"+ VCF_SAMPLE + \"T_merged_somatics.vcf\"\n",
    "SAMPLE_NAMES = {VCF_SAMPLE + 'T.mutect':'mutect', \\\n",
    "                VCF_SAMPLE + 'T.freebayes':'freebayes', \\\n",
    "                'TUMOR.strelka':'strelka', \\\n",
    "                'TUMOR.varscan':'varscan'}\n",
    "\n",
    "# SLICE SETTINGS\n",
    "SLICE_VCF_PATH = \"/Users/peterpriestley/hmf/70-30slice/\"\n",
    "SLICE_VCF_FILE_NAME = \"somatics.merged.vcf\"\n",
    "SLICE_SAMPLE_NAMES = SAMPLE_NAMES #{\"TUMOR\":'varscanSlice'}"
   ]
  },
  {
   "cell_type": "markdown",
   "metadata": {},
   "source": [
    "<h3> Load VCFs and Prepare DF"
   ]
  },
  {
   "cell_type": "code",
   "execution_count": 45,
   "metadata": {
    "collapsed": false
   },
   "outputs": [
    {
     "name": "stdout",
     "output_type": "stream",
     "text": [
      "reading BED file\n",
      "Bed File Loaded\n"
     ]
    }
   ],
   "source": [
    "## LOAD BED\n",
    "bed = aVCF.loadBEDFile(BED_PATH,BED_FILE_NAME)\n",
    "bed.reverse()"
   ]
  },
  {
   "cell_type": "code",
   "execution_count": 5,
   "metadata": {
    "collapsed": false
   },
   "outputs": [
    {
     "name": "stdout",
     "output_type": "stream",
     "text": [
      "reading vcf file: na12878-na24385-somatic-truth.vcf\n",
      "reading VCF File line: 100000\n",
      "reading VCF File line: 200000\n",
      "reading VCF File line: 300000\n",
      "reading VCF File line: 400000\n",
      "reading VCF File line: 500000\n",
      "reading VCF File line: 600000\n",
      "reading VCF File line: 700000\n",
      "reading VCF File line: 800000\n",
      "reading VCF File line: 900000\n",
      "reading VCF File line: 1000000\n",
      "Number variants loaded: 1005479\n"
     ]
    }
   ],
   "source": [
    "## LOAD TRUTH SET VCF\n",
    "truthBed = copy.deepcopy(bed)\n",
    "dfTruth = aVCF.loadVaraintsFromVCF(VCF_PATH_TRUTH,VCF_FILE_NAME_TRUTH, \\\n",
    "                                   SAMPLE_NAMES_TRUTH,\"Mix-in Truth Set\",True,truthBed)"
   ]
  },
  {
   "cell_type": "code",
   "execution_count": 60,
   "metadata": {
    "collapsed": false
   },
   "outputs": [
    {
     "name": "stdout",
     "output_type": "stream",
     "text": [
      "reading vcf file: somatics.merged.vcf\n",
      "Number variants loaded: 1090\n"
     ]
    }
   ],
   "source": [
    "# DF SLICE for comparison\n",
    "sliceBed = copy.deepcopy(bed)\n",
    "dfSlice = aVCF.loadVaraintsFromVCF(SLICE_VCF_PATH,SLICE_VCF_FILE_NAME,SLICE_SAMPLE_NAMES,VCF_SAMPLE,True,sliceBed)\n",
    "dfSlice['Truth']=dfSlice.chromPos.isin(dfTruth['chromPos']) "
   ]
  },
  {
   "cell_type": "code",
   "execution_count": 7,
   "metadata": {
    "collapsed": false
   },
   "outputs": [
    {
     "name": "stdout",
     "output_type": "stream",
     "text": [
      "reading vcf file: CPCT11111111R_CPCT11111111T_merged_somatics.vcf\n",
      "reading VCF File line: 100000\n",
      "reading VCF File line: 200000\n",
      "reading VCF File line: 300000\n",
      "reading VCF File line: 400000\n",
      "reading VCF File line: 500000\n",
      "reading VCF File line: 600000\n",
      "reading VCF File line: 700000\n",
      "reading VCF File line: 800000\n",
      "reading VCF File line: 900000\n",
      "reading VCF File line: 1000000\n",
      "reading VCF File line: 1100000\n",
      "reading VCF File line: 1200000\n",
      "reading VCF File line: 1300000\n",
      "Number variants loaded: 995943\n"
     ]
    }
   ],
   "source": [
    "# LOAD SAMPLE VCF + match to truth set\n",
    "df = aVCF.loadVaraintsFromVCF(VCF_PATH,VCF_FILE_NAME,SAMPLE_NAMES,VCF_SAMPLE,True,bed)\n",
    "df['Truth']=df.chromPos.isin(dfTruth['chromPos']) \n"
   ]
  },
  {
   "cell_type": "markdown",
   "metadata": {},
   "source": [
    "<h3> High Level Stats"
   ]
  },
  {
   "cell_type": "code",
   "execution_count": 61,
   "metadata": {
    "collapsed": false
   },
   "outputs": [],
   "source": [
    "#Filter for slice ChromFrac\n",
    "minChromFrac = 17.443476\n",
    "maxChromFrac = 17.491846\n",
    "df = df[(df.chromFrac > minChromFrac)&(df.chromFrac < maxChromFrac)]\n",
    "dfTruth = dfTruth[(dfTruth.chromFrac > minChromFrac)&(dfTruth.chromFrac < maxChromFrac)]\n",
    "dfSlice = dfSlice[(dfSlice.chromFrac > minChromFrac)&(dfSlice.chromFrac < maxChromFrac)]"
   ]
  },
  {
   "cell_type": "code",
   "execution_count": 41,
   "metadata": {
    "collapsed": false
   },
   "outputs": [
    {
     "data": {
      "text/html": [
       "<div>\n",
       "<table border=\"1\" class=\"dataframe\">\n",
       "  <thead>\n",
       "    <tr style=\"text-align: right;\">\n",
       "      <th></th>\n",
       "      <th>variantType</th>\n",
       "      <th>caller</th>\n",
       "      <th>truthSet</th>\n",
       "      <th>truePositives</th>\n",
       "      <th>falsePositives</th>\n",
       "      <th>falseNegatives</th>\n",
       "      <th>precision</th>\n",
       "      <th>sensitivity</th>\n",
       "    </tr>\n",
       "  </thead>\n",
       "  <tbody>\n",
       "    <tr>\n",
       "      <th>6</th>\n",
       "      <td>INDEL</td>\n",
       "      <td>freebayes</td>\n",
       "      <td>100</td>\n",
       "      <td>8</td>\n",
       "      <td>0</td>\n",
       "      <td>92</td>\n",
       "      <td>1.0000</td>\n",
       "      <td>0.0800</td>\n",
       "    </tr>\n",
       "    <tr>\n",
       "      <th>1</th>\n",
       "      <td>INDEL</td>\n",
       "      <td>strelka</td>\n",
       "      <td>100</td>\n",
       "      <td>21</td>\n",
       "      <td>0</td>\n",
       "      <td>79</td>\n",
       "      <td>1.0000</td>\n",
       "      <td>0.2100</td>\n",
       "    </tr>\n",
       "    <tr>\n",
       "      <th>3</th>\n",
       "      <td>INDEL</td>\n",
       "      <td>varscan</td>\n",
       "      <td>100</td>\n",
       "      <td>54</td>\n",
       "      <td>5</td>\n",
       "      <td>46</td>\n",
       "      <td>0.9153</td>\n",
       "      <td>0.5400</td>\n",
       "    </tr>\n",
       "    <tr>\n",
       "      <th>5</th>\n",
       "      <td>SNP</td>\n",
       "      <td>freebayes</td>\n",
       "      <td>957</td>\n",
       "      <td>126</td>\n",
       "      <td>10</td>\n",
       "      <td>831</td>\n",
       "      <td>0.9265</td>\n",
       "      <td>0.1317</td>\n",
       "    </tr>\n",
       "    <tr>\n",
       "      <th>4</th>\n",
       "      <td>SNP</td>\n",
       "      <td>mutect</td>\n",
       "      <td>957</td>\n",
       "      <td>895</td>\n",
       "      <td>38</td>\n",
       "      <td>62</td>\n",
       "      <td>0.9593</td>\n",
       "      <td>0.9352</td>\n",
       "    </tr>\n",
       "    <tr>\n",
       "      <th>0</th>\n",
       "      <td>SNP</td>\n",
       "      <td>strelka</td>\n",
       "      <td>957</td>\n",
       "      <td>882</td>\n",
       "      <td>33</td>\n",
       "      <td>75</td>\n",
       "      <td>0.9639</td>\n",
       "      <td>0.9216</td>\n",
       "    </tr>\n",
       "    <tr>\n",
       "      <th>2</th>\n",
       "      <td>SNP</td>\n",
       "      <td>varscan</td>\n",
       "      <td>957</td>\n",
       "      <td>796</td>\n",
       "      <td>8</td>\n",
       "      <td>161</td>\n",
       "      <td>0.9900</td>\n",
       "      <td>0.8318</td>\n",
       "    </tr>\n",
       "  </tbody>\n",
       "</table>\n",
       "</div>"
      ],
      "text/plain": [
       "  variantType     caller  truthSet  truePositives  falsePositives  falseNegatives  precision  sensitivity\n",
       "6       INDEL  freebayes       100              8               0              92     1.0000       0.0800\n",
       "1       INDEL    strelka       100             21               0              79     1.0000       0.2100\n",
       "3       INDEL    varscan       100             54               5              46     0.9153       0.5400\n",
       "5         SNP  freebayes       957            126              10             831     0.9265       0.1317\n",
       "4         SNP     mutect       957            895              38              62     0.9593       0.9352\n",
       "0         SNP    strelka       957            882              33              75     0.9639       0.9216\n",
       "2         SNP    varscan       957            796               8             161     0.9900       0.8318"
      ]
     },
     "execution_count": 41,
     "metadata": {},
     "output_type": "execute_result"
    }
   ],
   "source": [
    "#PRECISION + SENSITIVITY by caller\n",
    "outputdata = []\n",
    "for columnName in list(df):\n",
    "    if columnName.endswith('allele'):\n",
    "        myCaller = columnName[:-6]\n",
    "        variantTypes = df[(df[myCaller+'allele'] != '')].variantType.unique()\n",
    "        for variantType in variantTypes:\n",
    "            truePositives = len(df[(df[myCaller+'allele'] != '') & (df['Truth'] == True) &(df['variantType'] == variantType)])\n",
    "            positives = len(df[(df[myCaller+'allele'] != '')&(df['variantType'] == variantType)])\n",
    "            truthSet = len(dfTruth[dfTruth['variantType'] == variantType]) \n",
    "            falseNegatives = truthSet - truePositives\n",
    "            if positives > 0:\n",
    "                outputdata.append([variantType, myCaller, truthSet,truePositives,positives-truePositives, falseNegatives, \\\n",
    "                                   round(truePositives/float(positives),4),round(truePositives/float(truthSet),4)])\n",
    "    \n",
    "outputDF = pd.DataFrame(outputdata)\n",
    "outputDF.columns = (['variantType','caller','truthSet','truePositives','falsePositives','falseNegatives','precision','sensitivity'])\n",
    "outputDF.sort_values(['variantType','caller'])"
   ]
  },
  {
   "cell_type": "code",
   "execution_count": 77,
   "metadata": {
    "collapsed": false
   },
   "outputs": [
    {
     "name": "stdout",
     "output_type": "stream",
     "text": [
      "reading vcf file: somatics.merged.vcf\n",
      "Number variants loaded: 1103\n"
     ]
    }
   ],
   "source": [
    "# TEMP DF SLICE for comparison\n",
    "#sliceBed = copy.deepcopy(bed)\n",
    "#dfSlice = aVCF.loadVaraintsFromVCF(SLICE_VCF_PATH,SLICE_VCF_FILE_NAME,SLICE_SAMPLE_NAMES,VCF_SAMPLE,True,sliceBed)\n",
    "#dfSlice['Truth']=dfSlice.chromPos.isin(dfTruth['chromPos']) \n",
    "#dfSlice = dfSlice[(dfSlice.chromFrac > minChromFrac)&(dfSlice.chromFrac < maxChromFrac)]"
   ]
  },
  {
   "cell_type": "code",
   "execution_count": 78,
   "metadata": {
    "collapsed": false
   },
   "outputs": [
    {
     "data": {
      "text/html": [
       "<div>\n",
       "<table border=\"1\" class=\"dataframe\">\n",
       "  <thead>\n",
       "    <tr style=\"text-align: right;\">\n",
       "      <th></th>\n",
       "      <th>variantType</th>\n",
       "      <th>caller</th>\n",
       "      <th>truth</th>\n",
       "      <th>TP</th>\n",
       "      <th>FP</th>\n",
       "      <th>FN</th>\n",
       "      <th>precision</th>\n",
       "      <th>sensitivity</th>\n",
       "    </tr>\n",
       "  </thead>\n",
       "  <tbody>\n",
       "    <tr>\n",
       "      <th>3</th>\n",
       "      <td>INDEL</td>\n",
       "      <td>varscan</td>\n",
       "      <td>100</td>\n",
       "      <td>59</td>\n",
       "      <td>5</td>\n",
       "      <td>41</td>\n",
       "      <td>0.9219</td>\n",
       "      <td>0.590</td>\n",
       "    </tr>\n",
       "    <tr>\n",
       "      <th>2</th>\n",
       "      <td>SNP</td>\n",
       "      <td>varscan</td>\n",
       "      <td>957</td>\n",
       "      <td>867</td>\n",
       "      <td>12</td>\n",
       "      <td>90</td>\n",
       "      <td>0.9863</td>\n",
       "      <td>0.906</td>\n",
       "    </tr>\n",
       "  </tbody>\n",
       "</table>\n",
       "</div>"
      ],
      "text/plain": [
       "  variantType   caller  truth   TP  FP  FN  precision  sensitivity\n",
       "3       INDEL  varscan    100   59   5  41     0.9219        0.590\n",
       "2         SNP  varscan    957  867  12  90     0.9863        0.906"
      ]
     },
     "execution_count": 78,
     "metadata": {},
     "output_type": "execute_result"
    }
   ],
   "source": [
    "#PRECISION + SENSITIVITY by caller - SLICE\n",
    "outputdata = []\n",
    "for columnName in list(dfSlice):\n",
    "    if columnName.endswith('allele'):\n",
    "        myCaller = columnName[:-6]\n",
    "        variantTypes = dfSlice[(dfSlice[myCaller+'allele'] != '')].variantType.unique()\n",
    "        for variantType in variantTypes:\n",
    "            truePositives = len(dfSlice[(dfSlice[myCaller+'allele'] != '') & (dfSlice['Truth'] == True) &(dfSlice['variantType'] == variantType)])\n",
    "            positives = len(dfSlice[(dfSlice[myCaller+'allele'] != '')&(dfSlice['variantType'] == variantType)])\n",
    "            truthSet = len(dfTruth[dfTruth['variantType'] == variantType]) \n",
    "            falseNegatives = truthSet - truePositives\n",
    "            if positives > 0:\n",
    "                outputdata.append([variantType, myCaller, truthSet,truePositives,positives-truePositives, falseNegatives, \\\n",
    "                                   round(truePositives/float(positives),4),round(truePositives/float(truthSet),4)])\n",
    "    \n",
    "outputDF = pd.DataFrame(outputdata)\n",
    "outputDF\n",
    "outputDF.columns = (['variantType','caller','truth','TP','FP','FN','precision','sensitivity'])\n",
    "outputDF[outputDF.caller == 'varscan'].sort_values(['variantType','caller'])"
   ]
  },
  {
   "cell_type": "code",
   "execution_count": 53,
   "metadata": {
    "collapsed": false
   },
   "outputs": [],
   "source": [
    "#dfSlice.head(20)"
   ]
  },
  {
   "cell_type": "code",
   "execution_count": 37,
   "metadata": {
    "collapsed": true
   },
   "outputs": [],
   "source": [
    "#dfTruth['inSlice']=dfTruth.chromPos.isin(dfSlice['chromPos']) "
   ]
  },
  {
   "cell_type": "code",
   "execution_count": null,
   "metadata": {
    "collapsed": false
   },
   "outputs": [],
   "source": [
    "#dfTruth[dfTruth.inSlice == False].head()"
   ]
  },
  {
   "cell_type": "code",
   "execution_count": null,
   "metadata": {
    "collapsed": false
   },
   "outputs": [],
   "source": [
    "df_pivot = df[['numCallers','pos','variantType']].groupby(['variantType','numCallers',]).agg('count')\n",
    "df_pivot.groupby(level=0).transform(lambda x: x/x.sum())"
   ]
  },
  {
   "cell_type": "markdown",
   "metadata": {},
   "source": [
    "<h3> SNP"
   ]
  },
  {
   "cell_type": "code",
   "execution_count": null,
   "metadata": {
    "collapsed": false
   },
   "outputs": [],
   "source": [
    "snpdf = df[(df.variantType == 'SNP')]"
   ]
  },
  {
   "cell_type": "code",
   "execution_count": null,
   "metadata": {
    "collapsed": false
   },
   "outputs": [],
   "source": [
    "snpdf[['Truth','pos']].groupby(['Truth']).agg('count')"
   ]
  },
  {
   "cell_type": "code",
   "execution_count": null,
   "metadata": {
    "collapsed": false
   },
   "outputs": [],
   "source": [
    "pd.pivot_table(snpdf, values='pos', index=['numCallers'], columns=['Truth'], aggfunc='count')"
   ]
  },
  {
   "cell_type": "code",
   "execution_count": null,
   "metadata": {
    "collapsed": false
   },
   "outputs": [],
   "source": [
    "vn.venn([snpdf[snpdf.mutectallele != '']['chromPos'], \\\n",
    "         snpdf[snpdf.strelkaallele != '']['chromPos'], \\\n",
    "        snpdf[snpdf.freebayesallele != '']['chromPos'], \\\n",
    "        snpdf[snpdf.varscanallele != '']['chromPos'] \\\n",
    "        ],['mutect','strelka','freebayes','varscan'],figsize=(6,6))"
   ]
  },
  {
   "cell_type": "markdown",
   "metadata": {},
   "source": [
    "### <hd3> Indel Venn"
   ]
  },
  {
   "cell_type": "code",
   "execution_count": null,
   "metadata": {
    "collapsed": false
   },
   "outputs": [],
   "source": [
    "indeldf= df[(df.variantType == 'INDEL')]"
   ]
  },
  {
   "cell_type": "code",
   "execution_count": null,
   "metadata": {
    "collapsed": false
   },
   "outputs": [],
   "source": [
    "pd.pivot_table(indeldf, values='pos', index=['numCallers','vennSegment'], columns=['Truth'], aggfunc='count')"
   ]
  },
  {
   "cell_type": "code",
   "execution_count": null,
   "metadata": {
    "collapsed": false
   },
   "outputs": [],
   "source": [
    "vn.venn([indeldf[indeldf.strelkaallele != '']['chromPos'], \\\n",
    "        indeldf[indeldf.freebayesallele != '']['chromPos'], \\\n",
    "        indeldf[indeldf.varscanallele != '']['chromPos'] \\\n",
    "        ],['strelka','freebayes','varscan'],figsize=(6,6))"
   ]
  },
  {
   "cell_type": "markdown",
   "metadata": {},
   "source": [
    "### <hd3> Read Depth"
   ]
  },
  {
   "cell_type": "code",
   "execution_count": null,
   "metadata": {
    "collapsed": false
   },
   "outputs": [],
   "source": [
    "for columnName in list(df):\n",
    "    if columnName.endswith('allelicFreq'):\n",
    "        df[df[columnName] != ''].hist(column=columnName,by=\"Truth\",bins=40,figsize=(10,5))\n",
    "        "
   ]
  },
  {
   "cell_type": "code",
   "execution_count": null,
   "metadata": {
    "collapsed": false
   },
   "outputs": [],
   "source": [
    "df[df.freebayesreadDepth != ''].hist(column=\"freebayesallelicFreq\",by=\"Truth\",bins=30)"
   ]
  },
  {
   "cell_type": "markdown",
   "metadata": {},
   "source": [
    "<h3> Allelic Depth"
   ]
  },
  {
   "cell_type": "code",
   "execution_count": null,
   "metadata": {
    "collapsed": false
   },
   "outputs": [],
   "source": [
    "#Alllele Freq By Caller\n",
    "for columnName in list(snpdf):\n",
    "    if columnName.endswith('allele'):\n",
    "        ser = snpdf[(snpdf[columnName] != '') &(snpdf[columnName[:-6] + 'allelicFreq'] > 0.4)][columnName[:-6] + 'allelicFreq']\n",
    "        ser = ser.sort_values()\n",
    "        #ser[len(ser)] = ser.iloc[-1]\n",
    "        cum_dist = np.linspace(0.,1.,len(ser))\n",
    "        ser_cdf = pd.Series(cum_dist, index=ser,name=columnName[:-6]+\": c=\"+str(ser.count())+\" m=\"+str(round(ser.median(),2)))\n",
    "        ser_cdf.plot(drawstyle='steps',legend=True,title=\" Allelic Frequency by Caller (AllelicFreq > 0.4)\",figsize=[15,6])"
   ]
  },
  {
   "cell_type": "code",
   "execution_count": null,
   "metadata": {
    "collapsed": false
   },
   "outputs": [],
   "source": [
    "# BY CALLER BY VENN SEGMENT - Single Caller\n",
    "myCaller = 'freebayes'\n",
    "vennSegments = snpdf[snpdf[myCaller+'allele'] != ''].vennSegment.unique()\n",
    "for vennSegment in vennSegments:\n",
    "    ser = snpdf[(snpdf.vennSegment == vennSegment) & (snpdf[myCaller+'allele'] != '')][myCaller+'allelicFreq']\n",
    "    ser = ser.sort_values()\n",
    "    ser[len(ser)] = ser.iloc[-1]\n",
    "    cum_dist = np.linspace(0.,1.,len(ser))\n",
    "    ser_cdf = pd.Series(cum_dist, index=ser,name=vennSegment+\": c=\"+str(ser.count())+\" m=\"+str(round(ser.median(),2)))\n",
    "    ser_cdf.plot(drawstyle='steps',legend=True,title=myCaller+\" by Venn Segment\",figsize=[15,6])"
   ]
  },
  {
   "cell_type": "code",
   "execution_count": null,
   "metadata": {
    "collapsed": false
   },
   "outputs": [],
   "source": [
    "# BY CALLER BY TRUTH\n",
    "truths = snpdf.Truth.unique()\n",
    "for truth in truths:\n",
    "    for columnName in list(snpdf):\n",
    "        if columnName.endswith('allele'):\n",
    "            ser = snpdf[(snpdf.Truth == truth) &(snpdf[columnName] != '')][columnName[:-6] + 'allelicFreq']\n",
    "            ser = ser.sort_values()\n",
    "            #ser[len(ser)] = ser.iloc[-1]\n",
    "            cum_dist = np.linspace(0.,1.,len(ser))\n",
    "            ser_cdf = pd.Series(cum_dist, index=ser,name=columnName[:-6]+\" \"+str(truth)+\": c=\"+str(ser.count())+\" m=\"+str(round(ser.median(),2)))\n",
    "            ser_cdf.plot(drawstyle='steps',legend=True,title=\" Allelic Frequency by Caller and Truth\",figsize=[15,6])"
   ]
  },
  {
   "cell_type": "code",
   "execution_count": null,
   "metadata": {
    "collapsed": false
   },
   "outputs": [],
   "source": [
    "#  BY VENN SEGMENT - Single Caller - FALSE POSITIVES\n",
    "myCaller = 'freebayes'\n",
    "vennSegments = snpdf[(snpdf[myCaller+'allele'] != '') & (snpdf.Truth == False)].vennSegment.unique()\n",
    "for vennSegment in vennSegments:\n",
    "    ser = snpdf[(snpdf.vennSegment == vennSegment) & (snpdf[myCaller+'allele'] != '') & (snpdf.Truth == False) ][myCaller+'allelicFreq']\n",
    "    ser = ser.sort_values()\n",
    "    ser[len(ser)] = ser.iloc[-1]\n",
    "    cum_dist = np.linspace(0.,1.,len(ser))\n",
    "    ser_cdf = pd.Series(cum_dist, index=ser,name=vennSegment+\": c=\"+str(ser.count())+\" m=\"+str(round(ser.median(),2)))\n",
    "    ser_cdf.plot(drawstyle='steps',legend=True,title=myCaller+\" FP by Venn Segment\",figsize=[15,6])"
   ]
  },
  {
   "cell_type": "markdown",
   "metadata": {},
   "source": [
    "### Allelic Depth Scatter Plot"
   ]
  },
  {
   "cell_type": "code",
   "execution_count": null,
   "metadata": {
    "collapsed": false
   },
   "outputs": [],
   "source": [
    "caller1 = 'varscan'\n",
    "caller2 = 'strelka'\n",
    "tempdf = df[(df[caller1+'allele']!='')&(df[caller2+'allele']!='')]\n",
    "tempdf.head()\n",
    "tempdf.plot.scatter(caller1+'allelicFreq',caller2+'allelicFreq' \\\n",
    "                        ,figsize=[6,6] \\\n",
    "                        ,title=\"Comparison of \"+caller1+\" and \"+caller2+\" Allelic Frequency\" \\\n",
    "                        ,xlim=[0,1],ylim=[0,1])"
   ]
  },
  {
   "cell_type": "markdown",
   "metadata": {},
   "source": [
    "<h3> RAINBOW CHARTS"
   ]
  },
  {
   "cell_type": "code",
   "execution_count": null,
   "metadata": {
    "collapsed": false
   },
   "outputs": [],
   "source": [
    "## RAINBOW\n",
    "caller = 'freebayes'\n",
    "plt.scatter(df[(df[caller+'allele']!='')& (df['Truth'] == True)&(df['chrom'] == '22')]['chromFrac'], \\\n",
    "            df[(df[caller+'allele']!='')& (df['Truth'] == True)&(df['chrom'] == '22')][caller+'allelicFreq'], \\\n",
    "            s=10, c='b', marker=\"s\")"
   ]
  },
  {
   "cell_type": "code",
   "execution_count": null,
   "metadata": {
    "collapsed": false
   },
   "outputs": [],
   "source": [
    "## RAINBOW\n",
    "caller = 'freebayes'\n",
    "plt.scatter(df[(df[caller+'allele']!='')& (df['Truth'] == False)&(df['chrom'] == '22')]['chromFrac'], \\\n",
    "            df[(df[caller+'allele']!='')& (df['Truth'] == False)&(df['chrom'] == '22')][caller+'allelicFreq'], \\\n",
    "            s=10, c='b', marker=\"s\")"
   ]
  },
  {
   "cell_type": "markdown",
   "metadata": {},
   "source": [
    "<h3> Overlapping Analysis"
   ]
  },
  {
   "cell_type": "code",
   "execution_count": null,
   "metadata": {
    "collapsed": false
   },
   "outputs": [],
   "source": [
    "#NEEDS REFACTORING TO SUPPORT NEW DF FORMAT\n",
    "'''\n",
    "sorteddf = df.sort(['chromFrac'], ascending=1)\n",
    "sorteddf['nextRef'] = sorteddf['ref'].shift(-2)\n",
    "sorteddf['nextPos'] = sorteddf['pos'].shift(-2)\n",
    "sorteddf['nextChrom'] = sorteddf['chrom'].shift(-2)\n",
    "sorteddf['nextVT'] = sorteddf['variantType'].shift(-2)\n",
    "sorteddf['nextAlleleTumor1'] = sorteddf['alleleTumor1'].shift(-2)\n",
    "sorteddf['nextAlleleTumor2'] = sorteddf['alleleTumor2'].shift(-2)\n",
    "sorteddf['nextVennSegment'] = sorteddf['vennSegment'].shift(-2)\n",
    "sorteddf['lengthRef'] = sorteddf['ref'].str.len()\n",
    "sorteddf['Dist2Next'] = -sorteddf['pos'].astype(int).diff(-2)\n",
    "\n",
    "overlapdf = sorteddf[(sorteddf['lengthRef']+0>sorteddf['Dist2Next']) & (sorteddf['Dist2Next']>0)]\n",
    "overlapdf.head(20)\n",
    "'''"
   ]
  },
  {
   "cell_type": "code",
   "execution_count": null,
   "metadata": {
    "collapsed": false
   },
   "outputs": [],
   "source": [
    "#NEEDS REFACTORING TO SUPPORT NEW DF FORMAT\n",
    "'''\n",
    "filtereddf = overlapdf[(~overlapdf.vennSegment.isin(['freebayes','varscan','strelka1'])) \\\n",
    "                       & (overlapdf.vennSegment.str.contains('varscan')) \\\n",
    "                       #& (~overlapdf.nextVennSegment.str.contains('varscan')) \\\n",
    "                       & (overlapdf.variantType == 'INDEL') \\\n",
    "                       #& (overlapdf.variantSubType == 'DELETE')\n",
    "                       & (overlapdf.variantType == overlapdf.nextVT)]\n",
    "filtereddf[['nextVennSegment','vennSegment','variantType','nextVT','Dist2Next','lengthRef','ref','alleleTumor2', \\\n",
    "            'nextRef','nextAlleleTumor2','variantSubType','chrom','pos']].count()\n",
    "'''"
   ]
  }
 ],
 "metadata": {
  "kernelspec": {
   "display_name": "Python 2",
   "language": "python",
   "name": "python2"
  },
  "language_info": {
   "codemirror_mode": {
    "name": "ipython",
    "version": 2
   },
   "file_extension": ".py",
   "mimetype": "text/x-python",
   "name": "python",
   "nbconvert_exporter": "python",
   "pygments_lexer": "ipython2",
   "version": "2.7.10"
  }
 },
 "nbformat": 4,
 "nbformat_minor": 0
}
