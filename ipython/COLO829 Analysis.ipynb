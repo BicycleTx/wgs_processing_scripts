{
 "cells": [
  {
   "cell_type": "code",
   "execution_count": null,
   "metadata": {
    "collapsed": false
   },
   "outputs": [],
   "source": [
    "import os\n",
    "import pandas as pd\n",
    "import numpy as np\n",
    "import copy\n",
    "import sys\n",
    "import matplotlib.pyplot as plt\n",
    "%matplotlib inline\n",
    "pd.set_option('display.max_rows', 150)\n",
    "pd.set_option('display.max_columns', 50)\n",
    "sys.path.append(\"/Users/peterpriestley/hmf/repos/scripts/analysisscripts\") \n",
    "import chromosomeDefinition as cd\n",
    "import analyseVCF as aVCF\n",
    "from scipy.stats import norm\n",
    "from sklearn.neighbors import KernelDensity"
   ]
  },
  {
   "cell_type": "code",
   "execution_count": null,
   "metadata": {
    "collapsed": false
   },
   "outputs": [],
   "source": [
    "from IPython.core.display import display, HTML\n",
    "display(HTML(\"<style>.container { width:100% !important; }</style>\"))"
   ]
  },
  {
   "cell_type": "code",
   "execution_count": null,
   "metadata": {
    "collapsed": true
   },
   "outputs": [],
   "source": [
    "CNV_COLUMNS = ['chrom','posStart','posEnd','copyNum','gainOrLoss','BAF','score','germlineOrSomatic','oneOrZero']\n",
    "GENECNV_COLUMNS = ['patientName','gene','chrom','posStart','posEnd','minCopyNum','cnvLabel']"
   ]
  },
  {
   "cell_type": "code",
   "execution_count": null,
   "metadata": {
    "collapsed": false
   },
   "outputs": [],
   "source": [
    "# LOAD BED\n",
    "BED_PATH = \"/Users/peterpriestley/hmf/analyses/giabTruthsets/\"\n",
    "BED_FILE_NAME = \"NA12878_GIAB_highconf_IllFB-IllGATKHC-CG-Ion-Solid_ALLCHROM_v3.2.2_highconf.bed\"\n",
    "#BED_PATH = \"/Users/peterpriestley/hmf/analyses/slices/\"  #HMF_Slicing.bed\n",
    "#BED_FILE_NAME = \"HMF_Slicing.bed\" \n",
    "USE_BED = True\n",
    "LOAD_FULL_FILE = True"
   ]
  },
  {
   "cell_type": "markdown",
   "metadata": {},
   "source": [
    "### FUNCTIONS"
   ]
  },
  {
   "cell_type": "code",
   "execution_count": null,
   "metadata": {
    "collapsed": false
   },
   "outputs": [],
   "source": [
    "def findFiles(path,suffix):\n",
    "    files=[]\n",
    "    for x in os.listdir(path):\n",
    "        if x[-len(suffix):] == suffix:\n",
    "            files.append(x)\n",
    "    return files"
   ]
  },
  {
   "cell_type": "code",
   "execution_count": null,
   "metadata": {
    "collapsed": false
   },
   "outputs": [],
   "source": [
    "def loadCNVforPatient(cnvFile,patientName):\n",
    "    dfTumorCNV = pd.read_table(cnvFile, names = CNV_COLUMNS )\n",
    "    #add regions with default copy number\n",
    "    last = dfTumorCNV.iloc[0]\n",
    "    for i in range(1, dfTumorCNV.shape[0]-1):\n",
    "        if last['posEnd']<>dfTumorCNV.iloc[i]['posStart']:\n",
    "            if last['chrom']==dfTumorCNV.iloc[i]['chrom']:\n",
    "                dfTumorCNV.loc[len(dfTumorCNV)] = [last['chrom'],last['posEnd'], dfTumorCNV.iloc[i]['posStart']-1,2,'none','','',0,0]\n",
    "            else:\n",
    "                dfTumorCNV.loc[len(dfTumorCNV)] = [last['chrom'],last['posEnd'], cd.chromosomeLength[last['chrom']],2,'none','','',0,0]\n",
    "                if dfTumorCNV.iloc[i]['posStart']<>0:\n",
    "                    dfTumorCNV.loc[len(dfTumorCNV)] = [dfTumorCNV.iloc[i]['chrom'],0, dfTumorCNV.iloc[i]['posStart'],2,'none','','',0,0]\n",
    "        last = dfTumorCNV.iloc[i]\n",
    "    #fix first record\n",
    "    if dfTumorCNV.iloc[0]['posStart']<>0:\n",
    "        dfTumorCNV.loc[len(dfTumorCNV)] = ['1',0, dfTumorCNV.iloc[0]['posStart'],2,'none','','',0,0]\n",
    "    #Additional Fields\n",
    "    dfTumorCNV['chromPos']= dfTumorCNV['chrom'].apply(lambda x: cd.intChrom(x)) + dfTumorCNV['posStart'] / dfTumorCNV['chrom'].apply(lambda x: cd.chromosomeLength[str(x)])\n",
    "    dfTumorCNV['chrom'] = dfTumorCNV['chrom'].apply(lambda x: cd.intChrom(x))\n",
    "    dfTumorCNV['cappedCopyNum'] = dfTumorCNV['copyNum'].clip(upper=5)\n",
    "    dfTumorCNV = dfTumorCNV.sort_values([\"chrom\",\"posStart\",\"posEnd\"]).reset_index()\n",
    "    dfTumorCNV['regionLength'] = (dfTumorCNV['posEnd']-dfTumorCNV['posStart'])\n",
    "    dfTumorCNV['patientName']=patientName\n",
    "    return dfTumorCNV"
   ]
  },
  {
   "cell_type": "code",
   "execution_count": null,
   "metadata": {
    "collapsed": true
   },
   "outputs": [],
   "source": [
    "def calculateMBAFBetween(chrom,minPos,maxPos):\n",
    "    dftemp = dfBAF[(dfBAF.Chromosome==chrom)&(dfBAF.Position>minPos)&(dfBAF.Position<maxPos)]\n",
    "    return dftemp['mBAF'].median(),dftemp['mBAF'].count()"
   ]
  },
  {
   "cell_type": "code",
   "execution_count": null,
   "metadata": {
    "collapsed": true
   },
   "outputs": [],
   "source": [
    "def loadBAFData(bafFile):\n",
    "    df = pd.read_table(bafFile)\n",
    "    return df"
   ]
  },
  {
   "cell_type": "code",
   "execution_count": null,
   "metadata": {
    "collapsed": false
   },
   "outputs": [],
   "source": [
    "def cnvChart(dfTumorCNV,filename,minChrom=1,maxChrom=23):\n",
    "    plt.figure(figsize=[18,3])\n",
    "    plt.title(filename)\n",
    "    ax = plt.gca()\n",
    "    ax.plot(dfTumorCNV['chromPos'], dfTumorCNV['copyNum'],drawstyle=\"steps-post\")\n",
    "    ax.axis([minChrom, maxChrom, 0, 6])\n",
    "       "
   ]
  },
  {
   "cell_type": "code",
   "execution_count": null,
   "metadata": {
    "collapsed": false
   },
   "outputs": [],
   "source": [
    "def cnvLabel(copyNumber):\n",
    "    if copyNumber < 2:\n",
    "        return 'loss'\n",
    "    elif copyNumber > 2:\n",
    "        return 'amplification'\n",
    "    else:\n",
    "        return'normal'"
   ]
  },
  {
   "cell_type": "code",
   "execution_count": null,
   "metadata": {
    "collapsed": false
   },
   "outputs": [],
   "source": [
    "def createBAF(dfGermline):\n",
    "    dfBAF = dfGermline[(dfGermline['variantType']==\"SNP\")&(dfGermline['normalSGT']==\"0/1\")&(dfGermline['normalAF']>0.4) \\\n",
    "                   &(dfGermline['normalAF']<0.65)&(dfGermline['normalDP']>50)&\\\n",
    "                   (dfGermline['normalDP']<100)][['chrom','pos','tumorAF']]\n",
    "    dfBAF.columns = ['Chromosome', 'Position','BAF']\n",
    "    dfBAF['Position'] = pd.to_numeric(dfBAF['Position'])\n",
    "    dfBAF['mBAF']= 0.5+abs(dfBAF['BAF']-0.5)\n",
    "    dfBAF['chromPos']= dfBAF['Chromosome'].apply(lambda x: cd.intChrom(x)) + dfBAF['Position'] / dfBAF['Chromosome'].apply(lambda x: cd.chromosomeLength[str(x)])\n",
    "    dfBAF['Chromosome']= dfBAF['Chromosome'].apply(lambda x: cd.intChrom(x))\n",
    "    return dfBAF"
   ]
  },
  {
   "cell_type": "code",
   "execution_count": null,
   "metadata": {
    "collapsed": true
   },
   "outputs": [],
   "source": [
    "def patientIDFromFilename(filename):\n",
    "    patientIDStart = filename.find(\"CPCT02\")\n",
    "    return filename[patientIDStart:patientIDStart+12]"
   ]
  },
  {
   "cell_type": "code",
   "execution_count": null,
   "metadata": {
    "collapsed": false
   },
   "outputs": [],
   "source": [
    "def germlineVCFSampleNames(filename,patientID):\n",
    "    return {patientID+'R':'normal',patientID+'T':'tumor'}"
   ]
  },
  {
   "cell_type": "code",
   "execution_count": null,
   "metadata": {
    "collapsed": false
   },
   "outputs": [],
   "source": [
    "def loadVCF(path,filename,sampleNames,patientID):\n",
    "    df = pd.DataFrame()\n",
    "    if USE_BED:\n",
    "        bed = aVCF.loadBEDFile(BED_PATH,BED_FILE_NAME)\n",
    "        return pd.concat([df,aVCF.loadVariantsFromVCF(path,filename,sampleNames,patientID,True,True,bed,LOAD_FULL_FILE)])\n",
    "    else:\n",
    "        return pd.concat([df,aVCF.loadVariantsFromVCF(path,filename,sampleNames,patientID,True)])"
   ]
  },
  {
   "cell_type": "code",
   "execution_count": null,
   "metadata": {
    "collapsed": true
   },
   "outputs": [],
   "source": [
    "def AFByPosPlot(pos,AF,startChartPos,endChartPos):\n",
    "    plt.figure(figsize=[18,3])\n",
    "    plt.scatter(pos, AF)\n",
    "    plt.grid(b=True, which='both', color='0.65',linestyle='-')\n",
    "    plt.axis([startChartPos, endChartPos,0, 1.0])\n",
    "    plt.show()"
   ]
  },
  {
   "cell_type": "code",
   "execution_count": null,
   "metadata": {
    "collapsed": true
   },
   "outputs": [],
   "source": [
    "def loadPON(aPath,aPONFile):\n",
    "    myPON = []\n",
    "    with open(aPath + aPONFile, 'r') as f:\n",
    "        for line in f:\n",
    "            line = line.strip('\\n')\n",
    "            splitLine = line.split('\\t')\n",
    "            myPON.append(splitLine)\n",
    "    dfPON = pd.DataFrame(myPON)\n",
    "    dfPON.columns = ['chrom','pos','ref','alt','PONCount']\n",
    "    return dfPON"
   ]
  },
  {
   "cell_type": "code",
   "execution_count": null,
   "metadata": {
    "collapsed": true
   },
   "outputs": [],
   "source": [
    "def positionChart(dfCNV,filename,fieldName,minChrom=1,maxChrom=23,maxValue=10):\n",
    "    plt.figure(figsize=[18,2])\n",
    "    plt.title(filename+\" \"+fieldName)\n",
    "    ax = plt.gca()\n",
    "    ax.plot(dfCNV['chromPos'], dfCNV[fieldName],drawstyle=\"steps-post\")\n",
    "    ax.axis([minChrom, maxChrom, 0, maxValue])"
   ]
  },
  {
   "cell_type": "code",
   "execution_count": null,
   "metadata": {
    "collapsed": true
   },
   "outputs": [],
   "source": [
    "def findPeaks(log_dens,X_range):\n",
    "    peaks = []\n",
    "    troughs = []\n",
    "    dens=np.exp(log_dens)\n",
    "    diff = [dens[x] - dens[x-1] for x in range(1,len(dens))]\n",
    "    for i in range (len(diff)-1):\n",
    "        if diff[i+1] < 0 and diff[i] > 0:\n",
    "            peaks.append(float(i+1)/len(dens)*X_range)\n",
    "        if diff[i+1] > 0 and diff[i] < 0:\n",
    "            troughs.append(float(i+1)/len(dens)*X_range)\n",
    "    return peaks#, troughs"
   ]
  },
  {
   "cell_type": "code",
   "execution_count": null,
   "metadata": {
    "collapsed": true
   },
   "outputs": [],
   "source": [
    "def nonZeroCountBetween(chrom,minPos,maxPos):\n",
    "    temp = dfTumorRatio[(dfTumorRatio.Chromosome==chrom)&(dfTumorRatio.Start>minPos)&\\\n",
    "                       (dfTumorRatio.Start<maxPos)&(dfTumorRatio.Ratio_x<>-1)]\n",
    "    return temp['Start'].count(),temp['Ratio_x'].mean(),temp['Ratio_y'].mean(),temp['MedianRatio_x'].mean(),temp['MedianRatio_y'].mean()"
   ]
  },
  {
   "cell_type": "code",
   "execution_count": null,
   "metadata": {
    "collapsed": true
   },
   "outputs": [],
   "source": [
    "def fitBAFPeak(mBAF):\n",
    "    return min(mBAFPeaks, key=lambda x:abs(x-mBAF))\n",
    "\n",
    "def fitCNVPeak(ratio):\n",
    "    return min(cnvPeaks, key=lambda x:abs(x-ratio))"
   ]
  },
  {
   "cell_type": "code",
   "execution_count": null,
   "metadata": {
    "collapsed": true
   },
   "outputs": [],
   "source": [
    "def pdfChart(log_dens,maxYValue=8):\n",
    "    fig, ax = plt.subplots()\n",
    "    ax.plot(X_plot[:, 0], np.exp(log_dens), '-',\n",
    "            label=\"kernel = '{0}'\".format('gaussian'))\n",
    "    ax.legend(loc='upper right')\n",
    "    fig.set_figwidth(10)\n",
    "    fig.set_figheight(2)\n",
    "    #ax.set_xlim(0, 1)\n",
    "    ax.set_ylim(-0.02, maxYValue)\n",
    "    ax.grid(b=True, which='both', color='0.65',linestyle='-')\n",
    "    plt.show()"
   ]
  },
  {
   "cell_type": "code",
   "execution_count": null,
   "metadata": {
    "collapsed": false
   },
   "outputs": [],
   "source": [
    "def runGeneCNVAnalysis(dfCNV,bed,patientName):\n",
    "    geneList =[]\n",
    "    for bedrow in bed:\n",
    "        bedChromPosStart = cd.intChrom(bedrow[0]) + float(bedrow[1])/cd.chromosomeLength[bedrow[0]]\n",
    "        bedChromPosEnd = cd.intChrom(bedrow[0]) + float(bedrow[2])/cd.chromosomeLength[bedrow[0]]\n",
    "        prevCNV = max(dfCNV[(dfCNV['chromPos'] < bedChromPosStart)].index.tolist())\n",
    "        if dfCNV[(dfCNV['chromPos'] > bedChromPosEnd) ].index.tolist():\n",
    "            nextCNV = min(dfCNV[(dfCNV['chromPos'] > bedChromPosEnd) ].index.tolist())\n",
    "            minCopyNum = min(([dfCNV.iloc[x]['myCopyNum']]) for x in range (prevCNV,nextCNV)) \n",
    "        else:\n",
    "            minCopyNum = [-1]\n",
    "        geneList.append([patientName,bedrow[3],bedrow[0],bedrow[1],bedrow[2],minCopyNum[0],cnvLabel(minCopyNum[0])])\n",
    "    return geneList\n"
   ]
  },
  {
   "cell_type": "markdown",
   "metadata": {},
   "source": [
    "### LOAD PON"
   ]
  },
  {
   "cell_type": "code",
   "execution_count": null,
   "metadata": {
    "collapsed": true
   },
   "outputs": [],
   "source": [
    "def loadPONvcf(PONFile):\n",
    "    numHeaderRows = 0\n",
    "    with open(PONFile) as fp:\n",
    "        while fp.readline()[0]=='#':\n",
    "            numHeaderRows = numHeaderRows+1\n",
    "    dfPON = pd.read_table(PONFile,skiprows =numHeaderRows-1, dtype={'#CHROM':'str','POS':'str'})  #names = CNV_COLUMNS\n",
    "    dfPON['PON_COUNT'] = dfPON['INFO'].apply(lambda x: x.split('=')[1])\n",
    "    dfPON.rename(columns={'#CHROM': 'chrom', 'POS': 'pos','REF':'ref','ALT':'alt'}, inplace=True)\n",
    "    return dfPON\n",
    "\n",
    "dfPON = loadPONvcf(\"/Users/peterpriestley/hmf/analyses/PON/PON.vcf\")"
   ]
  },
  {
   "cell_type": "markdown",
   "metadata": {},
   "source": [
    "### FIND ALL FILES"
   ]
  },
  {
   "cell_type": "code",
   "execution_count": null,
   "metadata": {
    "collapsed": true
   },
   "outputs": [],
   "source": [
    "PATH = \"/Users/peterpriestley/hmf/analyses/COLO829/\""
   ]
  },
  {
   "cell_type": "code",
   "execution_count": null,
   "metadata": {
    "collapsed": false
   },
   "outputs": [],
   "source": [
    "germlineVCFFilename = findFiles(PATH,\"SLICED.vcf\")[0]\n",
    "somaticVCFFilename = findFiles(PATH,\"melted.vcf\")[0]\n",
    "patientID = \"COLO829\"\n",
    "tumorCNVFileName=findFiles(PATH,\"gz_CNVs\")[0]\n",
    "normalCNVFileName=findFiles(PATH,\"normal_CNVs\")[0]\n",
    "tumorRatioFileName=findFiles(PATH,\"gz_ratio.txt\")[0]\n",
    "normalRatioFileName=findFiles(PATH,\"gz_normal_ratio.txt\")[0]\n",
    "print \"germline =\",germlineVCFFilename\n",
    "print \"somatic =\",somaticVCFFilename\n",
    "print \"patient =\",patientID\n",
    "print \"CNV =\",tumorCNVFileName"
   ]
  },
  {
   "cell_type": "markdown",
   "metadata": {},
   "source": [
    "### LOAD VCFS"
   ]
  },
  {
   "cell_type": "code",
   "execution_count": null,
   "metadata": {
    "collapsed": false
   },
   "outputs": [],
   "source": [
    "#LOAD VCFS\n",
    "dfGermline = loadVCF(PATH,germlineVCFFilename,{patientID+'BL':'normal',patientID:'tumor'},patientID)\n",
    "dfSomatic = loadVCF(PATH,somaticVCFFilename,{patientID:'melted'},patientID)"
   ]
  },
  {
   "cell_type": "code",
   "execution_count": null,
   "metadata": {
    "collapsed": true
   },
   "outputs": [],
   "source": [
    "somaticTruthVCFFilename = findFiles(PATH,\"validated.vcf\")[0]"
   ]
  },
  {
   "cell_type": "code",
   "execution_count": null,
   "metadata": {
    "collapsed": false
   },
   "outputs": [],
   "source": [
    "#dfSomaticTruth = loadVCF(PATH,somaticTruthVCFFilename,{'COLO_829_Illumina':'truth','COLO_829_EPleasance':'EP','COLO_829_TGEN':'TGEN','COLO_829_GSC':'GSC'}\n",
    "#,patientID)\n"
   ]
  },
  {
   "cell_type": "code",
   "execution_count": null,
   "metadata": {
    "collapsed": false
   },
   "outputs": [],
   "source": [
    "dfSomaticTruth = loadVCF(PATH,somaticTruthVCFFilename,{'COLO_829_Illumina':'truth'},patientID)\n",
    "dfSomaticTruth.head()"
   ]
  },
  {
   "cell_type": "code",
   "execution_count": null,
   "metadata": {
    "collapsed": false
   },
   "outputs": [],
   "source": [
    "dfSomaticTruth['alt'] = dfSomaticTruth['truthallele']\n",
    "dfSomatic['alt'] = dfSomatic['meltedallele']\n",
    "dfSomaticTruth = dfSomaticTruth[['chrom','pos','ref','alt','truthDP','truthAF']]\n",
    "dfSomatic = pd.merge(dfSomatic,dfSomaticTruth,how='left', on=['chrom','pos','ref','alt'])\n",
    "dfSomatic['inTruth']=(~dfSomatic.truthAF.isnull())"
   ]
  },
  {
   "cell_type": "code",
   "execution_count": null,
   "metadata": {
    "collapsed": false
   },
   "outputs": [],
   "source": [
    "# APPLY PON to SOMATICs\n",
    "dfSomatic['alt'] = dfSomatic['meltedallele']\n",
    "dfSomatic = pd.merge(dfSomatic,dfPON,how='left', on=['chrom','pos','ref','alt'])\n",
    "dfSomatic['PON_COUNT'].fillna(0, inplace=True)\n",
    "dfSomatic['inPON'] = pd.to_numeric(dfSomatic.PON_COUNT,errors=coerce)>4"
   ]
  },
  {
   "cell_type": "code",
   "execution_count": null,
   "metadata": {
    "collapsed": false
   },
   "outputs": [],
   "source": [
    "pd.pivot_table(dfSomatic[dfSomatic.consensus==True], values='pos', index=['variantType'], columns=['inPON'], aggfunc='count',margins=True).fillna(\"\")"
   ]
  },
  {
   "cell_type": "code",
   "execution_count": null,
   "metadata": {
    "collapsed": false
   },
   "outputs": [],
   "source": [
    "for truth in [True,False]:\n",
    "    ser = dfSomatic[(dfSomatic['consensus']==True)&(dfSomatic['inPON']==False)&(dfSomatic.inTruth==truth)&(dfSomatic.variantType=='INDEL')]['meltedAF']\n",
    "    ser = ser.sort_values()\n",
    "    cum_dist = np.linspace(0.,1.,len(ser))\n",
    "    ser_cdf = pd.Series(cum_dist, index=ser,name=str(truth)+\": c=\"+str(ser.count())+\" m=\"+str(round(ser.median(),2)))\n",
    "    ser_cdf.plot(drawstyle='steps',legend=True,title=\" Allelic Frequency for SNP in Truth Set and NOT in Truth Set\",figsize=[15,3],xlim=[0,1])"
   ]
  },
  {
   "cell_type": "code",
   "execution_count": null,
   "metadata": {
    "collapsed": false
   },
   "outputs": [],
   "source": [
    "variantType = 'INDEL'\n",
    "plt.figure(figsize=[18,4])\n",
    "plt.hist([dfSomatic[(dfSomatic['consensus']==True)&(dfSomatic['inPON']==False)&(dfSomatic.inTruth==True)&\n",
    "    (dfSomatic.variantType==variantType)]['meltedAF'].values,dfSomatic[(dfSomatic['consensus']==True)&\n",
    "    (dfSomatic['inPON']==False)&(dfSomatic.inTruth==False)&(dfSomatic.variantType==variantType)]['meltedAF'].values],\n",
    "    cumulative=False, normed=True, bins=50,range=(0.0,1.0),histtype='bar',stacked = False,rwidth=0.8,label=['True','False'])\n",
    "plt.title('normalised count of variant type '+variantType+' by AF')\n",
    "plt.legend()\n",
    "plt.show()"
   ]
  },
  {
   "cell_type": "markdown",
   "metadata": {},
   "source": [
    "### Load BAF and CNV and calculate median BAF per segment"
   ]
  },
  {
   "cell_type": "code",
   "execution_count": null,
   "metadata": {
    "collapsed": false
   },
   "outputs": [],
   "source": [
    "dfBAF = createBAF(dfGermline)"
   ]
  },
  {
   "cell_type": "code",
   "execution_count": null,
   "metadata": {
    "collapsed": false
   },
   "outputs": [],
   "source": [
    "dfBAF[['Chromosome','Position','mBAF']].to_csv(PATH+'COLO829.BAF','\\t')"
   ]
  },
  {
   "cell_type": "code",
   "execution_count": null,
   "metadata": {
    "collapsed": false
   },
   "outputs": [],
   "source": [
    "dfBAF[['Chromosome','Position','mBAF']].head()"
   ]
  },
  {
   "cell_type": "code",
   "execution_count": null,
   "metadata": {
    "collapsed": false,
    "scrolled": false
   },
   "outputs": [],
   "source": [
    "dfTumorCNV = loadCNVforPatient(PATH+tumorCNVFileName,patientID)\n",
    "dfNormalCNV = loadCNVforPatient(PATH+normalCNVFileName,patientID)\n",
    "dfTumorCNV['mBAF'], dfTumorCNV['mBAFCount'] = np.vectorize(calculateMBAFBetween)(dfTumorCNV['chrom'], dfTumorCNV['posStart'],dfTumorCNV['posEnd'])\n",
    "cnvChart(dfTumorCNV,tumorCNVFileName,1,24)"
   ]
  },
  {
   "cell_type": "markdown",
   "metadata": {},
   "source": [
    "### TUMOR PURITY"
   ]
  },
  {
   "cell_type": "code",
   "execution_count": null,
   "metadata": {
    "collapsed": false
   },
   "outputs": [],
   "source": [
    "c,fractionMin,fractionMax = 1,0,22\n",
    "dfSom = dfBAF[(dfBAF.chromPos>c+fractionMin)&(dfBAF.chromPos<c+fractionMax)]\n",
    "AFByPosPlot(dfSom.chromPos, dfSom.BAF,c+fractionMin, c+fractionMax)\n",
    "# CNV according to freeC\n",
    "plt.figure(figsize=[5,2])\n",
    "plt.hist(dfTumorCNV['copyNum'].values,cumulative=False, normed=True, bins=20,range=(0,10),weights=dfTumorCNV['regionLength'].values)\n",
    "plt.show()\n",
    "# should only use regions with mbaf > x\n",
    "c,fractionMin,fractionMax = 1,0,22\n",
    "dftemp = dfTumorCNV[(dfTumorCNV.mBAF>=0.0)&(dfTumorCNV.mBAF<=1.0)&(dfTumorCNV.mBAFCount>20)&(dfTumorCNV.chromPos<=c+fractionMax)&(dfTumorCNV.chromPos>=c+fractionMin)]\n",
    "plt.figure(figsize=[18,2])\n",
    "for CNV in range(0,6):\n",
    "    plt.hist(dftemp[(dftemp.copyNum==CNV)]['mBAF'].values,cumulative=False, normed=False, bins=50,range=(0.5,1.0),weights=dftemp[(dftemp.copyNum==CNV)]['mBAFCount'].values,stacked = True,rwidth=0.8,label='CNV ='+str(CNV))\n",
    "    plt.legend()\n",
    "plt.show()"
   ]
  },
  {
   "cell_type": "code",
   "execution_count": null,
   "metadata": {
    "collapsed": false
   },
   "outputs": [],
   "source": [
    "dfTumorCNV[(dfTumorCNV.chrom==10)&(dfTumorCNV.copyNum>=0)&(dfTumorCNV.mBAF>0.56)&(dfTumorCNV.mBAF<10.62)\\\n",
    "      &(dfTumorCNV.mBAFCount>100)][['chrom','posStart','copyNum','chromPos','regionLength','mBAF','mBAFCount']]"
   ]
  },
  {
   "cell_type": "markdown",
   "metadata": {},
   "source": [
    "### SOMATIC AF"
   ]
  },
  {
   "cell_type": "code",
   "execution_count": null,
   "metadata": {
    "collapsed": false
   },
   "outputs": [],
   "source": [
    "#dfSomatic[(dfSomatic.consensus==True)&((dfSomatic.annWorstImpact=='MODERATE')|(dfSomatic.annWorstImpact=='HIGH'))]"
   ]
  },
  {
   "cell_type": "code",
   "execution_count": null,
   "metadata": {
    "collapsed": false
   },
   "outputs": [],
   "source": [
    "pd.pivot_table(dfSomatic[dfSomatic.consensus==True], values='pos', index=['patientName','variantType','inPON'], columns=['inTruth'], aggfunc='count',margins=False).fillna(\"\")"
   ]
  },
  {
   "cell_type": "code",
   "execution_count": null,
   "metadata": {
    "collapsed": false
   },
   "outputs": [],
   "source": [
    "pd.pivot_table(dfSomatic[(dfSomatic.variantType == 'SNP')&(dfSomatic.consensus == True)&(dfSomatic.inPON == False)], values='pos', index=['ref'], columns=['meltedallele'], aggfunc='count',margins=True).fillna(\"\")"
   ]
  },
  {
   "cell_type": "code",
   "execution_count": null,
   "metadata": {
    "collapsed": false
   },
   "outputs": [],
   "source": [
    "c,fractionMin,fractionMax = 1,0,22\n",
    "dfSom = dfSomatic[(dfSomatic['variantType']==\"SNP\")&(dfSomatic['inPON']==False)&(dfSomatic['consensus']==True)&(dfSomatic.chromFrac>c+fractionMin)&(dfSomatic.chromFrac<c+fractionMax)]\n",
    "AFByPosPlot(dfSom.chromFrac, dfSom.meltedAF,c+fractionMin, c+fractionMax)"
   ]
  },
  {
   "cell_type": "code",
   "execution_count": null,
   "metadata": {
    "collapsed": false,
    "scrolled": false
   },
   "outputs": [],
   "source": [
    "c,fractionMin,fractionMax = 12,0,1\n",
    "dfTemp = dfBAF[(dfBAF.chromPos>c+fractionMin)&(dfBAF.chromPos<c+fractionMax)]\n",
    "AFByPosPlot(dfTemp.chromPos, dfTemp.BAF,c+fractionMin, c+fractionMax)\n",
    "dfSom = dfSomatic[(dfSomatic['variantType']==\"SNP\")&(dfSomatic['inPON']==False)&(dfSomatic['consensus']==True)&(dfSomatic.chromFrac>c+fractionMin)&(dfSomatic.chromFrac<c+fractionMax)]\n",
    "AFByPosPlot(dfSom.chromFrac, dfSom.meltedAF,c+fractionMin, c+fractionMax)\n",
    "\n",
    "#CDF\n",
    "ser = dfSom.meltedAF.sort_values()\n",
    "cum_dist = np.linspace(0.,1.,len(ser))\n",
    "ser_cdf = pd.Series(cum_dist, index=ser,name=\": c=\"+str(ser.count())+\" m=\"+str(round(ser.median(),2)))\n",
    "ser_cdf.plot(drawstyle='steps',legend=True,title=\" Allelic Frequency by \",figsize=[15,2],xlim=[0.0,0.7])\n",
    "\n",
    "#mbaf\n",
    "dfTumorCNV[(dfTumorCNV.chromPos>c+fractionMin)&(dfTumorCNV.chromPos<c+fractionMax)&(dfTumorCNV.mBAFCount>200)][['chrom','posStart','copyNum','chromPos','regionLength','mBAF','mBAFCount']]"
   ]
  },
  {
   "cell_type": "markdown",
   "metadata": {},
   "source": [
    "### Somatic Peak Finding"
   ]
  },
  {
   "cell_type": "code",
   "execution_count": null,
   "metadata": {
    "collapsed": false
   },
   "outputs": [],
   "source": [
    "X = dfSom.meltedAF.sort_values()[:, np.newaxis]\n",
    "X_plot = np.linspace(0,1,100)[:, np.newaxis]\n",
    "kde = KernelDensity(kernel='gaussian', bandwidth=0.015).fit(X)\n",
    "log_dens = kde.score_samples(X_plot)\n",
    "pdfChart(log_dens)\n",
    "findPeaks(log_dens,1)"
   ]
  },
  {
   "cell_type": "markdown",
   "metadata": {
    "collapsed": true
   },
   "source": [
    "### RATIO"
   ]
  },
  {
   "cell_type": "code",
   "execution_count": null,
   "metadata": {
    "collapsed": false
   },
   "outputs": [],
   "source": [
    "dfTumorRatio = pd.read_table(PATH + tumorRatioFileName, header=0)#names = ['chrom','window',\"ratio\",\"segmentRatio\",\"copyNum\",\"mbaf\",\"baf\",\"GT\",\"uncertainty\"] )\n",
    "dfNormalRatio = pd.read_table(PATH + normalRatioFileName, header=0)# names = ['chrom','window',\"ratio\",\"segmentRatio\",\"copyNum\",\"mbaf\",\"baf\",\"GT\",\"uncertainty\"] )\n",
    "dfTumorRatio.set_index(['Chromosome','Start'],inplace=True)\n",
    "dfNormalRatio.set_index(['Chromosome','Start'],inplace=True)\n",
    "dfTumorRatio = pd.merge(dfTumorRatio,dfNormalRatio,how='inner', left_index=True,right_index=True)\n",
    "#dfTumorRatio = dfTumorRatio[(dfTumorRatio.Ratio_y > 0)]\n",
    "dfTumorRatio['ratio']= pd.to_numeric(dfTumorRatio['Ratio_x'],errors=coerce) /pd.to_numeric(dfTumorRatio['Ratio_y'],errors=coerce)\n",
    "dfTumorRatio = dfTumorRatio.reset_index()\n",
    "dfTumorRatio['chromPos'] = dfTumorRatio['Chromosome'].apply(lambda x: cd.intChrom(str(x))) + \\\n",
    "    dfTumorRatio['Start']/dfTumorRatio['Chromosome'].map(lambda x: cd.chromosomeLength[str(x)])\n",
    "dfTumorRatio['Chromosome'] = dfTumorRatio['Chromosome'].apply(lambda x: cd.intChrom(str(x)))"
   ]
  },
  {
   "cell_type": "code",
   "execution_count": null,
   "metadata": {
    "collapsed": false
   },
   "outputs": [],
   "source": [
    "dfTumorCNV['nonZeroCount'],dfTumorCNV['tumorRatio'],dfTumorCNV['normalRatio'] \\\n",
    "    ,dfTumorCNV['tumorMedianRatio'],dfTumorCNV['normalMedianRatio'] = \\\n",
    "    np.vectorize(nonZeroCountBetween)(dfTumorCNV['chrom'], dfTumorCNV['posStart'],dfTumorCNV['posEnd'])\n",
    "dfTumorCNV['ratioOfRatio']=dfTumorCNV.tumorRatio/dfTumorCNV.normalRatio"
   ]
  },
  {
   "cell_type": "code",
   "execution_count": null,
   "metadata": {
    "collapsed": false
   },
   "outputs": [],
   "source": [
    "positionChart(dfTumorRatio,\"ratio\",\"ratio\",10.66,10.67,6)"
   ]
  },
  {
   "cell_type": "code",
   "execution_count": null,
   "metadata": {
    "collapsed": false
   },
   "outputs": [],
   "source": [
    "positionChart(dfTumorCNV,\"ratioOfRatio\",\"ratioOfRatio\",10.66,10.67,2)\n",
    "positionChart(dfTumorCNV,\"tumor Ratio\",\"tumorRatio\",10.66,1.67,6)"
   ]
  },
  {
   "cell_type": "code",
   "execution_count": null,
   "metadata": {
    "collapsed": false
   },
   "outputs": [],
   "source": [
    "X = dfTumorCNV[dfTumorCNV.nonZeroCount>10].ratioOfRatio.sort_values()[:, np.newaxis]\n",
    "X_range = 3\n",
    "X_plot = np.linspace(0,X_range,1000)[:, np.newaxis]\n",
    "kde = KernelDensity(kernel='gaussian', bandwidth=0.01).fit(X)\n",
    "log_dens = kde.score_samples(X_plot)\n",
    "pdfChart(log_dens,6)\n",
    "cnvPeaks = findPeaks(log_dens,X_range)"
   ]
  },
  {
   "cell_type": "code",
   "execution_count": null,
   "metadata": {
    "collapsed": false
   },
   "outputs": [],
   "source": [
    "X = dfTumorCNV[dfTumorCNV.mBAFCount>10].mBAF.sort_values()[:, np.newaxis]\n",
    "X_range = 1.02\n",
    "X_plot = np.linspace(0,X_range,1020)[:, np.newaxis]\n",
    "kde = KernelDensity(kernel='gaussian', bandwidth=0.005).fit(X)\n",
    "log_dens = kde.score_samples(X_plot)\n",
    "pdfChart(log_dens,15)\n",
    "mBAFPeaks = findPeaks(log_dens,X_range)"
   ]
  },
  {
   "cell_type": "code",
   "execution_count": null,
   "metadata": {
    "collapsed": false
   },
   "outputs": [],
   "source": [
    "dfTumorCNV['fittedBAFPeak'] = np.vectorize(fitBAFPeak)(dfTumorCNV['mBAF'])\n",
    "dfTumorCNV['fittedCNVPeak'] = np.vectorize(fitCNVPeak)(dfTumorCNV['ratioOfRatio'])\n",
    "pd.pivot_table(dfTumorCNV[dfTumorCNV.chrom==4], values='mBAFCount', index=['fittedBAFPeak'], columns=['fittedCNVPeak'], aggfunc='sum',margins=True).fillna(\"\")"
   ]
  },
  {
   "cell_type": "markdown",
   "metadata": {},
   "source": [
    "### GENE CNV ANALYSIS"
   ]
  },
  {
   "cell_type": "code",
   "execution_count": null,
   "metadata": {
    "collapsed": true
   },
   "outputs": [],
   "source": [
    "# BEST ESTIMATE OF COPY NUMBER!\n",
    "dfTumorCNV[\"myCopyNum\"] = np.round(dfTumorCNV.fittedCNVPeak/0.63*2,0)"
   ]
  },
  {
   "cell_type": "code",
   "execution_count": null,
   "metadata": {
    "collapsed": false
   },
   "outputs": [],
   "source": [
    "# LOAD CNV BED\n",
    "CNV_BED_PATH = \"/Users/peterpriestley/hmf/analyses/slices/\"\n",
    "CNV_BED_FILE_NAME = \"HMF_Slicing.Bed\"\n",
    "CNVBed = aVCF.loadBEDFile(CNV_BED_PATH,CNV_BED_FILE_NAME)"
   ]
  },
  {
   "cell_type": "code",
   "execution_count": null,
   "metadata": {
    "collapsed": false
   },
   "outputs": [],
   "source": [
    "dfGeneCNV = pd.DataFrame(runGeneCNVAnalysis(dfTumorCNV,CNVBed,'COLO829'),columns= GENECNV_COLUMNS)"
   ]
  },
  {
   "cell_type": "code",
   "execution_count": null,
   "metadata": {
    "collapsed": false
   },
   "outputs": [],
   "source": [
    "(dfGeneCNV[dfGeneCNV.minCopyNum<2])"
   ]
  },
  {
   "cell_type": "code",
   "execution_count": null,
   "metadata": {
    "collapsed": false
   },
   "outputs": [],
   "source": [
    "dfSomatic[(dfSomatic.annWorstImpact=='HIGH')&(dfSomatic.bedRegion=='')].sort_values('annGene')"
   ]
  },
  {
   "cell_type": "markdown",
   "metadata": {
    "collapsed": true
   },
   "source": [
    "### SV Analysis"
   ]
  },
  {
   "cell_type": "code",
   "execution_count": null,
   "metadata": {
    "collapsed": false
   },
   "outputs": [],
   "source": [
    "svVCFFilename = findFiles(PATH,\"somaticSV.vcf\")[0]\n",
    "print \"SV =\",svVCFFilename\n",
    "dfSV = loadVCF(PATH,svVCFFilename,{patientID:'tumor'},patientID)"
   ]
  },
  {
   "cell_type": "code",
   "execution_count": null,
   "metadata": {
    "collapsed": false
   },
   "outputs": [],
   "source": [
    "pd.pivot_table(dfSV[(dfSV.variantSubType<>\"IGN\")&(dfSV.tumorAF>=0.00)], values='id', index=['variantSubType'], columns=['variantType'], aggfunc='count').fillna(\"\")"
   ]
  },
  {
   "cell_type": "code",
   "execution_count": null,
   "metadata": {
    "collapsed": false
   },
   "outputs": [],
   "source": [
    "#dfTumorCNV[(dfTumorCNV.chrom==10)&(dfTumorCNV.copyNum>=0)&(dfTumorCNV.mBAF>0.05)&(dfTumorCNV.mBAF<10.62)\\\n",
    "#      &(dfTumorCNV.mBAFCount>100)][['chrom','posStart','copyNum','chromPos','regionLength','mBAF','mBAFCount','fittedCNVPeak','tumorRatio','normalRatio']]"
   ]
  },
  {
   "cell_type": "code",
   "execution_count": null,
   "metadata": {
    "collapsed": false
   },
   "outputs": [],
   "source": [
    "dfSV[(dfSV.bedRegion<>\"A\")&(dfSV.variantSubType==\"BND\")&(dfSV.tumorAF>=0.05)][['chrom','pos','chromFrac','variantSubType','bedRegion','tumorallele','tumorAF','tumorSGT','tumorSVLenMin','tumorSVLenMax','tumorSVStartMin','tumorSVStartMax']]"
   ]
  },
  {
   "cell_type": "code",
   "execution_count": null,
   "metadata": {
    "collapsed": true
   },
   "outputs": [],
   "source": [
    "def findMatchingBNDChromPos(df):\n",
    "    # can \n",
    "    df['BNDMatchPos'] = \"\"\n",
    "    for i in range(0,df.shape[0]):\n",
    "        if df.iloc[i]['variantSubType'] == \"BND\":\n",
    "            tmp = df.iloc[i]['tumorallele'].find(\"]\")\n",
    "            if tmp >= 0:\n",
    "                df.iloc[i,df.columns.get_loc('BNDMatchPos')] = df.iloc[i]['tumorallele'][tmp+1:df.iloc[i]['tumorallele'].find(\"]\",tmp+1)]\n",
    "    return df"
   ]
  },
  {
   "cell_type": "code",
   "execution_count": null,
   "metadata": {
    "collapsed": false
   },
   "outputs": [],
   "source": [
    "dfSV = findMatchingBNDChromPos(dfSV)"
   ]
  },
  {
   "cell_type": "code",
   "execution_count": null,
   "metadata": {
    "collapsed": false
   },
   "outputs": [],
   "source": [
    "c,fractionMin,fractionMax = 9,0,1\n",
    "dfSom = dfSomatic[(dfSomatic['variantType']==\"SNP\")&(dfSomatic['inPON']==False)&(dfSomatic['consensus']==True)&(dfSomatic.chromFrac>c+fractionMin)&(dfSomatic.chromFrac<c+fractionMax)]\n",
    "AFByPosPlot(dfSom.chromFrac, dfSom.meltedAF,c+fractionMin, c+fractionMax)\n",
    "dfTemp = dfBAF[(dfBAF.chromPos>c+fractionMin)&(dfBAF.chromPos<c+fractionMax)]\n",
    "AFByPosPlot(dfTemp.chromPos, dfTemp.BAF,c+fractionMin, c+fractionMax)"
   ]
  },
  {
   "cell_type": "code",
   "execution_count": null,
   "metadata": {
    "collapsed": false
   },
   "outputs": [],
   "source": [
    "dfSV[(dfSV.variantSubType==\"INS\")&(dfSV.tumorAF>=0.08)][['chrom','pos','chromFrac','variantSubType','bedRegion','BNDMatchPos','tumorallele','tumorAF','tumorDP','tumorSGT','tumorSVLenMin','tumorSVLenMax','tumorSVStartMin','tumorSVStartMax']]"
   ]
  },
  {
   "cell_type": "code",
   "execution_count": null,
   "metadata": {
    "collapsed": false
   },
   "outputs": [],
   "source": [
    "### MAKE SLICING FILE\n",
    "dfSV.minBedPos\n",
    "dfSV = dfSV[['chrom','pos','pos']]"
   ]
  },
  {
   "cell_type": "code",
   "execution_count": null,
   "metadata": {
    "collapsed": false
   },
   "outputs": [],
   "source": [
    "dfSVBed = []\n",
    "for i in range(0, dfSV.shape[0]-1):\n",
    "    if dfSV.iloc[i]['tumorSVLenMax']>1000:\n",
    "        dfSVBed.append(['chr'+dfSV.iloc[i]['chrom'],int(dfSV.iloc[i]['pos'])-200,int(dfSV.iloc[i]['pos'])+200])\n",
    "        dfSVBed.append(['chr'+dfSV.iloc[i]['chrom'],int(dfSV.iloc[i]['pos'])+dfSV.iloc[i]['tumorSVLenMin']-200,int(dfSV.iloc[i]['pos'])+dfSV.iloc[i]['tumorSVLenMax']+200])\n",
    "    else:\n",
    "        dfSVBed.append(['chr'+dfSV.iloc[i]['chrom'],int(dfSV.iloc[i]['pos'])-200,int(dfSV.iloc[i]['pos'])+dfSV.iloc[i]['tumorSVLenMax']+200])"
   ]
  },
  {
   "cell_type": "code",
   "execution_count": null,
   "metadata": {
    "collapsed": false
   },
   "outputs": [],
   "source": [
    "import csv\n",
    "\n",
    "with open(PATH+\"SVSlice.bed\", \"wb\") as f:\n",
    "    writer = csv.writer(f,delimiter=\"\\t\")\n",
    "    writer.writerows(dfSVBed)"
   ]
  },
  {
   "cell_type": "code",
   "execution_count": null,
   "metadata": {
    "collapsed": true
   },
   "outputs": [],
   "source": []
  },
  {
   "cell_type": "code",
   "execution_count": null,
   "metadata": {
    "collapsed": true
   },
   "outputs": [],
   "source": []
  }
 ],
 "metadata": {
  "kernelspec": {
   "display_name": "Python 2",
   "language": "python",
   "name": "python2"
  },
  "language_info": {
   "codemirror_mode": {
    "name": "ipython",
    "version": 2
   },
   "file_extension": ".py",
   "mimetype": "text/x-python",
   "name": "python",
   "nbconvert_exporter": "python",
   "pygments_lexer": "ipython2",
   "version": "2.7.10"
  }
 },
 "nbformat": 4,
 "nbformat_minor": 0
}
