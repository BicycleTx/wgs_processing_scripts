{
 "cells": [
  {
   "cell_type": "markdown",
   "metadata": {},
   "source": [
    "### CONFIGURATION"
   ]
  },
  {
   "cell_type": "code",
   "execution_count": 1,
   "metadata": {
    "collapsed": false
   },
   "outputs": [],
   "source": [
    "import pandas as pd\n",
    "pd.set_option('display.max_columns', 500)\n",
    "pd.set_option('display.width', 1000)\n",
    "import numpy as np\n",
    "import copy\n",
    "import sys\n",
    "import matplotlib.pyplot as plt\n",
    "%matplotlib inline"
   ]
  },
  {
   "cell_type": "code",
   "execution_count": 2,
   "metadata": {
    "collapsed": false
   },
   "outputs": [],
   "source": [
    "# Hartwig imports\n",
    "sys.path.append(\"/Users/peterpriestley/hmf/repos/scripts/analysisscripts\") \n",
    "import analyseVCF as aVCF\n",
    "import venn as vn"
   ]
  },
  {
   "cell_type": "code",
   "execution_count": 3,
   "metadata": {
    "collapsed": true
   },
   "outputs": [],
   "source": [
    "#CHROM SLICING\n",
    "minChromFrac = 0#17.443476\n",
    "maxChromFrac = 25#17.491846\n",
    "#minChromFrac = 17.689695\n",
    "#maxChromFrac = 17.73896"
   ]
  },
  {
   "cell_type": "code",
   "execution_count": 4,
   "metadata": {
    "collapsed": false
   },
   "outputs": [],
   "source": [
    "# TRUTH SET\n",
    "SAMPLE_NAMES_TRUTH = {'NA12878':'70-30truth'}\n",
    "VCF_PATH_TRUTH = \"/Users/peterpriestley/hmf/analyses/cancerSample\"\n",
    "VCF_FILE_NAME_TRUTH = \"CPCT02010306R_CPCT02010306T_merged_somatics.vcf\"\n",
    "\n",
    "# COMBINED VCF CONFIG\n",
    "VCF_SAMPLE = \"CPCT11111111\"\n",
    "VCF_PATH = \"/Users/peterpriestley/hmf/analyses/70-30sample/160524/\"\n",
    "VCF_FILE_NAME = VCF_SAMPLE + \"R_\"+ VCF_SAMPLE + \"T_merged_somatics.vcf\"\n",
    "SAMPLE_NAMES = {VCF_SAMPLE + 'T.mutect':'mutect', \\\n",
    "                VCF_SAMPLE + 'T.freebayes':'freebayes', \\\n",
    "                'TUMOR.strelka':'strelka', \\\n",
    "                'TUMOR.varscan':'varscan'}"
   ]
  },
  {
   "cell_type": "markdown",
   "metadata": {},
   "source": [
    "### Functions"
   ]
  },
  {
   "cell_type": "code",
   "execution_count": 5,
   "metadata": {
    "collapsed": true
   },
   "outputs": [],
   "source": [
    "def filterByChromFrac(df):\n",
    "    return df[(df.chromFrac > minChromFrac)&(df.chromFrac < maxChromFrac)]"
   ]
  },
  {
   "cell_type": "code",
   "execution_count": 10,
   "metadata": {
    "collapsed": false
   },
   "outputs": [],
   "source": [
    "def calculateTruth(df,dfTruth):\n",
    "    df = pd.merge(df,dfTruth,how='left', left_index=True,right_index=True,suffixes=('', '_Truth'))\n",
    "    df['hasTP'] = False\n",
    "    df['hasFP'] = False\n",
    "    for columnName in list(df):\n",
    "        if columnName.endswith('allele'):\n",
    "            df['hasTP'] = (df['hasTP']) | ((df[columnName[:-6]+'indelDiff'] == df['truth_indelDiff']) \\\n",
    "                    & (~pd.isnull(df['truth_indelDiff']) & (df['variantType'] == 'INDEL'))) |((df[columnName] == df['truth_allele']) \\\n",
    "                    & (df['variantType'] == 'SNP'))\n",
    "            df['hasFP'] = (df['hasFP']) | ((df[columnName[:-6]+'indelDiff'] != df['truth_indelDiff']) \\\n",
    "                    & (df['variantType'] == 'INDEL') & (df[columnName[:-6]+'indelDiff'] != '')) |((df[columnName] != df['truth_allele']) \\\n",
    "                    & (df['variantType'] == 'SNP') & (df[columnName] != ''))\n",
    "    df['Truth'] = (df['hasTP']) &  (df['hasFP'] == False)\n",
    "    return df"
   ]
  },
  {
   "cell_type": "code",
   "execution_count": 11,
   "metadata": {
    "collapsed": true
   },
   "outputs": [],
   "source": [
    "def calcuatePrecisionSensivityMatrix(df):\n",
    "    outputdata = []\n",
    "    for columnName in list(df):\n",
    "        if columnName.endswith('allele') & ~columnName.endswith('_allele'):\n",
    "            myCaller = columnName[:-6]\n",
    "            variantTypes = df[(df[myCaller+'allele'] != '')].variantType.unique()\n",
    "            for variantType in variantTypes:\n",
    "                truePositives = len(df[(df[myCaller+'allele'] != '') & (df['Truth'] == True) &(df['variantType'] == variantType)])\n",
    "                positives = len(df[(df[myCaller+'allele'] != '')&(df['variantType'] == variantType)])\n",
    "                truthSet = len(dfTruth[dfTruth['variantType'] == variantType]) \n",
    "                falseNegatives = truthSet - truePositives\n",
    "                if positives > 0:\n",
    "                    outputdata.append([variantType, myCaller, truthSet,truePositives,positives-truePositives, falseNegatives, \\\n",
    "                                   round(truePositives/float(positives),4),round(truePositives/float(truthSet),4)])\n",
    "    \n",
    "    outputDF = pd.DataFrame(outputdata)\n",
    "    outputDF.columns = (['variantType','caller','truthSet','truePositives','falsePositives','falseNegatives','precision','sensitivity'])\n",
    "    return outputDF.sort_values(['variantType','caller'])"
   ]
  },
  {
   "cell_type": "markdown",
   "metadata": {},
   "source": [
    "<h3> Load VCFs and Prepare DF"
   ]
  },
  {
   "cell_type": "code",
   "execution_count": 12,
   "metadata": {
    "collapsed": false
   },
   "outputs": [
    {
     "name": "stdout",
     "output_type": "stream",
     "text": [
      "reading BED file\n",
      "Bed File Loaded\n"
     ]
    }
   ],
   "source": [
    "## LOAD BED\n",
    "bed = aVCF.loadBEDFile(BED_PATH,BED_FILE_NAME)"
   ]
  },
  {
   "cell_type": "code",
   "execution_count": 13,
   "metadata": {
    "collapsed": false
   },
   "outputs": [
    {
     "name": "stdout",
     "output_type": "stream",
     "text": [
      "reading vcf file: na12878-na24385-somatic-truth.vcf\n",
      "reading VCF File line: 100000\n",
      "reading VCF File line: 200000\n",
      "reading VCF File line: 300000\n",
      "reading VCF File line: 400000\n",
      "reading VCF File line: 500000\n",
      "reading VCF File line: 600000\n",
      "reading VCF File line: 700000\n",
      "reading VCF File line: 800000\n",
      "reading VCF File line: 900000\n",
      "reading VCF File line: 1000000\n",
      "reading VCF File line: 1100000\n",
      "Number variants loaded: 1101868\n"
     ]
    }
   ],
   "source": [
    "## LOAD TRUTH SET VCF\n",
    "truthBed = copy.deepcopy(bed)\n",
    "dfTruth = aVCF.loadVaraintsFromVCF(VCF_PATH_TRUTH,VCF_FILE_NAME_TRUTH, \\\n",
    "                                   SAMPLE_NAMES_TRUTH,\"Mix-in Truth Set\",True,True,truthBed)\n",
    "dfTruth = filterByChromFrac(dfTruth)\n",
    "dfTruth.rename(columns={'70-30truthallele':'truth_allele','70-30truthindelDiff':'truth_indelDiff','70-30truthindelPos':'truth_indelPos'}, inplace=True)\n",
    "dfTruth = dfTruth[['chrom','pos','variantType','ref','truth_allele','truth_indelDiff','truth_indelPos']]\n",
    "dfTruth = dfTruth.set_index(['chrom','pos'])"
   ]
  },
  {
   "cell_type": "code",
   "execution_count": 14,
   "metadata": {
    "collapsed": false
   },
   "outputs": [
    {
     "name": "stdout",
     "output_type": "stream",
     "text": [
      "reading vcf file: CPCT11111111R_CPCT11111111T_merged_somatics.vcf\n",
      "reading VCF File line: 100000\n",
      "reading VCF File line: 200000\n",
      "reading VCF File line: 300000\n",
      "reading VCF File line: 400000\n",
      "reading VCF File line: 500000\n",
      "reading VCF File line: 600000\n",
      "reading VCF File line: 700000\n",
      "reading VCF File line: 800000\n",
      "reading VCF File line: 900000\n",
      "reading VCF File line: 1000000\n",
      "reading VCF File line: 1100000\n",
      "reading VCF File line: 1200000\n",
      "reading VCF File line: 1300000\n",
      "Number variants loaded: 1055807\n"
     ]
    }
   ],
   "source": [
    "# LOAD SAMPLE VCF + match to truth set\n",
    "sampleBed = copy.deepcopy(bed)\n",
    "dfProd = aVCF.loadVaraintsFromVCF(VCF_PATH,VCF_FILE_NAME,SAMPLE_NAMES,VCF_SAMPLE,True,True,sampleBed)\n",
    "dfProd = filterByChromFrac(dfProd)\n",
    "dfProd = dfProd.set_index(['chrom','pos'])\n",
    "dfProd = calculateTruth(dfProd,dfTruth)"
   ]
  },
  {
   "cell_type": "code",
   "execution_count": 15,
   "metadata": {
    "collapsed": false
   },
   "outputs": [
    {
     "data": {
      "text/html": [
       "<div>\n",
       "<table border=\"1\" class=\"dataframe\">\n",
       "  <thead>\n",
       "    <tr style=\"text-align: right;\">\n",
       "      <th></th>\n",
       "      <th></th>\n",
       "      <th>chromPos</th>\n",
       "      <th>chromFrac</th>\n",
       "      <th>ref</th>\n",
       "      <th>vennSegment</th>\n",
       "      <th>numCallers</th>\n",
       "      <th>variantType</th>\n",
       "      <th>variantSubType</th>\n",
       "      <th>filter</th>\n",
       "      <th>strelkaallele</th>\n",
       "      <th>strelkaAF</th>\n",
       "      <th>strelkaDP</th>\n",
       "      <th>strelkaQS</th>\n",
       "      <th>strelkaSGT</th>\n",
       "      <th>strelkaindelDiff</th>\n",
       "      <th>strelkaindelPos</th>\n",
       "      <th>varscanallele</th>\n",
       "      <th>varscanAF</th>\n",
       "      <th>varscanDP</th>\n",
       "      <th>varscanQS</th>\n",
       "      <th>varscanSGT</th>\n",
       "      <th>varscanindelDiff</th>\n",
       "      <th>varscanindelPos</th>\n",
       "      <th>mutectallele</th>\n",
       "      <th>mutectAF</th>\n",
       "      <th>mutectDP</th>\n",
       "      <th>mutectQS</th>\n",
       "      <th>mutectSGT</th>\n",
       "      <th>mutectindelDiff</th>\n",
       "      <th>mutectindelPos</th>\n",
       "      <th>freebayesallele</th>\n",
       "      <th>freebayesAF</th>\n",
       "      <th>freebayesDP</th>\n",
       "      <th>freebayesQS</th>\n",
       "      <th>freebayesSGT</th>\n",
       "      <th>freebayesindelDiff</th>\n",
       "      <th>freebayesindelPos</th>\n",
       "      <th>patientName</th>\n",
       "      <th>variantType_Truth</th>\n",
       "      <th>ref_Truth</th>\n",
       "      <th>truth_allele</th>\n",
       "      <th>truth_indelDiff</th>\n",
       "      <th>truth_indelPos</th>\n",
       "      <th>hasTP</th>\n",
       "      <th>hasFP</th>\n",
       "      <th>Truth</th>\n",
       "    </tr>\n",
       "    <tr>\n",
       "      <th>chrom</th>\n",
       "      <th>pos</th>\n",
       "      <th></th>\n",
       "      <th></th>\n",
       "      <th></th>\n",
       "      <th></th>\n",
       "      <th></th>\n",
       "      <th></th>\n",
       "      <th></th>\n",
       "      <th></th>\n",
       "      <th></th>\n",
       "      <th></th>\n",
       "      <th></th>\n",
       "      <th></th>\n",
       "      <th></th>\n",
       "      <th></th>\n",
       "      <th></th>\n",
       "      <th></th>\n",
       "      <th></th>\n",
       "      <th></th>\n",
       "      <th></th>\n",
       "      <th></th>\n",
       "      <th></th>\n",
       "      <th></th>\n",
       "      <th></th>\n",
       "      <th></th>\n",
       "      <th></th>\n",
       "      <th></th>\n",
       "      <th></th>\n",
       "      <th></th>\n",
       "      <th></th>\n",
       "      <th></th>\n",
       "      <th></th>\n",
       "      <th></th>\n",
       "      <th></th>\n",
       "      <th></th>\n",
       "      <th></th>\n",
       "      <th></th>\n",
       "      <th></th>\n",
       "      <th></th>\n",
       "      <th></th>\n",
       "      <th></th>\n",
       "      <th></th>\n",
       "      <th></th>\n",
       "      <th></th>\n",
       "      <th></th>\n",
       "      <th></th>\n",
       "    </tr>\n",
       "  </thead>\n",
       "  <tbody>\n",
       "    <tr>\n",
       "      <th>1</th>\n",
       "      <th>242995203</th>\n",
       "      <td>1:242995203</td>\n",
       "      <td>1.974903</td>\n",
       "      <td>G</td>\n",
       "      <td></td>\n",
       "      <td>2</td>\n",
       "      <td>SNP</td>\n",
       "      <td></td>\n",
       "      <td>PASS</td>\n",
       "      <td></td>\n",
       "      <td></td>\n",
       "      <td></td>\n",
       "      <td></td>\n",
       "      <td></td>\n",
       "      <td></td>\n",
       "      <td></td>\n",
       "      <td>A</td>\n",
       "      <td>0.1837</td>\n",
       "      <td>49</td>\n",
       "      <td>17</td>\n",
       "      <td>2</td>\n",
       "      <td></td>\n",
       "      <td>-1</td>\n",
       "      <td></td>\n",
       "      <td></td>\n",
       "      <td></td>\n",
       "      <td></td>\n",
       "      <td></td>\n",
       "      <td></td>\n",
       "      <td></td>\n",
       "      <td>A</td>\n",
       "      <td>0.202532</td>\n",
       "      <td>79</td>\n",
       "      <td>180.75</td>\n",
       "      <td>somatic</td>\n",
       "      <td></td>\n",
       "      <td>-1</td>\n",
       "      <td>CPCT11111111</td>\n",
       "      <td>INDEL</td>\n",
       "      <td>G</td>\n",
       "      <td>GGAAGGAAGGAAA</td>\n",
       "      <td>GAAGGAAGGAAA+</td>\n",
       "      <td>-2.0</td>\n",
       "      <td>True</td>\n",
       "      <td>True</td>\n",
       "      <td>False</td>\n",
       "    </tr>\n",
       "  </tbody>\n",
       "</table>\n",
       "</div>"
      ],
      "text/plain": [
       "                    chromPos  chromFrac ref vennSegment  numCallers variantType variantSubType filter strelkaallele strelkaAF strelkaDP strelkaQS strelkaSGT strelkaindelDiff strelkaindelPos varscanallele varscanAF varscanDP varscanQS varscanSGT varscanindelDiff varscanindelPos mutectallele mutectAF mutectDP mutectQS mutectSGT mutectindelDiff mutectindelPos freebayesallele freebayesAF freebayesDP freebayesQS freebayesSGT freebayesindelDiff freebayesindelPos   patientName variantType_Truth ref_Truth   truth_allele truth_indelDiff  truth_indelPos hasTP hasFP  Truth\n",
       "chrom pos                                                                                                                                                                                                                                                                                                                                                                                                                                                                                                                                                                               \n",
       "1     242995203  1:242995203   1.974903   G                       2         SNP                  PASS                                                                                                     A    0.1837        49        17          2                               -1                                                                                                A    0.202532          79      180.75      somatic                                   -1  CPCT11111111             INDEL         G  GGAAGGAAGGAAA   GAAGGAAGGAAA+            -2.0  True  True  False"
      ]
     },
     "execution_count": 15,
     "metadata": {},
     "output_type": "execute_result"
    }
   ],
   "source": [
    "dfProd[dfProd.index.duplicated(keep=False)].head(1)"
   ]
  },
  {
   "cell_type": "code",
   "execution_count": 23,
   "metadata": {
    "collapsed": false
   },
   "outputs": [],
   "source": [
    "#columns =['variantType','hasTP','hasFP','Truth','truth_indelDiff','strelkaindelDiff','varscanindelDiff','freebayesindelDiff','mutectindelDiff','ref_Truth','truth_allele','ref','strelkaallele','varscanallele','freebayesallele','mutectallele']\n",
    "#dfProd[(dfProd.variantType == 'INDEL') & (dfProd.Truth == False) & (~pd.isnull(dfProd.truth_indelDiff))][columns].head(50)"
   ]
  },
  {
   "cell_type": "markdown",
   "metadata": {},
   "source": [
    "<h3> SLICE ANALYSIS"
   ]
  },
  {
   "cell_type": "code",
   "execution_count": 17,
   "metadata": {
    "collapsed": true
   },
   "outputs": [],
   "source": [
    "# SLICE SETTINGS\n",
    "SLICE_VCF_PATH = \"/Users/peterpriestley/hmf/70-30slice/\"\n",
    "SLICE_VCF_FILE_NAME = \"somatics.merged.vcf\"\n",
    "SLICE_SAMPLE_NAMES = SAMPLE_NAMES "
   ]
  },
  {
   "cell_type": "code",
   "execution_count": 18,
   "metadata": {
    "collapsed": true
   },
   "outputs": [],
   "source": [
    "sliceBed = copy.deepcopy(bed)"
   ]
  },
  {
   "cell_type": "code",
   "execution_count": 19,
   "metadata": {
    "collapsed": false
   },
   "outputs": [
    {
     "name": "stdout",
     "output_type": "stream",
     "text": [
      "reading vcf file: somatics.merged.vcf\n",
      "Number variants loaded: 1399\n"
     ]
    }
   ],
   "source": [
    "dfSlice = aVCF.loadVaraintsFromVCF(SLICE_VCF_PATH,SLICE_VCF_FILE_NAME,SLICE_SAMPLE_NAMES,VCF_SAMPLE,True,True,sliceBed)\n",
    "dfSlice = filterByChromFrac(dfSlice)\n",
    "dfSlice = dfSlice.set_index(['chrom','pos'])\n",
    "dfSlice = calculateTruth(dfSlice,dfTruth)"
   ]
  },
  {
   "cell_type": "code",
   "execution_count": 20,
   "metadata": {
    "collapsed": false
   },
   "outputs": [
    {
     "data": {
      "text/html": [
       "<div>\n",
       "<table border=\"1\" class=\"dataframe\">\n",
       "  <thead>\n",
       "    <tr style=\"text-align: right;\">\n",
       "      <th></th>\n",
       "      <th></th>\n",
       "      <th>chromPos</th>\n",
       "      <th>chromFrac</th>\n",
       "      <th>ref</th>\n",
       "      <th>vennSegment</th>\n",
       "      <th>numCallers</th>\n",
       "      <th>variantType</th>\n",
       "      <th>variantSubType</th>\n",
       "      <th>filter</th>\n",
       "      <th>strelkaallele</th>\n",
       "      <th>strelkaAF</th>\n",
       "      <th>strelkaDP</th>\n",
       "      <th>strelkaQS</th>\n",
       "      <th>strelkaSGT</th>\n",
       "      <th>strelkaindelDiff</th>\n",
       "      <th>strelkaindelPos</th>\n",
       "      <th>varscanallele</th>\n",
       "      <th>varscanAF</th>\n",
       "      <th>varscanDP</th>\n",
       "      <th>varscanQS</th>\n",
       "      <th>varscanSGT</th>\n",
       "      <th>varscanindelDiff</th>\n",
       "      <th>varscanindelPos</th>\n",
       "      <th>mutectallele</th>\n",
       "      <th>mutectAF</th>\n",
       "      <th>mutectDP</th>\n",
       "      <th>mutectQS</th>\n",
       "      <th>mutectSGT</th>\n",
       "      <th>mutectindelDiff</th>\n",
       "      <th>mutectindelPos</th>\n",
       "      <th>freebayesallele</th>\n",
       "      <th>freebayesAF</th>\n",
       "      <th>freebayesDP</th>\n",
       "      <th>freebayesQS</th>\n",
       "      <th>freebayesSGT</th>\n",
       "      <th>freebayesindelDiff</th>\n",
       "      <th>freebayesindelPos</th>\n",
       "      <th>patientName</th>\n",
       "      <th>variantType_Truth</th>\n",
       "      <th>ref_Truth</th>\n",
       "      <th>truth_allele</th>\n",
       "      <th>truth_indelDiff</th>\n",
       "      <th>truth_indelPos</th>\n",
       "      <th>hasTP</th>\n",
       "      <th>hasFP</th>\n",
       "      <th>Truth</th>\n",
       "    </tr>\n",
       "    <tr>\n",
       "      <th>chrom</th>\n",
       "      <th>pos</th>\n",
       "      <th></th>\n",
       "      <th></th>\n",
       "      <th></th>\n",
       "      <th></th>\n",
       "      <th></th>\n",
       "      <th></th>\n",
       "      <th></th>\n",
       "      <th></th>\n",
       "      <th></th>\n",
       "      <th></th>\n",
       "      <th></th>\n",
       "      <th></th>\n",
       "      <th></th>\n",
       "      <th></th>\n",
       "      <th></th>\n",
       "      <th></th>\n",
       "      <th></th>\n",
       "      <th></th>\n",
       "      <th></th>\n",
       "      <th></th>\n",
       "      <th></th>\n",
       "      <th></th>\n",
       "      <th></th>\n",
       "      <th></th>\n",
       "      <th></th>\n",
       "      <th></th>\n",
       "      <th></th>\n",
       "      <th></th>\n",
       "      <th></th>\n",
       "      <th></th>\n",
       "      <th></th>\n",
       "      <th></th>\n",
       "      <th></th>\n",
       "      <th></th>\n",
       "      <th></th>\n",
       "      <th></th>\n",
       "      <th></th>\n",
       "      <th></th>\n",
       "      <th></th>\n",
       "      <th></th>\n",
       "      <th></th>\n",
       "      <th></th>\n",
       "      <th></th>\n",
       "      <th></th>\n",
       "      <th></th>\n",
       "    </tr>\n",
       "  </thead>\n",
       "  <tbody>\n",
       "    <tr>\n",
       "      <th rowspan=\"10\" valign=\"top\">17</th>\n",
       "      <th>36973498</th>\n",
       "      <td>17:36973498</td>\n",
       "      <td>17.455365</td>\n",
       "      <td>G</td>\n",
       "      <td></td>\n",
       "      <td>1</td>\n",
       "      <td>SNP</td>\n",
       "      <td></td>\n",
       "      <td>PASS</td>\n",
       "      <td>C</td>\n",
       "      <td>0.0714286</td>\n",
       "      <td>75</td>\n",
       "      <td>15</td>\n",
       "      <td>ref</td>\n",
       "      <td></td>\n",
       "      <td>-1</td>\n",
       "      <td></td>\n",
       "      <td></td>\n",
       "      <td></td>\n",
       "      <td></td>\n",
       "      <td></td>\n",
       "      <td></td>\n",
       "      <td></td>\n",
       "      <td></td>\n",
       "      <td></td>\n",
       "      <td></td>\n",
       "      <td></td>\n",
       "      <td></td>\n",
       "      <td></td>\n",
       "      <td></td>\n",
       "      <td></td>\n",
       "      <td></td>\n",
       "      <td></td>\n",
       "      <td></td>\n",
       "      <td></td>\n",
       "      <td></td>\n",
       "      <td></td>\n",
       "      <td>CPCT11111111</td>\n",
       "      <td>NaN</td>\n",
       "      <td>NaN</td>\n",
       "      <td>NaN</td>\n",
       "      <td>NaN</td>\n",
       "      <td>NaN</td>\n",
       "      <td>False</td>\n",
       "      <td>True</td>\n",
       "      <td>False</td>\n",
       "    </tr>\n",
       "    <tr>\n",
       "      <th>37149675</th>\n",
       "      <td>17:37149675</td>\n",
       "      <td>17.457535</td>\n",
       "      <td>C</td>\n",
       "      <td></td>\n",
       "      <td>1</td>\n",
       "      <td>SNP</td>\n",
       "      <td></td>\n",
       "      <td>PASS</td>\n",
       "      <td></td>\n",
       "      <td></td>\n",
       "      <td></td>\n",
       "      <td></td>\n",
       "      <td></td>\n",
       "      <td></td>\n",
       "      <td></td>\n",
       "      <td>T</td>\n",
       "      <td>0.1429</td>\n",
       "      <td>77</td>\n",
       "      <td>12</td>\n",
       "      <td>2</td>\n",
       "      <td></td>\n",
       "      <td>-1</td>\n",
       "      <td></td>\n",
       "      <td></td>\n",
       "      <td></td>\n",
       "      <td></td>\n",
       "      <td></td>\n",
       "      <td></td>\n",
       "      <td></td>\n",
       "      <td></td>\n",
       "      <td></td>\n",
       "      <td></td>\n",
       "      <td></td>\n",
       "      <td></td>\n",
       "      <td></td>\n",
       "      <td></td>\n",
       "      <td>CPCT11111111</td>\n",
       "      <td>NaN</td>\n",
       "      <td>NaN</td>\n",
       "      <td>NaN</td>\n",
       "      <td>NaN</td>\n",
       "      <td>NaN</td>\n",
       "      <td>False</td>\n",
       "      <td>True</td>\n",
       "      <td>False</td>\n",
       "    </tr>\n",
       "    <tr>\n",
       "      <th>37577436</th>\n",
       "      <td>17:37577436</td>\n",
       "      <td>17.462804</td>\n",
       "      <td>A</td>\n",
       "      <td></td>\n",
       "      <td>1</td>\n",
       "      <td>SNP</td>\n",
       "      <td></td>\n",
       "      <td>PASS</td>\n",
       "      <td></td>\n",
       "      <td></td>\n",
       "      <td></td>\n",
       "      <td></td>\n",
       "      <td></td>\n",
       "      <td></td>\n",
       "      <td></td>\n",
       "      <td></td>\n",
       "      <td></td>\n",
       "      <td></td>\n",
       "      <td></td>\n",
       "      <td></td>\n",
       "      <td></td>\n",
       "      <td></td>\n",
       "      <td>G</td>\n",
       "      <td>0.129</td>\n",
       "      <td>34</td>\n",
       "      <td>-1</td>\n",
       "      <td>ref-het</td>\n",
       "      <td></td>\n",
       "      <td>-1</td>\n",
       "      <td></td>\n",
       "      <td></td>\n",
       "      <td></td>\n",
       "      <td></td>\n",
       "      <td></td>\n",
       "      <td></td>\n",
       "      <td></td>\n",
       "      <td>CPCT11111111</td>\n",
       "      <td>NaN</td>\n",
       "      <td>NaN</td>\n",
       "      <td>NaN</td>\n",
       "      <td>NaN</td>\n",
       "      <td>NaN</td>\n",
       "      <td>False</td>\n",
       "      <td>True</td>\n",
       "      <td>False</td>\n",
       "    </tr>\n",
       "    <tr>\n",
       "      <th>37684178</th>\n",
       "      <td>17:37684178</td>\n",
       "      <td>17.464118</td>\n",
       "      <td>G</td>\n",
       "      <td></td>\n",
       "      <td>1</td>\n",
       "      <td>SNP</td>\n",
       "      <td></td>\n",
       "      <td>.</td>\n",
       "      <td></td>\n",
       "      <td></td>\n",
       "      <td></td>\n",
       "      <td></td>\n",
       "      <td></td>\n",
       "      <td></td>\n",
       "      <td></td>\n",
       "      <td></td>\n",
       "      <td></td>\n",
       "      <td></td>\n",
       "      <td></td>\n",
       "      <td></td>\n",
       "      <td></td>\n",
       "      <td></td>\n",
       "      <td></td>\n",
       "      <td></td>\n",
       "      <td></td>\n",
       "      <td></td>\n",
       "      <td></td>\n",
       "      <td></td>\n",
       "      <td></td>\n",
       "      <td>T</td>\n",
       "      <td>0.144144</td>\n",
       "      <td>111</td>\n",
       "      <td>0</td>\n",
       "      <td>somatic</td>\n",
       "      <td></td>\n",
       "      <td>-1</td>\n",
       "      <td>CPCT11111111</td>\n",
       "      <td>NaN</td>\n",
       "      <td>NaN</td>\n",
       "      <td>NaN</td>\n",
       "      <td>NaN</td>\n",
       "      <td>NaN</td>\n",
       "      <td>False</td>\n",
       "      <td>True</td>\n",
       "      <td>False</td>\n",
       "    </tr>\n",
       "    <tr>\n",
       "      <th>37894765</th>\n",
       "      <td>17:37894765</td>\n",
       "      <td>17.466712</td>\n",
       "      <td>A</td>\n",
       "      <td></td>\n",
       "      <td>1</td>\n",
       "      <td>SNP</td>\n",
       "      <td></td>\n",
       "      <td>PASS</td>\n",
       "      <td></td>\n",
       "      <td></td>\n",
       "      <td></td>\n",
       "      <td></td>\n",
       "      <td></td>\n",
       "      <td></td>\n",
       "      <td></td>\n",
       "      <td></td>\n",
       "      <td></td>\n",
       "      <td></td>\n",
       "      <td></td>\n",
       "      <td></td>\n",
       "      <td></td>\n",
       "      <td></td>\n",
       "      <td>C</td>\n",
       "      <td>0.148</td>\n",
       "      <td>89</td>\n",
       "      <td>-1</td>\n",
       "      <td>ref-het</td>\n",
       "      <td></td>\n",
       "      <td>-1</td>\n",
       "      <td></td>\n",
       "      <td></td>\n",
       "      <td></td>\n",
       "      <td></td>\n",
       "      <td></td>\n",
       "      <td></td>\n",
       "      <td></td>\n",
       "      <td>CPCT11111111</td>\n",
       "      <td>NaN</td>\n",
       "      <td>NaN</td>\n",
       "      <td>NaN</td>\n",
       "      <td>NaN</td>\n",
       "      <td>NaN</td>\n",
       "      <td>False</td>\n",
       "      <td>True</td>\n",
       "      <td>False</td>\n",
       "    </tr>\n",
       "    <tr>\n",
       "      <th>38846467</th>\n",
       "      <td>17:38846467</td>\n",
       "      <td>17.478433</td>\n",
       "      <td>C</td>\n",
       "      <td></td>\n",
       "      <td>1</td>\n",
       "      <td>SNP</td>\n",
       "      <td></td>\n",
       "      <td>PASS</td>\n",
       "      <td></td>\n",
       "      <td></td>\n",
       "      <td></td>\n",
       "      <td></td>\n",
       "      <td></td>\n",
       "      <td></td>\n",
       "      <td></td>\n",
       "      <td></td>\n",
       "      <td></td>\n",
       "      <td></td>\n",
       "      <td></td>\n",
       "      <td></td>\n",
       "      <td></td>\n",
       "      <td></td>\n",
       "      <td>T</td>\n",
       "      <td>0.077</td>\n",
       "      <td>106</td>\n",
       "      <td>-1</td>\n",
       "      <td>ref-het</td>\n",
       "      <td></td>\n",
       "      <td>-1</td>\n",
       "      <td></td>\n",
       "      <td></td>\n",
       "      <td></td>\n",
       "      <td></td>\n",
       "      <td></td>\n",
       "      <td></td>\n",
       "      <td></td>\n",
       "      <td>CPCT11111111</td>\n",
       "      <td>NaN</td>\n",
       "      <td>NaN</td>\n",
       "      <td>NaN</td>\n",
       "      <td>NaN</td>\n",
       "      <td>NaN</td>\n",
       "      <td>False</td>\n",
       "      <td>True</td>\n",
       "      <td>False</td>\n",
       "    </tr>\n",
       "    <tr>\n",
       "      <th>39358761</th>\n",
       "      <td>17:39358761</td>\n",
       "      <td>17.484742</td>\n",
       "      <td>A</td>\n",
       "      <td></td>\n",
       "      <td>1</td>\n",
       "      <td>SNP</td>\n",
       "      <td></td>\n",
       "      <td>PASS</td>\n",
       "      <td></td>\n",
       "      <td></td>\n",
       "      <td></td>\n",
       "      <td></td>\n",
       "      <td></td>\n",
       "      <td></td>\n",
       "      <td></td>\n",
       "      <td></td>\n",
       "      <td></td>\n",
       "      <td></td>\n",
       "      <td></td>\n",
       "      <td></td>\n",
       "      <td></td>\n",
       "      <td></td>\n",
       "      <td>G</td>\n",
       "      <td>0.045</td>\n",
       "      <td>110</td>\n",
       "      <td>-1</td>\n",
       "      <td>ref-het</td>\n",
       "      <td></td>\n",
       "      <td>-1</td>\n",
       "      <td></td>\n",
       "      <td></td>\n",
       "      <td></td>\n",
       "      <td></td>\n",
       "      <td></td>\n",
       "      <td></td>\n",
       "      <td></td>\n",
       "      <td>CPCT11111111</td>\n",
       "      <td>NaN</td>\n",
       "      <td>NaN</td>\n",
       "      <td>NaN</td>\n",
       "      <td>NaN</td>\n",
       "      <td>NaN</td>\n",
       "      <td>False</td>\n",
       "      <td>True</td>\n",
       "      <td>False</td>\n",
       "    </tr>\n",
       "    <tr>\n",
       "      <th>39360255</th>\n",
       "      <td>17:39360255</td>\n",
       "      <td>17.484761</td>\n",
       "      <td>G</td>\n",
       "      <td></td>\n",
       "      <td>1</td>\n",
       "      <td>SNP</td>\n",
       "      <td></td>\n",
       "      <td>PASS</td>\n",
       "      <td></td>\n",
       "      <td></td>\n",
       "      <td></td>\n",
       "      <td></td>\n",
       "      <td></td>\n",
       "      <td></td>\n",
       "      <td></td>\n",
       "      <td></td>\n",
       "      <td></td>\n",
       "      <td></td>\n",
       "      <td></td>\n",
       "      <td></td>\n",
       "      <td></td>\n",
       "      <td></td>\n",
       "      <td>A</td>\n",
       "      <td>0.075</td>\n",
       "      <td>68</td>\n",
       "      <td>-1</td>\n",
       "      <td>ref-het</td>\n",
       "      <td></td>\n",
       "      <td>-1</td>\n",
       "      <td></td>\n",
       "      <td></td>\n",
       "      <td></td>\n",
       "      <td></td>\n",
       "      <td></td>\n",
       "      <td></td>\n",
       "      <td></td>\n",
       "      <td>CPCT11111111</td>\n",
       "      <td>NaN</td>\n",
       "      <td>NaN</td>\n",
       "      <td>NaN</td>\n",
       "      <td>NaN</td>\n",
       "      <td>NaN</td>\n",
       "      <td>False</td>\n",
       "      <td>True</td>\n",
       "      <td>False</td>\n",
       "    </tr>\n",
       "    <tr>\n",
       "      <th>39360802</th>\n",
       "      <td>17:39360802</td>\n",
       "      <td>17.484768</td>\n",
       "      <td>G</td>\n",
       "      <td></td>\n",
       "      <td>1</td>\n",
       "      <td>SNP</td>\n",
       "      <td></td>\n",
       "      <td>PASS</td>\n",
       "      <td></td>\n",
       "      <td></td>\n",
       "      <td></td>\n",
       "      <td></td>\n",
       "      <td></td>\n",
       "      <td></td>\n",
       "      <td></td>\n",
       "      <td></td>\n",
       "      <td></td>\n",
       "      <td></td>\n",
       "      <td></td>\n",
       "      <td></td>\n",
       "      <td></td>\n",
       "      <td></td>\n",
       "      <td>T</td>\n",
       "      <td>0.05</td>\n",
       "      <td>100</td>\n",
       "      <td>-1</td>\n",
       "      <td>ref-het</td>\n",
       "      <td></td>\n",
       "      <td>-1</td>\n",
       "      <td></td>\n",
       "      <td></td>\n",
       "      <td></td>\n",
       "      <td></td>\n",
       "      <td></td>\n",
       "      <td></td>\n",
       "      <td></td>\n",
       "      <td>CPCT11111111</td>\n",
       "      <td>NaN</td>\n",
       "      <td>NaN</td>\n",
       "      <td>NaN</td>\n",
       "      <td>NaN</td>\n",
       "      <td>NaN</td>\n",
       "      <td>False</td>\n",
       "      <td>True</td>\n",
       "      <td>False</td>\n",
       "    </tr>\n",
       "    <tr>\n",
       "      <th>39361680</th>\n",
       "      <td>17:39361680</td>\n",
       "      <td>17.484778</td>\n",
       "      <td>T</td>\n",
       "      <td></td>\n",
       "      <td>2</td>\n",
       "      <td>SNP</td>\n",
       "      <td></td>\n",
       "      <td>PASS</td>\n",
       "      <td>C</td>\n",
       "      <td>0.0714286</td>\n",
       "      <td>127</td>\n",
       "      <td>17</td>\n",
       "      <td>ref</td>\n",
       "      <td></td>\n",
       "      <td>-1</td>\n",
       "      <td>C</td>\n",
       "      <td>0.1085</td>\n",
       "      <td>129</td>\n",
       "      <td>16</td>\n",
       "      <td>2</td>\n",
       "      <td></td>\n",
       "      <td>-1</td>\n",
       "      <td></td>\n",
       "      <td></td>\n",
       "      <td></td>\n",
       "      <td></td>\n",
       "      <td></td>\n",
       "      <td></td>\n",
       "      <td></td>\n",
       "      <td></td>\n",
       "      <td></td>\n",
       "      <td></td>\n",
       "      <td></td>\n",
       "      <td></td>\n",
       "      <td></td>\n",
       "      <td></td>\n",
       "      <td>CPCT11111111</td>\n",
       "      <td>NaN</td>\n",
       "      <td>NaN</td>\n",
       "      <td>NaN</td>\n",
       "      <td>NaN</td>\n",
       "      <td>NaN</td>\n",
       "      <td>False</td>\n",
       "      <td>True</td>\n",
       "      <td>False</td>\n",
       "    </tr>\n",
       "  </tbody>\n",
       "</table>\n",
       "</div>"
      ],
      "text/plain": [
       "                   chromPos  chromFrac ref vennSegment  numCallers variantType variantSubType filter strelkaallele  strelkaAF strelkaDP strelkaQS strelkaSGT strelkaindelDiff strelkaindelPos varscanallele varscanAF varscanDP varscanQS varscanSGT varscanindelDiff varscanindelPos mutectallele mutectAF mutectDP mutectQS mutectSGT mutectindelDiff mutectindelPos freebayesallele freebayesAF freebayesDP freebayesQS freebayesSGT freebayesindelDiff freebayesindelPos   patientName variantType_Truth ref_Truth truth_allele truth_indelDiff  truth_indelPos  hasTP hasFP  Truth\n",
       "chrom pos                                                                                                                                                                                                                                                                                                                                                                                                                                                                                                                                                                              \n",
       "17    36973498  17:36973498  17.455365   G                       1         SNP                  PASS             C  0.0714286        75        15        ref                               -1                                                                                                                                                                                                                                                                                 CPCT11111111               NaN       NaN          NaN             NaN             NaN  False  True  False\n",
       "      37149675  17:37149675  17.457535   C                       1         SNP                  PASS                                                                                                      T    0.1429        77        12          2                               -1                                                                                                                                                                                         CPCT11111111               NaN       NaN          NaN             NaN             NaN  False  True  False\n",
       "      37577436  17:37577436  17.462804   A                       1         SNP                  PASS                                                                                                                                                                                             G    0.129       34       -1   ref-het                             -1                                                                                                        CPCT11111111               NaN       NaN          NaN             NaN             NaN  False  True  False\n",
       "      37684178  17:37684178  17.464118   G                       1         SNP                     .                                                                                                                                                                                                                                                                                 T    0.144144         111           0      somatic                                   -1  CPCT11111111               NaN       NaN          NaN             NaN             NaN  False  True  False\n",
       "      37894765  17:37894765  17.466712   A                       1         SNP                  PASS                                                                                                                                                                                             C    0.148       89       -1   ref-het                             -1                                                                                                        CPCT11111111               NaN       NaN          NaN             NaN             NaN  False  True  False\n",
       "      38846467  17:38846467  17.478433   C                       1         SNP                  PASS                                                                                                                                                                                             T    0.077      106       -1   ref-het                             -1                                                                                                        CPCT11111111               NaN       NaN          NaN             NaN             NaN  False  True  False\n",
       "      39358761  17:39358761  17.484742   A                       1         SNP                  PASS                                                                                                                                                                                             G    0.045      110       -1   ref-het                             -1                                                                                                        CPCT11111111               NaN       NaN          NaN             NaN             NaN  False  True  False\n",
       "      39360255  17:39360255  17.484761   G                       1         SNP                  PASS                                                                                                                                                                                             A    0.075       68       -1   ref-het                             -1                                                                                                        CPCT11111111               NaN       NaN          NaN             NaN             NaN  False  True  False\n",
       "      39360802  17:39360802  17.484768   G                       1         SNP                  PASS                                                                                                                                                                                             T     0.05      100       -1   ref-het                             -1                                                                                                        CPCT11111111               NaN       NaN          NaN             NaN             NaN  False  True  False\n",
       "      39361680  17:39361680  17.484778   T                       2         SNP                  PASS             C  0.0714286       127        17        ref                               -1             C    0.1085       129        16          2                               -1                                                                                                                                                                                         CPCT11111111               NaN       NaN          NaN             NaN             NaN  False  True  False"
      ]
     },
     "execution_count": 20,
     "metadata": {},
     "output_type": "execute_result"
    }
   ],
   "source": [
    "dfSlice[(dfSlice['Truth']== False)].head(10)"
   ]
  },
  {
   "cell_type": "markdown",
   "metadata": {},
   "source": [
    "### PRECISION + SENSITIVITY|"
   ]
  },
  {
   "cell_type": "code",
   "execution_count": 21,
   "metadata": {
    "collapsed": false
   },
   "outputs": [
    {
     "data": {
      "text/html": [
       "<div>\n",
       "<table border=\"1\" class=\"dataframe\">\n",
       "  <thead>\n",
       "    <tr style=\"text-align: right;\">\n",
       "      <th></th>\n",
       "      <th>variantType</th>\n",
       "      <th>caller</th>\n",
       "      <th>truthSet</th>\n",
       "      <th>truePositives</th>\n",
       "      <th>falsePositives</th>\n",
       "      <th>falseNegatives</th>\n",
       "      <th>precision</th>\n",
       "      <th>sensitivity</th>\n",
       "    </tr>\n",
       "  </thead>\n",
       "  <tbody>\n",
       "    <tr>\n",
       "      <th>5</th>\n",
       "      <td>INDEL</td>\n",
       "      <td>freebayes</td>\n",
       "      <td>96385</td>\n",
       "      <td>8138</td>\n",
       "      <td>602</td>\n",
       "      <td>88247</td>\n",
       "      <td>0.9311</td>\n",
       "      <td>0.0844</td>\n",
       "    </tr>\n",
       "    <tr>\n",
       "      <th>1</th>\n",
       "      <td>INDEL</td>\n",
       "      <td>strelka</td>\n",
       "      <td>96385</td>\n",
       "      <td>23177</td>\n",
       "      <td>41</td>\n",
       "      <td>73208</td>\n",
       "      <td>0.9982</td>\n",
       "      <td>0.2405</td>\n",
       "    </tr>\n",
       "    <tr>\n",
       "      <th>3</th>\n",
       "      <td>INDEL</td>\n",
       "      <td>varscan</td>\n",
       "      <td>96385</td>\n",
       "      <td>57623</td>\n",
       "      <td>425</td>\n",
       "      <td>38762</td>\n",
       "      <td>0.9927</td>\n",
       "      <td>0.5978</td>\n",
       "    </tr>\n",
       "    <tr>\n",
       "      <th>6</th>\n",
       "      <td>SNP</td>\n",
       "      <td>freebayes</td>\n",
       "      <td>1005483</td>\n",
       "      <td>145862</td>\n",
       "      <td>1107</td>\n",
       "      <td>859621</td>\n",
       "      <td>0.9925</td>\n",
       "      <td>0.1451</td>\n",
       "    </tr>\n",
       "    <tr>\n",
       "      <th>4</th>\n",
       "      <td>SNP</td>\n",
       "      <td>mutect</td>\n",
       "      <td>1005483</td>\n",
       "      <td>929788</td>\n",
       "      <td>5835</td>\n",
       "      <td>75695</td>\n",
       "      <td>0.9938</td>\n",
       "      <td>0.9247</td>\n",
       "    </tr>\n",
       "    <tr>\n",
       "      <th>0</th>\n",
       "      <td>SNP</td>\n",
       "      <td>strelka</td>\n",
       "      <td>1005483</td>\n",
       "      <td>939196</td>\n",
       "      <td>3500</td>\n",
       "      <td>66287</td>\n",
       "      <td>0.9963</td>\n",
       "      <td>0.9341</td>\n",
       "    </tr>\n",
       "    <tr>\n",
       "      <th>2</th>\n",
       "      <td>SNP</td>\n",
       "      <td>varscan</td>\n",
       "      <td>1005483</td>\n",
       "      <td>856635</td>\n",
       "      <td>527</td>\n",
       "      <td>148848</td>\n",
       "      <td>0.9994</td>\n",
       "      <td>0.8520</td>\n",
       "    </tr>\n",
       "  </tbody>\n",
       "</table>\n",
       "</div>"
      ],
      "text/plain": [
       "  variantType     caller  truthSet  truePositives  falsePositives  falseNegatives  precision  sensitivity\n",
       "5       INDEL  freebayes     96385           8138             602           88247     0.9311       0.0844\n",
       "1       INDEL    strelka     96385          23177              41           73208     0.9982       0.2405\n",
       "3       INDEL    varscan     96385          57623             425           38762     0.9927       0.5978\n",
       "6         SNP  freebayes   1005483         145862            1107          859621     0.9925       0.1451\n",
       "4         SNP     mutect   1005483         929788            5835           75695     0.9938       0.9247\n",
       "0         SNP    strelka   1005483         939196            3500           66287     0.9963       0.9341\n",
       "2         SNP    varscan   1005483         856635             527          148848     0.9994       0.8520"
      ]
     },
     "execution_count": 21,
     "metadata": {},
     "output_type": "execute_result"
    }
   ],
   "source": [
    "#PRECISION + SENSITIVITY by caller - PROD\n",
    "outputDF = calcuatePrecisionSensivityMatrix(dfProd)\n",
    "outputDF"
   ]
  },
  {
   "cell_type": "code",
   "execution_count": 22,
   "metadata": {
    "collapsed": false
   },
   "outputs": [
    {
     "data": {
      "text/html": [
       "<div>\n",
       "<table border=\"1\" class=\"dataframe\">\n",
       "  <thead>\n",
       "    <tr style=\"text-align: right;\">\n",
       "      <th></th>\n",
       "      <th>variantType</th>\n",
       "      <th>caller</th>\n",
       "      <th>truthSet</th>\n",
       "      <th>truePositives</th>\n",
       "      <th>falsePositives</th>\n",
       "      <th>falseNegatives</th>\n",
       "      <th>precision</th>\n",
       "      <th>sensitivity</th>\n",
       "    </tr>\n",
       "  </thead>\n",
       "  <tbody>\n",
       "    <tr>\n",
       "      <th>6</th>\n",
       "      <td>INDEL</td>\n",
       "      <td>freebayes</td>\n",
       "      <td>96385</td>\n",
       "      <td>71</td>\n",
       "      <td>0</td>\n",
       "      <td>96314</td>\n",
       "      <td>1.0000</td>\n",
       "      <td>0.0007</td>\n",
       "    </tr>\n",
       "    <tr>\n",
       "      <th>1</th>\n",
       "      <td>INDEL</td>\n",
       "      <td>strelka</td>\n",
       "      <td>96385</td>\n",
       "      <td>75</td>\n",
       "      <td>0</td>\n",
       "      <td>96310</td>\n",
       "      <td>1.0000</td>\n",
       "      <td>0.0008</td>\n",
       "    </tr>\n",
       "    <tr>\n",
       "      <th>3</th>\n",
       "      <td>INDEL</td>\n",
       "      <td>varscan</td>\n",
       "      <td>96385</td>\n",
       "      <td>83</td>\n",
       "      <td>0</td>\n",
       "      <td>96302</td>\n",
       "      <td>1.0000</td>\n",
       "      <td>0.0009</td>\n",
       "    </tr>\n",
       "    <tr>\n",
       "      <th>5</th>\n",
       "      <td>SNP</td>\n",
       "      <td>freebayes</td>\n",
       "      <td>1005483</td>\n",
       "      <td>1179</td>\n",
       "      <td>2</td>\n",
       "      <td>1004304</td>\n",
       "      <td>0.9983</td>\n",
       "      <td>0.0012</td>\n",
       "    </tr>\n",
       "    <tr>\n",
       "      <th>4</th>\n",
       "      <td>SNP</td>\n",
       "      <td>mutect</td>\n",
       "      <td>1005483</td>\n",
       "      <td>1184</td>\n",
       "      <td>9</td>\n",
       "      <td>1004299</td>\n",
       "      <td>0.9925</td>\n",
       "      <td>0.0012</td>\n",
       "    </tr>\n",
       "    <tr>\n",
       "      <th>0</th>\n",
       "      <td>SNP</td>\n",
       "      <td>strelka</td>\n",
       "      <td>1005483</td>\n",
       "      <td>1167</td>\n",
       "      <td>4</td>\n",
       "      <td>1004316</td>\n",
       "      <td>0.9966</td>\n",
       "      <td>0.0012</td>\n",
       "    </tr>\n",
       "    <tr>\n",
       "      <th>2</th>\n",
       "      <td>SNP</td>\n",
       "      <td>varscan</td>\n",
       "      <td>1005483</td>\n",
       "      <td>1171</td>\n",
       "      <td>3</td>\n",
       "      <td>1004312</td>\n",
       "      <td>0.9974</td>\n",
       "      <td>0.0012</td>\n",
       "    </tr>\n",
       "  </tbody>\n",
       "</table>\n",
       "</div>"
      ],
      "text/plain": [
       "  variantType     caller  truthSet  truePositives  falsePositives  falseNegatives  precision  sensitivity\n",
       "6       INDEL  freebayes     96385             71               0           96314     1.0000       0.0007\n",
       "1       INDEL    strelka     96385             75               0           96310     1.0000       0.0008\n",
       "3       INDEL    varscan     96385             83               0           96302     1.0000       0.0009\n",
       "5         SNP  freebayes   1005483           1179               2         1004304     0.9983       0.0012\n",
       "4         SNP     mutect   1005483           1184               9         1004299     0.9925       0.0012\n",
       "0         SNP    strelka   1005483           1167               4         1004316     0.9966       0.0012\n",
       "2         SNP    varscan   1005483           1171               3         1004312     0.9974       0.0012"
      ]
     },
     "execution_count": 22,
     "metadata": {},
     "output_type": "execute_result"
    }
   ],
   "source": [
    "#PRECISION + SENSITIVITY by caller - SLICE\n",
    "outputDF = calcuatePrecisionSensivityMatrix(dfSlice)\n",
    "outputDF"
   ]
  },
  {
   "cell_type": "markdown",
   "metadata": {},
   "source": [
    "# False Negative Analysis"
   ]
  },
  {
   "cell_type": "code",
   "execution_count": null,
   "metadata": {
    "collapsed": false
   },
   "outputs": [],
   "source": [
    "unfilteredBed = copy.deepcopy(bed)"
   ]
  },
  {
   "cell_type": "code",
   "execution_count": null,
   "metadata": {
    "collapsed": false,
    "scrolled": false
   },
   "outputs": [],
   "source": [
    "# SETTINGS\n",
    "myCaller = 'varscan'\n",
    "UNFILTERED_VCF_PATH = \"/Users/peterpriestley/hmf/70-30slice/\"\n",
    "if myCaller == 'varscan':\n",
    "    UNFILTERED_VCF_FILE_NAME = \"varscan.snp.vcf\"\n",
    "    UNFILTERED_SAMPLE_NAMES = {\"TUMOR\":myCaller}\n",
    "elif myCaller == 'freebayes':\n",
    "    UNFILTERED_VCF_FILE_NAME = \"freebayes.somatic.vcf\"\n",
    "    UNFILTERED_SAMPLE_NAMES = {'CPCT11111111T':myCaller}  \n",
    "elif myCaller == 'strelka':\n",
    "    UNFILTERED_VCF_FILE_NAME = \"/strelka/results/all.somatic.snvs.vcf\"\n",
    "    UNFILTERED_SAMPLE_NAMES = {\"TUMOR\":myCaller}\n",
    "elif myCaller == 'mutect':\n",
    "    UNFILTERED_VCF_FILE_NAME = \"mutect.vcf\"\n",
    "    UNFILTERED_SAMPLE_NAMES = {'CPCT11111111T':myCaller}\n",
    "\n",
    "\n",
    "dfUnfiltered = aVCF.loadVaraintsFromVCF(UNFILTERED_VCF_PATH,UNFILTERED_VCF_FILE_NAME,UNFILTERED_SAMPLE_NAMES,VCF_SAMPLE,False,True,unfilteredBed)\n",
    "dfUnfiltered['Truth']=dfUnfiltered.chromPos.isin(dfTruth['chromPos']) \n",
    "dfUnfiltered = dfUnfiltered[(dfUnfiltered.chromFrac > minChromFrac)&(dfUnfiltered.chromFrac < maxChromFrac)]"
   ]
  },
  {
   "cell_type": "code",
   "execution_count": null,
   "metadata": {
    "collapsed": false
   },
   "outputs": [],
   "source": [
    "dfTruth['inUnfiltered'+myCaller]=dfTruth.chromPos.isin(dfUnfiltered[dfUnfiltered[myCaller+'allele'] != '']['chromPos'])\n",
    "dfTruth['inSlice']=dfTruth.chromPos.isin(dfSlice['chromPos'])"
   ]
  },
  {
   "cell_type": "code",
   "execution_count": null,
   "metadata": {
    "collapsed": false
   },
   "outputs": [],
   "source": [
    "#False Positives - pre-somatic\n",
    "dfTruth[['inSlice','pos','inUnfiltered'+myCaller,'variantType']].groupby(['variantType','inUnfiltered'+myCaller]).agg('count')\n"
   ]
  },
  {
   "cell_type": "code",
   "execution_count": null,
   "metadata": {
    "collapsed": false
   },
   "outputs": [],
   "source": [
    "dfUnfiltered['inSlice'+myCaller]=dfUnfiltered.chromPos.isin(dfSlice[dfSlice[myCaller+'allele'] != '']['chromPos'])\n",
    "dfUnfiltered['inSlice']=dfUnfiltered.chromPos.isin(dfSlice['chromPos'])"
   ]
  },
  {
   "cell_type": "code",
   "execution_count": null,
   "metadata": {
    "collapsed": false
   },
   "outputs": [],
   "source": [
    "dfUnfiltered[['inSlice'+myCaller,'pos','Truth','variantType','filter']].groupby(['variantType','inSlice'+myCaller,'Truth','filter']).agg('count')\n"
   ]
  },
  {
   "cell_type": "code",
   "execution_count": null,
   "metadata": {
    "collapsed": false
   },
   "outputs": [],
   "source": [
    "\n",
    "dfUnfiltered[(dfUnfiltered['Truth'] == True)&\n",
    "            (dfUnfiltered['inSlice'+myCaller] == True)& \n",
    "             (dfUnfiltered.variantType == 'SNP') &\n",
    "             (dfUnfiltered['filter'] != 'PETE')]['pos']"
   ]
  },
  {
   "cell_type": "code",
   "execution_count": null,
   "metadata": {
    "collapsed": false,
    "scrolled": false
   },
   "outputs": [],
   "source": [
    "#FALSE NEGATIVES IN UNFILTERED\n",
    "dfUnfiltered[(dfUnfiltered['inSlice'+myCaller] == False)& \n",
    "             (dfUnfiltered[myCaller+'somaticGT'] != '2')&\n",
    "             (dfUnfiltered.variantType == 'SNP') &\n",
    "             (dfUnfiltered['filter'] != 'str10')].sort_values([myCaller+'QS'],ascending=False)"
   ]
  },
  {
   "cell_type": "code",
   "execution_count": null,
   "metadata": {
    "collapsed": false
   },
   "outputs": [],
   "source": [
    "dfSlice[dfSlice.pos>'37577400'].head(10)"
   ]
  },
  {
   "cell_type": "code",
   "execution_count": null,
   "metadata": {
    "collapsed": false
   },
   "outputs": [],
   "source": [
    "#FALSE POSITIVES`\n",
    "dfUnfiltered[(dfUnfiltered['inSlice'+myCaller] == True) & (dfUnfiltered.variantType == 'SNP') &\n",
    "             (dfUnfiltered['Truth'] == False)].sort_values([myCaller+'QS'],ascending=False)"
   ]
  },
  {
   "cell_type": "markdown",
   "metadata": {},
   "source": [
    "<h3> SNP"
   ]
  },
  {
   "cell_type": "code",
   "execution_count": null,
   "metadata": {
    "collapsed": false
   },
   "outputs": [],
   "source": [
    "snpdf = df[(df.variantType == 'SNP')]"
   ]
  },
  {
   "cell_type": "code",
   "execution_count": null,
   "metadata": {
    "collapsed": false
   },
   "outputs": [],
   "source": [
    "snpdf[['Truth','pos']].groupby(['Truth']).agg('count')"
   ]
  },
  {
   "cell_type": "code",
   "execution_count": null,
   "metadata": {
    "collapsed": false
   },
   "outputs": [],
   "source": [
    "pd.pivot_table(snpdf, values='pos', index=['numCallers'], columns=['Truth'], aggfunc='count')"
   ]
  },
  {
   "cell_type": "code",
   "execution_count": null,
   "metadata": {
    "collapsed": false
   },
   "outputs": [],
   "source": [
    "vn.venn([snpdf[snpdf.mutectallele != '']['chromPos'], \\\n",
    "         snpdf[snpdf.strelkaallele != '']['chromPos'], \\\n",
    "        snpdf[snpdf.freebayesallele != '']['chromPos'], \\\n",
    "        snpdf[snpdf.varscanallele != '']['chromPos'] \\\n",
    "        ],['mutect','strelka','freebayes','varscan'],figsize=(6,6))"
   ]
  },
  {
   "cell_type": "markdown",
   "metadata": {},
   "source": [
    "### <hd3> Indel Venn"
   ]
  },
  {
   "cell_type": "code",
   "execution_count": null,
   "metadata": {
    "collapsed": false
   },
   "outputs": [],
   "source": [
    "indeldf= df[(df.variantType == 'INDEL')]"
   ]
  },
  {
   "cell_type": "code",
   "execution_count": null,
   "metadata": {
    "collapsed": false
   },
   "outputs": [],
   "source": [
    "pd.pivot_table(indeldf, values='pos', index=['numCallers','vennSegment'], columns=['Truth'], aggfunc='count')"
   ]
  },
  {
   "cell_type": "code",
   "execution_count": null,
   "metadata": {
    "collapsed": false
   },
   "outputs": [],
   "source": [
    "vn.venn([indeldf[indeldf.strelkaallele != '']['chromPos'], \\\n",
    "        indeldf[indeldf.freebayesallele != '']['chromPos'], \\\n",
    "        indeldf[indeldf.varscanallele != '']['chromPos'] \\\n",
    "        ],['strelka','freebayes','varscan'],figsize=(6,6))"
   ]
  },
  {
   "cell_type": "markdown",
   "metadata": {},
   "source": [
    "### <hd3> Read Depth"
   ]
  },
  {
   "cell_type": "code",
   "execution_count": null,
   "metadata": {
    "collapsed": false
   },
   "outputs": [],
   "source": [
    "for columnName in list(df):\n",
    "    if columnName.endswith('allelicFreq'):\n",
    "        df[df[columnName] != ''].hist(column=columnName,by=\"Truth\",bins=40,figsize=(10,5))\n",
    "        "
   ]
  },
  {
   "cell_type": "code",
   "execution_count": null,
   "metadata": {
    "collapsed": false
   },
   "outputs": [],
   "source": [
    "df[df.freebayesreadDepth != ''].hist(column=\"freebayesallelicFreq\",by=\"Truth\",bins=30)"
   ]
  },
  {
   "cell_type": "markdown",
   "metadata": {},
   "source": [
    "<h3> Allelic Depth"
   ]
  },
  {
   "cell_type": "code",
   "execution_count": null,
   "metadata": {
    "collapsed": false
   },
   "outputs": [],
   "source": [
    "#Alllele Freq By Caller\n",
    "for columnName in list(snpdf):\n",
    "    if columnName.endswith('allele'):\n",
    "        ser = snpdf[(snpdf[columnName] != '') &(snpdf[columnName[:-6] + 'allelicFreq'] > 0.0)][columnName[:-6] + 'allelicFreq']\n",
    "        ser = ser.sort_values()\n",
    "        #ser[len(ser)] = ser.iloc[-1]\n",
    "        cum_dist = np.linspace(0.,1.,len(ser))\n",
    "        ser_cdf = pd.Series(cum_dist, index=ser,name=columnName[:-6]+\": c=\"+str(ser.count())+\" m=\"+str(round(ser.median(),2)))\n",
    "        ser_cdf.plot(drawstyle='steps',legend=True,title=\" Allelic Frequency by Caller (AllelicFreq > 0.0)\",figsize=[15,6])"
   ]
  },
  {
   "cell_type": "code",
   "execution_count": null,
   "metadata": {
    "collapsed": false
   },
   "outputs": [],
   "source": [
    "# BY CALLER BY TRUTH\n",
    "truths = snpdf.Truth.unique()\n",
    "for truth in truths:\n",
    "    for columnName in list(snpdf):\n",
    "        if columnName.endswith('allele'):\n",
    "            ser = snpdf[(snpdf.Truth == truth) &(snpdf[columnName] != '')][columnName[:-6] + 'allelicFreq']\n",
    "            ser = ser.sort_values()\n",
    "            #ser[len(ser)] = ser.iloc[-1]\n",
    "            cum_dist = np.linspace(0.,1.,len(ser))\n",
    "            ser_cdf = pd.Series(cum_dist, index=ser,name=columnName[:-6]+\" \"+str(truth)+\": c=\"+str(ser.count())+\" m=\"+str(round(ser.median(),2)))\n",
    "            ser_cdf.plot(drawstyle='steps',legend=True,title=\" Allelic Frequency by Caller and Truth\",figsize=[15,6])"
   ]
  },
  {
   "cell_type": "code",
   "execution_count": null,
   "metadata": {
    "collapsed": false
   },
   "outputs": [],
   "source": [
    "#  BY VENN SEGMENT - Single Caller - FALSE POSITIVES\n",
    "myCaller = 'freebayes'\n",
    "vennSegments = snpdf[(snpdf[myCaller+'allele'] != '') & (snpdf.Truth == False)].vennSegment.unique()\n",
    "for vennSegment in vennSegments:\n",
    "    ser = snpdf[(snpdf.vennSegment == vennSegment) & (snpdf[myCaller+'allele'] != '') & (snpdf.Truth == False) ][myCaller+'allelicFreq']\n",
    "    ser = ser.sort_values()\n",
    "    ser[len(ser)] = ser.iloc[-1]\n",
    "    cum_dist = np.linspace(0.,1.,len(ser))\n",
    "    ser_cdf = pd.Series(cum_dist, index=ser,name=vennSegment+\": c=\"+str(ser.count())+\" m=\"+str(round(ser.median(),2)))\n",
    "    ser_cdf.plot(drawstyle='steps',legend=True,title=myCaller+\" FP by Venn Segment\",figsize=[15,6])"
   ]
  },
  {
   "cell_type": "markdown",
   "metadata": {},
   "source": [
    "### Allelic Depth Scatter Plot"
   ]
  },
  {
   "cell_type": "code",
   "execution_count": null,
   "metadata": {
    "collapsed": false
   },
   "outputs": [],
   "source": [
    "caller1 = 'varscan'\n",
    "caller2 = 'strelka'\n",
    "tempdf = df[(df[caller1+'allele']!='')&(df[caller2+'allele']!='')]\n",
    "tempdf.head()\n",
    "tempdf.plot.scatter(caller1+'allelicFreq',caller2+'allelicFreq' \\\n",
    "                        ,figsize=[6,6] \\\n",
    "                        ,title=\"Comparison of \"+caller1+\" and \"+caller2+\" Allelic Frequency\" \\\n",
    "                        ,xlim=[0,1],ylim=[0,1])"
   ]
  },
  {
   "cell_type": "markdown",
   "metadata": {},
   "source": [
    "<h3> RAINBOW CHARTS"
   ]
  },
  {
   "cell_type": "code",
   "execution_count": null,
   "metadata": {
    "collapsed": false
   },
   "outputs": [],
   "source": [
    "## RAINBOW\n",
    "caller = 'freebayes'\n",
    "plt.scatter(df[(df[caller+'allele']!='')& (df['Truth'] == True)&(df['chrom'] == '22')]['chromFrac'], \\\n",
    "            df[(df[caller+'allele']!='')& (df['Truth'] == True)&(df['chrom'] == '22')][caller+'allelicFreq'], \\\n",
    "            s=10, c='b', marker=\"s\")"
   ]
  },
  {
   "cell_type": "code",
   "execution_count": null,
   "metadata": {
    "collapsed": false
   },
   "outputs": [],
   "source": [
    "## RAINBOW\n",
    "caller = 'freebayes'\n",
    "plt.scatter(df[(df[caller+'allele']!='')& (df['Truth'] == False)&(df['chrom'] == '22')]['chromFrac'], \\\n",
    "            df[(df[caller+'allele']!='')& (df['Truth'] == False)&(df['chrom'] == '22')][caller+'allelicFreq'], \\\n",
    "            s=10, c='b', marker=\"s\")"
   ]
  },
  {
   "cell_type": "markdown",
   "metadata": {},
   "source": [
    "<h3> Overlapping Analysis"
   ]
  },
  {
   "cell_type": "code",
   "execution_count": null,
   "metadata": {
    "collapsed": false
   },
   "outputs": [],
   "source": [
    "#NEEDS REFACTORING TO SUPPORT NEW DF FORMAT\n",
    "'''\n",
    "sorteddf = df.sort(['chromFrac'], ascending=1)\n",
    "sorteddf['nextRef'] = sorteddf['ref'].shift(-2)\n",
    "sorteddf['nextPos'] = sorteddf['pos'].shift(-2)\n",
    "sorteddf['nextChrom'] = sorteddf['chrom'].shift(-2)\n",
    "sorteddf['nextVT'] = sorteddf['variantType'].shift(-2)\n",
    "sorteddf['nextAlleleTumor1'] = sorteddf['alleleTumor1'].shift(-2)\n",
    "sorteddf['nextAlleleTumor2'] = sorteddf['alleleTumor2'].shift(-2)\n",
    "sorteddf['nextVennSegment'] = sorteddf['vennSegment'].shift(-2)\n",
    "sorteddf['lengthRef'] = sorteddf['ref'].str.len()\n",
    "sorteddf['Dist2Next'] = -sorteddf['pos'].astype(int).diff(-2)\n",
    "\n",
    "overlapdf = sorteddf[(sorteddf['lengthRef']+0>sorteddf['Dist2Next']) & (sorteddf['Dist2Next']>0)]\n",
    "overlapdf.head(20)\n",
    "'''"
   ]
  },
  {
   "cell_type": "code",
   "execution_count": null,
   "metadata": {
    "collapsed": false
   },
   "outputs": [],
   "source": [
    "#NEEDS REFACTORING TO SUPPORT NEW DF FORMAT\n",
    "'''\n",
    "filtereddf = overlapdf[(~overlapdf.vennSegment.isin(['freebayes','varscan','strelka1'])) \\\n",
    "                       & (overlapdf.vennSegment.str.contains('varscan')) \\\n",
    "                       #& (~overlapdf.nextVennSegment.str.contains('varscan')) \\\n",
    "                       & (overlapdf.variantType == 'INDEL') \\\n",
    "                       #& (overlapdf.variantSubType == 'DELETE')\n",
    "                       & (overlapdf.variantType == overlapdf.nextVT)]\n",
    "filtereddf[['nextVennSegment','vennSegment','variantType','nextVT','Dist2Next','lengthRef','ref','alleleTumor2', \\\n",
    "            'nextRef','nextAlleleTumor2','variantSubType','chrom','pos']].count()\n",
    "'''"
   ]
  },
  {
   "cell_type": "code",
   "execution_count": null,
   "metadata": {
    "collapsed": true
   },
   "outputs": [],
   "source": []
  },
  {
   "cell_type": "code",
   "execution_count": null,
   "metadata": {
    "collapsed": true
   },
   "outputs": [],
   "source": []
  },
  {
   "cell_type": "code",
   "execution_count": null,
   "metadata": {
    "collapsed": true
   },
   "outputs": [],
   "source": []
  },
  {
   "cell_type": "code",
   "execution_count": null,
   "metadata": {
    "collapsed": true
   },
   "outputs": [],
   "source": []
  }
 ],
 "metadata": {
  "kernelspec": {
   "display_name": "Python 2",
   "language": "python",
   "name": "python2"
  },
  "language_info": {
   "codemirror_mode": {
    "name": "ipython",
    "version": 2
   },
   "file_extension": ".py",
   "mimetype": "text/x-python",
   "name": "python",
   "nbconvert_exporter": "python",
   "pygments_lexer": "ipython2",
   "version": "2.7.10"
  }
 },
 "nbformat": 4,
 "nbformat_minor": 0
}
